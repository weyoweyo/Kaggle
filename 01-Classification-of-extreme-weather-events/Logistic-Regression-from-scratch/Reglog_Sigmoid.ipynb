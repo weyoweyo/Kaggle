{
  "nbformat": 4,
  "nbformat_minor": 0,
  "metadata": {
    "colab": {
      "name": "Reglog_Sigmoid.ipynb",
      "provenance": [],
      "collapsed_sections": []
    },
    "kernelspec": {
      "name": "python3",
      "display_name": "Python 3"
    },
    "language_info": {
      "name": "python"
    }
  },
  "cells": [
    {
      "cell_type": "markdown",
      "metadata": {
        "id": "Jxb48ELLvnIA"
      },
      "source": [
        "Logistic Regression with Sigmoid"
      ]
    },
    {
      "cell_type": "markdown",
      "metadata": {
        "id": "V88uSJO7ybTG"
      },
      "source": [
        "Reference  \n",
        "\n",
        "[1] Machine Learning by Andrew Ng\n",
        "(https://www.coursera.org/learn/machine-learning)"
      ]
    },
    {
      "cell_type": "code",
      "metadata": {
        "id": "AXyXSEqjspEG",
        "colab": {
          "base_uri": "https://localhost:8080/"
        },
        "outputId": "f9944819-4059-41a9-f7b0-c09b53cc695e"
      },
      "source": [
        "from google.colab import drive\n",
        "drive.mount('/content/drive')"
      ],
      "execution_count": 63,
      "outputs": [
        {
          "output_type": "stream",
          "name": "stdout",
          "text": [
            "Drive already mounted at /content/drive; to attempt to forcibly remount, call drive.mount(\"/content/drive\", force_remount=True).\n"
          ]
        }
      ]
    },
    {
      "cell_type": "code",
      "metadata": {
        "id": "7KNWffRMsy3d"
      },
      "source": [
        "import numpy as np\n",
        "import pandas as pd\n",
        "import matplotlib.pyplot as plt"
      ],
      "execution_count": 64,
      "outputs": []
    },
    {
      "cell_type": "code",
      "metadata": {
        "id": "tSNTYkG_s0dk"
      },
      "source": [
        "data = pd.read_csv('/content/drive/My Drive/Competition/train.csv')"
      ],
      "execution_count": 65,
      "outputs": []
    },
    {
      "cell_type": "code",
      "metadata": {
        "colab": {
          "base_uri": "https://localhost:8080/"
        },
        "id": "o-5tJMtpvRTd",
        "outputId": "6bc248e7-9042-4e38-acd4-fc862edf521c"
      },
      "source": [
        "len_data = data.shape[0]\n",
        "len_data"
      ],
      "execution_count": 66,
      "outputs": [
        {
          "output_type": "execute_result",
          "data": {
            "text/plain": [
              "47760"
            ]
          },
          "metadata": {},
          "execution_count": 66
        }
      ]
    },
    {
      "cell_type": "code",
      "metadata": {
        "colab": {
          "base_uri": "https://localhost:8080/"
        },
        "id": "yPPcpuflv2Vn",
        "outputId": "c3ffbf3f-1124-4dea-a882-ade8f83b0da7"
      },
      "source": [
        "y_all_train = data.iloc[:, -1]\n",
        "y_all_train"
      ],
      "execution_count": 67,
      "outputs": [
        {
          "output_type": "execute_result",
          "data": {
            "text/plain": [
              "0        0\n",
              "1        1\n",
              "2        0\n",
              "3        0\n",
              "4        0\n",
              "        ..\n",
              "47755    2\n",
              "47756    2\n",
              "47757    0\n",
              "47758    0\n",
              "47759    0\n",
              "Name: LABELS, Length: 47760, dtype: int64"
            ]
          },
          "metadata": {},
          "execution_count": 67
        }
      ]
    },
    {
      "cell_type": "code",
      "metadata": {
        "colab": {
          "base_uri": "https://localhost:8080/"
        },
        "id": "-GVqeiSFfd2y",
        "outputId": "0f4c5b7f-a2a9-4138-aae3-5fe576ad8ad6"
      },
      "source": [
        "y_all_train.shape"
      ],
      "execution_count": 68,
      "outputs": [
        {
          "output_type": "execute_result",
          "data": {
            "text/plain": [
              "(47760,)"
            ]
          },
          "metadata": {},
          "execution_count": 68
        }
      ]
    },
    {
      "cell_type": "code",
      "metadata": {
        "id": "gks9GFs3fA-c"
      },
      "source": [
        "def label_percentages(labels):\n",
        "  n0 = 0\n",
        "  n1 = 0\n",
        "  n2 = 0\n",
        "  total = labels.shape[0]\n",
        "  for label in labels:\n",
        "    if label == 0:\n",
        "      n0 += 1\n",
        "    elif label == 1:\n",
        "      n1 += 1\n",
        "    elif label == 2:\n",
        "      n2 += 1\n",
        "  \n",
        "  return (n0, n1, n2), (n0/total, n1/total, n2/total)\n"
      ],
      "execution_count": 69,
      "outputs": []
    },
    {
      "cell_type": "code",
      "metadata": {
        "colab": {
          "base_uri": "https://localhost:8080/"
        },
        "id": "3rgvFwhifoSZ",
        "outputId": "6b7f4ef9-0a78-4a21-bac0-99b1e24cbe8e"
      },
      "source": [
        "label_percentages(y_all_train)"
      ],
      "execution_count": 70,
      "outputs": [
        {
          "output_type": "execute_result",
          "data": {
            "text/plain": [
              "((37535, 2002, 8223),\n",
              " (0.7859087102177554, 0.0419179229480737, 0.17217336683417087))"
            ]
          },
          "metadata": {},
          "execution_count": 70
        }
      ]
    },
    {
      "cell_type": "code",
      "metadata": {
        "colab": {
          "base_uri": "https://localhost:8080/"
        },
        "id": "z51H5c71gKjp",
        "outputId": "b8327cbc-1ddf-46bf-a6c4-3e99009612dc"
      },
      "source": [
        "# distribution of labels \n",
        "labels = y_all_train.copy().to_numpy()\n",
        "labels.shape"
      ],
      "execution_count": 71,
      "outputs": [
        {
          "output_type": "execute_result",
          "data": {
            "text/plain": [
              "(47760,)"
            ]
          },
          "metadata": {},
          "execution_count": 71
        }
      ]
    },
    {
      "cell_type": "code",
      "metadata": {
        "colab": {
          "base_uri": "https://localhost:8080/",
          "height": 282
        },
        "id": "lnZxqw9AgTXv",
        "outputId": "e577e254-fc2f-441c-9e81-759b4d40d96e"
      },
      "source": [
        "plt.scatter([i for i in range(labels.shape[0])], labels)"
      ],
      "execution_count": 72,
      "outputs": [
        {
          "output_type": "execute_result",
          "data": {
            "text/plain": [
              "<matplotlib.collections.PathCollection at 0x7fb4404cb890>"
            ]
          },
          "metadata": {},
          "execution_count": 72
        },
        {
          "output_type": "display_data",
          "data": {
            "image/png": "[encoded data removed]",
            "text/plain": [
              "<Figure size 432x288 with 1 Axes>"
            ]
          },
          "metadata": {
            "needs_background": "light"
          }
        }
      ]
    },
    {
      "cell_type": "code",
      "metadata": {
        "id": "anarVnSMtEXg"
      },
      "source": [
        "test = pd.read_csv('/content/drive/My Drive/Competition/test.csv')"
      ],
      "execution_count": 73,
      "outputs": []
    },
    {
      "cell_type": "code",
      "metadata": {
        "id": "_A_17xH0utlj"
      },
      "source": [
        "all_features = pd.concat([data.iloc[:, :-1], test]).reset_index(drop=True)"
      ],
      "execution_count": 74,
      "outputs": []
    },
    {
      "cell_type": "code",
      "metadata": {
        "colab": {
          "base_uri": "https://localhost:8080/",
          "height": 439
        },
        "id": "-J-Mqh_vt3eI",
        "outputId": "99934d1d-c412-45ce-f7a7-3ab93c8fe0eb"
      },
      "source": [
        "all_features"
      ],
      "execution_count": 75,
      "outputs": [
        {
          "output_type": "execute_result",
          "data": {
            "text/html": [
              "<div>\n",
              "<style scoped>\n",
              "    .dataframe tbody tr th:only-of-type {\n",
              "        vertical-align: middle;\n",
              "    }\n",
              "\n",
              "    .dataframe tbody tr th {\n",
              "        vertical-align: top;\n",
              "    }\n",
              "\n",
              "    .dataframe thead th {\n",
              "        text-align: right;\n",
              "    }\n",
              "</style>\n",
              "<table border=\"1\" class=\"dataframe\">\n",
              "  <thead>\n",
              "    <tr style=\"text-align: right;\">\n",
              "      <th></th>\n",
              "      <th>S.No</th>\n",
              "      <th>lat</th>\n",
              "      <th>lon</th>\n",
              "      <th>TMQ</th>\n",
              "      <th>U850</th>\n",
              "      <th>V850</th>\n",
              "      <th>UBOT</th>\n",
              "      <th>VBOT</th>\n",
              "      <th>QREFHT</th>\n",
              "      <th>PS</th>\n",
              "      <th>PSL</th>\n",
              "      <th>T200</th>\n",
              "      <th>T500</th>\n",
              "      <th>PRECT</th>\n",
              "      <th>TS</th>\n",
              "      <th>TREFHT</th>\n",
              "      <th>Z1000</th>\n",
              "      <th>Z200</th>\n",
              "      <th>ZBOT</th>\n",
              "      <th>time</th>\n",
              "    </tr>\n",
              "  </thead>\n",
              "  <tbody>\n",
              "    <tr>\n",
              "      <th>0</th>\n",
              "      <td>0</td>\n",
              "      <td>-24.758801</td>\n",
              "      <td>242.1875</td>\n",
              "      <td>16.019615</td>\n",
              "      <td>-4.391696</td>\n",
              "      <td>4.777769</td>\n",
              "      <td>-6.388222</td>\n",
              "      <td>7.725320</td>\n",
              "      <td>0.010277</td>\n",
              "      <td>102326.2344</td>\n",
              "      <td>102326.2344</td>\n",
              "      <td>221.594223</td>\n",
              "      <td>261.823212</td>\n",
              "      <td>6.660000e-09</td>\n",
              "      <td>295.622253</td>\n",
              "      <td>293.301514</td>\n",
              "      <td>197.698624</td>\n",
              "      <td>12234.78809</td>\n",
              "      <td>64.372635</td>\n",
              "      <td>20030804</td>\n",
              "    </tr>\n",
              "    <tr>\n",
              "      <th>1</th>\n",
              "      <td>1</td>\n",
              "      <td>23.820078</td>\n",
              "      <td>277.8125</td>\n",
              "      <td>47.802036</td>\n",
              "      <td>8.623652</td>\n",
              "      <td>9.308566</td>\n",
              "      <td>4.596105</td>\n",
              "      <td>9.938286</td>\n",
              "      <td>0.018531</td>\n",
              "      <td>100803.1094</td>\n",
              "      <td>100803.1094</td>\n",
              "      <td>220.343719</td>\n",
              "      <td>269.106720</td>\n",
              "      <td>3.670000e-16</td>\n",
              "      <td>302.496826</td>\n",
              "      <td>302.654083</td>\n",
              "      <td>71.571518</td>\n",
              "      <td>12463.97266</td>\n",
              "      <td>66.834389</td>\n",
              "      <td>20071006</td>\n",
              "    </tr>\n",
              "    <tr>\n",
              "      <th>2</th>\n",
              "      <td>2</td>\n",
              "      <td>23.820078</td>\n",
              "      <td>276.8750</td>\n",
              "      <td>11.556691</td>\n",
              "      <td>-2.483993</td>\n",
              "      <td>-6.009627</td>\n",
              "      <td>-3.503036</td>\n",
              "      <td>-5.921963</td>\n",
              "      <td>0.007468</td>\n",
              "      <td>101885.3906</td>\n",
              "      <td>101885.3906</td>\n",
              "      <td>215.933487</td>\n",
              "      <td>259.610718</td>\n",
              "      <td>0.000000e+00</td>\n",
              "      <td>299.854919</td>\n",
              "      <td>293.339996</td>\n",
              "      <td>160.414246</td>\n",
              "      <td>12099.36133</td>\n",
              "      <td>64.209663</td>\n",
              "      <td>20020331</td>\n",
              "    </tr>\n",
              "    <tr>\n",
              "      <th>3</th>\n",
              "      <td>3</td>\n",
              "      <td>13.494133</td>\n",
              "      <td>253.1250</td>\n",
              "      <td>53.186630</td>\n",
              "      <td>0.150933</td>\n",
              "      <td>-1.319407</td>\n",
              "      <td>3.757741</td>\n",
              "      <td>-2.172120</td>\n",
              "      <td>0.018809</td>\n",
              "      <td>100824.6328</td>\n",
              "      <td>100824.6328</td>\n",
              "      <td>218.457672</td>\n",
              "      <td>267.374329</td>\n",
              "      <td>9.800000e-08</td>\n",
              "      <td>301.606934</td>\n",
              "      <td>299.973450</td>\n",
              "      <td>72.840614</td>\n",
              "      <td>12379.26855</td>\n",
              "      <td>66.243294</td>\n",
              "      <td>20000906</td>\n",
              "    </tr>\n",
              "    <tr>\n",
              "      <th>4</th>\n",
              "      <td>4</td>\n",
              "      <td>-24.524120</td>\n",
              "      <td>241.2500</td>\n",
              "      <td>23.353998</td>\n",
              "      <td>-7.467506</td>\n",
              "      <td>-5.113565</td>\n",
              "      <td>-9.545109</td>\n",
              "      <td>-4.691221</td>\n",
              "      <td>0.011672</td>\n",
              "      <td>102553.8984</td>\n",
              "      <td>102553.8984</td>\n",
              "      <td>214.316605</td>\n",
              "      <td>263.575409</td>\n",
              "      <td>6.410000e-09</td>\n",
              "      <td>295.819488</td>\n",
              "      <td>295.101257</td>\n",
              "      <td>218.449570</td>\n",
              "      <td>12261.22656</td>\n",
              "      <td>64.876427</td>\n",
              "      <td>20000906</td>\n",
              "    </tr>\n",
              "    <tr>\n",
              "      <th>...</th>\n",
              "      <td>...</td>\n",
              "      <td>...</td>\n",
              "      <td>...</td>\n",
              "      <td>...</td>\n",
              "      <td>...</td>\n",
              "      <td>...</td>\n",
              "      <td>...</td>\n",
              "      <td>...</td>\n",
              "      <td>...</td>\n",
              "      <td>...</td>\n",
              "      <td>...</td>\n",
              "      <td>...</td>\n",
              "      <td>...</td>\n",
              "      <td>...</td>\n",
              "      <td>...</td>\n",
              "      <td>...</td>\n",
              "      <td>...</td>\n",
              "      <td>...</td>\n",
              "      <td>...</td>\n",
              "      <td>...</td>\n",
              "    </tr>\n",
              "    <tr>\n",
              "      <th>55075</th>\n",
              "      <td>7315</td>\n",
              "      <td>24.054759</td>\n",
              "      <td>276.5625</td>\n",
              "      <td>51.415295</td>\n",
              "      <td>-1.095974</td>\n",
              "      <td>-8.194263</td>\n",
              "      <td>2.484773</td>\n",
              "      <td>-10.520496</td>\n",
              "      <td>0.020928</td>\n",
              "      <td>100743.8438</td>\n",
              "      <td>100743.8438</td>\n",
              "      <td>221.118347</td>\n",
              "      <td>268.880676</td>\n",
              "      <td>6.870000e-15</td>\n",
              "      <td>302.576569</td>\n",
              "      <td>302.226227</td>\n",
              "      <td>66.832077</td>\n",
              "      <td>12467.79492</td>\n",
              "      <td>66.832077</td>\n",
              "      <td>20130916</td>\n",
              "    </tr>\n",
              "    <tr>\n",
              "      <th>55076</th>\n",
              "      <td>7316</td>\n",
              "      <td>24.054759</td>\n",
              "      <td>276.8750</td>\n",
              "      <td>52.377407</td>\n",
              "      <td>-0.265653</td>\n",
              "      <td>-8.730537</td>\n",
              "      <td>3.783044</td>\n",
              "      <td>-10.748092</td>\n",
              "      <td>0.021389</td>\n",
              "      <td>100703.5313</td>\n",
              "      <td>100703.5313</td>\n",
              "      <td>221.193222</td>\n",
              "      <td>269.085083</td>\n",
              "      <td>9.240000e-10</td>\n",
              "      <td>302.583557</td>\n",
              "      <td>302.131012</td>\n",
              "      <td>66.827492</td>\n",
              "      <td>12466.41309</td>\n",
              "      <td>66.827492</td>\n",
              "      <td>20130916</td>\n",
              "    </tr>\n",
              "    <tr>\n",
              "      <th>55077</th>\n",
              "      <td>7317</td>\n",
              "      <td>24.054759</td>\n",
              "      <td>277.1875</td>\n",
              "      <td>54.639217</td>\n",
              "      <td>0.775797</td>\n",
              "      <td>-9.646189</td>\n",
              "      <td>5.087689</td>\n",
              "      <td>-10.786784</td>\n",
              "      <td>0.021745</td>\n",
              "      <td>100673.9844</td>\n",
              "      <td>100673.9844</td>\n",
              "      <td>221.149490</td>\n",
              "      <td>269.305939</td>\n",
              "      <td>5.870000e-08</td>\n",
              "      <td>302.646820</td>\n",
              "      <td>302.032715</td>\n",
              "      <td>66.812981</td>\n",
              "      <td>12467.56934</td>\n",
              "      <td>66.812981</td>\n",
              "      <td>20130916</td>\n",
              "    </tr>\n",
              "    <tr>\n",
              "      <th>55078</th>\n",
              "      <td>7318</td>\n",
              "      <td>24.054759</td>\n",
              "      <td>277.5000</td>\n",
              "      <td>56.121231</td>\n",
              "      <td>1.813888</td>\n",
              "      <td>-10.849813</td>\n",
              "      <td>6.442380</td>\n",
              "      <td>-10.859090</td>\n",
              "      <td>0.021840</td>\n",
              "      <td>100647.3359</td>\n",
              "      <td>100647.3359</td>\n",
              "      <td>221.258789</td>\n",
              "      <td>269.616638</td>\n",
              "      <td>8.810000e-08</td>\n",
              "      <td>302.646820</td>\n",
              "      <td>302.014435</td>\n",
              "      <td>66.808281</td>\n",
              "      <td>12468.06934</td>\n",
              "      <td>66.808273</td>\n",
              "      <td>20130916</td>\n",
              "    </tr>\n",
              "    <tr>\n",
              "      <th>55079</th>\n",
              "      <td>7319</td>\n",
              "      <td>24.054759</td>\n",
              "      <td>277.8125</td>\n",
              "      <td>56.888420</td>\n",
              "      <td>2.819084</td>\n",
              "      <td>-12.172881</td>\n",
              "      <td>7.671317</td>\n",
              "      <td>-10.641853</td>\n",
              "      <td>0.022239</td>\n",
              "      <td>100621.3438</td>\n",
              "      <td>100621.3438</td>\n",
              "      <td>221.297958</td>\n",
              "      <td>269.940277</td>\n",
              "      <td>1.110000e-07</td>\n",
              "      <td>302.646820</td>\n",
              "      <td>301.950531</td>\n",
              "      <td>66.808609</td>\n",
              "      <td>12468.50098</td>\n",
              "      <td>66.808151</td>\n",
              "      <td>20130916</td>\n",
              "    </tr>\n",
              "  </tbody>\n",
              "</table>\n",
              "<p>55080 rows × 20 columns</p>\n",
              "</div>"
            ],
            "text/plain": [
              "       S.No        lat       lon  ...         Z200       ZBOT      time\n",
              "0         0 -24.758801  242.1875  ...  12234.78809  64.372635  20030804\n",
              "1         1  23.820078  277.8125  ...  12463.97266  66.834389  20071006\n",
              "2         2  23.820078  276.8750  ...  12099.36133  64.209663  20020331\n",
              "3         3  13.494133  253.1250  ...  12379.26855  66.243294  20000906\n",
              "4         4 -24.524120  241.2500  ...  12261.22656  64.876427  20000906\n",
              "...     ...        ...       ...  ...          ...        ...       ...\n",
              "55075  7315  24.054759  276.5625  ...  12467.79492  66.832077  20130916\n",
              "55076  7316  24.054759  276.8750  ...  12466.41309  66.827492  20130916\n",
              "55077  7317  24.054759  277.1875  ...  12467.56934  66.812981  20130916\n",
              "55078  7318  24.054759  277.5000  ...  12468.06934  66.808273  20130916\n",
              "55079  7319  24.054759  277.8125  ...  12468.50098  66.808151  20130916\n",
              "\n",
              "[55080 rows x 20 columns]"
            ]
          },
          "metadata": {},
          "execution_count": 75
        }
      ]
    },
    {
      "cell_type": "markdown",
      "metadata": {
        "id": "OwSIofIruuy8"
      },
      "source": [
        "# Preprocessing data\n",
        "(1) Remove non-significant features  \n",
        "\n",
        "(2) Standarlise data  \n",
        "\n",
        "(3) Add bias term  \n",
        "\n",
        "(4) Split train and test  \n"
      ]
    },
    {
      "cell_type": "code",
      "metadata": {
        "id": "IfgC4jgButin"
      },
      "source": [
        "def preprocessing(features):\n",
        "  X = features.copy()\n",
        "  X = X.iloc[:, 1:19]\n",
        "  X = X.drop(columns=\"PS\")\n",
        "  X.insert(0, 'bias', 1)\n",
        "  X_means = np.mean(X)\n",
        "  X_std = np.std(X)\n",
        "  X_scale = (X - X_means) / X_std\n",
        "  X_scale.iloc[:, 0] = np.ones((X_scale.shape[0], 1))\n",
        "  return X_scale "
      ],
      "execution_count": null,
      "outputs": []
    },
    {
      "cell_type": "code",
      "metadata": {
        "id": "2u2719qpux5V",
        "colab": {
          "base_uri": "https://localhost:8080/",
          "height": 439
        },
        "outputId": "95176bc0-9bd4-4130-93ce-a6b1c224765d"
      },
      "source": [
        "features_scale = preprocessing(all_features)\n",
        "features_scale"
      ],
      "execution_count": null,
      "outputs": [
        {
          "output_type": "execute_result",
          "data": {
            "text/html": [
              "<div>\n",
              "<style scoped>\n",
              "    .dataframe tbody tr th:only-of-type {\n",
              "        vertical-align: middle;\n",
              "    }\n",
              "\n",
              "    .dataframe tbody tr th {\n",
              "        vertical-align: top;\n",
              "    }\n",
              "\n",
              "    .dataframe thead th {\n",
              "        text-align: right;\n",
              "    }\n",
              "</style>\n",
              "<table border=\"1\" class=\"dataframe\">\n",
              "  <thead>\n",
              "    <tr style=\"text-align: right;\">\n",
              "      <th></th>\n",
              "      <th>bias</th>\n",
              "      <th>lat</th>\n",
              "      <th>lon</th>\n",
              "      <th>TMQ</th>\n",
              "      <th>U850</th>\n",
              "      <th>V850</th>\n",
              "      <th>UBOT</th>\n",
              "      <th>VBOT</th>\n",
              "      <th>QREFHT</th>\n",
              "      <th>PSL</th>\n",
              "      <th>T200</th>\n",
              "      <th>T500</th>\n",
              "      <th>PRECT</th>\n",
              "      <th>TS</th>\n",
              "      <th>TREFHT</th>\n",
              "      <th>Z1000</th>\n",
              "      <th>Z200</th>\n",
              "      <th>ZBOT</th>\n",
              "    </tr>\n",
              "  </thead>\n",
              "  <tbody>\n",
              "    <tr>\n",
              "      <th>0</th>\n",
              "      <td>1.0</td>\n",
              "      <td>-0.952799</td>\n",
              "      <td>-0.659826</td>\n",
              "      <td>-1.456660</td>\n",
              "      <td>-0.544970</td>\n",
              "      <td>1.082394</td>\n",
              "      <td>-0.689690</td>\n",
              "      <td>1.750971</td>\n",
              "      <td>-1.019028</td>\n",
              "      <td>1.385133</td>\n",
              "      <td>1.999031</td>\n",
              "      <td>-0.706613</td>\n",
              "      <td>-0.176864</td>\n",
              "      <td>-0.697123</td>\n",
              "      <td>-0.878724</td>\n",
              "      <td>1.429216</td>\n",
              "      <td>-0.428562</td>\n",
              "      <td>-0.950613</td>\n",
              "    </tr>\n",
              "    <tr>\n",
              "      <th>1</th>\n",
              "      <td>1.0</td>\n",
              "      <td>1.167947</td>\n",
              "      <td>0.208099</td>\n",
              "      <td>0.980482</td>\n",
              "      <td>1.330311</td>\n",
              "      <td>2.126323</td>\n",
              "      <td>1.095283</td>\n",
              "      <td>2.212530</td>\n",
              "      <td>1.028018</td>\n",
              "      <td>-1.364069</td>\n",
              "      <td>1.457275</td>\n",
              "      <td>1.322146</td>\n",
              "      <td>-0.204702</td>\n",
              "      <td>1.099047</td>\n",
              "      <td>1.426394</td>\n",
              "      <td>-1.477796</td>\n",
              "      <td>1.277024</td>\n",
              "      <td>1.390600</td>\n",
              "    </tr>\n",
              "    <tr>\n",
              "      <th>2</th>\n",
              "      <td>1.0</td>\n",
              "      <td>1.167947</td>\n",
              "      <td>0.185259</td>\n",
              "      <td>-1.798887</td>\n",
              "      <td>-0.270104</td>\n",
              "      <td>-1.403102</td>\n",
              "      <td>-0.220842</td>\n",
              "      <td>-1.095445</td>\n",
              "      <td>-1.715713</td>\n",
              "      <td>0.589421</td>\n",
              "      <td>-0.453372</td>\n",
              "      <td>-1.322884</td>\n",
              "      <td>-0.204702</td>\n",
              "      <td>0.408776</td>\n",
              "      <td>-0.869240</td>\n",
              "      <td>0.569875</td>\n",
              "      <td>-1.436404</td>\n",
              "      <td>-1.105605</td>\n",
              "    </tr>\n",
              "    <tr>\n",
              "      <th>3</th>\n",
              "      <td>1.0</td>\n",
              "      <td>0.717160</td>\n",
              "      <td>-0.393358</td>\n",
              "      <td>1.393384</td>\n",
              "      <td>0.109542</td>\n",
              "      <td>-0.322441</td>\n",
              "      <td>0.959048</td>\n",
              "      <td>-0.313340</td>\n",
              "      <td>1.097092</td>\n",
              "      <td>-1.325220</td>\n",
              "      <td>0.640182</td>\n",
              "      <td>0.839604</td>\n",
              "      <td>0.204936</td>\n",
              "      <td>0.866538</td>\n",
              "      <td>0.765701</td>\n",
              "      <td>-1.448546</td>\n",
              "      <td>0.646658</td>\n",
              "      <td>0.828448</td>\n",
              "    </tr>\n",
              "    <tr>\n",
              "      <th>4</th>\n",
              "      <td>1.0</td>\n",
              "      <td>-0.942553</td>\n",
              "      <td>-0.682666</td>\n",
              "      <td>-0.894244</td>\n",
              "      <td>-0.988140</td>\n",
              "      <td>-1.196643</td>\n",
              "      <td>-1.202690</td>\n",
              "      <td>-0.838749</td>\n",
              "      <td>-0.673120</td>\n",
              "      <td>1.796060</td>\n",
              "      <td>-1.153855</td>\n",
              "      <td>-0.218553</td>\n",
              "      <td>-0.177909</td>\n",
              "      <td>-0.645590</td>\n",
              "      <td>-0.435143</td>\n",
              "      <td>1.907489</td>\n",
              "      <td>-0.231807</td>\n",
              "      <td>-0.471490</td>\n",
              "    </tr>\n",
              "    <tr>\n",
              "      <th>...</th>\n",
              "      <td>...</td>\n",
              "      <td>...</td>\n",
              "      <td>...</td>\n",
              "      <td>...</td>\n",
              "      <td>...</td>\n",
              "      <td>...</td>\n",
              "      <td>...</td>\n",
              "      <td>...</td>\n",
              "      <td>...</td>\n",
              "      <td>...</td>\n",
              "      <td>...</td>\n",
              "      <td>...</td>\n",
              "      <td>...</td>\n",
              "      <td>...</td>\n",
              "      <td>...</td>\n",
              "      <td>...</td>\n",
              "      <td>...</td>\n",
              "      <td>...</td>\n",
              "    </tr>\n",
              "    <tr>\n",
              "      <th>55075</th>\n",
              "      <td>1.0</td>\n",
              "      <td>1.178192</td>\n",
              "      <td>0.177646</td>\n",
              "      <td>1.257555</td>\n",
              "      <td>-0.070115</td>\n",
              "      <td>-1.906459</td>\n",
              "      <td>0.752188</td>\n",
              "      <td>-2.054562</td>\n",
              "      <td>1.622598</td>\n",
              "      <td>-1.471042</td>\n",
              "      <td>1.792867</td>\n",
              "      <td>1.259184</td>\n",
              "      <td>-0.204702</td>\n",
              "      <td>1.119882</td>\n",
              "      <td>1.320941</td>\n",
              "      <td>-1.587032</td>\n",
              "      <td>1.305469</td>\n",
              "      <td>1.388401</td>\n",
              "    </tr>\n",
              "    <tr>\n",
              "      <th>55076</th>\n",
              "      <td>1.0</td>\n",
              "      <td>1.178192</td>\n",
              "      <td>0.185259</td>\n",
              "      <td>1.331331</td>\n",
              "      <td>0.049520</td>\n",
              "      <td>-2.030020</td>\n",
              "      <td>0.963159</td>\n",
              "      <td>-2.102031</td>\n",
              "      <td>1.736878</td>\n",
              "      <td>-1.543805</td>\n",
              "      <td>1.825305</td>\n",
              "      <td>1.316120</td>\n",
              "      <td>-0.200840</td>\n",
              "      <td>1.121708</td>\n",
              "      <td>1.297473</td>\n",
              "      <td>-1.587138</td>\n",
              "      <td>1.295185</td>\n",
              "      <td>1.384040</td>\n",
              "    </tr>\n",
              "    <tr>\n",
              "      <th>55077</th>\n",
              "      <td>1.0</td>\n",
              "      <td>1.178192</td>\n",
              "      <td>0.192872</td>\n",
              "      <td>1.504772</td>\n",
              "      <td>0.199574</td>\n",
              "      <td>-2.240993</td>\n",
              "      <td>1.175167</td>\n",
              "      <td>-2.110102</td>\n",
              "      <td>1.825097</td>\n",
              "      <td>-1.597136</td>\n",
              "      <td>1.806360</td>\n",
              "      <td>1.377637</td>\n",
              "      <td>0.040663</td>\n",
              "      <td>1.138237</td>\n",
              "      <td>1.273246</td>\n",
              "      <td>-1.587472</td>\n",
              "      <td>1.303790</td>\n",
              "      <td>1.370240</td>\n",
              "    </tr>\n",
              "    <tr>\n",
              "      <th>55078</th>\n",
              "      <td>1.0</td>\n",
              "      <td>1.178192</td>\n",
              "      <td>0.200486</td>\n",
              "      <td>1.618416</td>\n",
              "      <td>0.349145</td>\n",
              "      <td>-2.518317</td>\n",
              "      <td>1.395306</td>\n",
              "      <td>-2.125182</td>\n",
              "      <td>1.848681</td>\n",
              "      <td>-1.645236</td>\n",
              "      <td>1.853711</td>\n",
              "      <td>1.464180</td>\n",
              "      <td>0.163555</td>\n",
              "      <td>1.138237</td>\n",
              "      <td>1.268741</td>\n",
              "      <td>-1.587581</td>\n",
              "      <td>1.307511</td>\n",
              "      <td>1.365763</td>\n",
              "    </tr>\n",
              "    <tr>\n",
              "      <th>55079</th>\n",
              "      <td>1.0</td>\n",
              "      <td>1.178192</td>\n",
              "      <td>0.208099</td>\n",
              "      <td>1.677245</td>\n",
              "      <td>0.493976</td>\n",
              "      <td>-2.823162</td>\n",
              "      <td>1.595011</td>\n",
              "      <td>-2.079873</td>\n",
              "      <td>1.947685</td>\n",
              "      <td>-1.692151</td>\n",
              "      <td>1.870680</td>\n",
              "      <td>1.554327</td>\n",
              "      <td>0.259276</td>\n",
              "      <td>1.138237</td>\n",
              "      <td>1.252990</td>\n",
              "      <td>-1.587573</td>\n",
              "      <td>1.310723</td>\n",
              "      <td>1.365647</td>\n",
              "    </tr>\n",
              "  </tbody>\n",
              "</table>\n",
              "<p>55080 rows × 18 columns</p>\n",
              "</div>"
            ],
            "text/plain": [
              "       bias       lat       lon  ...     Z1000      Z200      ZBOT\n",
              "0       1.0 -0.952799 -0.659826  ...  1.429216 -0.428562 -0.950613\n",
              "1       1.0  1.167947  0.208099  ... -1.477796  1.277024  1.390600\n",
              "2       1.0  1.167947  0.185259  ...  0.569875 -1.436404 -1.105605\n",
              "3       1.0  0.717160 -0.393358  ... -1.448546  0.646658  0.828448\n",
              "4       1.0 -0.942553 -0.682666  ...  1.907489 -0.231807 -0.471490\n",
              "...     ...       ...       ...  ...       ...       ...       ...\n",
              "55075   1.0  1.178192  0.177646  ... -1.587032  1.305469  1.388401\n",
              "55076   1.0  1.178192  0.185259  ... -1.587138  1.295185  1.384040\n",
              "55077   1.0  1.178192  0.192872  ... -1.587472  1.303790  1.370240\n",
              "55078   1.0  1.178192  0.200486  ... -1.587581  1.307511  1.365763\n",
              "55079   1.0  1.178192  0.208099  ... -1.587573  1.310723  1.365647\n",
              "\n",
              "[55080 rows x 18 columns]"
            ]
          },
          "metadata": {},
          "execution_count": 15
        }
      ]
    },
    {
      "cell_type": "code",
      "metadata": {
        "id": "I5md-PEuux2S",
        "colab": {
          "base_uri": "https://localhost:8080/"
        },
        "outputId": "ec3f1909-c4b6-4ba6-80f8-7ae31db875f0"
      },
      "source": [
        "# separate data and test data\n",
        "train_data = features_scale.iloc[0:len_data, :]\n",
        "test_data = features_scale.iloc[len_data:features_scale.shape[0], :]\n",
        "train_data.shape, test_data.shape"
      ],
      "execution_count": null,
      "outputs": [
        {
          "output_type": "execute_result",
          "data": {
            "text/plain": [
              "((47760, 18), (7320, 18))"
            ]
          },
          "metadata": {},
          "execution_count": 16
        }
      ]
    },
    {
      "cell_type": "code",
      "metadata": {
        "colab": {
          "base_uri": "https://localhost:8080/",
          "height": 439
        },
        "id": "k8xvxHGIlfoK",
        "outputId": "71dd38b2-3a22-4013-a150-674f95aa83cd"
      },
      "source": [
        "train_data"
      ],
      "execution_count": null,
      "outputs": [
        {
          "output_type": "execute_result",
          "data": {
            "text/html": [
              "<div>\n",
              "<style scoped>\n",
              "    .dataframe tbody tr th:only-of-type {\n",
              "        vertical-align: middle;\n",
              "    }\n",
              "\n",
              "    .dataframe tbody tr th {\n",
              "        vertical-align: top;\n",
              "    }\n",
              "\n",
              "    .dataframe thead th {\n",
              "        text-align: right;\n",
              "    }\n",
              "</style>\n",
              "<table border=\"1\" class=\"dataframe\">\n",
              "  <thead>\n",
              "    <tr style=\"text-align: right;\">\n",
              "      <th></th>\n",
              "      <th>bias</th>\n",
              "      <th>lat</th>\n",
              "      <th>lon</th>\n",
              "      <th>TMQ</th>\n",
              "      <th>U850</th>\n",
              "      <th>V850</th>\n",
              "      <th>UBOT</th>\n",
              "      <th>VBOT</th>\n",
              "      <th>QREFHT</th>\n",
              "      <th>PSL</th>\n",
              "      <th>T200</th>\n",
              "      <th>T500</th>\n",
              "      <th>PRECT</th>\n",
              "      <th>TS</th>\n",
              "      <th>TREFHT</th>\n",
              "      <th>Z1000</th>\n",
              "      <th>Z200</th>\n",
              "      <th>ZBOT</th>\n",
              "    </tr>\n",
              "  </thead>\n",
              "  <tbody>\n",
              "    <tr>\n",
              "      <th>0</th>\n",
              "      <td>1.0</td>\n",
              "      <td>-0.952799</td>\n",
              "      <td>-0.659826</td>\n",
              "      <td>-1.456660</td>\n",
              "      <td>-0.544970</td>\n",
              "      <td>1.082394</td>\n",
              "      <td>-0.689690</td>\n",
              "      <td>1.750971</td>\n",
              "      <td>-1.019028</td>\n",
              "      <td>1.385133</td>\n",
              "      <td>1.999031</td>\n",
              "      <td>-0.706613</td>\n",
              "      <td>-0.176864</td>\n",
              "      <td>-0.697123</td>\n",
              "      <td>-0.878724</td>\n",
              "      <td>1.429216</td>\n",
              "      <td>-0.428562</td>\n",
              "      <td>-0.950613</td>\n",
              "    </tr>\n",
              "    <tr>\n",
              "      <th>1</th>\n",
              "      <td>1.0</td>\n",
              "      <td>1.167947</td>\n",
              "      <td>0.208099</td>\n",
              "      <td>0.980482</td>\n",
              "      <td>1.330311</td>\n",
              "      <td>2.126323</td>\n",
              "      <td>1.095283</td>\n",
              "      <td>2.212530</td>\n",
              "      <td>1.028018</td>\n",
              "      <td>-1.364069</td>\n",
              "      <td>1.457275</td>\n",
              "      <td>1.322146</td>\n",
              "      <td>-0.204702</td>\n",
              "      <td>1.099047</td>\n",
              "      <td>1.426394</td>\n",
              "      <td>-1.477796</td>\n",
              "      <td>1.277024</td>\n",
              "      <td>1.390600</td>\n",
              "    </tr>\n",
              "    <tr>\n",
              "      <th>2</th>\n",
              "      <td>1.0</td>\n",
              "      <td>1.167947</td>\n",
              "      <td>0.185259</td>\n",
              "      <td>-1.798887</td>\n",
              "      <td>-0.270104</td>\n",
              "      <td>-1.403102</td>\n",
              "      <td>-0.220842</td>\n",
              "      <td>-1.095445</td>\n",
              "      <td>-1.715713</td>\n",
              "      <td>0.589421</td>\n",
              "      <td>-0.453372</td>\n",
              "      <td>-1.322884</td>\n",
              "      <td>-0.204702</td>\n",
              "      <td>0.408776</td>\n",
              "      <td>-0.869240</td>\n",
              "      <td>0.569875</td>\n",
              "      <td>-1.436404</td>\n",
              "      <td>-1.105605</td>\n",
              "    </tr>\n",
              "    <tr>\n",
              "      <th>3</th>\n",
              "      <td>1.0</td>\n",
              "      <td>0.717160</td>\n",
              "      <td>-0.393358</td>\n",
              "      <td>1.393384</td>\n",
              "      <td>0.109542</td>\n",
              "      <td>-0.322441</td>\n",
              "      <td>0.959048</td>\n",
              "      <td>-0.313340</td>\n",
              "      <td>1.097092</td>\n",
              "      <td>-1.325220</td>\n",
              "      <td>0.640182</td>\n",
              "      <td>0.839604</td>\n",
              "      <td>0.204936</td>\n",
              "      <td>0.866538</td>\n",
              "      <td>0.765701</td>\n",
              "      <td>-1.448546</td>\n",
              "      <td>0.646658</td>\n",
              "      <td>0.828448</td>\n",
              "    </tr>\n",
              "    <tr>\n",
              "      <th>4</th>\n",
              "      <td>1.0</td>\n",
              "      <td>-0.942553</td>\n",
              "      <td>-0.682666</td>\n",
              "      <td>-0.894244</td>\n",
              "      <td>-0.988140</td>\n",
              "      <td>-1.196643</td>\n",
              "      <td>-1.202690</td>\n",
              "      <td>-0.838749</td>\n",
              "      <td>-0.673120</td>\n",
              "      <td>1.796060</td>\n",
              "      <td>-1.153855</td>\n",
              "      <td>-0.218553</td>\n",
              "      <td>-0.177909</td>\n",
              "      <td>-0.645590</td>\n",
              "      <td>-0.435143</td>\n",
              "      <td>1.907489</td>\n",
              "      <td>-0.231807</td>\n",
              "      <td>-0.471490</td>\n",
              "    </tr>\n",
              "    <tr>\n",
              "      <th>...</th>\n",
              "      <td>...</td>\n",
              "      <td>...</td>\n",
              "      <td>...</td>\n",
              "      <td>...</td>\n",
              "      <td>...</td>\n",
              "      <td>...</td>\n",
              "      <td>...</td>\n",
              "      <td>...</td>\n",
              "      <td>...</td>\n",
              "      <td>...</td>\n",
              "      <td>...</td>\n",
              "      <td>...</td>\n",
              "      <td>...</td>\n",
              "      <td>...</td>\n",
              "      <td>...</td>\n",
              "      <td>...</td>\n",
              "      <td>...</td>\n",
              "      <td>...</td>\n",
              "    </tr>\n",
              "    <tr>\n",
              "      <th>47755</th>\n",
              "      <td>1.0</td>\n",
              "      <td>-1.208927</td>\n",
              "      <td>2.050537</td>\n",
              "      <td>-1.559338</td>\n",
              "      <td>0.542162</td>\n",
              "      <td>0.960851</td>\n",
              "      <td>0.282271</td>\n",
              "      <td>0.865639</td>\n",
              "      <td>-1.501326</td>\n",
              "      <td>0.993904</td>\n",
              "      <td>-1.375851</td>\n",
              "      <td>-1.257286</td>\n",
              "      <td>-0.194378</td>\n",
              "      <td>-1.697916</td>\n",
              "      <td>-1.657530</td>\n",
              "      <td>0.967759</td>\n",
              "      <td>-1.743022</td>\n",
              "      <td>-1.610599</td>\n",
              "    </tr>\n",
              "    <tr>\n",
              "      <th>47756</th>\n",
              "      <td>1.0</td>\n",
              "      <td>-0.963044</td>\n",
              "      <td>-0.659826</td>\n",
              "      <td>-0.419844</td>\n",
              "      <td>1.410663</td>\n",
              "      <td>-0.103645</td>\n",
              "      <td>1.506244</td>\n",
              "      <td>-1.000442</td>\n",
              "      <td>-0.183821</td>\n",
              "      <td>0.316672</td>\n",
              "      <td>-1.348457</td>\n",
              "      <td>-0.101315</td>\n",
              "      <td>-0.193751</td>\n",
              "      <td>-0.514210</td>\n",
              "      <td>-0.159250</td>\n",
              "      <td>0.332354</td>\n",
              "      <td>-0.149713</td>\n",
              "      <td>-0.127310</td>\n",
              "    </tr>\n",
              "    <tr>\n",
              "      <th>47757</th>\n",
              "      <td>1.0</td>\n",
              "      <td>-1.208927</td>\n",
              "      <td>2.050537</td>\n",
              "      <td>-1.075436</td>\n",
              "      <td>1.198620</td>\n",
              "      <td>-1.466387</td>\n",
              "      <td>0.950071</td>\n",
              "      <td>-1.395281</td>\n",
              "      <td>-0.956686</td>\n",
              "      <td>0.436830</td>\n",
              "      <td>-0.253495</td>\n",
              "      <td>-0.046649</td>\n",
              "      <td>-0.186979</td>\n",
              "      <td>-1.968044</td>\n",
              "      <td>-1.510835</td>\n",
              "      <td>0.391302</td>\n",
              "      <td>-0.447305</td>\n",
              "      <td>-1.371825</td>\n",
              "    </tr>\n",
              "    <tr>\n",
              "      <th>47758</th>\n",
              "      <td>1.0</td>\n",
              "      <td>1.157701</td>\n",
              "      <td>0.177646</td>\n",
              "      <td>0.818513</td>\n",
              "      <td>-0.347110</td>\n",
              "      <td>0.046155</td>\n",
              "      <td>-0.779050</td>\n",
              "      <td>0.281748</td>\n",
              "      <td>1.554312</td>\n",
              "      <td>0.148711</td>\n",
              "      <td>0.020024</td>\n",
              "      <td>0.395211</td>\n",
              "      <td>0.155613</td>\n",
              "      <td>1.165682</td>\n",
              "      <td>1.152494</td>\n",
              "      <td>0.220494</td>\n",
              "      <td>0.832889</td>\n",
              "      <td>1.221467</td>\n",
              "    </tr>\n",
              "    <tr>\n",
              "      <th>47759</th>\n",
              "      <td>1.0</td>\n",
              "      <td>1.178192</td>\n",
              "      <td>0.185259</td>\n",
              "      <td>1.114539</td>\n",
              "      <td>-0.284359</td>\n",
              "      <td>-0.212958</td>\n",
              "      <td>-0.678358</td>\n",
              "      <td>-0.274555</td>\n",
              "      <td>0.785492</td>\n",
              "      <td>-0.333471</td>\n",
              "      <td>0.191840</td>\n",
              "      <td>0.271725</td>\n",
              "      <td>-0.109817</td>\n",
              "      <td>0.792934</td>\n",
              "      <td>0.808439</td>\n",
              "      <td>-0.337624</td>\n",
              "      <td>0.447338</td>\n",
              "      <td>0.807304</td>\n",
              "    </tr>\n",
              "  </tbody>\n",
              "</table>\n",
              "<p>47760 rows × 18 columns</p>\n",
              "</div>"
            ],
            "text/plain": [
              "       bias       lat       lon  ...     Z1000      Z200      ZBOT\n",
              "0       1.0 -0.952799 -0.659826  ...  1.429216 -0.428562 -0.950613\n",
              "1       1.0  1.167947  0.208099  ... -1.477796  1.277024  1.390600\n",
              "2       1.0  1.167947  0.185259  ...  0.569875 -1.436404 -1.105605\n",
              "3       1.0  0.717160 -0.393358  ... -1.448546  0.646658  0.828448\n",
              "4       1.0 -0.942553 -0.682666  ...  1.907489 -0.231807 -0.471490\n",
              "...     ...       ...       ...  ...       ...       ...       ...\n",
              "47755   1.0 -1.208927  2.050537  ...  0.967759 -1.743022 -1.610599\n",
              "47756   1.0 -0.963044 -0.659826  ...  0.332354 -0.149713 -0.127310\n",
              "47757   1.0 -1.208927  2.050537  ...  0.391302 -0.447305 -1.371825\n",
              "47758   1.0  1.157701  0.177646  ...  0.220494  0.832889  1.221467\n",
              "47759   1.0  1.178192  0.185259  ... -0.337624  0.447338  0.807304\n",
              "\n",
              "[47760 rows x 18 columns]"
            ]
          },
          "metadata": {},
          "execution_count": 17
        }
      ]
    },
    {
      "cell_type": "code",
      "metadata": {
        "colab": {
          "base_uri": "https://localhost:8080/",
          "height": 439
        },
        "id": "-lA3t6dOlh9l",
        "outputId": "69f00cbf-21a4-444b-ad36-afc2a1d510d5"
      },
      "source": [
        "test_data"
      ],
      "execution_count": null,
      "outputs": [
        {
          "output_type": "execute_result",
          "data": {
            "text/html": [
              "<div>\n",
              "<style scoped>\n",
              "    .dataframe tbody tr th:only-of-type {\n",
              "        vertical-align: middle;\n",
              "    }\n",
              "\n",
              "    .dataframe tbody tr th {\n",
              "        vertical-align: top;\n",
              "    }\n",
              "\n",
              "    .dataframe thead th {\n",
              "        text-align: right;\n",
              "    }\n",
              "</style>\n",
              "<table border=\"1\" class=\"dataframe\">\n",
              "  <thead>\n",
              "    <tr style=\"text-align: right;\">\n",
              "      <th></th>\n",
              "      <th>bias</th>\n",
              "      <th>lat</th>\n",
              "      <th>lon</th>\n",
              "      <th>TMQ</th>\n",
              "      <th>U850</th>\n",
              "      <th>V850</th>\n",
              "      <th>UBOT</th>\n",
              "      <th>VBOT</th>\n",
              "      <th>QREFHT</th>\n",
              "      <th>PSL</th>\n",
              "      <th>T200</th>\n",
              "      <th>T500</th>\n",
              "      <th>PRECT</th>\n",
              "      <th>TS</th>\n",
              "      <th>TREFHT</th>\n",
              "      <th>Z1000</th>\n",
              "      <th>Z200</th>\n",
              "      <th>ZBOT</th>\n",
              "    </tr>\n",
              "  </thead>\n",
              "  <tbody>\n",
              "    <tr>\n",
              "      <th>47760</th>\n",
              "      <td>1.0</td>\n",
              "      <td>-1.229417</td>\n",
              "      <td>2.042923</td>\n",
              "      <td>-0.969527</td>\n",
              "      <td>-0.199640</td>\n",
              "      <td>-0.019019</td>\n",
              "      <td>-0.908190</td>\n",
              "      <td>-0.249263</td>\n",
              "      <td>-1.533322</td>\n",
              "      <td>2.257725</td>\n",
              "      <td>-0.176336</td>\n",
              "      <td>-1.733819</td>\n",
              "      <td>-0.034995</td>\n",
              "      <td>-2.067347</td>\n",
              "      <td>-1.935251</td>\n",
              "      <td>2.280513</td>\n",
              "      <td>-1.998425</td>\n",
              "      <td>-1.874896</td>\n",
              "    </tr>\n",
              "    <tr>\n",
              "      <th>47761</th>\n",
              "      <td>1.0</td>\n",
              "      <td>-1.229417</td>\n",
              "      <td>2.050537</td>\n",
              "      <td>-1.033650</td>\n",
              "      <td>-0.208858</td>\n",
              "      <td>0.073115</td>\n",
              "      <td>-1.022537</td>\n",
              "      <td>-0.056414</td>\n",
              "      <td>-1.611895</td>\n",
              "      <td>2.270233</td>\n",
              "      <td>-0.209462</td>\n",
              "      <td>-1.714158</td>\n",
              "      <td>-0.134897</td>\n",
              "      <td>-2.067530</td>\n",
              "      <td>-1.970182</td>\n",
              "      <td>2.288535</td>\n",
              "      <td>-1.998483</td>\n",
              "      <td>-1.924181</td>\n",
              "    </tr>\n",
              "    <tr>\n",
              "      <th>47762</th>\n",
              "      <td>1.0</td>\n",
              "      <td>-1.229417</td>\n",
              "      <td>2.058150</td>\n",
              "      <td>-1.115755</td>\n",
              "      <td>-0.218882</td>\n",
              "      <td>0.146943</td>\n",
              "      <td>-1.088501</td>\n",
              "      <td>0.171496</td>\n",
              "      <td>-1.659356</td>\n",
              "      <td>2.290553</td>\n",
              "      <td>-0.308297</td>\n",
              "      <td>-1.704051</td>\n",
              "      <td>-0.153707</td>\n",
              "      <td>-2.067530</td>\n",
              "      <td>-2.027278</td>\n",
              "      <td>2.303500</td>\n",
              "      <td>-1.986739</td>\n",
              "      <td>-1.988489</td>\n",
              "    </tr>\n",
              "    <tr>\n",
              "      <th>47763</th>\n",
              "      <td>1.0</td>\n",
              "      <td>-1.229417</td>\n",
              "      <td>2.065764</td>\n",
              "      <td>-1.153955</td>\n",
              "      <td>-0.218557</td>\n",
              "      <td>0.240390</td>\n",
              "      <td>-1.077335</td>\n",
              "      <td>0.400787</td>\n",
              "      <td>-1.703007</td>\n",
              "      <td>2.295390</td>\n",
              "      <td>-0.408942</td>\n",
              "      <td>-1.678193</td>\n",
              "      <td>-0.203256</td>\n",
              "      <td>-2.050762</td>\n",
              "      <td>-2.081848</td>\n",
              "      <td>2.302972</td>\n",
              "      <td>-1.977785</td>\n",
              "      <td>-2.049826</td>\n",
              "    </tr>\n",
              "    <tr>\n",
              "      <th>47764</th>\n",
              "      <td>1.0</td>\n",
              "      <td>-1.229417</td>\n",
              "      <td>2.073377</td>\n",
              "      <td>-1.182211</td>\n",
              "      <td>-0.208022</td>\n",
              "      <td>0.401727</td>\n",
              "      <td>-1.028380</td>\n",
              "      <td>0.603821</td>\n",
              "      <td>-1.759042</td>\n",
              "      <td>2.283319</td>\n",
              "      <td>-0.452777</td>\n",
              "      <td>-1.628448</td>\n",
              "      <td>-0.202228</td>\n",
              "      <td>-2.043577</td>\n",
              "      <td>-2.088527</td>\n",
              "      <td>2.289048</td>\n",
              "      <td>-1.972756</td>\n",
              "      <td>-2.065368</td>\n",
              "    </tr>\n",
              "    <tr>\n",
              "      <th>...</th>\n",
              "      <td>...</td>\n",
              "      <td>...</td>\n",
              "      <td>...</td>\n",
              "      <td>...</td>\n",
              "      <td>...</td>\n",
              "      <td>...</td>\n",
              "      <td>...</td>\n",
              "      <td>...</td>\n",
              "      <td>...</td>\n",
              "      <td>...</td>\n",
              "      <td>...</td>\n",
              "      <td>...</td>\n",
              "      <td>...</td>\n",
              "      <td>...</td>\n",
              "      <td>...</td>\n",
              "      <td>...</td>\n",
              "      <td>...</td>\n",
              "      <td>...</td>\n",
              "    </tr>\n",
              "    <tr>\n",
              "      <th>55075</th>\n",
              "      <td>1.0</td>\n",
              "      <td>1.178192</td>\n",
              "      <td>0.177646</td>\n",
              "      <td>1.257555</td>\n",
              "      <td>-0.070115</td>\n",
              "      <td>-1.906459</td>\n",
              "      <td>0.752188</td>\n",
              "      <td>-2.054562</td>\n",
              "      <td>1.622598</td>\n",
              "      <td>-1.471042</td>\n",
              "      <td>1.792867</td>\n",
              "      <td>1.259184</td>\n",
              "      <td>-0.204702</td>\n",
              "      <td>1.119882</td>\n",
              "      <td>1.320941</td>\n",
              "      <td>-1.587032</td>\n",
              "      <td>1.305469</td>\n",
              "      <td>1.388401</td>\n",
              "    </tr>\n",
              "    <tr>\n",
              "      <th>55076</th>\n",
              "      <td>1.0</td>\n",
              "      <td>1.178192</td>\n",
              "      <td>0.185259</td>\n",
              "      <td>1.331331</td>\n",
              "      <td>0.049520</td>\n",
              "      <td>-2.030020</td>\n",
              "      <td>0.963159</td>\n",
              "      <td>-2.102031</td>\n",
              "      <td>1.736878</td>\n",
              "      <td>-1.543805</td>\n",
              "      <td>1.825305</td>\n",
              "      <td>1.316120</td>\n",
              "      <td>-0.200840</td>\n",
              "      <td>1.121708</td>\n",
              "      <td>1.297473</td>\n",
              "      <td>-1.587138</td>\n",
              "      <td>1.295185</td>\n",
              "      <td>1.384040</td>\n",
              "    </tr>\n",
              "    <tr>\n",
              "      <th>55077</th>\n",
              "      <td>1.0</td>\n",
              "      <td>1.178192</td>\n",
              "      <td>0.192872</td>\n",
              "      <td>1.504772</td>\n",
              "      <td>0.199574</td>\n",
              "      <td>-2.240993</td>\n",
              "      <td>1.175167</td>\n",
              "      <td>-2.110102</td>\n",
              "      <td>1.825097</td>\n",
              "      <td>-1.597136</td>\n",
              "      <td>1.806360</td>\n",
              "      <td>1.377637</td>\n",
              "      <td>0.040663</td>\n",
              "      <td>1.138237</td>\n",
              "      <td>1.273246</td>\n",
              "      <td>-1.587472</td>\n",
              "      <td>1.303790</td>\n",
              "      <td>1.370240</td>\n",
              "    </tr>\n",
              "    <tr>\n",
              "      <th>55078</th>\n",
              "      <td>1.0</td>\n",
              "      <td>1.178192</td>\n",
              "      <td>0.200486</td>\n",
              "      <td>1.618416</td>\n",
              "      <td>0.349145</td>\n",
              "      <td>-2.518317</td>\n",
              "      <td>1.395306</td>\n",
              "      <td>-2.125182</td>\n",
              "      <td>1.848681</td>\n",
              "      <td>-1.645236</td>\n",
              "      <td>1.853711</td>\n",
              "      <td>1.464180</td>\n",
              "      <td>0.163555</td>\n",
              "      <td>1.138237</td>\n",
              "      <td>1.268741</td>\n",
              "      <td>-1.587581</td>\n",
              "      <td>1.307511</td>\n",
              "      <td>1.365763</td>\n",
              "    </tr>\n",
              "    <tr>\n",
              "      <th>55079</th>\n",
              "      <td>1.0</td>\n",
              "      <td>1.178192</td>\n",
              "      <td>0.208099</td>\n",
              "      <td>1.677245</td>\n",
              "      <td>0.493976</td>\n",
              "      <td>-2.823162</td>\n",
              "      <td>1.595011</td>\n",
              "      <td>-2.079873</td>\n",
              "      <td>1.947685</td>\n",
              "      <td>-1.692151</td>\n",
              "      <td>1.870680</td>\n",
              "      <td>1.554327</td>\n",
              "      <td>0.259276</td>\n",
              "      <td>1.138237</td>\n",
              "      <td>1.252990</td>\n",
              "      <td>-1.587573</td>\n",
              "      <td>1.310723</td>\n",
              "      <td>1.365647</td>\n",
              "    </tr>\n",
              "  </tbody>\n",
              "</table>\n",
              "<p>7320 rows × 18 columns</p>\n",
              "</div>"
            ],
            "text/plain": [
              "       bias       lat       lon  ...     Z1000      Z200      ZBOT\n",
              "47760   1.0 -1.229417  2.042923  ...  2.280513 -1.998425 -1.874896\n",
              "47761   1.0 -1.229417  2.050537  ...  2.288535 -1.998483 -1.924181\n",
              "47762   1.0 -1.229417  2.058150  ...  2.303500 -1.986739 -1.988489\n",
              "47763   1.0 -1.229417  2.065764  ...  2.302972 -1.977785 -2.049826\n",
              "47764   1.0 -1.229417  2.073377  ...  2.289048 -1.972756 -2.065368\n",
              "...     ...       ...       ...  ...       ...       ...       ...\n",
              "55075   1.0  1.178192  0.177646  ... -1.587032  1.305469  1.388401\n",
              "55076   1.0  1.178192  0.185259  ... -1.587138  1.295185  1.384040\n",
              "55077   1.0  1.178192  0.192872  ... -1.587472  1.303790  1.370240\n",
              "55078   1.0  1.178192  0.200486  ... -1.587581  1.307511  1.365763\n",
              "55079   1.0  1.178192  0.208099  ... -1.587573  1.310723  1.365647\n",
              "\n",
              "[7320 rows x 18 columns]"
            ]
          },
          "metadata": {},
          "execution_count": 18
        }
      ]
    },
    {
      "cell_type": "markdown",
      "metadata": {
        "id": "_j6IVGvbtFB3"
      },
      "source": [
        "# Logistic Regression Model"
      ]
    },
    {
      "cell_type": "markdown",
      "metadata": {
        "id": "ls6rZ168ivR0"
      },
      "source": [
        "![Screen Shot 2021-10-10 at 7.29.10 PM.png](data:image/png;base64,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)"
      ]
    },
    {
      "cell_type": "code",
      "metadata": {
        "id": "QZmvwHB7tEUT"
      },
      "source": [
        "def sigmoid(z):\n",
        "  return 1.0/(1 + np.exp(-z))"
      ],
      "execution_count": null,
      "outputs": []
    },
    {
      "cell_type": "markdown",
      "metadata": {
        "id": "Trymo2oQjMET"
      },
      "source": [
        "![cost.png](data:image/png;base64,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)"
      ]
    },
    {
      "cell_type": "code",
      "metadata": {
        "id": "D4z0S3bdtESE"
      },
      "source": [
        "def cost(X, y, theta, lambda_): \n",
        "  # m: number of examples\n",
        "  # n: number of features with bias term\n",
        "\n",
        "  # X: (m, n), y (one col of y_onehot): (m, 1), \n",
        "  # theta: (n, 1)\n",
        "  m = X.shape[0]\n",
        "  n = X.shape[1]\n",
        "\n",
        "  h = sigmoid(np.dot(X, theta))\n",
        "  # h: (m, nb_classes)\n",
        "     \n",
        "  log_h = np.log(h)  # (m, 1)\n",
        "  log_one_minusH = np.log(1 - h) # (m, 1)\n",
        "\n",
        "  yT = np.transpose(y)  # (1, m)  \n",
        "  one_minus_yT = np.transpose(1 - y)  # (1, m)  \n",
        "\n",
        "  sum_ = np.dot(-yT, log_h) - np.dot(one_minus_yT, log_one_minusH)\n",
        "  # (1, m) * (m, 1) - (1, m) * (m, 1)\n",
        "\n",
        "  theta_without_bias = theta[1:n]     \n",
        "  reg = (lambda_ / (2*m)) * np.sum(theta_without_bias ** 2)\n",
        "\n",
        "  return sum_/ m + reg  "
      ],
      "execution_count": null,
      "outputs": []
    },
    {
      "cell_type": "markdown",
      "metadata": {
        "id": "459K-tJujO2z"
      },
      "source": [
        "![gradient.png](data:image/png;base64,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)"
      ]
    },
    {
      "cell_type": "code",
      "metadata": {
        "id": "Z5MVKdDvtEPw"
      },
      "source": [
        "def gradient(X, y, theta, lambda_):\n",
        "  m = X.shape[0]\n",
        "  n = X.shape[1]\n",
        "  h = sigmoid(np.dot(X, theta))\n",
        "\n",
        "  sum_ = np.transpose(X).dot(h - y)  # (n, m) * (m, 1)\n",
        "  gradient = sum_ / m\n",
        "\n",
        "  theta_without_bias = theta[1:n]\n",
        "  reg = lambda_ / m * theta_without_bias\n",
        "\n",
        "  gradient[1:n] = gradient[1:n] + reg\n",
        "  return gradient"
      ],
      "execution_count": null,
      "outputs": []
    },
    {
      "cell_type": "code",
      "metadata": {
        "id": "u3UDiR40tOji"
      },
      "source": [
        "def gradient_descent(X, y, theta, lambda_, eps, alpha, max_iter): # alpha is learning rate\n",
        "  losses = []\n",
        "  i = 0\n",
        "  print(\"Iteration: Cost\")\n",
        "\n",
        "  while(i < max_iter):\n",
        "    i += 1\n",
        "    grad = gradient(X, y, theta, lambda_)\n",
        "    theta -= alpha * grad\n",
        "    loss = cost(X, y, theta, lambda_)    \n",
        "    if (i % 1000 == 0):     \n",
        "      print(\"{}: {:.8f}\".format(i, loss))\n",
        "    \n",
        "    len_losses = len(losses)\n",
        "    if (len_losses == 0):\n",
        "      diff = np.abs(loss)\n",
        "    else :\n",
        "      diff = np.abs(losses[len_losses-1] - loss)\n",
        "\n",
        "    losses.append(loss)\n",
        "    if(diff < eps):\n",
        "      return theta, losses\n",
        "\n",
        "  return theta, losses"
      ],
      "execution_count": null,
      "outputs": []
    },
    {
      "cell_type": "markdown",
      "metadata": {
        "id": "CImoWEHFtWGI"
      },
      "source": [
        "# Training Model"
      ]
    },
    {
      "cell_type": "code",
      "metadata": {
        "colab": {
          "base_uri": "https://localhost:8080/"
        },
        "id": "OOI1P0OOJVmM",
        "outputId": "8f455bbb-61eb-45ce-c1b5-1b5bd1f73260"
      },
      "source": [
        "y_all_train.shape"
      ],
      "execution_count": null,
      "outputs": [
        {
          "output_type": "execute_result",
          "data": {
            "text/plain": [
              "(47760,)"
            ]
          },
          "metadata": {},
          "execution_count": 23
        }
      ]
    },
    {
      "cell_type": "code",
      "metadata": {
        "id": "DYyMmpn9GdhB"
      },
      "source": [
        "def split_train_test(X, y, training_size, val_size):\n",
        "    m = X.shape[0]\n",
        "    nb_train = int(m * training_size)\n",
        "    X_train = X.iloc[0:nb_train, :]\n",
        "    y_train = y[0:nb_train]\n",
        "\n",
        "    nb_val = int(m * val_size)\n",
        "\n",
        "    val_index = nb_train + nb_val\n",
        "    X_val = X.iloc[nb_train: val_index, :]\n",
        "    y_val = y[nb_train: val_index]\n",
        "\n",
        "    X_test = X.iloc[val_index: m, :]\n",
        "    y_test = y[val_index: m]\n",
        "    return X_train, y_train, X_val, y_val, X_test, y_test"
      ],
      "execution_count": null,
      "outputs": []
    },
    {
      "cell_type": "code",
      "metadata": {
        "id": "hX-t-4HtwqgO"
      },
      "source": [
        "X_train, y_train, X_val, y_val, X_test, y_test = split_train_test(train_data, y_all_train, 0.7, 0.15)"
      ],
      "execution_count": null,
      "outputs": []
    },
    {
      "cell_type": "code",
      "metadata": {
        "colab": {
          "base_uri": "https://localhost:8080/"
        },
        "id": "4_ZRzLj5w1z6",
        "outputId": "ad514c26-c590-4c61-bc30-edf310ca190d"
      },
      "source": [
        "X_train.shape, y_train.shape, X_val.shape, y_val.shape, X_test.shape, y_test.shape"
      ],
      "execution_count": null,
      "outputs": [
        {
          "output_type": "execute_result",
          "data": {
            "text/plain": [
              "((33432, 18), (33432,), (7164, 18), (7164,), (7164, 18), (7164,))"
            ]
          },
          "metadata": {},
          "execution_count": 26
        }
      ]
    },
    {
      "cell_type": "code",
      "metadata": {
        "id": "S-ROYHf7I85M"
      },
      "source": [
        "def onehot_y(labels, classes):\n",
        "    size = labels.shape[0]\n",
        "    result = np.zeros((size, classes))\n",
        "    for i in range(size):\n",
        "        cl = int(labels[i])\n",
        "        result[i][cl] = 1\n",
        "    return result    "
      ],
      "execution_count": null,
      "outputs": []
    },
    {
      "cell_type": "code",
      "metadata": {
        "id": "qeICJ6g004s8"
      },
      "source": [
        "y_label = pd.Series.to_numpy(y_train.copy())"
      ],
      "execution_count": null,
      "outputs": []
    },
    {
      "cell_type": "code",
      "metadata": {
        "colab": {
          "base_uri": "https://localhost:8080/"
        },
        "id": "ULhDYisH08Sx",
        "outputId": "2cf9be9a-6bc2-4e58-e32f-5f129e61ca6c"
      },
      "source": [
        "y_onehot = onehot_y(y_label, 3)\n",
        "y_onehot"
      ],
      "execution_count": null,
      "outputs": [
        {
          "output_type": "execute_result",
          "data": {
            "text/plain": [
              "array([[1., 0., 0.],\n",
              "       [0., 1., 0.],\n",
              "       [1., 0., 0.],\n",
              "       ...,\n",
              "       [1., 0., 0.],\n",
              "       [1., 0., 0.],\n",
              "       [1., 0., 0.]])"
            ]
          },
          "metadata": {},
          "execution_count": 29
        }
      ]
    },
    {
      "cell_type": "code",
      "metadata": {
        "colab": {
          "base_uri": "https://localhost:8080/"
        },
        "id": "yu79dATzoOdD",
        "outputId": "860c4a8d-69bc-441c-90cc-5f1586df02d0"
      },
      "source": [
        "y_onehot.shape"
      ],
      "execution_count": null,
      "outputs": [
        {
          "output_type": "execute_result",
          "data": {
            "text/plain": [
              "(33432, 3)"
            ]
          },
          "metadata": {},
          "execution_count": 30
        }
      ]
    },
    {
      "cell_type": "code",
      "metadata": {
        "colab": {
          "base_uri": "https://localhost:8080/"
        },
        "id": "qDXWvaAZ0-wn",
        "outputId": "8152c48f-fa63-4b3e-aa38-9ca62fb3ffc5"
      },
      "source": [
        "X_train_array = X_train.copy().to_numpy()\n",
        "X_train_array"
      ],
      "execution_count": null,
      "outputs": [
        {
          "output_type": "execute_result",
          "data": {
            "text/plain": [
              "array([[ 1.        , -0.95279851, -0.65982622, ...,  1.42921582,\n",
              "        -0.4285615 , -0.9506135 ],\n",
              "       [ 1.        ,  1.16794656,  0.20809904, ..., -1.47779616,\n",
              "         1.27702377,  1.39059963],\n",
              "       [ 1.        ,  1.16794656,  0.1852589 , ...,  0.56987529,\n",
              "        -1.43640373, -1.10560504],\n",
              "       ...,\n",
              "       [ 1.        ,  1.16794656,  0.20048566, ..., -0.34950255,\n",
              "         0.18667299,  0.62839043],\n",
              "       [ 1.        , -0.93230821, -0.67505298, ...,  1.42888277,\n",
              "        -2.08529432, -1.45474775],\n",
              "       [ 1.        ,  1.08598539, -0.60653257, ..., -0.99833767,\n",
              "         0.85495341,  0.07425633]])"
            ]
          },
          "metadata": {},
          "execution_count": 31
        }
      ]
    },
    {
      "cell_type": "code",
      "metadata": {
        "id": "NqelsMTM1CJ3"
      },
      "source": [
        "# y_train: onehot of y\n",
        "# lambda_: hyperparameter for regularization (or penalty)\n",
        "# alpha: learning rate\n",
        "# theta0: dim is (n, nb_classes) n is number of features including bias term \n",
        "# return theta \n",
        "# X, y, theta, lambda_, eps, alpha, max_iter, batch_size for sgd \n",
        "\n",
        "def train(X_train, y_train, theta0, lambda_, eps, alpha, max_iter, nb_classes):\n",
        "  n = X_train.shape[1]  # number of features including bias term \n",
        "  theta = np.zeros((n, 3))\n",
        "  loss_dict = {}\n",
        "  for i in range(nb_classes):\n",
        "    print(\"Cost for {}th column of theta\".format(i))\n",
        "    losses = []\n",
        "    theta[:, i], losses = gradient_descent(X_train, \n",
        "                                          y_train[:, i], \n",
        "                                          theta0[:, i], \n",
        "                                          lambda_,  \n",
        "                                          eps,  \n",
        "                                          alpha, \n",
        "                                          max_iter)\n",
        "    loss_dict[i] = losses\n",
        "  return theta, loss_dict"
      ],
      "execution_count": null,
      "outputs": []
    },
    {
      "cell_type": "markdown",
      "metadata": {
        "id": "ltAzQaheI9w5"
      },
      "source": [
        "# Hyperparameter Tuning"
      ]
    },
    {
      "cell_type": "code",
      "metadata": {
        "id": "sHk3PeigI9Re"
      },
      "source": [
        "def calculate_accuracy(X_test, y_test, theta):\n",
        "  X_test_array = X_test.to_numpy()\n",
        "  mat = X_test_array.dot(theta)\n",
        "  y_pred = np.argmax(mat, axis=1)\n",
        "  y_test_array = y_test.to_numpy()\n",
        "  accuracy_rate = np.sum(y_test_array == y_pred) / y_test_array.shape[0]\n",
        "  return accuracy_rate"
      ],
      "execution_count": null,
      "outputs": []
    },
    {
      "cell_type": "code",
      "metadata": {
        "id": "esaVm2YoJDEx"
      },
      "source": [
        "def hyperparameter_tuning(lambda_list, X_train, y_onehot, X_test, y_test, eps, alpha, max_iter, nb_classes):\n",
        "  n = X_train.shape[1]\n",
        "  all_theta = {}\n",
        "  all_losses = {}\n",
        "  print(\"Hyperparameter tuning: Lambda\")\n",
        "  for each_lambda in lambda_list:\n",
        "    theta0 = np.zeros((n, nb_classes))\n",
        "    print(each_lambda)\n",
        "    theta, loss_dict = train(X_train, y_onehot, theta0, each_lambda, eps, alpha, max_iter, nb_classes)\n",
        "    all_theta[each_lambda] = theta\n",
        "    all_losses[each_lambda] = loss_dict\n",
        "    accuracy = calculate_accuracy(X_test, y_test, theta)\n",
        "    print(\"accuracy for lambda = {}: {:.8f}\".format(each_lambda, accuracy))    \n",
        "    print(\"-------------------------------------------------\")\n",
        "  \n",
        "  return all_theta, all_losses "
      ],
      "execution_count": null,
      "outputs": []
    },
    {
      "cell_type": "code",
      "metadata": {
        "colab": {
          "base_uri": "https://localhost:8080/"
        },
        "id": "h473e8BhEPz9",
        "outputId": "1686822d-7289-46f5-810e-373524a62e03"
      },
      "source": [
        "X_test.shape, y_test.shape"
      ],
      "execution_count": null,
      "outputs": [
        {
          "output_type": "execute_result",
          "data": {
            "text/plain": [
              "((7164, 18), (7164,))"
            ]
          },
          "metadata": {},
          "execution_count": 35
        }
      ]
    },
    {
      "cell_type": "markdown",
      "metadata": {
        "id": "4Ak4-8j3H00r"
      },
      "source": [
        "# Prediction"
      ]
    },
    {
      "cell_type": "code",
      "metadata": {
        "colab": {
          "base_uri": "https://localhost:8080/",
          "height": 439
        },
        "id": "UdY9B67AH3hk",
        "outputId": "c1234d00-18b3-46f9-f0c4-09c6387b058a"
      },
      "source": [
        "test_data"
      ],
      "execution_count": null,
      "outputs": [
        {
          "output_type": "execute_result",
          "data": {
            "text/html": [
              "<div>\n",
              "<style scoped>\n",
              "    .dataframe tbody tr th:only-of-type {\n",
              "        vertical-align: middle;\n",
              "    }\n",
              "\n",
              "    .dataframe tbody tr th {\n",
              "        vertical-align: top;\n",
              "    }\n",
              "\n",
              "    .dataframe thead th {\n",
              "        text-align: right;\n",
              "    }\n",
              "</style>\n",
              "<table border=\"1\" class=\"dataframe\">\n",
              "  <thead>\n",
              "    <tr style=\"text-align: right;\">\n",
              "      <th></th>\n",
              "      <th>bias</th>\n",
              "      <th>lat</th>\n",
              "      <th>lon</th>\n",
              "      <th>TMQ</th>\n",
              "      <th>U850</th>\n",
              "      <th>V850</th>\n",
              "      <th>UBOT</th>\n",
              "      <th>VBOT</th>\n",
              "      <th>QREFHT</th>\n",
              "      <th>PSL</th>\n",
              "      <th>T200</th>\n",
              "      <th>T500</th>\n",
              "      <th>PRECT</th>\n",
              "      <th>TS</th>\n",
              "      <th>TREFHT</th>\n",
              "      <th>Z1000</th>\n",
              "      <th>Z200</th>\n",
              "      <th>ZBOT</th>\n",
              "    </tr>\n",
              "  </thead>\n",
              "  <tbody>\n",
              "    <tr>\n",
              "      <th>47760</th>\n",
              "      <td>1.0</td>\n",
              "      <td>-1.229417</td>\n",
              "      <td>2.042923</td>\n",
              "      <td>-0.969527</td>\n",
              "      <td>-0.199640</td>\n",
              "      <td>-0.019019</td>\n",
              "      <td>-0.908190</td>\n",
              "      <td>-0.249263</td>\n",
              "      <td>-1.533322</td>\n",
              "      <td>2.257725</td>\n",
              "      <td>-0.176336</td>\n",
              "      <td>-1.733819</td>\n",
              "      <td>-0.034995</td>\n",
              "      <td>-2.067347</td>\n",
              "      <td>-1.935251</td>\n",
              "      <td>2.280513</td>\n",
              "      <td>-1.998425</td>\n",
              "      <td>-1.874896</td>\n",
              "    </tr>\n",
              "    <tr>\n",
              "      <th>47761</th>\n",
              "      <td>1.0</td>\n",
              "      <td>-1.229417</td>\n",
              "      <td>2.050537</td>\n",
              "      <td>-1.033650</td>\n",
              "      <td>-0.208858</td>\n",
              "      <td>0.073115</td>\n",
              "      <td>-1.022537</td>\n",
              "      <td>-0.056414</td>\n",
              "      <td>-1.611895</td>\n",
              "      <td>2.270233</td>\n",
              "      <td>-0.209462</td>\n",
              "      <td>-1.714158</td>\n",
              "      <td>-0.134897</td>\n",
              "      <td>-2.067530</td>\n",
              "      <td>-1.970182</td>\n",
              "      <td>2.288535</td>\n",
              "      <td>-1.998483</td>\n",
              "      <td>-1.924181</td>\n",
              "    </tr>\n",
              "    <tr>\n",
              "      <th>47762</th>\n",
              "      <td>1.0</td>\n",
              "      <td>-1.229417</td>\n",
              "      <td>2.058150</td>\n",
              "      <td>-1.115755</td>\n",
              "      <td>-0.218882</td>\n",
              "      <td>0.146943</td>\n",
              "      <td>-1.088501</td>\n",
              "      <td>0.171496</td>\n",
              "      <td>-1.659356</td>\n",
              "      <td>2.290553</td>\n",
              "      <td>-0.308297</td>\n",
              "      <td>-1.704051</td>\n",
              "      <td>-0.153707</td>\n",
              "      <td>-2.067530</td>\n",
              "      <td>-2.027278</td>\n",
              "      <td>2.303500</td>\n",
              "      <td>-1.986739</td>\n",
              "      <td>-1.988489</td>\n",
              "    </tr>\n",
              "    <tr>\n",
              "      <th>47763</th>\n",
              "      <td>1.0</td>\n",
              "      <td>-1.229417</td>\n",
              "      <td>2.065764</td>\n",
              "      <td>-1.153955</td>\n",
              "      <td>-0.218557</td>\n",
              "      <td>0.240390</td>\n",
              "      <td>-1.077335</td>\n",
              "      <td>0.400787</td>\n",
              "      <td>-1.703007</td>\n",
              "      <td>2.295390</td>\n",
              "      <td>-0.408942</td>\n",
              "      <td>-1.678193</td>\n",
              "      <td>-0.203256</td>\n",
              "      <td>-2.050762</td>\n",
              "      <td>-2.081848</td>\n",
              "      <td>2.302972</td>\n",
              "      <td>-1.977785</td>\n",
              "      <td>-2.049826</td>\n",
              "    </tr>\n",
              "    <tr>\n",
              "      <th>47764</th>\n",
              "      <td>1.0</td>\n",
              "      <td>-1.229417</td>\n",
              "      <td>2.073377</td>\n",
              "      <td>-1.182211</td>\n",
              "      <td>-0.208022</td>\n",
              "      <td>0.401727</td>\n",
              "      <td>-1.028380</td>\n",
              "      <td>0.603821</td>\n",
              "      <td>-1.759042</td>\n",
              "      <td>2.283319</td>\n",
              "      <td>-0.452777</td>\n",
              "      <td>-1.628448</td>\n",
              "      <td>-0.202228</td>\n",
              "      <td>-2.043577</td>\n",
              "      <td>-2.088527</td>\n",
              "      <td>2.289048</td>\n",
              "      <td>-1.972756</td>\n",
              "      <td>-2.065368</td>\n",
              "    </tr>\n",
              "    <tr>\n",
              "      <th>...</th>\n",
              "      <td>...</td>\n",
              "      <td>...</td>\n",
              "      <td>...</td>\n",
              "      <td>...</td>\n",
              "      <td>...</td>\n",
              "      <td>...</td>\n",
              "      <td>...</td>\n",
              "      <td>...</td>\n",
              "      <td>...</td>\n",
              "      <td>...</td>\n",
              "      <td>...</td>\n",
              "      <td>...</td>\n",
              "      <td>...</td>\n",
              "      <td>...</td>\n",
              "      <td>...</td>\n",
              "      <td>...</td>\n",
              "      <td>...</td>\n",
              "      <td>...</td>\n",
              "    </tr>\n",
              "    <tr>\n",
              "      <th>55075</th>\n",
              "      <td>1.0</td>\n",
              "      <td>1.178192</td>\n",
              "      <td>0.177646</td>\n",
              "      <td>1.257555</td>\n",
              "      <td>-0.070115</td>\n",
              "      <td>-1.906459</td>\n",
              "      <td>0.752188</td>\n",
              "      <td>-2.054562</td>\n",
              "      <td>1.622598</td>\n",
              "      <td>-1.471042</td>\n",
              "      <td>1.792867</td>\n",
              "      <td>1.259184</td>\n",
              "      <td>-0.204702</td>\n",
              "      <td>1.119882</td>\n",
              "      <td>1.320941</td>\n",
              "      <td>-1.587032</td>\n",
              "      <td>1.305469</td>\n",
              "      <td>1.388401</td>\n",
              "    </tr>\n",
              "    <tr>\n",
              "      <th>55076</th>\n",
              "      <td>1.0</td>\n",
              "      <td>1.178192</td>\n",
              "      <td>0.185259</td>\n",
              "      <td>1.331331</td>\n",
              "      <td>0.049520</td>\n",
              "      <td>-2.030020</td>\n",
              "      <td>0.963159</td>\n",
              "      <td>-2.102031</td>\n",
              "      <td>1.736878</td>\n",
              "      <td>-1.543805</td>\n",
              "      <td>1.825305</td>\n",
              "      <td>1.316120</td>\n",
              "      <td>-0.200840</td>\n",
              "      <td>1.121708</td>\n",
              "      <td>1.297473</td>\n",
              "      <td>-1.587138</td>\n",
              "      <td>1.295185</td>\n",
              "      <td>1.384040</td>\n",
              "    </tr>\n",
              "    <tr>\n",
              "      <th>55077</th>\n",
              "      <td>1.0</td>\n",
              "      <td>1.178192</td>\n",
              "      <td>0.192872</td>\n",
              "      <td>1.504772</td>\n",
              "      <td>0.199574</td>\n",
              "      <td>-2.240993</td>\n",
              "      <td>1.175167</td>\n",
              "      <td>-2.110102</td>\n",
              "      <td>1.825097</td>\n",
              "      <td>-1.597136</td>\n",
              "      <td>1.806360</td>\n",
              "      <td>1.377637</td>\n",
              "      <td>0.040663</td>\n",
              "      <td>1.138237</td>\n",
              "      <td>1.273246</td>\n",
              "      <td>-1.587472</td>\n",
              "      <td>1.303790</td>\n",
              "      <td>1.370240</td>\n",
              "    </tr>\n",
              "    <tr>\n",
              "      <th>55078</th>\n",
              "      <td>1.0</td>\n",
              "      <td>1.178192</td>\n",
              "      <td>0.200486</td>\n",
              "      <td>1.618416</td>\n",
              "      <td>0.349145</td>\n",
              "      <td>-2.518317</td>\n",
              "      <td>1.395306</td>\n",
              "      <td>-2.125182</td>\n",
              "      <td>1.848681</td>\n",
              "      <td>-1.645236</td>\n",
              "      <td>1.853711</td>\n",
              "      <td>1.464180</td>\n",
              "      <td>0.163555</td>\n",
              "      <td>1.138237</td>\n",
              "      <td>1.268741</td>\n",
              "      <td>-1.587581</td>\n",
              "      <td>1.307511</td>\n",
              "      <td>1.365763</td>\n",
              "    </tr>\n",
              "    <tr>\n",
              "      <th>55079</th>\n",
              "      <td>1.0</td>\n",
              "      <td>1.178192</td>\n",
              "      <td>0.208099</td>\n",
              "      <td>1.677245</td>\n",
              "      <td>0.493976</td>\n",
              "      <td>-2.823162</td>\n",
              "      <td>1.595011</td>\n",
              "      <td>-2.079873</td>\n",
              "      <td>1.947685</td>\n",
              "      <td>-1.692151</td>\n",
              "      <td>1.870680</td>\n",
              "      <td>1.554327</td>\n",
              "      <td>0.259276</td>\n",
              "      <td>1.138237</td>\n",
              "      <td>1.252990</td>\n",
              "      <td>-1.587573</td>\n",
              "      <td>1.310723</td>\n",
              "      <td>1.365647</td>\n",
              "    </tr>\n",
              "  </tbody>\n",
              "</table>\n",
              "<p>7320 rows × 18 columns</p>\n",
              "</div>"
            ],
            "text/plain": [
              "       bias       lat       lon  ...     Z1000      Z200      ZBOT\n",
              "47760   1.0 -1.229417  2.042923  ...  2.280513 -1.998425 -1.874896\n",
              "47761   1.0 -1.229417  2.050537  ...  2.288535 -1.998483 -1.924181\n",
              "47762   1.0 -1.229417  2.058150  ...  2.303500 -1.986739 -1.988489\n",
              "47763   1.0 -1.229417  2.065764  ...  2.302972 -1.977785 -2.049826\n",
              "47764   1.0 -1.229417  2.073377  ...  2.289048 -1.972756 -2.065368\n",
              "...     ...       ...       ...  ...       ...       ...       ...\n",
              "55075   1.0  1.178192  0.177646  ... -1.587032  1.305469  1.388401\n",
              "55076   1.0  1.178192  0.185259  ... -1.587138  1.295185  1.384040\n",
              "55077   1.0  1.178192  0.192872  ... -1.587472  1.303790  1.370240\n",
              "55078   1.0  1.178192  0.200486  ... -1.587581  1.307511  1.365763\n",
              "55079   1.0  1.178192  0.208099  ... -1.587573  1.310723  1.365647\n",
              "\n",
              "[7320 rows x 18 columns]"
            ]
          },
          "metadata": {},
          "execution_count": 36
        }
      ]
    },
    {
      "cell_type": "code",
      "metadata": {
        "id": "lO0VK3EJ2-if"
      },
      "source": [
        "def plot_loss(losses):\n",
        "  plt.figure(figsize=(8, 6)) \n",
        "  for i in range(3):\n",
        "    plt.plot([i for i in range(len(losses[i]))], losses[i])\n",
        "  plt.show()"
      ],
      "execution_count": null,
      "outputs": []
    },
    {
      "cell_type": "code",
      "metadata": {
        "colab": {
          "base_uri": "https://localhost:8080/"
        },
        "id": "7hAxHf5NbSWK",
        "outputId": "05921972-7133-479c-d5d2-1dddb355299b"
      },
      "source": [
        "n = test_data.shape[1] \n",
        "nb_classes = 3\n",
        "theta0 = np.zeros((n, nb_classes))\n",
        "\n",
        "lambda_ = 3.5\n",
        "eps = 10^-6\n",
        "alpha = 1.5\n",
        "max_iter = 25000\n",
        "final_theta, loss_dict_final = train(X_train, y_onehot, theta0, lambda_, eps, alpha, max_iter, nb_classes)\n"
      ],
      "execution_count": null,
      "outputs": [
        {
          "output_type": "stream",
          "name": "stdout",
          "text": [
            "Cost for 0th column of theta\n",
            "Iteration: Cost\n",
            "1000: 0.40827548\n",
            "2000: 0.40789532\n",
            "3000: 0.40777280\n",
            "4000: 0.40769939\n",
            "5000: 0.40765096\n",
            "6000: 0.40761863\n",
            "7000: 0.40759702\n",
            "8000: 0.40758257\n",
            "9000: 0.40757292\n",
            "10000: 0.40756646\n",
            "11000: 0.40756215\n",
            "12000: 0.40755927\n",
            "13000: 0.40755734\n",
            "14000: 0.40755605\n",
            "15000: 0.40755519\n",
            "16000: 0.40755461\n",
            "17000: 0.40755423\n",
            "18000: 0.40755397\n",
            "19000: 0.40755380\n",
            "20000: 0.40755369\n",
            "21000: 0.40755361\n",
            "22000: 0.40755356\n",
            "23000: 0.40755352\n",
            "24000: 0.40755350\n",
            "25000: 0.40755349\n",
            "Cost for 1th column of theta\n",
            "Iteration: Cost\n",
            "1000: 0.09352998\n",
            "2000: 0.09325629\n",
            "3000: 0.09320555\n",
            "4000: 0.09319153\n",
            "5000: 0.09318557\n",
            "6000: 0.09318218\n",
            "7000: 0.09317995\n",
            "8000: 0.09317842\n",
            "9000: 0.09317734\n",
            "10000: 0.09317657\n",
            "11000: 0.09317602\n",
            "12000: 0.09317562\n",
            "13000: 0.09317534\n",
            "14000: 0.09317513\n",
            "15000: 0.09317499\n",
            "16000: 0.09317488\n",
            "17000: 0.09317481\n",
            "18000: 0.09317475\n",
            "19000: 0.09317471\n",
            "20000: 0.09317469\n",
            "21000: 0.09317467\n",
            "22000: 0.09317465\n",
            "23000: 0.09317464\n",
            "24000: 0.09317463\n",
            "25000: 0.09317463\n",
            "Cost for 2th column of theta\n",
            "Iteration: Cost\n",
            "1000: 0.33206051\n",
            "2000: 0.33195964\n",
            "3000: 0.33189458\n",
            "4000: 0.33185035\n",
            "5000: 0.33182025\n",
            "6000: 0.33179977\n",
            "7000: 0.33178583\n",
            "8000: 0.33177634\n",
            "9000: 0.33176989\n",
            "10000: 0.33176549\n",
            "11000: 0.33176250\n",
            "12000: 0.33176047\n",
            "13000: 0.33175909\n",
            "14000: 0.33175814\n",
            "15000: 0.33175750\n",
            "16000: 0.33175707\n",
            "17000: 0.33175677\n",
            "18000: 0.33175657\n",
            "19000: 0.33175643\n",
            "20000: 0.33175634\n",
            "21000: 0.33175627\n",
            "22000: 0.33175623\n",
            "23000: 0.33175620\n",
            "24000: 0.33175618\n",
            "25000: 0.33175617\n"
          ]
        }
      ]
    },
    {
      "cell_type": "code",
      "metadata": {
        "colab": {
          "base_uri": "https://localhost:8080/",
          "height": 374
        },
        "id": "CP51JGtnAD3b",
        "outputId": "62bcaf79-d887-40c8-a683-d1880d61cffe"
      },
      "source": [
        "plot_loss(loss_dict_final)"
      ],
      "execution_count": null,
      "outputs": [
        {
          "output_type": "display_data",
          "data": {
            "image/png": "[encoded data removed]",
            "text/plain": [
              "<Figure size 576x432 with 1 Axes>"
            ]
          },
          "metadata": {
            "needs_background": "light"
          }
        }
      ]
    },
    {
      "cell_type": "code",
      "metadata": {
        "colab": {
          "base_uri": "https://localhost:8080/"
        },
        "id": "6N-aynN_wKhr",
        "outputId": "91988048-972b-43e4-c269-321d6a149f51"
      },
      "source": [
        "# accuracy on X_train\n",
        "calculate_accuracy(X_train, y_train, final_theta)"
      ],
      "execution_count": null,
      "outputs": [
        {
          "output_type": "execute_result",
          "data": {
            "text/plain": [
              "0.8192151232352237"
            ]
          },
          "metadata": {},
          "execution_count": 40
        }
      ]
    },
    {
      "cell_type": "code",
      "metadata": {
        "colab": {
          "base_uri": "https://localhost:8080/"
        },
        "id": "TAs0PvhbeHy_",
        "outputId": "bfca11af-0473-46ea-fa21-c62e7cc83cf8"
      },
      "source": [
        "# accuracy on split X_val \n",
        "calculate_accuracy(X_val, y_val, final_theta)"
      ],
      "execution_count": null,
      "outputs": [
        {
          "output_type": "execute_result",
          "data": {
            "text/plain": [
              "0.8164433277498604"
            ]
          },
          "metadata": {},
          "execution_count": 41
        }
      ]
    },
    {
      "cell_type": "code",
      "metadata": {
        "colab": {
          "base_uri": "https://localhost:8080/"
        },
        "id": "hjwZ6ZqVeMsT",
        "outputId": "e18e68e9-eb46-4bd0-fb8a-794e5a8eed7f"
      },
      "source": [
        "# accuracy on split X_test\n",
        "calculate_accuracy(X_test, y_test, final_theta)"
      ],
      "execution_count": null,
      "outputs": [
        {
          "output_type": "execute_result",
          "data": {
            "text/plain": [
              "0.8104410943606923"
            ]
          },
          "metadata": {},
          "execution_count": 42
        }
      ]
    },
    {
      "cell_type": "code",
      "metadata": {
        "colab": {
          "base_uri": "https://localhost:8080/",
          "height": 419
        },
        "id": "9zOLUAq_cZDv",
        "outputId": "ce2f8799-95e8-4961-dd94-c1b149e6e648"
      },
      "source": [
        "mat_prob_test = test_data.dot(final_theta)\n",
        "mat_prob_test"
      ],
      "execution_count": null,
      "outputs": [
        {
          "output_type": "execute_result",
          "data": {
            "text/html": [
              "<div>\n",
              "<style scoped>\n",
              "    .dataframe tbody tr th:only-of-type {\n",
              "        vertical-align: middle;\n",
              "    }\n",
              "\n",
              "    .dataframe tbody tr th {\n",
              "        vertical-align: top;\n",
              "    }\n",
              "\n",
              "    .dataframe thead th {\n",
              "        text-align: right;\n",
              "    }\n",
              "</style>\n",
              "<table border=\"1\" class=\"dataframe\">\n",
              "  <thead>\n",
              "    <tr style=\"text-align: right;\">\n",
              "      <th></th>\n",
              "      <th>0</th>\n",
              "      <th>1</th>\n",
              "      <th>2</th>\n",
              "    </tr>\n",
              "  </thead>\n",
              "  <tbody>\n",
              "    <tr>\n",
              "      <th>47760</th>\n",
              "      <td>1.302737</td>\n",
              "      <td>-13.424771</td>\n",
              "      <td>-1.367839</td>\n",
              "    </tr>\n",
              "    <tr>\n",
              "      <th>47761</th>\n",
              "      <td>1.323159</td>\n",
              "      <td>-13.540540</td>\n",
              "      <td>-1.370454</td>\n",
              "    </tr>\n",
              "    <tr>\n",
              "      <th>47762</th>\n",
              "      <td>1.400580</td>\n",
              "      <td>-13.719122</td>\n",
              "      <td>-1.399481</td>\n",
              "    </tr>\n",
              "    <tr>\n",
              "      <th>47763</th>\n",
              "      <td>1.459107</td>\n",
              "      <td>-13.803240</td>\n",
              "      <td>-1.431322</td>\n",
              "    </tr>\n",
              "    <tr>\n",
              "      <th>47764</th>\n",
              "      <td>1.449182</td>\n",
              "      <td>-13.707072</td>\n",
              "      <td>-1.451464</td>\n",
              "    </tr>\n",
              "    <tr>\n",
              "      <th>...</th>\n",
              "      <td>...</td>\n",
              "      <td>...</td>\n",
              "      <td>...</td>\n",
              "    </tr>\n",
              "    <tr>\n",
              "      <th>55075</th>\n",
              "      <td>2.808538</td>\n",
              "      <td>-1.239371</td>\n",
              "      <td>-4.427883</td>\n",
              "    </tr>\n",
              "    <tr>\n",
              "      <th>55076</th>\n",
              "      <td>2.641542</td>\n",
              "      <td>-1.147226</td>\n",
              "      <td>-4.441608</td>\n",
              "    </tr>\n",
              "    <tr>\n",
              "      <th>55077</th>\n",
              "      <td>2.409571</td>\n",
              "      <td>-1.011491</td>\n",
              "      <td>-4.336809</td>\n",
              "    </tr>\n",
              "    <tr>\n",
              "      <th>55078</th>\n",
              "      <td>2.199825</td>\n",
              "      <td>-0.873350</td>\n",
              "      <td>-4.249391</td>\n",
              "    </tr>\n",
              "    <tr>\n",
              "      <th>55079</th>\n",
              "      <td>2.106112</td>\n",
              "      <td>-0.861428</td>\n",
              "      <td>-4.240929</td>\n",
              "    </tr>\n",
              "  </tbody>\n",
              "</table>\n",
              "<p>7320 rows × 3 columns</p>\n",
              "</div>"
            ],
            "text/plain": [
              "              0          1         2\n",
              "47760  1.302737 -13.424771 -1.367839\n",
              "47761  1.323159 -13.540540 -1.370454\n",
              "47762  1.400580 -13.719122 -1.399481\n",
              "47763  1.459107 -13.803240 -1.431322\n",
              "47764  1.449182 -13.707072 -1.451464\n",
              "...         ...        ...       ...\n",
              "55075  2.808538  -1.239371 -4.427883\n",
              "55076  2.641542  -1.147226 -4.441608\n",
              "55077  2.409571  -1.011491 -4.336809\n",
              "55078  2.199825  -0.873350 -4.249391\n",
              "55079  2.106112  -0.861428 -4.240929\n",
              "\n",
              "[7320 rows x 3 columns]"
            ]
          },
          "metadata": {},
          "execution_count": 43
        }
      ]
    },
    {
      "cell_type": "code",
      "metadata": {
        "colab": {
          "base_uri": "https://localhost:8080/"
        },
        "id": "8L5biRRjeXO1",
        "outputId": "f5d65373-ebe8-4c61-bc49-15de1ce91288"
      },
      "source": [
        "mat_prob_test_array = mat_prob_test.to_numpy()\n",
        "mat_prob_test_array"
      ],
      "execution_count": null,
      "outputs": [
        {
          "output_type": "execute_result",
          "data": {
            "text/plain": [
              "array([[  1.30273674, -13.42477076,  -1.36783944],\n",
              "       [  1.32315888, -13.54053973,  -1.37045396],\n",
              "       [  1.40057968, -13.71912249,  -1.39948076],\n",
              "       ...,\n",
              "       [  2.40957123,  -1.0114905 ,  -4.33680941],\n",
              "       [  2.19982524,  -0.87335026,  -4.24939078],\n",
              "       [  2.10611199,  -0.86142788,  -4.24092889]])"
            ]
          },
          "metadata": {},
          "execution_count": 44
        }
      ]
    },
    {
      "cell_type": "code",
      "metadata": {
        "colab": {
          "base_uri": "https://localhost:8080/"
        },
        "id": "4mYN84pQclI9",
        "outputId": "2fdb1e78-b02c-43c2-8031-b8bbaeab39b4"
      },
      "source": [
        "pred_test = np.argmax(mat_prob_test_array, axis=1)\n",
        "pred_test"
      ],
      "execution_count": null,
      "outputs": [
        {
          "output_type": "execute_result",
          "data": {
            "text/plain": [
              "array([0, 0, 0, ..., 0, 0, 0])"
            ]
          },
          "metadata": {},
          "execution_count": 45
        }
      ]
    },
    {
      "cell_type": "code",
      "metadata": {
        "colab": {
          "base_uri": "https://localhost:8080/"
        },
        "id": "u3WfTJ5ico0y",
        "outputId": "9547a939-ea29-4774-ab6f-02ebe29b1f71"
      },
      "source": [
        "label_percentages(pred_test)"
      ],
      "execution_count": null,
      "outputs": [
        {
          "output_type": "execute_result",
          "data": {
            "text/plain": [
              "((6534, 126, 660),\n",
              " (0.8926229508196721, 0.01721311475409836, 0.09016393442622951))"
            ]
          },
          "metadata": {},
          "execution_count": 46
        }
      ]
    },
    {
      "cell_type": "code",
      "metadata": {
        "colab": {
          "base_uri": "https://localhost:8080/",
          "height": 419
        },
        "id": "xh5Pp91xcqK6",
        "outputId": "81e29895-c5bb-4fc1-d9c1-ecdb02861593"
      },
      "source": [
        "submission = pd.read_csv('/content/drive/My Drive/Competition/sample_submission.csv')\n",
        "submission"
      ],
      "execution_count": null,
      "outputs": [
        {
          "output_type": "execute_result",
          "data": {
            "text/html": [
              "<div>\n",
              "<style scoped>\n",
              "    .dataframe tbody tr th:only-of-type {\n",
              "        vertical-align: middle;\n",
              "    }\n",
              "\n",
              "    .dataframe tbody tr th {\n",
              "        vertical-align: top;\n",
              "    }\n",
              "\n",
              "    .dataframe thead th {\n",
              "        text-align: right;\n",
              "    }\n",
              "</style>\n",
              "<table border=\"1\" class=\"dataframe\">\n",
              "  <thead>\n",
              "    <tr style=\"text-align: right;\">\n",
              "      <th></th>\n",
              "      <th>S.No</th>\n",
              "      <th>LABELS</th>\n",
              "    </tr>\n",
              "  </thead>\n",
              "  <tbody>\n",
              "    <tr>\n",
              "      <th>0</th>\n",
              "      <td>0</td>\n",
              "      <td>1</td>\n",
              "    </tr>\n",
              "    <tr>\n",
              "      <th>1</th>\n",
              "      <td>1</td>\n",
              "      <td>1</td>\n",
              "    </tr>\n",
              "    <tr>\n",
              "      <th>2</th>\n",
              "      <td>2</td>\n",
              "      <td>1</td>\n",
              "    </tr>\n",
              "    <tr>\n",
              "      <th>3</th>\n",
              "      <td>3</td>\n",
              "      <td>1</td>\n",
              "    </tr>\n",
              "    <tr>\n",
              "      <th>4</th>\n",
              "      <td>4</td>\n",
              "      <td>1</td>\n",
              "    </tr>\n",
              "    <tr>\n",
              "      <th>...</th>\n",
              "      <td>...</td>\n",
              "      <td>...</td>\n",
              "    </tr>\n",
              "    <tr>\n",
              "      <th>7315</th>\n",
              "      <td>7315</td>\n",
              "      <td>1</td>\n",
              "    </tr>\n",
              "    <tr>\n",
              "      <th>7316</th>\n",
              "      <td>7316</td>\n",
              "      <td>1</td>\n",
              "    </tr>\n",
              "    <tr>\n",
              "      <th>7317</th>\n",
              "      <td>7317</td>\n",
              "      <td>1</td>\n",
              "    </tr>\n",
              "    <tr>\n",
              "      <th>7318</th>\n",
              "      <td>7318</td>\n",
              "      <td>1</td>\n",
              "    </tr>\n",
              "    <tr>\n",
              "      <th>7319</th>\n",
              "      <td>7319</td>\n",
              "      <td>1</td>\n",
              "    </tr>\n",
              "  </tbody>\n",
              "</table>\n",
              "<p>7320 rows × 2 columns</p>\n",
              "</div>"
            ],
            "text/plain": [
              "      S.No  LABELS\n",
              "0        0       1\n",
              "1        1       1\n",
              "2        2       1\n",
              "3        3       1\n",
              "4        4       1\n",
              "...    ...     ...\n",
              "7315  7315       1\n",
              "7316  7316       1\n",
              "7317  7317       1\n",
              "7318  7318       1\n",
              "7319  7319       1\n",
              "\n",
              "[7320 rows x 2 columns]"
            ]
          },
          "metadata": {},
          "execution_count": 47
        }
      ]
    },
    {
      "cell_type": "code",
      "metadata": {
        "colab": {
          "base_uri": "https://localhost:8080/",
          "height": 419
        },
        "id": "JlP88n0kcsBL",
        "outputId": "e5ba70cf-8503-4d87-b07d-4330ec43a573"
      },
      "source": [
        "submission.iloc[:,1] = pred_test\n",
        "submission"
      ],
      "execution_count": null,
      "outputs": [
        {
          "output_type": "execute_result",
          "data": {
            "text/html": [
              "<div>\n",
              "<style scoped>\n",
              "    .dataframe tbody tr th:only-of-type {\n",
              "        vertical-align: middle;\n",
              "    }\n",
              "\n",
              "    .dataframe tbody tr th {\n",
              "        vertical-align: top;\n",
              "    }\n",
              "\n",
              "    .dataframe thead th {\n",
              "        text-align: right;\n",
              "    }\n",
              "</style>\n",
              "<table border=\"1\" class=\"dataframe\">\n",
              "  <thead>\n",
              "    <tr style=\"text-align: right;\">\n",
              "      <th></th>\n",
              "      <th>S.No</th>\n",
              "      <th>LABELS</th>\n",
              "    </tr>\n",
              "  </thead>\n",
              "  <tbody>\n",
              "    <tr>\n",
              "      <th>0</th>\n",
              "      <td>0</td>\n",
              "      <td>0</td>\n",
              "    </tr>\n",
              "    <tr>\n",
              "      <th>1</th>\n",
              "      <td>1</td>\n",
              "      <td>0</td>\n",
              "    </tr>\n",
              "    <tr>\n",
              "      <th>2</th>\n",
              "      <td>2</td>\n",
              "      <td>0</td>\n",
              "    </tr>\n",
              "    <tr>\n",
              "      <th>3</th>\n",
              "      <td>3</td>\n",
              "      <td>0</td>\n",
              "    </tr>\n",
              "    <tr>\n",
              "      <th>4</th>\n",
              "      <td>4</td>\n",
              "      <td>0</td>\n",
              "    </tr>\n",
              "    <tr>\n",
              "      <th>...</th>\n",
              "      <td>...</td>\n",
              "      <td>...</td>\n",
              "    </tr>\n",
              "    <tr>\n",
              "      <th>7315</th>\n",
              "      <td>7315</td>\n",
              "      <td>0</td>\n",
              "    </tr>\n",
              "    <tr>\n",
              "      <th>7316</th>\n",
              "      <td>7316</td>\n",
              "      <td>0</td>\n",
              "    </tr>\n",
              "    <tr>\n",
              "      <th>7317</th>\n",
              "      <td>7317</td>\n",
              "      <td>0</td>\n",
              "    </tr>\n",
              "    <tr>\n",
              "      <th>7318</th>\n",
              "      <td>7318</td>\n",
              "      <td>0</td>\n",
              "    </tr>\n",
              "    <tr>\n",
              "      <th>7319</th>\n",
              "      <td>7319</td>\n",
              "      <td>0</td>\n",
              "    </tr>\n",
              "  </tbody>\n",
              "</table>\n",
              "<p>7320 rows × 2 columns</p>\n",
              "</div>"
            ],
            "text/plain": [
              "      S.No  LABELS\n",
              "0        0       0\n",
              "1        1       0\n",
              "2        2       0\n",
              "3        3       0\n",
              "4        4       0\n",
              "...    ...     ...\n",
              "7315  7315       0\n",
              "7316  7316       0\n",
              "7317  7317       0\n",
              "7318  7318       0\n",
              "7319  7319       0\n",
              "\n",
              "[7320 rows x 2 columns]"
            ]
          },
          "metadata": {},
          "execution_count": 48
        }
      ]
    },
    {
      "cell_type": "code",
      "metadata": {
        "colab": {
          "base_uri": "https://localhost:8080/",
          "height": 17
        },
        "id": "MWS6srJ3cvC-",
        "outputId": "2facf932-6919-484b-8d53-49de54722703"
      },
      "source": [
        "from google.colab import files\n",
        "submission.to_csv('submission_sigmoid.csv', index=False)\n",
        "files.download('submission_sigmoid.csv')"
      ],
      "execution_count": null,
      "outputs": [
        {
          "output_type": "display_data",
          "data": {
            "application/javascript": [
              "\n",
              "    async function download(id, filename, size) {\n",
              "      if (!google.colab.kernel.accessAllowed) {\n",
              "        return;\n",
              "      }\n",
              "      const div = document.createElement('div');\n",
              "      const label = document.createElement('label');\n",
              "      label.textContent = `Downloading \"${filename}\": `;\n",
              "      div.appendChild(label);\n",
              "      const progress = document.createElement('progress');\n",
              "      progress.max = size;\n",
              "      div.appendChild(progress);\n",
              "      document.body.appendChild(div);\n",
              "\n",
              "      const buffers = [];\n",
              "      let downloaded = 0;\n",
              "\n",
              "      const channel = await google.colab.kernel.comms.open(id);\n",
              "      // Send a message to notify the kernel that we're ready.\n",
              "      channel.send({})\n",
              "\n",
              "      for await (const message of channel.messages) {\n",
              "        // Send a message to notify the kernel that we're ready.\n",
              "        channel.send({})\n",
              "        if (message.buffers) {\n",
              "          for (const buffer of message.buffers) {\n",
              "            buffers.push(buffer);\n",
              "            downloaded += buffer.byteLength;\n",
              "            progress.value = downloaded;\n",
              "          }\n",
              "        }\n",
              "      }\n",
              "      const blob = new Blob(buffers, {type: 'application/binary'});\n",
              "      const a = document.createElement('a');\n",
              "      a.href = window.URL.createObjectURL(blob);\n",
              "      a.download = filename;\n",
              "      div.appendChild(a);\n",
              "      a.click();\n",
              "      div.remove();\n",
              "    }\n",
              "  "
            ],
            "text/plain": [
              "<IPython.core.display.Javascript object>"
            ]
          },
          "metadata": {}
        },
        {
          "output_type": "display_data",
          "data": {
            "application/javascript": [
              "download(\"download_4ecfef3a-85b7-4013-b6e3-786196132e10\", \"submission_sigmoid.csv\", 50142)"
            ],
            "text/plain": [
              "<IPython.core.display.Javascript object>"
            ]
          },
          "metadata": {}
        }
      ]
    },
    {
      "cell_type": "code",
      "metadata": {
        "id": "wMF5O6sDAnC5"
      },
      "source": [
        ""
      ],
      "execution_count": null,
      "outputs": []
    }
  ]
}