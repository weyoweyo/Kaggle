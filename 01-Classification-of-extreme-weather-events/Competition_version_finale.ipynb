{
  "nbformat": 4,
  "nbformat_minor": 0,
  "metadata": {
    "colab": {
      "name": "Competition_version_finale.ipynb",
      "provenance": [],
      "collapsed_sections": [],
      "toc_visible": true
    },
    "kernelspec": {
      "name": "python3",
      "display_name": "Python 3"
    },
    "language_info": {
      "name": "python"
    }
  },
  "cells": [
    {
      "cell_type": "markdown",
      "metadata": {
        "id": "FKdOjp2_8LHn"
      },
      "source": [
        "Other models:  \n",
        "(1) Neural Nets  \n",
        "\n",
        "(2) Soft Voting  \n",
        "\n",
        "(3) Stacking\n"
      ]
    },
    {
      "cell_type": "markdown",
      "metadata": {
        "id": "YzMVF4B-8ebV"
      },
      "source": [
        "# Data Preparation "
      ]
    },
    {
      "cell_type": "code",
      "metadata": {
        "colab": {
          "base_uri": "https://localhost:8080/"
        },
        "id": "mKai1Vks8guF",
        "outputId": "71be810c-75c5-43aa-8887-42fb1c1c6d6f"
      },
      "source": [
        "from google.colab import drive\n",
        "drive.mount('/content/drive')"
      ],
      "execution_count": 78,
      "outputs": [
        {
          "output_type": "stream",
          "name": "stdout",
          "text": [
            "Drive already mounted at /content/drive; to attempt to forcibly remount, call drive.mount(\"/content/drive\", force_remount=True).\n"
          ]
        }
      ]
    },
    {
      "cell_type": "code",
      "metadata": {
        "id": "QmzzUjkz8iA9"
      },
      "source": [
        "import numpy as np\n",
        "import pandas as pd\n",
        "import matplotlib.pyplot as plt\n",
        "import seaborn as sns\n",
        "import warnings\n",
        "warnings.filterwarnings('ignore')\n",
        "from datetime import datetime"
      ],
      "execution_count": 79,
      "outputs": []
    },
    {
      "cell_type": "code",
      "metadata": {
        "id": "KubY0CZX8jZN"
      },
      "source": [
        "import sklearn\n",
        "from sklearn.model_selection import cross_val_score, GridSearchCV, KFold\n",
        "from sklearn.linear_model import LogisticRegression\n",
        "from sklearn.tree import DecisionTreeClassifier\n",
        "from sklearn.ensemble import RandomForestClassifier, \\\n",
        "                             GradientBoostingClassifier, \\\n",
        "                             ExtraTreesClassifier, \\\n",
        "                             VotingClassifier, \\\n",
        "                             AdaBoostClassifier, \\\n",
        "                             StackingClassifier\n",
        "from sklearn.svm import SVC\n",
        "from sklearn.neighbors import KNeighborsClassifier\n",
        "from lightgbm import LGBMClassifier\n",
        "from xgboost import XGBClassifier\n",
        "from sklearn.model_selection import RandomizedSearchCV, StratifiedKFold"
      ],
      "execution_count": 80,
      "outputs": []
    },
    {
      "cell_type": "code",
      "metadata": {
        "id": "7Csbhbfh8oXV"
      },
      "source": [
        "train = pd.read_csv('/content/drive/My Drive/Competition/train.csv')\n",
        "test = pd.read_csv('/content/drive/My Drive/Competition/test.csv')\n",
        "sub = pd.read_csv('/content/drive/My Drive/Competition/sample_submission.csv')"
      ],
      "execution_count": 81,
      "outputs": []
    },
    {
      "cell_type": "markdown",
      "metadata": {
        "id": "LtwsqNAt8rz1"
      },
      "source": [
        "# Feature Engineering"
      ]
    },
    {
      "cell_type": "code",
      "metadata": {
        "id": "zUE-BLbV8t6l"
      },
      "source": [
        "def month(times):\n",
        "  month = []\n",
        "  for each_time in times:\n",
        "    time_str = str(each_time)\n",
        "    each_month = time_str[4:6]\n",
        "    month.append(int(each_month))\n",
        "  return month"
      ],
      "execution_count": 82,
      "outputs": []
    },
    {
      "cell_type": "code",
      "metadata": {
        "id": "oePrgdl78vEd"
      },
      "source": [
        "def add_seasons(data, train):\n",
        "  new_data = data.copy()\n",
        "  month_list = month(train['time'])\n",
        "  new_data['winter'] = [1 if (x == 1 or x == 2 or x == 12) else 0 for x in month_list]\n",
        "  new_data['summer'] = [1 if (x == 6 or x == 7 or x == 8) else 0 for x in month_list]\n",
        "  new_data['automn'] = [1 if (x == 9 or x == 10 or x == 11) else 0 for x in month_list]\n",
        "  new_data['spring'] = [1 if (x == 3 or x == 4 or x == 5) else 0 for x in month_list]\n",
        "  return new_data"
      ],
      "execution_count": 83,
      "outputs": []
    },
    {
      "cell_type": "markdown",
      "metadata": {
        "id": "h8N2O5TC80dw"
      },
      "source": [
        "# Preprocessing"
      ]
    },
    {
      "cell_type": "code",
      "metadata": {
        "id": "3e8JsXQF8wSV"
      },
      "source": [
        "def preprocessing(features, removed_features):\n",
        "    X = features.copy()\n",
        "    X = X.drop(columns=removed_features)\n",
        "   \n",
        "    X_means = np.mean(X)\n",
        "    X_std = np.std(X)\n",
        "    X_scale = (X - X_means) / X_std\n",
        "    \n",
        "    return X_scale"
      ],
      "execution_count": 84,
      "outputs": []
    },
    {
      "cell_type": "code",
      "metadata": {
        "id": "v901ctQC8xlF"
      },
      "source": [
        "def separate_train_test(train, data):\n",
        "    train_data = data.iloc[0:train.shape[0], :]\n",
        "    train_data_y = train.iloc[:, -1]\n",
        "    test_data = data.iloc[train.shape[0]:data.shape[0], :]\n",
        "    return train_data, train_data_y, test_data"
      ],
      "execution_count": 85,
      "outputs": []
    },
    {
      "cell_type": "code",
      "metadata": {
        "id": "SGl_CjsP83QF"
      },
      "source": [
        "def label_percentages(labels):\n",
        "  n0 = 0\n",
        "  n1 = 0\n",
        "  n2 = 0\n",
        "  total = labels.shape[0]\n",
        "  for label in labels:\n",
        "    if label == 0:\n",
        "      n0 += 1\n",
        "    elif label == 1:\n",
        "      n1 += 1\n",
        "    elif label == 2:\n",
        "      n2 += 1\n",
        "  \n",
        "  return (n0, n1, n2), (n0/total, n1/total, n2/total), total "
      ],
      "execution_count": 86,
      "outputs": []
    },
    {
      "cell_type": "code",
      "metadata": {
        "id": "az7r46iG84nN"
      },
      "source": [
        "all_features = pd.concat([train.iloc[:, :-1], test]).reset_index(drop=True)"
      ],
      "execution_count": 87,
      "outputs": []
    },
    {
      "cell_type": "code",
      "metadata": {
        "id": "voHk83iW851d"
      },
      "source": [
        "X_train = train.iloc[:, 0:train.shape[1]-1]"
      ],
      "execution_count": 88,
      "outputs": []
    },
    {
      "cell_type": "code",
      "metadata": {
        "id": "8kfRJ_an868V"
      },
      "source": [
        "y_train = train.iloc[:, -1:]"
      ],
      "execution_count": 89,
      "outputs": []
    },
    {
      "cell_type": "code",
      "metadata": {
        "id": "EUux-NwM88A0"
      },
      "source": [
        "clean_data = preprocessing(all_features, ['S.No', 'time', 'PS', 'PRECT', 'T200'])\n",
        "clean_data_fea_imp = preprocessing(all_features, ['S.No', 'time', 'PS'])"
      ],
      "execution_count": 90,
      "outputs": []
    },
    {
      "cell_type": "code",
      "metadata": {
        "id": "x_m_upUB89K8"
      },
      "source": [
        "clean_data_add_season = add_seasons(clean_data, all_features)\n",
        "data_feature_importance = add_seasons(clean_data_fea_imp, all_features)"
      ],
      "execution_count": 91,
      "outputs": []
    },
    {
      "cell_type": "code",
      "metadata": {
        "id": "MFBKObOK8-XV"
      },
      "source": [
        "fea_eng_train, train_y, fea_eng_test = separate_train_test(train, clean_data_add_season)"
      ],
      "execution_count": 92,
      "outputs": []
    },
    {
      "cell_type": "code",
      "metadata": {
        "id": "G_0yIvLNfiII"
      },
      "source": [
        "data_for_feature_importance, test1, test2 = separate_train_test(train, data_feature_importance)"
      ],
      "execution_count": 93,
      "outputs": []
    },
    {
      "cell_type": "code",
      "metadata": {
        "id": "d6GHGRcKfuGQ",
        "colab": {
          "base_uri": "https://localhost:8080/",
          "height": 439
        },
        "outputId": "2e44759a-3036-4396-c145-69653bd5607b"
      },
      "source": [
        "data_for_feature_importance"
      ],
      "execution_count": 94,
      "outputs": [
        {
          "output_type": "execute_result",
          "data": {
            "text/html": [
              "<div>\n",
              "<style scoped>\n",
              "    .dataframe tbody tr th:only-of-type {\n",
              "        vertical-align: middle;\n",
              "    }\n",
              "\n",
              "    .dataframe tbody tr th {\n",
              "        vertical-align: top;\n",
              "    }\n",
              "\n",
              "    .dataframe thead th {\n",
              "        text-align: right;\n",
              "    }\n",
              "</style>\n",
              "<table border=\"1\" class=\"dataframe\">\n",
              "  <thead>\n",
              "    <tr style=\"text-align: right;\">\n",
              "      <th></th>\n",
              "      <th>lat</th>\n",
              "      <th>lon</th>\n",
              "      <th>TMQ</th>\n",
              "      <th>U850</th>\n",
              "      <th>V850</th>\n",
              "      <th>UBOT</th>\n",
              "      <th>VBOT</th>\n",
              "      <th>QREFHT</th>\n",
              "      <th>PSL</th>\n",
              "      <th>T200</th>\n",
              "      <th>T500</th>\n",
              "      <th>PRECT</th>\n",
              "      <th>TS</th>\n",
              "      <th>TREFHT</th>\n",
              "      <th>Z1000</th>\n",
              "      <th>Z200</th>\n",
              "      <th>ZBOT</th>\n",
              "      <th>winter</th>\n",
              "      <th>summer</th>\n",
              "      <th>automn</th>\n",
              "      <th>spring</th>\n",
              "    </tr>\n",
              "  </thead>\n",
              "  <tbody>\n",
              "    <tr>\n",
              "      <th>0</th>\n",
              "      <td>-0.952799</td>\n",
              "      <td>-0.659826</td>\n",
              "      <td>-1.456660</td>\n",
              "      <td>-0.544970</td>\n",
              "      <td>1.082394</td>\n",
              "      <td>-0.689690</td>\n",
              "      <td>1.750971</td>\n",
              "      <td>-1.019028</td>\n",
              "      <td>1.385133</td>\n",
              "      <td>1.999031</td>\n",
              "      <td>-0.706613</td>\n",
              "      <td>-0.176864</td>\n",
              "      <td>-0.697123</td>\n",
              "      <td>-0.878724</td>\n",
              "      <td>1.429216</td>\n",
              "      <td>-0.428562</td>\n",
              "      <td>-0.950613</td>\n",
              "      <td>0</td>\n",
              "      <td>1</td>\n",
              "      <td>0</td>\n",
              "      <td>0</td>\n",
              "    </tr>\n",
              "    <tr>\n",
              "      <th>1</th>\n",
              "      <td>1.167947</td>\n",
              "      <td>0.208099</td>\n",
              "      <td>0.980482</td>\n",
              "      <td>1.330311</td>\n",
              "      <td>2.126323</td>\n",
              "      <td>1.095283</td>\n",
              "      <td>2.212530</td>\n",
              "      <td>1.028018</td>\n",
              "      <td>-1.364069</td>\n",
              "      <td>1.457275</td>\n",
              "      <td>1.322146</td>\n",
              "      <td>-0.204702</td>\n",
              "      <td>1.099047</td>\n",
              "      <td>1.426394</td>\n",
              "      <td>-1.477796</td>\n",
              "      <td>1.277024</td>\n",
              "      <td>1.390600</td>\n",
              "      <td>0</td>\n",
              "      <td>0</td>\n",
              "      <td>1</td>\n",
              "      <td>0</td>\n",
              "    </tr>\n",
              "    <tr>\n",
              "      <th>2</th>\n",
              "      <td>1.167947</td>\n",
              "      <td>0.185259</td>\n",
              "      <td>-1.798887</td>\n",
              "      <td>-0.270104</td>\n",
              "      <td>-1.403102</td>\n",
              "      <td>-0.220842</td>\n",
              "      <td>-1.095445</td>\n",
              "      <td>-1.715713</td>\n",
              "      <td>0.589421</td>\n",
              "      <td>-0.453372</td>\n",
              "      <td>-1.322884</td>\n",
              "      <td>-0.204702</td>\n",
              "      <td>0.408776</td>\n",
              "      <td>-0.869240</td>\n",
              "      <td>0.569875</td>\n",
              "      <td>-1.436404</td>\n",
              "      <td>-1.105605</td>\n",
              "      <td>0</td>\n",
              "      <td>0</td>\n",
              "      <td>0</td>\n",
              "      <td>1</td>\n",
              "    </tr>\n",
              "    <tr>\n",
              "      <th>3</th>\n",
              "      <td>0.717160</td>\n",
              "      <td>-0.393358</td>\n",
              "      <td>1.393384</td>\n",
              "      <td>0.109542</td>\n",
              "      <td>-0.322441</td>\n",
              "      <td>0.959048</td>\n",
              "      <td>-0.313340</td>\n",
              "      <td>1.097092</td>\n",
              "      <td>-1.325220</td>\n",
              "      <td>0.640182</td>\n",
              "      <td>0.839604</td>\n",
              "      <td>0.204936</td>\n",
              "      <td>0.866538</td>\n",
              "      <td>0.765701</td>\n",
              "      <td>-1.448546</td>\n",
              "      <td>0.646658</td>\n",
              "      <td>0.828448</td>\n",
              "      <td>0</td>\n",
              "      <td>0</td>\n",
              "      <td>1</td>\n",
              "      <td>0</td>\n",
              "    </tr>\n",
              "    <tr>\n",
              "      <th>4</th>\n",
              "      <td>-0.942553</td>\n",
              "      <td>-0.682666</td>\n",
              "      <td>-0.894244</td>\n",
              "      <td>-0.988140</td>\n",
              "      <td>-1.196643</td>\n",
              "      <td>-1.202690</td>\n",
              "      <td>-0.838749</td>\n",
              "      <td>-0.673120</td>\n",
              "      <td>1.796060</td>\n",
              "      <td>-1.153855</td>\n",
              "      <td>-0.218553</td>\n",
              "      <td>-0.177909</td>\n",
              "      <td>-0.645590</td>\n",
              "      <td>-0.435143</td>\n",
              "      <td>1.907489</td>\n",
              "      <td>-0.231807</td>\n",
              "      <td>-0.471490</td>\n",
              "      <td>0</td>\n",
              "      <td>0</td>\n",
              "      <td>1</td>\n",
              "      <td>0</td>\n",
              "    </tr>\n",
              "    <tr>\n",
              "      <th>...</th>\n",
              "      <td>...</td>\n",
              "      <td>...</td>\n",
              "      <td>...</td>\n",
              "      <td>...</td>\n",
              "      <td>...</td>\n",
              "      <td>...</td>\n",
              "      <td>...</td>\n",
              "      <td>...</td>\n",
              "      <td>...</td>\n",
              "      <td>...</td>\n",
              "      <td>...</td>\n",
              "      <td>...</td>\n",
              "      <td>...</td>\n",
              "      <td>...</td>\n",
              "      <td>...</td>\n",
              "      <td>...</td>\n",
              "      <td>...</td>\n",
              "      <td>...</td>\n",
              "      <td>...</td>\n",
              "      <td>...</td>\n",
              "      <td>...</td>\n",
              "    </tr>\n",
              "    <tr>\n",
              "      <th>47755</th>\n",
              "      <td>-1.208927</td>\n",
              "      <td>2.050537</td>\n",
              "      <td>-1.559338</td>\n",
              "      <td>0.542162</td>\n",
              "      <td>0.960851</td>\n",
              "      <td>0.282271</td>\n",
              "      <td>0.865639</td>\n",
              "      <td>-1.501326</td>\n",
              "      <td>0.993904</td>\n",
              "      <td>-1.375851</td>\n",
              "      <td>-1.257286</td>\n",
              "      <td>-0.194378</td>\n",
              "      <td>-1.697916</td>\n",
              "      <td>-1.657530</td>\n",
              "      <td>0.967759</td>\n",
              "      <td>-1.743022</td>\n",
              "      <td>-1.610599</td>\n",
              "      <td>0</td>\n",
              "      <td>0</td>\n",
              "      <td>1</td>\n",
              "      <td>0</td>\n",
              "    </tr>\n",
              "    <tr>\n",
              "      <th>47756</th>\n",
              "      <td>-0.963044</td>\n",
              "      <td>-0.659826</td>\n",
              "      <td>-0.419844</td>\n",
              "      <td>1.410663</td>\n",
              "      <td>-0.103645</td>\n",
              "      <td>1.506244</td>\n",
              "      <td>-1.000442</td>\n",
              "      <td>-0.183821</td>\n",
              "      <td>0.316672</td>\n",
              "      <td>-1.348457</td>\n",
              "      <td>-0.101315</td>\n",
              "      <td>-0.193751</td>\n",
              "      <td>-0.514210</td>\n",
              "      <td>-0.159250</td>\n",
              "      <td>0.332354</td>\n",
              "      <td>-0.149713</td>\n",
              "      <td>-0.127310</td>\n",
              "      <td>0</td>\n",
              "      <td>1</td>\n",
              "      <td>0</td>\n",
              "      <td>0</td>\n",
              "    </tr>\n",
              "    <tr>\n",
              "      <th>47757</th>\n",
              "      <td>-1.208927</td>\n",
              "      <td>2.050537</td>\n",
              "      <td>-1.075436</td>\n",
              "      <td>1.198620</td>\n",
              "      <td>-1.466387</td>\n",
              "      <td>0.950071</td>\n",
              "      <td>-1.395281</td>\n",
              "      <td>-0.956686</td>\n",
              "      <td>0.436830</td>\n",
              "      <td>-0.253495</td>\n",
              "      <td>-0.046649</td>\n",
              "      <td>-0.186979</td>\n",
              "      <td>-1.968044</td>\n",
              "      <td>-1.510835</td>\n",
              "      <td>0.391302</td>\n",
              "      <td>-0.447305</td>\n",
              "      <td>-1.371825</td>\n",
              "      <td>0</td>\n",
              "      <td>0</td>\n",
              "      <td>1</td>\n",
              "      <td>0</td>\n",
              "    </tr>\n",
              "    <tr>\n",
              "      <th>47758</th>\n",
              "      <td>1.157701</td>\n",
              "      <td>0.177646</td>\n",
              "      <td>0.818513</td>\n",
              "      <td>-0.347110</td>\n",
              "      <td>0.046155</td>\n",
              "      <td>-0.779050</td>\n",
              "      <td>0.281748</td>\n",
              "      <td>1.554312</td>\n",
              "      <td>0.148711</td>\n",
              "      <td>0.020024</td>\n",
              "      <td>0.395211</td>\n",
              "      <td>0.155613</td>\n",
              "      <td>1.165682</td>\n",
              "      <td>1.152494</td>\n",
              "      <td>0.220494</td>\n",
              "      <td>0.832889</td>\n",
              "      <td>1.221467</td>\n",
              "      <td>0</td>\n",
              "      <td>1</td>\n",
              "      <td>0</td>\n",
              "      <td>0</td>\n",
              "    </tr>\n",
              "    <tr>\n",
              "      <th>47759</th>\n",
              "      <td>1.178192</td>\n",
              "      <td>0.185259</td>\n",
              "      <td>1.114539</td>\n",
              "      <td>-0.284359</td>\n",
              "      <td>-0.212958</td>\n",
              "      <td>-0.678358</td>\n",
              "      <td>-0.274555</td>\n",
              "      <td>0.785492</td>\n",
              "      <td>-0.333471</td>\n",
              "      <td>0.191840</td>\n",
              "      <td>0.271725</td>\n",
              "      <td>-0.109817</td>\n",
              "      <td>0.792934</td>\n",
              "      <td>0.808439</td>\n",
              "      <td>-0.337624</td>\n",
              "      <td>0.447338</td>\n",
              "      <td>0.807304</td>\n",
              "      <td>0</td>\n",
              "      <td>0</td>\n",
              "      <td>1</td>\n",
              "      <td>0</td>\n",
              "    </tr>\n",
              "  </tbody>\n",
              "</table>\n",
              "<p>47760 rows × 21 columns</p>\n",
              "</div>"
            ],
            "text/plain": [
              "            lat       lon       TMQ      U850  ...  winter  summer  automn  spring\n",
              "0     -0.952799 -0.659826 -1.456660 -0.544970  ...       0       1       0       0\n",
              "1      1.167947  0.208099  0.980482  1.330311  ...       0       0       1       0\n",
              "2      1.167947  0.185259 -1.798887 -0.270104  ...       0       0       0       1\n",
              "3      0.717160 -0.393358  1.393384  0.109542  ...       0       0       1       0\n",
              "4     -0.942553 -0.682666 -0.894244 -0.988140  ...       0       0       1       0\n",
              "...         ...       ...       ...       ...  ...     ...     ...     ...     ...\n",
              "47755 -1.208927  2.050537 -1.559338  0.542162  ...       0       0       1       0\n",
              "47756 -0.963044 -0.659826 -0.419844  1.410663  ...       0       1       0       0\n",
              "47757 -1.208927  2.050537 -1.075436  1.198620  ...       0       0       1       0\n",
              "47758  1.157701  0.177646  0.818513 -0.347110  ...       0       1       0       0\n",
              "47759  1.178192  0.185259  1.114539 -0.284359  ...       0       0       1       0\n",
              "\n",
              "[47760 rows x 21 columns]"
            ]
          },
          "metadata": {},
          "execution_count": 94
        }
      ]
    },
    {
      "cell_type": "code",
      "metadata": {
        "colab": {
          "base_uri": "https://localhost:8080/",
          "height": 439
        },
        "id": "GFNtGLgr8_yN",
        "outputId": "7d2fe6c9-d9da-408e-cdf9-579195408ae6"
      },
      "source": [
        "fea_eng_train"
      ],
      "execution_count": 95,
      "outputs": [
        {
          "output_type": "execute_result",
          "data": {
            "text/html": [
              "<div>\n",
              "<style scoped>\n",
              "    .dataframe tbody tr th:only-of-type {\n",
              "        vertical-align: middle;\n",
              "    }\n",
              "\n",
              "    .dataframe tbody tr th {\n",
              "        vertical-align: top;\n",
              "    }\n",
              "\n",
              "    .dataframe thead th {\n",
              "        text-align: right;\n",
              "    }\n",
              "</style>\n",
              "<table border=\"1\" class=\"dataframe\">\n",
              "  <thead>\n",
              "    <tr style=\"text-align: right;\">\n",
              "      <th></th>\n",
              "      <th>lat</th>\n",
              "      <th>lon</th>\n",
              "      <th>TMQ</th>\n",
              "      <th>U850</th>\n",
              "      <th>V850</th>\n",
              "      <th>UBOT</th>\n",
              "      <th>VBOT</th>\n",
              "      <th>QREFHT</th>\n",
              "      <th>PSL</th>\n",
              "      <th>T500</th>\n",
              "      <th>TS</th>\n",
              "      <th>TREFHT</th>\n",
              "      <th>Z1000</th>\n",
              "      <th>Z200</th>\n",
              "      <th>ZBOT</th>\n",
              "      <th>winter</th>\n",
              "      <th>summer</th>\n",
              "      <th>automn</th>\n",
              "      <th>spring</th>\n",
              "    </tr>\n",
              "  </thead>\n",
              "  <tbody>\n",
              "    <tr>\n",
              "      <th>0</th>\n",
              "      <td>-0.952799</td>\n",
              "      <td>-0.659826</td>\n",
              "      <td>-1.456660</td>\n",
              "      <td>-0.544970</td>\n",
              "      <td>1.082394</td>\n",
              "      <td>-0.689690</td>\n",
              "      <td>1.750971</td>\n",
              "      <td>-1.019028</td>\n",
              "      <td>1.385133</td>\n",
              "      <td>-0.706613</td>\n",
              "      <td>-0.697123</td>\n",
              "      <td>-0.878724</td>\n",
              "      <td>1.429216</td>\n",
              "      <td>-0.428562</td>\n",
              "      <td>-0.950613</td>\n",
              "      <td>0</td>\n",
              "      <td>1</td>\n",
              "      <td>0</td>\n",
              "      <td>0</td>\n",
              "    </tr>\n",
              "    <tr>\n",
              "      <th>1</th>\n",
              "      <td>1.167947</td>\n",
              "      <td>0.208099</td>\n",
              "      <td>0.980482</td>\n",
              "      <td>1.330311</td>\n",
              "      <td>2.126323</td>\n",
              "      <td>1.095283</td>\n",
              "      <td>2.212530</td>\n",
              "      <td>1.028018</td>\n",
              "      <td>-1.364069</td>\n",
              "      <td>1.322146</td>\n",
              "      <td>1.099047</td>\n",
              "      <td>1.426394</td>\n",
              "      <td>-1.477796</td>\n",
              "      <td>1.277024</td>\n",
              "      <td>1.390600</td>\n",
              "      <td>0</td>\n",
              "      <td>0</td>\n",
              "      <td>1</td>\n",
              "      <td>0</td>\n",
              "    </tr>\n",
              "    <tr>\n",
              "      <th>2</th>\n",
              "      <td>1.167947</td>\n",
              "      <td>0.185259</td>\n",
              "      <td>-1.798887</td>\n",
              "      <td>-0.270104</td>\n",
              "      <td>-1.403102</td>\n",
              "      <td>-0.220842</td>\n",
              "      <td>-1.095445</td>\n",
              "      <td>-1.715713</td>\n",
              "      <td>0.589421</td>\n",
              "      <td>-1.322884</td>\n",
              "      <td>0.408776</td>\n",
              "      <td>-0.869240</td>\n",
              "      <td>0.569875</td>\n",
              "      <td>-1.436404</td>\n",
              "      <td>-1.105605</td>\n",
              "      <td>0</td>\n",
              "      <td>0</td>\n",
              "      <td>0</td>\n",
              "      <td>1</td>\n",
              "    </tr>\n",
              "    <tr>\n",
              "      <th>3</th>\n",
              "      <td>0.717160</td>\n",
              "      <td>-0.393358</td>\n",
              "      <td>1.393384</td>\n",
              "      <td>0.109542</td>\n",
              "      <td>-0.322441</td>\n",
              "      <td>0.959048</td>\n",
              "      <td>-0.313340</td>\n",
              "      <td>1.097092</td>\n",
              "      <td>-1.325220</td>\n",
              "      <td>0.839604</td>\n",
              "      <td>0.866538</td>\n",
              "      <td>0.765701</td>\n",
              "      <td>-1.448546</td>\n",
              "      <td>0.646658</td>\n",
              "      <td>0.828448</td>\n",
              "      <td>0</td>\n",
              "      <td>0</td>\n",
              "      <td>1</td>\n",
              "      <td>0</td>\n",
              "    </tr>\n",
              "    <tr>\n",
              "      <th>4</th>\n",
              "      <td>-0.942553</td>\n",
              "      <td>-0.682666</td>\n",
              "      <td>-0.894244</td>\n",
              "      <td>-0.988140</td>\n",
              "      <td>-1.196643</td>\n",
              "      <td>-1.202690</td>\n",
              "      <td>-0.838749</td>\n",
              "      <td>-0.673120</td>\n",
              "      <td>1.796060</td>\n",
              "      <td>-0.218553</td>\n",
              "      <td>-0.645590</td>\n",
              "      <td>-0.435143</td>\n",
              "      <td>1.907489</td>\n",
              "      <td>-0.231807</td>\n",
              "      <td>-0.471490</td>\n",
              "      <td>0</td>\n",
              "      <td>0</td>\n",
              "      <td>1</td>\n",
              "      <td>0</td>\n",
              "    </tr>\n",
              "    <tr>\n",
              "      <th>...</th>\n",
              "      <td>...</td>\n",
              "      <td>...</td>\n",
              "      <td>...</td>\n",
              "      <td>...</td>\n",
              "      <td>...</td>\n",
              "      <td>...</td>\n",
              "      <td>...</td>\n",
              "      <td>...</td>\n",
              "      <td>...</td>\n",
              "      <td>...</td>\n",
              "      <td>...</td>\n",
              "      <td>...</td>\n",
              "      <td>...</td>\n",
              "      <td>...</td>\n",
              "      <td>...</td>\n",
              "      <td>...</td>\n",
              "      <td>...</td>\n",
              "      <td>...</td>\n",
              "      <td>...</td>\n",
              "    </tr>\n",
              "    <tr>\n",
              "      <th>47755</th>\n",
              "      <td>-1.208927</td>\n",
              "      <td>2.050537</td>\n",
              "      <td>-1.559338</td>\n",
              "      <td>0.542162</td>\n",
              "      <td>0.960851</td>\n",
              "      <td>0.282271</td>\n",
              "      <td>0.865639</td>\n",
              "      <td>-1.501326</td>\n",
              "      <td>0.993904</td>\n",
              "      <td>-1.257286</td>\n",
              "      <td>-1.697916</td>\n",
              "      <td>-1.657530</td>\n",
              "      <td>0.967759</td>\n",
              "      <td>-1.743022</td>\n",
              "      <td>-1.610599</td>\n",
              "      <td>0</td>\n",
              "      <td>0</td>\n",
              "      <td>1</td>\n",
              "      <td>0</td>\n",
              "    </tr>\n",
              "    <tr>\n",
              "      <th>47756</th>\n",
              "      <td>-0.963044</td>\n",
              "      <td>-0.659826</td>\n",
              "      <td>-0.419844</td>\n",
              "      <td>1.410663</td>\n",
              "      <td>-0.103645</td>\n",
              "      <td>1.506244</td>\n",
              "      <td>-1.000442</td>\n",
              "      <td>-0.183821</td>\n",
              "      <td>0.316672</td>\n",
              "      <td>-0.101315</td>\n",
              "      <td>-0.514210</td>\n",
              "      <td>-0.159250</td>\n",
              "      <td>0.332354</td>\n",
              "      <td>-0.149713</td>\n",
              "      <td>-0.127310</td>\n",
              "      <td>0</td>\n",
              "      <td>1</td>\n",
              "      <td>0</td>\n",
              "      <td>0</td>\n",
              "    </tr>\n",
              "    <tr>\n",
              "      <th>47757</th>\n",
              "      <td>-1.208927</td>\n",
              "      <td>2.050537</td>\n",
              "      <td>-1.075436</td>\n",
              "      <td>1.198620</td>\n",
              "      <td>-1.466387</td>\n",
              "      <td>0.950071</td>\n",
              "      <td>-1.395281</td>\n",
              "      <td>-0.956686</td>\n",
              "      <td>0.436830</td>\n",
              "      <td>-0.046649</td>\n",
              "      <td>-1.968044</td>\n",
              "      <td>-1.510835</td>\n",
              "      <td>0.391302</td>\n",
              "      <td>-0.447305</td>\n",
              "      <td>-1.371825</td>\n",
              "      <td>0</td>\n",
              "      <td>0</td>\n",
              "      <td>1</td>\n",
              "      <td>0</td>\n",
              "    </tr>\n",
              "    <tr>\n",
              "      <th>47758</th>\n",
              "      <td>1.157701</td>\n",
              "      <td>0.177646</td>\n",
              "      <td>0.818513</td>\n",
              "      <td>-0.347110</td>\n",
              "      <td>0.046155</td>\n",
              "      <td>-0.779050</td>\n",
              "      <td>0.281748</td>\n",
              "      <td>1.554312</td>\n",
              "      <td>0.148711</td>\n",
              "      <td>0.395211</td>\n",
              "      <td>1.165682</td>\n",
              "      <td>1.152494</td>\n",
              "      <td>0.220494</td>\n",
              "      <td>0.832889</td>\n",
              "      <td>1.221467</td>\n",
              "      <td>0</td>\n",
              "      <td>1</td>\n",
              "      <td>0</td>\n",
              "      <td>0</td>\n",
              "    </tr>\n",
              "    <tr>\n",
              "      <th>47759</th>\n",
              "      <td>1.178192</td>\n",
              "      <td>0.185259</td>\n",
              "      <td>1.114539</td>\n",
              "      <td>-0.284359</td>\n",
              "      <td>-0.212958</td>\n",
              "      <td>-0.678358</td>\n",
              "      <td>-0.274555</td>\n",
              "      <td>0.785492</td>\n",
              "      <td>-0.333471</td>\n",
              "      <td>0.271725</td>\n",
              "      <td>0.792934</td>\n",
              "      <td>0.808439</td>\n",
              "      <td>-0.337624</td>\n",
              "      <td>0.447338</td>\n",
              "      <td>0.807304</td>\n",
              "      <td>0</td>\n",
              "      <td>0</td>\n",
              "      <td>1</td>\n",
              "      <td>0</td>\n",
              "    </tr>\n",
              "  </tbody>\n",
              "</table>\n",
              "<p>47760 rows × 19 columns</p>\n",
              "</div>"
            ],
            "text/plain": [
              "            lat       lon       TMQ      U850  ...  winter  summer  automn  spring\n",
              "0     -0.952799 -0.659826 -1.456660 -0.544970  ...       0       1       0       0\n",
              "1      1.167947  0.208099  0.980482  1.330311  ...       0       0       1       0\n",
              "2      1.167947  0.185259 -1.798887 -0.270104  ...       0       0       0       1\n",
              "3      0.717160 -0.393358  1.393384  0.109542  ...       0       0       1       0\n",
              "4     -0.942553 -0.682666 -0.894244 -0.988140  ...       0       0       1       0\n",
              "...         ...       ...       ...       ...  ...     ...     ...     ...     ...\n",
              "47755 -1.208927  2.050537 -1.559338  0.542162  ...       0       0       1       0\n",
              "47756 -0.963044 -0.659826 -0.419844  1.410663  ...       0       1       0       0\n",
              "47757 -1.208927  2.050537 -1.075436  1.198620  ...       0       0       1       0\n",
              "47758  1.157701  0.177646  0.818513 -0.347110  ...       0       1       0       0\n",
              "47759  1.178192  0.185259  1.114539 -0.284359  ...       0       0       1       0\n",
              "\n",
              "[47760 rows x 19 columns]"
            ]
          },
          "metadata": {},
          "execution_count": 95
        }
      ]
    },
    {
      "cell_type": "code",
      "metadata": {
        "colab": {
          "base_uri": "https://localhost:8080/"
        },
        "id": "5FztTGmB9bqL",
        "outputId": "cf82413d-017f-4187-ba41-535f9b8ad1a1"
      },
      "source": [
        "train_y"
      ],
      "execution_count": 96,
      "outputs": [
        {
          "output_type": "execute_result",
          "data": {
            "text/plain": [
              "0        0\n",
              "1        1\n",
              "2        0\n",
              "3        0\n",
              "4        0\n",
              "        ..\n",
              "47755    2\n",
              "47756    2\n",
              "47757    0\n",
              "47758    0\n",
              "47759    0\n",
              "Name: LABELS, Length: 47760, dtype: int64"
            ]
          },
          "metadata": {},
          "execution_count": 96
        }
      ]
    },
    {
      "cell_type": "code",
      "metadata": {
        "colab": {
          "base_uri": "https://localhost:8080/",
          "height": 439
        },
        "id": "LYaVZtsd9c4j",
        "outputId": "cf96200e-1212-48cb-efbb-18059969d63e"
      },
      "source": [
        "fea_eng_test"
      ],
      "execution_count": 97,
      "outputs": [
        {
          "output_type": "execute_result",
          "data": {
            "text/html": [
              "<div>\n",
              "<style scoped>\n",
              "    .dataframe tbody tr th:only-of-type {\n",
              "        vertical-align: middle;\n",
              "    }\n",
              "\n",
              "    .dataframe tbody tr th {\n",
              "        vertical-align: top;\n",
              "    }\n",
              "\n",
              "    .dataframe thead th {\n",
              "        text-align: right;\n",
              "    }\n",
              "</style>\n",
              "<table border=\"1\" class=\"dataframe\">\n",
              "  <thead>\n",
              "    <tr style=\"text-align: right;\">\n",
              "      <th></th>\n",
              "      <th>lat</th>\n",
              "      <th>lon</th>\n",
              "      <th>TMQ</th>\n",
              "      <th>U850</th>\n",
              "      <th>V850</th>\n",
              "      <th>UBOT</th>\n",
              "      <th>VBOT</th>\n",
              "      <th>QREFHT</th>\n",
              "      <th>PSL</th>\n",
              "      <th>T500</th>\n",
              "      <th>TS</th>\n",
              "      <th>TREFHT</th>\n",
              "      <th>Z1000</th>\n",
              "      <th>Z200</th>\n",
              "      <th>ZBOT</th>\n",
              "      <th>winter</th>\n",
              "      <th>summer</th>\n",
              "      <th>automn</th>\n",
              "      <th>spring</th>\n",
              "    </tr>\n",
              "  </thead>\n",
              "  <tbody>\n",
              "    <tr>\n",
              "      <th>47760</th>\n",
              "      <td>-1.229417</td>\n",
              "      <td>2.042923</td>\n",
              "      <td>-0.969527</td>\n",
              "      <td>-0.199640</td>\n",
              "      <td>-0.019019</td>\n",
              "      <td>-0.908190</td>\n",
              "      <td>-0.249263</td>\n",
              "      <td>-1.533322</td>\n",
              "      <td>2.257725</td>\n",
              "      <td>-1.733819</td>\n",
              "      <td>-2.067347</td>\n",
              "      <td>-1.935251</td>\n",
              "      <td>2.280513</td>\n",
              "      <td>-1.998425</td>\n",
              "      <td>-1.874896</td>\n",
              "      <td>0</td>\n",
              "      <td>0</td>\n",
              "      <td>1</td>\n",
              "      <td>0</td>\n",
              "    </tr>\n",
              "    <tr>\n",
              "      <th>47761</th>\n",
              "      <td>-1.229417</td>\n",
              "      <td>2.050537</td>\n",
              "      <td>-1.033650</td>\n",
              "      <td>-0.208858</td>\n",
              "      <td>0.073115</td>\n",
              "      <td>-1.022537</td>\n",
              "      <td>-0.056414</td>\n",
              "      <td>-1.611895</td>\n",
              "      <td>2.270233</td>\n",
              "      <td>-1.714158</td>\n",
              "      <td>-2.067530</td>\n",
              "      <td>-1.970182</td>\n",
              "      <td>2.288535</td>\n",
              "      <td>-1.998483</td>\n",
              "      <td>-1.924181</td>\n",
              "      <td>0</td>\n",
              "      <td>0</td>\n",
              "      <td>1</td>\n",
              "      <td>0</td>\n",
              "    </tr>\n",
              "    <tr>\n",
              "      <th>47762</th>\n",
              "      <td>-1.229417</td>\n",
              "      <td>2.058150</td>\n",
              "      <td>-1.115755</td>\n",
              "      <td>-0.218882</td>\n",
              "      <td>0.146943</td>\n",
              "      <td>-1.088501</td>\n",
              "      <td>0.171496</td>\n",
              "      <td>-1.659356</td>\n",
              "      <td>2.290553</td>\n",
              "      <td>-1.704051</td>\n",
              "      <td>-2.067530</td>\n",
              "      <td>-2.027278</td>\n",
              "      <td>2.303500</td>\n",
              "      <td>-1.986739</td>\n",
              "      <td>-1.988489</td>\n",
              "      <td>0</td>\n",
              "      <td>0</td>\n",
              "      <td>1</td>\n",
              "      <td>0</td>\n",
              "    </tr>\n",
              "    <tr>\n",
              "      <th>47763</th>\n",
              "      <td>-1.229417</td>\n",
              "      <td>2.065764</td>\n",
              "      <td>-1.153955</td>\n",
              "      <td>-0.218557</td>\n",
              "      <td>0.240390</td>\n",
              "      <td>-1.077335</td>\n",
              "      <td>0.400787</td>\n",
              "      <td>-1.703007</td>\n",
              "      <td>2.295390</td>\n",
              "      <td>-1.678193</td>\n",
              "      <td>-2.050762</td>\n",
              "      <td>-2.081848</td>\n",
              "      <td>2.302972</td>\n",
              "      <td>-1.977785</td>\n",
              "      <td>-2.049826</td>\n",
              "      <td>0</td>\n",
              "      <td>0</td>\n",
              "      <td>1</td>\n",
              "      <td>0</td>\n",
              "    </tr>\n",
              "    <tr>\n",
              "      <th>47764</th>\n",
              "      <td>-1.229417</td>\n",
              "      <td>2.073377</td>\n",
              "      <td>-1.182211</td>\n",
              "      <td>-0.208022</td>\n",
              "      <td>0.401727</td>\n",
              "      <td>-1.028380</td>\n",
              "      <td>0.603821</td>\n",
              "      <td>-1.759042</td>\n",
              "      <td>2.283319</td>\n",
              "      <td>-1.628448</td>\n",
              "      <td>-2.043577</td>\n",
              "      <td>-2.088527</td>\n",
              "      <td>2.289048</td>\n",
              "      <td>-1.972756</td>\n",
              "      <td>-2.065368</td>\n",
              "      <td>0</td>\n",
              "      <td>0</td>\n",
              "      <td>1</td>\n",
              "      <td>0</td>\n",
              "    </tr>\n",
              "    <tr>\n",
              "      <th>...</th>\n",
              "      <td>...</td>\n",
              "      <td>...</td>\n",
              "      <td>...</td>\n",
              "      <td>...</td>\n",
              "      <td>...</td>\n",
              "      <td>...</td>\n",
              "      <td>...</td>\n",
              "      <td>...</td>\n",
              "      <td>...</td>\n",
              "      <td>...</td>\n",
              "      <td>...</td>\n",
              "      <td>...</td>\n",
              "      <td>...</td>\n",
              "      <td>...</td>\n",
              "      <td>...</td>\n",
              "      <td>...</td>\n",
              "      <td>...</td>\n",
              "      <td>...</td>\n",
              "      <td>...</td>\n",
              "    </tr>\n",
              "    <tr>\n",
              "      <th>55075</th>\n",
              "      <td>1.178192</td>\n",
              "      <td>0.177646</td>\n",
              "      <td>1.257555</td>\n",
              "      <td>-0.070115</td>\n",
              "      <td>-1.906459</td>\n",
              "      <td>0.752188</td>\n",
              "      <td>-2.054562</td>\n",
              "      <td>1.622598</td>\n",
              "      <td>-1.471042</td>\n",
              "      <td>1.259184</td>\n",
              "      <td>1.119882</td>\n",
              "      <td>1.320941</td>\n",
              "      <td>-1.587032</td>\n",
              "      <td>1.305469</td>\n",
              "      <td>1.388401</td>\n",
              "      <td>0</td>\n",
              "      <td>0</td>\n",
              "      <td>1</td>\n",
              "      <td>0</td>\n",
              "    </tr>\n",
              "    <tr>\n",
              "      <th>55076</th>\n",
              "      <td>1.178192</td>\n",
              "      <td>0.185259</td>\n",
              "      <td>1.331331</td>\n",
              "      <td>0.049520</td>\n",
              "      <td>-2.030020</td>\n",
              "      <td>0.963159</td>\n",
              "      <td>-2.102031</td>\n",
              "      <td>1.736878</td>\n",
              "      <td>-1.543805</td>\n",
              "      <td>1.316120</td>\n",
              "      <td>1.121708</td>\n",
              "      <td>1.297473</td>\n",
              "      <td>-1.587138</td>\n",
              "      <td>1.295185</td>\n",
              "      <td>1.384040</td>\n",
              "      <td>0</td>\n",
              "      <td>0</td>\n",
              "      <td>1</td>\n",
              "      <td>0</td>\n",
              "    </tr>\n",
              "    <tr>\n",
              "      <th>55077</th>\n",
              "      <td>1.178192</td>\n",
              "      <td>0.192872</td>\n",
              "      <td>1.504772</td>\n",
              "      <td>0.199574</td>\n",
              "      <td>-2.240993</td>\n",
              "      <td>1.175167</td>\n",
              "      <td>-2.110102</td>\n",
              "      <td>1.825097</td>\n",
              "      <td>-1.597136</td>\n",
              "      <td>1.377637</td>\n",
              "      <td>1.138237</td>\n",
              "      <td>1.273246</td>\n",
              "      <td>-1.587472</td>\n",
              "      <td>1.303790</td>\n",
              "      <td>1.370240</td>\n",
              "      <td>0</td>\n",
              "      <td>0</td>\n",
              "      <td>1</td>\n",
              "      <td>0</td>\n",
              "    </tr>\n",
              "    <tr>\n",
              "      <th>55078</th>\n",
              "      <td>1.178192</td>\n",
              "      <td>0.200486</td>\n",
              "      <td>1.618416</td>\n",
              "      <td>0.349145</td>\n",
              "      <td>-2.518317</td>\n",
              "      <td>1.395306</td>\n",
              "      <td>-2.125182</td>\n",
              "      <td>1.848681</td>\n",
              "      <td>-1.645236</td>\n",
              "      <td>1.464180</td>\n",
              "      <td>1.138237</td>\n",
              "      <td>1.268741</td>\n",
              "      <td>-1.587581</td>\n",
              "      <td>1.307511</td>\n",
              "      <td>1.365763</td>\n",
              "      <td>0</td>\n",
              "      <td>0</td>\n",
              "      <td>1</td>\n",
              "      <td>0</td>\n",
              "    </tr>\n",
              "    <tr>\n",
              "      <th>55079</th>\n",
              "      <td>1.178192</td>\n",
              "      <td>0.208099</td>\n",
              "      <td>1.677245</td>\n",
              "      <td>0.493976</td>\n",
              "      <td>-2.823162</td>\n",
              "      <td>1.595011</td>\n",
              "      <td>-2.079873</td>\n",
              "      <td>1.947685</td>\n",
              "      <td>-1.692151</td>\n",
              "      <td>1.554327</td>\n",
              "      <td>1.138237</td>\n",
              "      <td>1.252990</td>\n",
              "      <td>-1.587573</td>\n",
              "      <td>1.310723</td>\n",
              "      <td>1.365647</td>\n",
              "      <td>0</td>\n",
              "      <td>0</td>\n",
              "      <td>1</td>\n",
              "      <td>0</td>\n",
              "    </tr>\n",
              "  </tbody>\n",
              "</table>\n",
              "<p>7320 rows × 19 columns</p>\n",
              "</div>"
            ],
            "text/plain": [
              "            lat       lon       TMQ      U850  ...  winter  summer  automn  spring\n",
              "47760 -1.229417  2.042923 -0.969527 -0.199640  ...       0       0       1       0\n",
              "47761 -1.229417  2.050537 -1.033650 -0.208858  ...       0       0       1       0\n",
              "47762 -1.229417  2.058150 -1.115755 -0.218882  ...       0       0       1       0\n",
              "47763 -1.229417  2.065764 -1.153955 -0.218557  ...       0       0       1       0\n",
              "47764 -1.229417  2.073377 -1.182211 -0.208022  ...       0       0       1       0\n",
              "...         ...       ...       ...       ...  ...     ...     ...     ...     ...\n",
              "55075  1.178192  0.177646  1.257555 -0.070115  ...       0       0       1       0\n",
              "55076  1.178192  0.185259  1.331331  0.049520  ...       0       0       1       0\n",
              "55077  1.178192  0.192872  1.504772  0.199574  ...       0       0       1       0\n",
              "55078  1.178192  0.200486  1.618416  0.349145  ...       0       0       1       0\n",
              "55079  1.178192  0.208099  1.677245  0.493976  ...       0       0       1       0\n",
              "\n",
              "[7320 rows x 19 columns]"
            ]
          },
          "metadata": {},
          "execution_count": 97
        }
      ]
    },
    {
      "cell_type": "markdown",
      "metadata": {
        "id": "6LPx_CAq940k"
      },
      "source": [
        "#  Neural Nets"
      ]
    },
    {
      "cell_type": "code",
      "metadata": {
        "id": "SgUxNsgf97Eq"
      },
      "source": [
        "from keras.models import Sequential\n",
        "from keras.layers import Dense\n",
        "from keras.wrappers.scikit_learn import KerasClassifier\n",
        "from keras.utils import np_utils\n",
        "from sklearn.model_selection import cross_val_score\n",
        "from sklearn.model_selection import KFold\n",
        "from sklearn.preprocessing import LabelEncoder\n",
        "from sklearn.pipeline import Pipeline\n",
        "from sklearn.metrics import accuracy_score"
      ],
      "execution_count": 98,
      "outputs": []
    },
    {
      "cell_type": "code",
      "metadata": {
        "id": "pzss5xe6-lgZ"
      },
      "source": [
        "def onehot_labels(labels):\n",
        "  # encode class values as integers\n",
        "  encoder = LabelEncoder()\n",
        "  encoder.fit(labels)\n",
        "  encoded_Y = encoder.transform(labels)\n",
        "  # convert integers to dummy variables (i.e. one hot encoded)\n",
        "  dummy_y = np_utils.to_categorical(encoded_Y)\n",
        "  return dummy_y"
      ],
      "execution_count": 99,
      "outputs": []
    },
    {
      "cell_type": "code",
      "metadata": {
        "colab": {
          "base_uri": "https://localhost:8080/"
        },
        "id": "bdTL1O8l-nXB",
        "outputId": "3e9b6469-ff8a-4a2d-f032-2f8481d7939e"
      },
      "source": [
        "y_onehot = onehot_labels(train_y)\n",
        "y_onehot.shape"
      ],
      "execution_count": 100,
      "outputs": [
        {
          "output_type": "execute_result",
          "data": {
            "text/plain": [
              "(47760, 3)"
            ]
          },
          "metadata": {},
          "execution_count": 100
        }
      ]
    },
    {
      "cell_type": "code",
      "metadata": {
        "colab": {
          "base_uri": "https://localhost:8080/"
        },
        "id": "xIcfdYwM-oz5",
        "outputId": "78546986-ee1e-4f9c-bd7c-745144de4bd8"
      },
      "source": [
        "from sklearn.model_selection import train_test_split\n",
        "X_train_nn, X_val_nn, y_train_nn, y_val_nn = train_test_split(fea_eng_train, \n",
        "                                                              y_onehot, \n",
        "                                                              test_size=0.3, \n",
        "                                                              random_state=42)\n",
        "\n",
        "X_train_nn.shape, X_val_nn.shape, y_train_nn.shape, y_val_nn.shape"
      ],
      "execution_count": 101,
      "outputs": [
        {
          "output_type": "execute_result",
          "data": {
            "text/plain": [
              "((33432, 19), (14328, 19), (33432, 3), (14328, 3))"
            ]
          },
          "metadata": {},
          "execution_count": 101
        }
      ]
    },
    {
      "cell_type": "code",
      "metadata": {
        "id": "mcHtDMlH-vF5"
      },
      "source": [
        "from tensorflow.keras import regularizers\n",
        "from keras.layers import Dropout\n",
        "# create model\n",
        "model = Sequential()\n",
        "model.add(Dense(14, input_dim=19, activation='relu'))\n",
        "model.add(Dense(3, activation='softmax', kernel_regularizer='l2'))\n",
        "# Compile model\n",
        "model.compile(loss='categorical_crossentropy', optimizer='adam', metrics=['accuracy'])"
      ],
      "execution_count": 102,
      "outputs": []
    },
    {
      "cell_type": "code",
      "metadata": {
        "colab": {
          "base_uri": "https://localhost:8080/"
        },
        "id": "q5n6OvB7--X6",
        "outputId": "3f96da9e-d786-4b57-e3d5-2e7296d098d2"
      },
      "source": [
        "training_result = model.fit(X_train_nn, \n",
        "                            y_train_nn, \n",
        "                            batch_size=10, \n",
        "                            epochs=50, \n",
        "                            validation_data=(X_val_nn, y_val_nn))"
      ],
      "execution_count": 103,
      "outputs": [
        {
          "output_type": "stream",
          "name": "stdout",
          "text": [
            "Epoch 1/50\n",
            "3344/3344 [==============================] - 6s 2ms/step - loss: 0.5206 - accuracy: 0.7976 - val_loss: 0.4302 - val_accuracy: 0.8234\n",
            "Epoch 2/50\n",
            "3344/3344 [==============================] - 6s 2ms/step - loss: 0.4223 - accuracy: 0.8278 - val_loss: 0.4076 - val_accuracy: 0.8347\n",
            "Epoch 3/50\n",
            "3344/3344 [==============================] - 6s 2ms/step - loss: 0.4087 - accuracy: 0.8303 - val_loss: 0.4010 - val_accuracy: 0.8368\n",
            "Epoch 4/50\n",
            "3344/3344 [==============================] - 6s 2ms/step - loss: 0.4008 - accuracy: 0.8325 - val_loss: 0.3943 - val_accuracy: 0.8381\n",
            "Epoch 5/50\n",
            "3344/3344 [==============================] - 6s 2ms/step - loss: 0.3959 - accuracy: 0.8340 - val_loss: 0.3865 - val_accuracy: 0.8412\n",
            "Epoch 6/50\n",
            "3344/3344 [==============================] - 6s 2ms/step - loss: 0.3917 - accuracy: 0.8351 - val_loss: 0.3869 - val_accuracy: 0.8412\n",
            "Epoch 7/50\n",
            "3344/3344 [==============================] - 6s 2ms/step - loss: 0.3886 - accuracy: 0.8355 - val_loss: 0.3851 - val_accuracy: 0.8386\n",
            "Epoch 8/50\n",
            "3344/3344 [==============================] - 6s 2ms/step - loss: 0.3856 - accuracy: 0.8368 - val_loss: 0.3790 - val_accuracy: 0.8414\n",
            "Epoch 9/50\n",
            "3344/3344 [==============================] - 6s 2ms/step - loss: 0.3838 - accuracy: 0.8369 - val_loss: 0.3772 - val_accuracy: 0.8428\n",
            "Epoch 10/50\n",
            "3344/3344 [==============================] - 6s 2ms/step - loss: 0.3817 - accuracy: 0.8381 - val_loss: 0.3816 - val_accuracy: 0.8425\n",
            "Epoch 11/50\n",
            "3344/3344 [==============================] - 6s 2ms/step - loss: 0.3804 - accuracy: 0.8381 - val_loss: 0.3767 - val_accuracy: 0.8418\n",
            "Epoch 12/50\n",
            "3344/3344 [==============================] - 6s 2ms/step - loss: 0.3789 - accuracy: 0.8392 - val_loss: 0.3764 - val_accuracy: 0.8437\n",
            "Epoch 13/50\n",
            "3344/3344 [==============================] - 6s 2ms/step - loss: 0.3775 - accuracy: 0.8388 - val_loss: 0.3733 - val_accuracy: 0.8419\n",
            "Epoch 14/50\n",
            "3344/3344 [==============================] - 6s 2ms/step - loss: 0.3766 - accuracy: 0.8402 - val_loss: 0.3705 - val_accuracy: 0.8450\n",
            "Epoch 15/50\n",
            "3344/3344 [==============================] - 6s 2ms/step - loss: 0.3758 - accuracy: 0.8402 - val_loss: 0.3726 - val_accuracy: 0.8432\n",
            "Epoch 16/50\n",
            "3344/3344 [==============================] - 6s 2ms/step - loss: 0.3746 - accuracy: 0.8398 - val_loss: 0.3693 - val_accuracy: 0.8428\n",
            "Epoch 17/50\n",
            "3344/3344 [==============================] - 6s 2ms/step - loss: 0.3740 - accuracy: 0.8402 - val_loss: 0.3693 - val_accuracy: 0.8426\n",
            "Epoch 18/50\n",
            "3344/3344 [==============================] - 6s 2ms/step - loss: 0.3729 - accuracy: 0.8414 - val_loss: 0.3700 - val_accuracy: 0.8467\n",
            "Epoch 19/50\n",
            "3344/3344 [==============================] - 6s 2ms/step - loss: 0.3721 - accuracy: 0.8409 - val_loss: 0.3723 - val_accuracy: 0.8445\n",
            "Epoch 20/50\n",
            "3344/3344 [==============================] - 6s 2ms/step - loss: 0.3710 - accuracy: 0.8412 - val_loss: 0.3658 - val_accuracy: 0.8475\n",
            "Epoch 21/50\n",
            "3344/3344 [==============================] - 5s 2ms/step - loss: 0.3703 - accuracy: 0.8432 - val_loss: 0.3689 - val_accuracy: 0.8464\n",
            "Epoch 22/50\n",
            "3344/3344 [==============================] - 6s 2ms/step - loss: 0.3699 - accuracy: 0.8425 - val_loss: 0.3681 - val_accuracy: 0.8446\n",
            "Epoch 23/50\n",
            "3344/3344 [==============================] - 6s 2ms/step - loss: 0.3690 - accuracy: 0.8414 - val_loss: 0.3677 - val_accuracy: 0.8449\n",
            "Epoch 24/50\n",
            "3344/3344 [==============================] - 6s 2ms/step - loss: 0.3684 - accuracy: 0.8426 - val_loss: 0.3644 - val_accuracy: 0.8448\n",
            "Epoch 25/50\n",
            "3344/3344 [==============================] - 6s 2ms/step - loss: 0.3681 - accuracy: 0.8433 - val_loss: 0.3638 - val_accuracy: 0.8485\n",
            "Epoch 26/50\n",
            "3344/3344 [==============================] - 6s 2ms/step - loss: 0.3668 - accuracy: 0.8437 - val_loss: 0.3666 - val_accuracy: 0.8444\n",
            "Epoch 27/50\n",
            "3344/3344 [==============================] - 6s 2ms/step - loss: 0.3671 - accuracy: 0.8440 - val_loss: 0.3610 - val_accuracy: 0.8476\n",
            "Epoch 28/50\n",
            "3344/3344 [==============================] - 6s 2ms/step - loss: 0.3659 - accuracy: 0.8438 - val_loss: 0.3634 - val_accuracy: 0.8463\n",
            "Epoch 29/50\n",
            "3344/3344 [==============================] - 6s 2ms/step - loss: 0.3655 - accuracy: 0.8448 - val_loss: 0.3614 - val_accuracy: 0.8497\n",
            "Epoch 30/50\n",
            "3344/3344 [==============================] - 6s 2ms/step - loss: 0.3652 - accuracy: 0.8439 - val_loss: 0.3607 - val_accuracy: 0.8489\n",
            "Epoch 31/50\n",
            "3344/3344 [==============================] - 6s 2ms/step - loss: 0.3650 - accuracy: 0.8439 - val_loss: 0.3593 - val_accuracy: 0.8499\n",
            "Epoch 32/50\n",
            "3344/3344 [==============================] - 6s 2ms/step - loss: 0.3647 - accuracy: 0.8456 - val_loss: 0.3580 - val_accuracy: 0.8474\n",
            "Epoch 33/50\n",
            "3344/3344 [==============================] - 6s 2ms/step - loss: 0.3635 - accuracy: 0.8460 - val_loss: 0.3584 - val_accuracy: 0.8518\n",
            "Epoch 34/50\n",
            "3344/3344 [==============================] - 6s 2ms/step - loss: 0.3631 - accuracy: 0.8472 - val_loss: 0.3641 - val_accuracy: 0.8465\n",
            "Epoch 35/50\n",
            "3344/3344 [==============================] - 6s 2ms/step - loss: 0.3629 - accuracy: 0.8464 - val_loss: 0.3590 - val_accuracy: 0.8469\n",
            "Epoch 36/50\n",
            "3344/3344 [==============================] - 6s 2ms/step - loss: 0.3626 - accuracy: 0.8473 - val_loss: 0.3626 - val_accuracy: 0.8484\n",
            "Epoch 37/50\n",
            "3344/3344 [==============================] - 6s 2ms/step - loss: 0.3619 - accuracy: 0.8465 - val_loss: 0.3568 - val_accuracy: 0.8520\n",
            "Epoch 38/50\n",
            "3344/3344 [==============================] - 6s 2ms/step - loss: 0.3613 - accuracy: 0.8486 - val_loss: 0.3561 - val_accuracy: 0.8502\n",
            "Epoch 39/50\n",
            "3344/3344 [==============================] - 6s 2ms/step - loss: 0.3610 - accuracy: 0.8478 - val_loss: 0.3563 - val_accuracy: 0.8506\n",
            "Epoch 40/50\n",
            "3344/3344 [==============================] - 6s 2ms/step - loss: 0.3605 - accuracy: 0.8482 - val_loss: 0.3561 - val_accuracy: 0.8510\n",
            "Epoch 41/50\n",
            "3344/3344 [==============================] - 6s 2ms/step - loss: 0.3597 - accuracy: 0.8485 - val_loss: 0.3578 - val_accuracy: 0.8497\n",
            "Epoch 42/50\n",
            "3344/3344 [==============================] - 6s 2ms/step - loss: 0.3597 - accuracy: 0.8480 - val_loss: 0.3533 - val_accuracy: 0.8509\n",
            "Epoch 43/50\n",
            "3344/3344 [==============================] - 6s 2ms/step - loss: 0.3592 - accuracy: 0.8480 - val_loss: 0.3540 - val_accuracy: 0.8509\n",
            "Epoch 44/50\n",
            "3344/3344 [==============================] - 6s 2ms/step - loss: 0.3591 - accuracy: 0.8476 - val_loss: 0.3538 - val_accuracy: 0.8520\n",
            "Epoch 45/50\n",
            "3344/3344 [==============================] - 6s 2ms/step - loss: 0.3583 - accuracy: 0.8495 - val_loss: 0.3544 - val_accuracy: 0.8534\n",
            "Epoch 46/50\n",
            "3344/3344 [==============================] - 6s 2ms/step - loss: 0.3579 - accuracy: 0.8475 - val_loss: 0.3597 - val_accuracy: 0.8474\n",
            "Epoch 47/50\n",
            "3344/3344 [==============================] - 6s 2ms/step - loss: 0.3576 - accuracy: 0.8473 - val_loss: 0.3544 - val_accuracy: 0.8536\n",
            "Epoch 48/50\n",
            "3344/3344 [==============================] - 6s 2ms/step - loss: 0.3576 - accuracy: 0.8490 - val_loss: 0.3517 - val_accuracy: 0.8527\n",
            "Epoch 49/50\n",
            "3344/3344 [==============================] - 6s 2ms/step - loss: 0.3570 - accuracy: 0.8483 - val_loss: 0.3547 - val_accuracy: 0.8492\n",
            "Epoch 50/50\n",
            "3344/3344 [==============================] - 6s 2ms/step - loss: 0.3567 - accuracy: 0.8491 - val_loss: 0.3570 - val_accuracy: 0.8513\n"
          ]
        }
      ]
    },
    {
      "cell_type": "code",
      "metadata": {
        "colab": {
          "base_uri": "https://localhost:8080/"
        },
        "id": "acSlyxNN_DVY",
        "outputId": "932f21cf-dd5b-45b2-a058-15aafeb02694"
      },
      "source": [
        "model.evaluate(X_train_nn, y_train_nn)"
      ],
      "execution_count": 104,
      "outputs": [
        {
          "output_type": "stream",
          "name": "stdout",
          "text": [
            "1045/1045 [==============================] - 1s 1ms/step - loss: 0.3590 - accuracy: 0.8474\n"
          ]
        },
        {
          "output_type": "execute_result",
          "data": {
            "text/plain": [
              "[0.35898593068122864, 0.8473917245864868]"
            ]
          },
          "metadata": {},
          "execution_count": 104
        }
      ]
    },
    {
      "cell_type": "code",
      "metadata": {
        "colab": {
          "base_uri": "https://localhost:8080/"
        },
        "id": "y6otmoaz_D2Z",
        "outputId": "fcde4da2-a5fc-4e14-9d74-58dbaaaa6be8"
      },
      "source": [
        "fea_eng_test.shape"
      ],
      "execution_count": 105,
      "outputs": [
        {
          "output_type": "execute_result",
          "data": {
            "text/plain": [
              "(7320, 19)"
            ]
          },
          "metadata": {},
          "execution_count": 105
        }
      ]
    },
    {
      "cell_type": "code",
      "metadata": {
        "id": "BIIksyr3_HzP"
      },
      "source": [
        "y_mat_prob = model.predict(fea_eng_test)"
      ],
      "execution_count": 106,
      "outputs": []
    },
    {
      "cell_type": "code",
      "metadata": {
        "colab": {
          "base_uri": "https://localhost:8080/"
        },
        "id": "4jeHnX_F_JJn",
        "outputId": "abadb653-1ed7-49a6-877f-de7190d4e5dd"
      },
      "source": [
        "y_pred_nn = np.argmax(y_mat_prob, axis=1)\n",
        "y_pred_nn.shape"
      ],
      "execution_count": 107,
      "outputs": [
        {
          "output_type": "execute_result",
          "data": {
            "text/plain": [
              "(7320,)"
            ]
          },
          "metadata": {},
          "execution_count": 107
        }
      ]
    },
    {
      "cell_type": "code",
      "metadata": {
        "colab": {
          "base_uri": "https://localhost:8080/"
        },
        "id": "VjQGDZDI_M7w",
        "outputId": "cee05b82-116d-46c2-db7d-1c0853a4cd56"
      },
      "source": [
        "y_pred_nn"
      ],
      "execution_count": 108,
      "outputs": [
        {
          "output_type": "execute_result",
          "data": {
            "text/plain": [
              "array([0, 0, 0, ..., 1, 1, 1])"
            ]
          },
          "metadata": {},
          "execution_count": 108
        }
      ]
    },
    {
      "cell_type": "code",
      "metadata": {
        "colab": {
          "base_uri": "https://localhost:8080/"
        },
        "id": "M_Q1NjQN_OE_",
        "outputId": "3d11c444-7721-4c4e-9ec4-43aedcbeae06"
      },
      "source": [
        "label_percentages(y_pred_nn)"
      ],
      "execution_count": 109,
      "outputs": [
        {
          "output_type": "execute_result",
          "data": {
            "text/plain": [
              "((5547, 449, 1324),\n",
              " (0.7577868852459017, 0.06133879781420765, 0.1808743169398907),\n",
              " 7320)"
            ]
          },
          "metadata": {},
          "execution_count": 109
        }
      ]
    },
    {
      "cell_type": "markdown",
      "metadata": {
        "id": "QyQyn-x0AXk9"
      },
      "source": [
        "# Soft Voting "
      ]
    },
    {
      "cell_type": "code",
      "metadata": {
        "id": "rPVR2AkmAZbe"
      },
      "source": [
        "kfold = KFold(n_splits=5, random_state=42, shuffle=True)"
      ],
      "execution_count": null,
      "outputs": []
    },
    {
      "cell_type": "code",
      "metadata": {
        "id": "732x1MgLAeMN"
      },
      "source": [
        "def accuracy_percent(model, features, label, kf):\n",
        "    accuracy = cross_val_score(model, features, label, scoring='accuracy', cv=kf)\n",
        "    return accuracy"
      ],
      "execution_count": null,
      "outputs": []
    },
    {
      "cell_type": "code",
      "metadata": {
        "id": "ISEa5nDPAgJU"
      },
      "source": [
        "from sklearn.pipeline import Pipeline, make_pipeline"
      ],
      "execution_count": null,
      "outputs": []
    },
    {
      "cell_type": "code",
      "metadata": {
        "id": "3KDyUkOfAg6k"
      },
      "source": [
        "models = [LogisticRegression(C=0.1, solver='newton-cg'),\n",
        "          SVC(C=0.1, random_state=42),\n",
        "          DecisionTreeClassifier(),\n",
        "          KNeighborsClassifier(n_neighbors=9),\n",
        "          RandomForestClassifier(),\n",
        "          GradientBoostingClassifier(), \n",
        "          ExtraTreesClassifier(),\n",
        "          LGBMClassifier(),\n",
        "          XGBClassifier(objective='multi:softprob', eval_metric='merror'),\n",
        "         ]"
      ],
      "execution_count": null,
      "outputs": []
    },
    {
      "cell_type": "code",
      "metadata": {
        "id": "vcC35eL4AlKI"
      },
      "source": [
        "scores = {}"
      ],
      "execution_count": null,
      "outputs": []
    },
    {
      "cell_type": "code",
      "metadata": {
        "id": "kSyjlqRPAlaS"
      },
      "source": [
        "names = [\"Logistic Regression\", \n",
        "         \"SVM\", \n",
        "         \"Decision Tree Classifier\", \n",
        "         \"KNN\", \n",
        "         \"Random Forest Classifier\", \n",
        "         \"Gradient Boosting Classifier\", \n",
        "         \"Extra Trees Classifier\", \n",
        "         \"Light Gradient Boosting Machine\", \n",
        "         \"eXtreme Gradient Boosting\"\n",
        "         ]"
      ],
      "execution_count": null,
      "outputs": []
    },
    {
      "cell_type": "code",
      "metadata": {
        "colab": {
          "base_uri": "https://localhost:8080/"
        },
        "id": "kgzrYv7sAoBU",
        "outputId": "e6169366-4797-4912-f98b-84b284b54af9"
      },
      "source": [
        "for name, model in zip(names, models):\n",
        "    score = accuracy_percent(model, fea_eng_train, train_y, kfold)\n",
        "    print(\"{}: {:.6f}, {:.4f}\".format(name, score.mean(), score.std()))\n",
        "    scores[name] = (score.mean(), score.std())"
      ],
      "execution_count": null,
      "outputs": [
        {
          "output_type": "stream",
          "name": "stdout",
          "text": [
            "Logistic Regression: 0.821001, 0.0034\n",
            "SVM: 0.844116, 0.0033\n",
            "Decision Tree Classifier: 0.855653, 0.0025\n",
            "KNN: 0.889175, 0.0027\n",
            "Random Forest Classifier: 0.859883, 0.0029\n",
            "Gradient Boosting Classifier: 0.863714, 0.0027\n",
            "Extra Trees Classifier: 0.861642, 0.0017\n",
            "Light Gradient Boosting Machine: 0.889363, 0.0031\n",
            "eXtreme Gradient Boosting: 0.852931, 0.0034\n"
          ]
        }
      ]
    },
    {
      "cell_type": "code",
      "metadata": {
        "colab": {
          "base_uri": "https://localhost:8080/"
        },
        "id": "EjagGfuLApzt",
        "outputId": "c983e9a0-d83c-424d-e851-73f50e34ed6d"
      },
      "source": [
        "scores"
      ],
      "execution_count": null,
      "outputs": [
        {
          "output_type": "execute_result",
          "data": {
            "text/plain": [
              "{'DecisionTreeClassifier': (0.8562395309882748, 0.0023931711997034174),\n",
              " 'ExtraTreesClassifier': (0.8617043551088777, 0.0016566198027514623),\n",
              " 'GradientBoostingClassifier': (0.863714405360134, 0.0027028709485938146),\n",
              " 'KNN': (0.889175041876047, 0.002669577462396826),\n",
              " 'LGBM': (0.8893634840871021, 0.003108009620394584),\n",
              " 'LogisticRegression': (0.821000837520938, 0.0033990609539782967),\n",
              " 'RandomForestClassifier': (0.8602805695142377, 0.00253133689442334),\n",
              " 'SVM': (0.8441164154103852, 0.003281329652288071),\n",
              " 'XGB': (0.852931323283082, 0.003350999665414375)}"
            ]
          },
          "metadata": {},
          "execution_count": 51
        }
      ]
    },
    {
      "cell_type": "code",
      "metadata": {
        "id": "uVWBZ0f0Aq5E"
      },
      "source": [
        "final_models = [\n",
        "          ('lr', LogisticRegression(solver='newton-cg')),           \n",
        "          ('dt', DecisionTreeClassifier()),           \n",
        "          ('rf', RandomForestClassifier()),           \n",
        "          ('gb', GradientBoostingClassifier()),            \n",
        "          ('etc', ExtraTreesClassifier()),           \n",
        "          ('svc', SVC(probability=True)),           \n",
        "          ('lgbm', LGBMClassifier()),           \n",
        "          ('xgb', XGBClassifier())\n",
        "          ]"
      ],
      "execution_count": null,
      "outputs": []
    },
    {
      "cell_type": "code",
      "metadata": {
        "id": "NBgPeXY5DXun"
      },
      "source": [
        "eclfsoft = VotingClassifier(estimators=final_models, voting='soft')\n",
        "eclfsoft = eclfsoft.fit(fea_eng_train, train_y)"
      ],
      "execution_count": null,
      "outputs": []
    },
    {
      "cell_type": "code",
      "metadata": {
        "id": "dOn3eLBmxyUi"
      },
      "source": [
        "labels_soft = eclfsoft.predict(fea_eng_test)"
      ],
      "execution_count": null,
      "outputs": []
    },
    {
      "cell_type": "code",
      "metadata": {
        "id": "r77FvI-tuxyB"
      },
      "source": [
        "def plot_feature_importance_tree_model(X, y, model):    \n",
        "    # Training the model\n",
        "    model.fit(X, y)\n",
        "      \n",
        "    # Computing the importance of each feature\n",
        "    feature_importance = model.feature_importances_\n",
        "      \n",
        "    # Normalizing the individual importances\n",
        "    feature_importance_normalized = np.std([tree.feature_importances_ for tree in \n",
        "                                            model.estimators_],\n",
        "                                            axis = 0)\n",
        "\n",
        "    plt.figure(figsize=(18,8))\n",
        "    plt.bar(X.columns, feature_importance_normalized)\n",
        "    plt.xlabel('Feature Labels')\n",
        "    plt.ylabel('Feature Importances')\n",
        "    plt.title('Comparison of different Feature Importances - Tree Model')\n",
        "    plt.show()"
      ],
      "execution_count": 112,
      "outputs": []
    },
    {
      "cell_type": "code",
      "metadata": {
        "colab": {
          "base_uri": "https://localhost:8080/",
          "height": 513
        },
        "id": "gbOcLHQCuxvj",
        "outputId": "155551a9-c283-42db-b007-ef39ff5e2603"
      },
      "source": [
        "plot_feature_importance_tree_model(data_for_feature_importance, y_train, model=RandomForestClassifier(max_depth=7))"
      ],
      "execution_count": 113,
      "outputs": [
        {
          "output_type": "display_data",
          "data": {
            "image/png": "[encoded data removed]",
            "text/plain": [
              "<Figure size 1296x576 with 1 Axes>"
            ]
          },
          "metadata": {
            "needs_background": "light"
          }
        }
      ]
    },
    {
      "cell_type": "code",
      "metadata": {
        "id": "A9qKdkeCvK6_"
      },
      "source": [
        "def plot_feature_importance_boost_model(X, y, model, algo_type): \n",
        "  model.fit(X, y)\n",
        "  plt.figure(figsize=(18,8))\n",
        "  plt.bar(X.columns, model.feature_importances_)\n",
        "  plt.xlabel('Feature Labels')\n",
        "  plt.ylabel('Feature Importances')\n",
        "  plt.title('Comparison of different Feature Importances' + algo_type)\n",
        "  plt.show()"
      ],
      "execution_count": 116,
      "outputs": []
    },
    {
      "cell_type": "code",
      "metadata": {
        "colab": {
          "base_uri": "https://localhost:8080/",
          "height": 513
        },
        "id": "MzsudAZdvNnv",
        "outputId": "3ef6c07e-d3f3-4e28-b374-da76ea2148d0"
      },
      "source": [
        "plot_feature_importance_boost_model(data_for_feature_importance, train_y, XGBClassifier(\n",
        "    objective='multi:softmax', \n",
        "    eval_metric='merror', \n",
        "    max_depth=4), 'XGB')"
      ],
      "execution_count": 117,
      "outputs": [
        {
          "output_type": "display_data",
          "data": {
            "image/png": "[encoded data removed]",
            "text/plain": [
              "<Figure size 1296x576 with 1 Axes>"
            ]
          },
          "metadata": {
            "needs_background": "light"
          }
        }
      ]
    },
    {
      "cell_type": "code",
      "metadata": {
        "colab": {
          "base_uri": "https://localhost:8080/",
          "height": 513
        },
        "id": "QdsCRKoqyMXT",
        "outputId": "65dbfb81-f817-43cf-877a-ef2e64d82ee5"
      },
      "source": [
        "plot_feature_importance_boost_model(data_for_feature_importance, train_y, GradientBoostingClassifier(), 'GB')"
      ],
      "execution_count": 118,
      "outputs": [
        {
          "output_type": "display_data",
          "data": {
            "image/png": "[encoded data removed]",
            "text/plain": [
              "<Figure size 1296x576 with 1 Axes>"
            ]
          },
          "metadata": {
            "needs_background": "light"
          }
        }
      ]
    },
    {
      "cell_type": "markdown",
      "metadata": {
        "id": "f25D_ZZruyKL"
      },
      "source": [
        "# Stacking Classifier "
      ]
    },
    {
      "cell_type": "markdown",
      "metadata": {
        "id": "d7n_z7NfydER"
      },
      "source": [
        "Hyperparameter tuning"
      ]
    },
    {
      "cell_type": "code",
      "metadata": {
        "colab": {
          "base_uri": "https://localhost:8080/"
        },
        "id": "oz59GctMzX26",
        "outputId": "3c6dd9c9-f46e-4e65-eff1-e3f8ab803c92"
      },
      "source": [
        "c_list = [0.01, 0.05, 0.1, 0.2, 0.33, 0.5, 1]\n",
        "grid={\"C\":c_list}\n",
        "logreg=LogisticRegression()\n",
        "logreg_cv=GridSearchCV(logreg, grid, cv=10)\n",
        "logreg_cv.fit(fea_eng_train,train_y)\n",
        "\n",
        "print(\"tuned hyperparameters :(best parameters) \", logreg_cv.best_params_)\n",
        "print(\"accuracy :\", logreg_cv.best_score_)"
      ],
      "execution_count": null,
      "outputs": [
        {
          "output_type": "stream",
          "name": "stdout",
          "text": [
            "tuned hyperparameters :(best parameters)  {'C': 0.1}\n",
            "accuracy : 0.8217336683417085\n"
          ]
        }
      ]
    },
    {
      "cell_type": "code",
      "metadata": {
        "colab": {
          "base_uri": "https://localhost:8080/"
        },
        "id": "G_L7c9jsu1OF",
        "outputId": "c9769dcd-73e1-40d8-d74b-76d82e85ea90"
      },
      "source": [
        "max_depth_list = [4, 5, 6, 7, 8, 9, 10]\n",
        "grid={\"max_depth\": max_depth_list}\n",
        "\n",
        "rf_clf = RandomForestClassifier()\n",
        "rf_cv = GridSearchCV(rf_clf, grid, cv=10)\n",
        "rf_cv.fit(fea_eng_train, train_y)\n",
        "\n",
        "print(\"tuned hyperparameters :(best parameters) \", rf_cv.best_params_)\n",
        "print(\"accuracy :\", rf_cv.best_score_)\n"
      ],
      "execution_count": null,
      "outputs": [
        {
          "output_type": "stream",
          "name": "stdout",
          "text": [
            "tuned hyperparameters :(best parameters)  {'max_depth': 10}\n",
            "accuracy : 0.8793760469011724\n"
          ]
        }
      ]
    },
    {
      "cell_type": "code",
      "metadata": {
        "colab": {
          "base_uri": "https://localhost:8080/"
        },
        "id": "nHNCUqv2yvDe",
        "outputId": "e706eb9e-b362-40ef-f2f8-1ab992f16ede"
      },
      "source": [
        "# https://xgboost.readthedocs.io/en/latest/parameter.html\n",
        "params_xgb = { \n",
        "        # Increasing this value will make the model more complex and more likely to overfit        \n",
        "        'max_depth': [3, 4, 5],    \n",
        "        'learning_rate': [0.02, 0.05, 0.1, 0.3],\n",
        "        'n_estimators' : [10, 50, 100]     \n",
        "        }\n",
        "\n",
        "xgb_clf = XGBClassifier()\n",
        "xgb_cv=GridSearchCV(xgb_clf, params_xgb, cv=3)\n",
        "xgb_cv.fit(fea_eng_train, train_y)\n",
        "print(\"tuned hyperparameters :(best parameters) \", xgb_cv.best_params_)\n",
        "print(\"accuracy :\", xgb_cv.best_score_)"
      ],
      "execution_count": null,
      "outputs": [
        {
          "output_type": "stream",
          "name": "stdout",
          "text": [
            "tuned hyperparameters :(best parameters)  {'colsample_bytree': 0.5, 'max_depth': 5, 'n_estimators': 150}\n",
            "accuracy : 0.88142797319933\n"
          ]
        }
      ]
    },
    {
      "cell_type": "code",
      "metadata": {
        "colab": {
          "base_uri": "https://localhost:8080/"
        },
        "id": "f_Zz7hKk6mCt",
        "outputId": "1625a21e-d4af-4c4c-8728-17870ab7d627"
      },
      "source": [
        "n_neighbors = [5, 7, 9, 11, 13, 15, 17, 19, 21]\n",
        "p=[1,2]\n",
        "knn_params = dict(n_neighbors=n_neighbors, p=p)\n",
        "\n",
        "knn = KNeighborsClassifier()\n",
        "knn_cv=GridSearchCV(knn, knn_params, cv=3)\n",
        "knn_cv.fit(fea_eng_train,train_y)\n",
        "\n",
        "print(\"tuned hyperparameters :(best parameters) \", knn_cv.best_params_)\n",
        "print(\"accuracy :\", knn_cv.best_score_)"
      ],
      "execution_count": null,
      "outputs": [
        {
          "output_type": "stream",
          "name": "stdout",
          "text": [
            "tuned hyperparameters :(best parameters)  {'n_neighbors': 19, 'p': 2}\n",
            "accuracy : 0.8971105527638191\n"
          ]
        }
      ]
    },
    {
      "cell_type": "code",
      "metadata": {
        "id": "O1tQELZAy_wP"
      },
      "source": [
        "models = [\n",
        "          ('xgb',  XGBClassifier(\n",
        "                    objective='multi:softprob', \n",
        "                    eval_metric='merror', \n",
        "                    colsample_bytree=1, \n",
        "                    learning_rate=0.02, \n",
        "                    max_depth=4, \n",
        "                    n_estimators=10,\n",
        "                    )\n",
        "          ),\n",
        "          ('gb',  GradientBoostingClassifier()),\n",
        "          ('svc', SVC(C=0.1, random_state=42)),\n",
        "          ('rf', RandomForestClassifier(max_depth=7))\n",
        "          ]"
      ],
      "execution_count": 119,
      "outputs": []
    },
    {
      "cell_type": "code",
      "metadata": {
        "id": "QsvYQrOa5nHo"
      },
      "source": [
        "clf_lr = StackingClassifier(\n",
        "    estimators=models, \n",
        "    final_estimator=LogisticRegression(C=0.1, multi_class='multinomial', solver='lbfgs')\n",
        ")"
      ],
      "execution_count": 120,
      "outputs": []
    },
    {
      "cell_type": "code",
      "metadata": {
        "colab": {
          "base_uri": "https://localhost:8080/"
        },
        "id": "mDEEoqLq5pq5",
        "outputId": "7a5cd9e7-33ef-4c1e-b96f-1ea35dac2917"
      },
      "source": [
        "clf_lr.fit(fea_eng_train, train_y)"
      ],
      "execution_count": 121,
      "outputs": [
        {
          "output_type": "execute_result",
          "data": {
            "text/plain": [
              "StackingClassifier(cv=None,\n",
              "                   estimators=[('xgb',\n",
              "                                XGBClassifier(base_score=0.5, booster='gbtree',\n",
              "                                              colsample_bylevel=1,\n",
              "                                              colsample_bynode=1,\n",
              "                                              colsample_bytree=1,\n",
              "                                              eval_metric='merror', gamma=0,\n",
              "                                              learning_rate=0.02,\n",
              "                                              max_delta_step=0, max_depth=4,\n",
              "                                              min_child_weight=1, missing=None,\n",
              "                                              n_estimators=10, n_jobs=1,\n",
              "                                              nthread=None,\n",
              "                                              objective='multi:softprob',\n",
              "                                              random_state=0, reg_alpha=0...\n",
              "                                                       random_state=None,\n",
              "                                                       verbose=0,\n",
              "                                                       warm_start=False))],\n",
              "                   final_estimator=LogisticRegression(C=0.1, class_weight=None,\n",
              "                                                      dual=False,\n",
              "                                                      fit_intercept=True,\n",
              "                                                      intercept_scaling=1,\n",
              "                                                      l1_ratio=None,\n",
              "                                                      max_iter=100,\n",
              "                                                      multi_class='multinomial',\n",
              "                                                      n_jobs=None, penalty='l2',\n",
              "                                                      random_state=None,\n",
              "                                                      solver='lbfgs',\n",
              "                                                      tol=0.0001, verbose=0,\n",
              "                                                      warm_start=False),\n",
              "                   n_jobs=None, passthrough=False, stack_method='auto',\n",
              "                   verbose=0)"
            ]
          },
          "metadata": {},
          "execution_count": 121
        }
      ]
    },
    {
      "cell_type": "code",
      "metadata": {
        "id": "CW43kCq_8Rjb"
      },
      "source": [
        "labels_stacking_lr = clf_lr.predict(fea_eng_test)"
      ],
      "execution_count": 122,
      "outputs": []
    },
    {
      "cell_type": "code",
      "metadata": {
        "colab": {
          "base_uri": "https://localhost:8080/"
        },
        "id": "LwGBH_xL8cBk",
        "outputId": "84c914be-cefb-44fe-ecfa-cb4811ee341e"
      },
      "source": [
        "label_percentages(labels_stacking_lr)"
      ],
      "execution_count": 123,
      "outputs": [
        {
          "output_type": "execute_result",
          "data": {
            "text/plain": [
              "((5765, 350, 1205),\n",
              " (0.787568306010929, 0.04781420765027322, 0.1646174863387978),\n",
              " 7320)"
            ]
          },
          "metadata": {},
          "execution_count": 123
        }
      ]
    },
    {
      "cell_type": "markdown",
      "metadata": {
        "id": "Lx6LR9uw8m_J"
      },
      "source": [
        "# Submission "
      ]
    },
    {
      "cell_type": "code",
      "metadata": {
        "id": "-ifplE4h8pnp",
        "colab": {
          "base_uri": "https://localhost:8080/",
          "height": 419
        },
        "outputId": "70c82bfd-e7a9-4e8b-a62b-bdd9c8d231d5"
      },
      "source": [
        "from google.colab import files\n",
        "sub.iloc[:,1] = labels_stacking_lr\n",
        "sub"
      ],
      "execution_count": 124,
      "outputs": [
        {
          "output_type": "execute_result",
          "data": {
            "text/html": [
              "<div>\n",
              "<style scoped>\n",
              "    .dataframe tbody tr th:only-of-type {\n",
              "        vertical-align: middle;\n",
              "    }\n",
              "\n",
              "    .dataframe tbody tr th {\n",
              "        vertical-align: top;\n",
              "    }\n",
              "\n",
              "    .dataframe thead th {\n",
              "        text-align: right;\n",
              "    }\n",
              "</style>\n",
              "<table border=\"1\" class=\"dataframe\">\n",
              "  <thead>\n",
              "    <tr style=\"text-align: right;\">\n",
              "      <th></th>\n",
              "      <th>S.No</th>\n",
              "      <th>LABELS</th>\n",
              "    </tr>\n",
              "  </thead>\n",
              "  <tbody>\n",
              "    <tr>\n",
              "      <th>0</th>\n",
              "      <td>0</td>\n",
              "      <td>0</td>\n",
              "    </tr>\n",
              "    <tr>\n",
              "      <th>1</th>\n",
              "      <td>1</td>\n",
              "      <td>0</td>\n",
              "    </tr>\n",
              "    <tr>\n",
              "      <th>2</th>\n",
              "      <td>2</td>\n",
              "      <td>0</td>\n",
              "    </tr>\n",
              "    <tr>\n",
              "      <th>3</th>\n",
              "      <td>3</td>\n",
              "      <td>0</td>\n",
              "    </tr>\n",
              "    <tr>\n",
              "      <th>4</th>\n",
              "      <td>4</td>\n",
              "      <td>0</td>\n",
              "    </tr>\n",
              "    <tr>\n",
              "      <th>...</th>\n",
              "      <td>...</td>\n",
              "      <td>...</td>\n",
              "    </tr>\n",
              "    <tr>\n",
              "      <th>7315</th>\n",
              "      <td>7315</td>\n",
              "      <td>0</td>\n",
              "    </tr>\n",
              "    <tr>\n",
              "      <th>7316</th>\n",
              "      <td>7316</td>\n",
              "      <td>1</td>\n",
              "    </tr>\n",
              "    <tr>\n",
              "      <th>7317</th>\n",
              "      <td>7317</td>\n",
              "      <td>1</td>\n",
              "    </tr>\n",
              "    <tr>\n",
              "      <th>7318</th>\n",
              "      <td>7318</td>\n",
              "      <td>1</td>\n",
              "    </tr>\n",
              "    <tr>\n",
              "      <th>7319</th>\n",
              "      <td>7319</td>\n",
              "      <td>1</td>\n",
              "    </tr>\n",
              "  </tbody>\n",
              "</table>\n",
              "<p>7320 rows × 2 columns</p>\n",
              "</div>"
            ],
            "text/plain": [
              "      S.No  LABELS\n",
              "0        0       0\n",
              "1        1       0\n",
              "2        2       0\n",
              "3        3       0\n",
              "4        4       0\n",
              "...    ...     ...\n",
              "7315  7315       0\n",
              "7316  7316       1\n",
              "7317  7317       1\n",
              "7318  7318       1\n",
              "7319  7319       1\n",
              "\n",
              "[7320 rows x 2 columns]"
            ]
          },
          "metadata": {},
          "execution_count": 124
        }
      ]
    },
    {
      "cell_type": "code",
      "metadata": {
        "id": "uKLre-_X8q6o",
        "colab": {
          "base_uri": "https://localhost:8080/",
          "height": 17
        },
        "outputId": "ae518a8c-e7ca-4266-f94f-9a030e0044cb"
      },
      "source": [
        "sub.to_csv('submissionlabels_stacking_lr.csv', index=False)\n",
        "files.download('submissionlabels_stacking_lr.csv')"
      ],
      "execution_count": 125,
      "outputs": [
        {
          "output_type": "display_data",
          "data": {
            "application/javascript": [
              "\n",
              "    async function download(id, filename, size) {\n",
              "      if (!google.colab.kernel.accessAllowed) {\n",
              "        return;\n",
              "      }\n",
              "      const div = document.createElement('div');\n",
              "      const label = document.createElement('label');\n",
              "      label.textContent = `Downloading \"${filename}\": `;\n",
              "      div.appendChild(label);\n",
              "      const progress = document.createElement('progress');\n",
              "      progress.max = size;\n",
              "      div.appendChild(progress);\n",
              "      document.body.appendChild(div);\n",
              "\n",
              "      const buffers = [];\n",
              "      let downloaded = 0;\n",
              "\n",
              "      const channel = await google.colab.kernel.comms.open(id);\n",
              "      // Send a message to notify the kernel that we're ready.\n",
              "      channel.send({})\n",
              "\n",
              "      for await (const message of channel.messages) {\n",
              "        // Send a message to notify the kernel that we're ready.\n",
              "        channel.send({})\n",
              "        if (message.buffers) {\n",
              "          for (const buffer of message.buffers) {\n",
              "            buffers.push(buffer);\n",
              "            downloaded += buffer.byteLength;\n",
              "            progress.value = downloaded;\n",
              "          }\n",
              "        }\n",
              "      }\n",
              "      const blob = new Blob(buffers, {type: 'application/binary'});\n",
              "      const a = document.createElement('a');\n",
              "      a.href = window.URL.createObjectURL(blob);\n",
              "      a.download = filename;\n",
              "      div.appendChild(a);\n",
              "      a.click();\n",
              "      div.remove();\n",
              "    }\n",
              "  "
            ],
            "text/plain": [
              "<IPython.core.display.Javascript object>"
            ]
          },
          "metadata": {}
        },
        {
          "output_type": "display_data",
          "data": {
            "application/javascript": [
              "download(\"download_d7ed6f2a-fba9-4689-a47d-c06f880c7820\", \"submissionlabels_stacking_lr.csv\", 50142)"
            ],
            "text/plain": [
              "<IPython.core.display.Javascript object>"
            ]
          },
          "metadata": {}
        }
      ]
    }
  ]
}