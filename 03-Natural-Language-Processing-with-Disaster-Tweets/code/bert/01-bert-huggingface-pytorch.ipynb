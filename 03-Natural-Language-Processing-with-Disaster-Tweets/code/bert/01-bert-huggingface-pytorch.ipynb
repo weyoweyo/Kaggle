{
 "cells": [
  {
   "cell_type": "code",
   "execution_count": 1,
   "id": "2e6956ad",
   "metadata": {
    "_cell_guid": "b1076dfc-b9ad-4769-8c92-a6c4dae69d19",
    "_uuid": "8f2839f25d086af736a60e9eeb907d3b93b6e0e5",
    "execution": {
     "iopub.execute_input": "2022-01-21T19:59:56.808419Z",
     "iopub.status.busy": "2022-01-21T19:59:56.806906Z",
     "iopub.status.idle": "2022-01-21T19:59:56.820058Z",
     "shell.execute_reply": "2022-01-21T19:59:56.821136Z",
     "shell.execute_reply.started": "2022-01-21T07:11:12.193943Z"
    },
    "papermill": {
     "duration": 0.043015,
     "end_time": "2022-01-21T19:59:56.821399",
     "exception": false,
     "start_time": "2022-01-21T19:59:56.778384",
     "status": "completed"
    },
    "tags": []
   },
   "outputs": [
    {
     "name": "stdout",
     "output_type": "stream",
     "text": [
      "/kaggle/input/nlp-getting-started/sample_submission.csv\n",
      "/kaggle/input/nlp-getting-started/train.csv\n",
      "/kaggle/input/nlp-getting-started/test.csv\n"
     ]
    }
   ],
   "source": [
    "# This Python 3 environment comes with many helpful analytics libraries installed\n",
    "# It is defined by the kaggle/python Docker image: https://github.com/kaggle/docker-python\n",
    "# For example, here's several helpful packages to load\n",
    "import re\n",
    "import numpy as np # linear algebra\n",
    "import pandas as pd # data processing, CSV file I/O (e.g. pd.read_csv)\n",
    "\n",
    "# Input data files are available in the read-only \"../input/\" directory\n",
    "# For example, running this (by clicking run or pressing Shift+Enter) will list all files under the input directory\n",
    "\n",
    "import os\n",
    "for dirname, _, filenames in os.walk('/kaggle/input'):\n",
    "    for filename in filenames:\n",
    "        print(os.path.join(dirname, filename))\n",
    "\n",
    "# You can write up to 20GB to the current directory (/kaggle/working/) that gets preserved as output when you create a version using \"Save & Run All\" \n",
    "# You can also write temporary files to /kaggle/temp/, but they won't be saved outside of the current session"
   ]
  },
  {
   "cell_type": "markdown",
   "id": "fee754ed",
   "metadata": {
    "papermill": {
     "duration": 0.04023,
     "end_time": "2022-01-21T19:59:56.889577",
     "exception": false,
     "start_time": "2022-01-21T19:59:56.849347",
     "status": "completed"
    },
    "tags": []
   },
   "source": [
    "Reference: https://www.kaggle.com/vishalsiram50/fine-tuning-bert-88-accuracy"
   ]
  },
  {
   "cell_type": "code",
   "execution_count": 2,
   "id": "f8a38401",
   "metadata": {
    "execution": {
     "iopub.execute_input": "2022-01-21T19:59:56.958658Z",
     "iopub.status.busy": "2022-01-21T19:59:56.957873Z",
     "iopub.status.idle": "2022-01-21T20:00:08.496705Z",
     "shell.execute_reply": "2022-01-21T20:00:08.497196Z",
     "shell.execute_reply.started": "2022-01-21T05:29:06.839922Z"
    },
    "papermill": {
     "duration": 11.577734,
     "end_time": "2022-01-21T20:00:08.497355",
     "exception": false,
     "start_time": "2022-01-21T19:59:56.919621",
     "status": "completed"
    },
    "tags": []
   },
   "outputs": [
    {
     "name": "stdout",
     "output_type": "stream",
     "text": [
      "Collecting transformers==2.8.0\r\n",
      "  Downloading transformers-2.8.0-py3-none-any.whl (563 kB)\r\n",
      "     |████████████████████████████████| 563 kB 4.3 MB/s            \r\n",
      "\u001b[?25hRequirement already satisfied: filelock in /opt/conda/lib/python3.7/site-packages (from transformers==2.8.0) (3.3.2)\r\n",
      "Requirement already satisfied: regex!=2019.12.17 in /opt/conda/lib/python3.7/site-packages (from transformers==2.8.0) (2021.11.10)\r\n",
      "Requirement already satisfied: sacremoses in /opt/conda/lib/python3.7/site-packages (from transformers==2.8.0) (0.0.46)\r\n",
      "Requirement already satisfied: numpy in /opt/conda/lib/python3.7/site-packages (from transformers==2.8.0) (1.19.5)\r\n",
      "Requirement already satisfied: requests in /opt/conda/lib/python3.7/site-packages (from transformers==2.8.0) (2.26.0)\r\n",
      "Requirement already satisfied: tqdm>=4.27 in /opt/conda/lib/python3.7/site-packages (from transformers==2.8.0) (4.62.3)\r\n",
      "Requirement already satisfied: sentencepiece in /opt/conda/lib/python3.7/site-packages (from transformers==2.8.0) (0.1.96)\r\n",
      "Requirement already satisfied: boto3 in /opt/conda/lib/python3.7/site-packages (from transformers==2.8.0) (1.20.26)\r\n",
      "Collecting tokenizers==0.5.2\r\n",
      "  Downloading tokenizers-0.5.2-cp37-cp37m-manylinux1_x86_64.whl (5.6 MB)\r\n",
      "     |████████████████████████████████| 5.6 MB 56.4 MB/s            \r\n",
      "\u001b[?25hRequirement already satisfied: botocore<1.24.0,>=1.23.26 in /opt/conda/lib/python3.7/site-packages (from boto3->transformers==2.8.0) (1.23.26)\r\n",
      "Requirement already satisfied: jmespath<1.0.0,>=0.7.1 in /opt/conda/lib/python3.7/site-packages (from boto3->transformers==2.8.0) (0.10.0)\r\n",
      "Requirement already satisfied: s3transfer<0.6.0,>=0.5.0 in /opt/conda/lib/python3.7/site-packages (from boto3->transformers==2.8.0) (0.5.0)\r\n",
      "Requirement already satisfied: certifi>=2017.4.17 in /opt/conda/lib/python3.7/site-packages (from requests->transformers==2.8.0) (2021.10.8)\r\n",
      "Requirement already satisfied: urllib3<1.27,>=1.21.1 in /opt/conda/lib/python3.7/site-packages (from requests->transformers==2.8.0) (1.26.7)\r\n",
      "Requirement already satisfied: charset-normalizer~=2.0.0 in /opt/conda/lib/python3.7/site-packages (from requests->transformers==2.8.0) (2.0.8)\r\n",
      "Requirement already satisfied: idna<4,>=2.5 in /opt/conda/lib/python3.7/site-packages (from requests->transformers==2.8.0) (3.1)\r\n",
      "Requirement already satisfied: joblib in /opt/conda/lib/python3.7/site-packages (from sacremoses->transformers==2.8.0) (1.1.0)\r\n",
      "Requirement already satisfied: six in /opt/conda/lib/python3.7/site-packages (from sacremoses->transformers==2.8.0) (1.16.0)\r\n",
      "Requirement already satisfied: click in /opt/conda/lib/python3.7/site-packages (from sacremoses->transformers==2.8.0) (8.0.3)\r\n",
      "Requirement already satisfied: python-dateutil<3.0.0,>=2.1 in /opt/conda/lib/python3.7/site-packages (from botocore<1.24.0,>=1.23.26->boto3->transformers==2.8.0) (2.8.0)\r\n",
      "Requirement already satisfied: importlib-metadata in /opt/conda/lib/python3.7/site-packages (from click->sacremoses->transformers==2.8.0) (4.10.0)\r\n",
      "Requirement already satisfied: typing-extensions>=3.6.4 in /opt/conda/lib/python3.7/site-packages (from importlib-metadata->click->sacremoses->transformers==2.8.0) (3.10.0.2)\r\n",
      "Requirement already satisfied: zipp>=0.5 in /opt/conda/lib/python3.7/site-packages (from importlib-metadata->click->sacremoses->transformers==2.8.0) (3.6.0)\r\n",
      "Installing collected packages: tokenizers, transformers\r\n",
      "  Attempting uninstall: tokenizers\r\n",
      "    Found existing installation: tokenizers 0.10.3\r\n",
      "    Uninstalling tokenizers-0.10.3:\r\n",
      "      Successfully uninstalled tokenizers-0.10.3\r\n",
      "  Attempting uninstall: transformers\r\n",
      "    Found existing installation: transformers 4.12.5\r\n",
      "    Uninstalling transformers-4.12.5:\r\n",
      "      Successfully uninstalled transformers-4.12.5\r\n",
      "\u001b[31mERROR: pip's dependency resolver does not currently take into account all the packages that are installed. This behaviour is the source of the following dependency conflicts.\r\n",
      "allennlp 2.8.0 requires transformers<4.13,>=4.1, but you have transformers 2.8.0 which is incompatible.\u001b[0m\r\n",
      "Successfully installed tokenizers-0.5.2 transformers-2.8.0\r\n",
      "\u001b[33mWARNING: Running pip as the 'root' user can result in broken permissions and conflicting behaviour with the system package manager. It is recommended to use a virtual environment instead: https://pip.pypa.io/warnings/venv\u001b[0m\r\n"
     ]
    }
   ],
   "source": [
    "!pip install transformers==2.8.0"
   ]
  },
  {
   "cell_type": "code",
   "execution_count": 3,
   "id": "63941613",
   "metadata": {
    "execution": {
     "iopub.execute_input": "2022-01-21T20:00:08.560583Z",
     "iopub.status.busy": "2022-01-21T20:00:08.560072Z",
     "iopub.status.idle": "2022-01-21T20:00:08.634996Z",
     "shell.execute_reply": "2022-01-21T20:00:08.634492Z",
     "shell.execute_reply.started": "2022-01-21T06:28:23.098581Z"
    },
    "papermill": {
     "duration": 0.108983,
     "end_time": "2022-01-21T20:00:08.635119",
     "exception": false,
     "start_time": "2022-01-21T20:00:08.526136",
     "status": "completed"
    },
    "tags": []
   },
   "outputs": [],
   "source": [
    "train = pd.read_csv('../input/nlp-getting-started/train.csv')\n",
    "test = pd.read_csv('../input/nlp-getting-started/test.csv')\n",
    "submission = pd.read_csv('../input/nlp-getting-started/sample_submission.csv')"
   ]
  },
  {
   "cell_type": "markdown",
   "id": "e45b709e",
   "metadata": {
    "papermill": {
     "duration": 0.027735,
     "end_time": "2022-01-21T20:00:08.690977",
     "exception": false,
     "start_time": "2022-01-21T20:00:08.663242",
     "status": "completed"
    },
    "tags": []
   },
   "source": [
    "Data cleaning"
   ]
  },
  {
   "cell_type": "code",
   "execution_count": 4,
   "id": "c9a4f1a2",
   "metadata": {
    "execution": {
     "iopub.execute_input": "2022-01-21T20:00:08.759954Z",
     "iopub.status.busy": "2022-01-21T20:00:08.759250Z",
     "iopub.status.idle": "2022-01-21T20:00:08.771245Z",
     "shell.execute_reply": "2022-01-21T20:00:08.771745Z",
     "shell.execute_reply.started": "2022-01-21T06:28:44.78587Z"
    },
    "papermill": {
     "duration": 0.048574,
     "end_time": "2022-01-21T20:00:08.771870",
     "exception": false,
     "start_time": "2022-01-21T20:00:08.723296",
     "status": "completed"
    },
    "tags": []
   },
   "outputs": [
    {
     "data": {
      "text/html": [
       "<div>\n",
       "<style scoped>\n",
       "    .dataframe tbody tr th:only-of-type {\n",
       "        vertical-align: middle;\n",
       "    }\n",
       "\n",
       "    .dataframe tbody tr th {\n",
       "        vertical-align: top;\n",
       "    }\n",
       "\n",
       "    .dataframe thead th {\n",
       "        text-align: right;\n",
       "    }\n",
       "</style>\n",
       "<table border=\"1\" class=\"dataframe\">\n",
       "  <thead>\n",
       "    <tr style=\"text-align: right;\">\n",
       "      <th></th>\n",
       "      <th>id</th>\n",
       "      <th>keyword</th>\n",
       "      <th>location</th>\n",
       "      <th>text</th>\n",
       "      <th>target</th>\n",
       "    </tr>\n",
       "  </thead>\n",
       "  <tbody>\n",
       "    <tr>\n",
       "      <th>0</th>\n",
       "      <td>1</td>\n",
       "      <td>NaN</td>\n",
       "      <td>NaN</td>\n",
       "      <td>Our Deeds are the Reason of this #earthquake M...</td>\n",
       "      <td>1</td>\n",
       "    </tr>\n",
       "    <tr>\n",
       "      <th>1</th>\n",
       "      <td>4</td>\n",
       "      <td>NaN</td>\n",
       "      <td>NaN</td>\n",
       "      <td>Forest fire near La Ronge Sask. Canada</td>\n",
       "      <td>1</td>\n",
       "    </tr>\n",
       "    <tr>\n",
       "      <th>2</th>\n",
       "      <td>5</td>\n",
       "      <td>NaN</td>\n",
       "      <td>NaN</td>\n",
       "      <td>All residents asked to 'shelter in place' are ...</td>\n",
       "      <td>1</td>\n",
       "    </tr>\n",
       "    <tr>\n",
       "      <th>3</th>\n",
       "      <td>6</td>\n",
       "      <td>NaN</td>\n",
       "      <td>NaN</td>\n",
       "      <td>13,000 people receive #wildfires evacuation or...</td>\n",
       "      <td>1</td>\n",
       "    </tr>\n",
       "    <tr>\n",
       "      <th>4</th>\n",
       "      <td>7</td>\n",
       "      <td>NaN</td>\n",
       "      <td>NaN</td>\n",
       "      <td>Just got sent this photo from Ruby #Alaska as ...</td>\n",
       "      <td>1</td>\n",
       "    </tr>\n",
       "  </tbody>\n",
       "</table>\n",
       "</div>"
      ],
      "text/plain": [
       "   id keyword location                                               text  \\\n",
       "0   1     NaN      NaN  Our Deeds are the Reason of this #earthquake M...   \n",
       "1   4     NaN      NaN             Forest fire near La Ronge Sask. Canada   \n",
       "2   5     NaN      NaN  All residents asked to 'shelter in place' are ...   \n",
       "3   6     NaN      NaN  13,000 people receive #wildfires evacuation or...   \n",
       "4   7     NaN      NaN  Just got sent this photo from Ruby #Alaska as ...   \n",
       "\n",
       "   target  \n",
       "0       1  \n",
       "1       1  \n",
       "2       1  \n",
       "3       1  \n",
       "4       1  "
      ]
     },
     "execution_count": 4,
     "metadata": {},
     "output_type": "execute_result"
    }
   ],
   "source": [
    "train.head()"
   ]
  },
  {
   "cell_type": "code",
   "execution_count": 5,
   "id": "fab1eaae",
   "metadata": {
    "execution": {
     "iopub.execute_input": "2022-01-21T20:00:08.835870Z",
     "iopub.status.busy": "2022-01-21T20:00:08.835374Z",
     "iopub.status.idle": "2022-01-21T20:00:08.840720Z",
     "shell.execute_reply": "2022-01-21T20:00:08.840303Z",
     "shell.execute_reply.started": "2022-01-21T06:28:52.271584Z"
    },
    "papermill": {
     "duration": 0.040649,
     "end_time": "2022-01-21T20:00:08.840819",
     "exception": false,
     "start_time": "2022-01-21T20:00:08.800170",
     "status": "completed"
    },
    "tags": []
   },
   "outputs": [
    {
     "data": {
      "text/html": [
       "<div>\n",
       "<style scoped>\n",
       "    .dataframe tbody tr th:only-of-type {\n",
       "        vertical-align: middle;\n",
       "    }\n",
       "\n",
       "    .dataframe tbody tr th {\n",
       "        vertical-align: top;\n",
       "    }\n",
       "\n",
       "    .dataframe thead th {\n",
       "        text-align: right;\n",
       "    }\n",
       "</style>\n",
       "<table border=\"1\" class=\"dataframe\">\n",
       "  <thead>\n",
       "    <tr style=\"text-align: right;\">\n",
       "      <th></th>\n",
       "      <th>id</th>\n",
       "      <th>keyword</th>\n",
       "      <th>location</th>\n",
       "      <th>text</th>\n",
       "    </tr>\n",
       "  </thead>\n",
       "  <tbody>\n",
       "    <tr>\n",
       "      <th>0</th>\n",
       "      <td>0</td>\n",
       "      <td>NaN</td>\n",
       "      <td>NaN</td>\n",
       "      <td>Just happened a terrible car crash</td>\n",
       "    </tr>\n",
       "    <tr>\n",
       "      <th>1</th>\n",
       "      <td>2</td>\n",
       "      <td>NaN</td>\n",
       "      <td>NaN</td>\n",
       "      <td>Heard about #earthquake is different cities, s...</td>\n",
       "    </tr>\n",
       "    <tr>\n",
       "      <th>2</th>\n",
       "      <td>3</td>\n",
       "      <td>NaN</td>\n",
       "      <td>NaN</td>\n",
       "      <td>there is a forest fire at spot pond, geese are...</td>\n",
       "    </tr>\n",
       "    <tr>\n",
       "      <th>3</th>\n",
       "      <td>9</td>\n",
       "      <td>NaN</td>\n",
       "      <td>NaN</td>\n",
       "      <td>Apocalypse lighting. #Spokane #wildfires</td>\n",
       "    </tr>\n",
       "    <tr>\n",
       "      <th>4</th>\n",
       "      <td>11</td>\n",
       "      <td>NaN</td>\n",
       "      <td>NaN</td>\n",
       "      <td>Typhoon Soudelor kills 28 in China and Taiwan</td>\n",
       "    </tr>\n",
       "  </tbody>\n",
       "</table>\n",
       "</div>"
      ],
      "text/plain": [
       "   id keyword location                                               text\n",
       "0   0     NaN      NaN                 Just happened a terrible car crash\n",
       "1   2     NaN      NaN  Heard about #earthquake is different cities, s...\n",
       "2   3     NaN      NaN  there is a forest fire at spot pond, geese are...\n",
       "3   9     NaN      NaN           Apocalypse lighting. #Spokane #wildfires\n",
       "4  11     NaN      NaN      Typhoon Soudelor kills 28 in China and Taiwan"
      ]
     },
     "execution_count": 5,
     "metadata": {},
     "output_type": "execute_result"
    }
   ],
   "source": [
    "test.head()"
   ]
  },
  {
   "cell_type": "code",
   "execution_count": 6,
   "id": "82b7488a",
   "metadata": {
    "execution": {
     "iopub.execute_input": "2022-01-21T20:00:08.905109Z",
     "iopub.status.busy": "2022-01-21T20:00:08.904328Z",
     "iopub.status.idle": "2022-01-21T20:00:10.334960Z",
     "shell.execute_reply": "2022-01-21T20:00:10.335384Z",
     "shell.execute_reply.started": "2022-01-21T06:28:55.477213Z"
    },
    "papermill": {
     "duration": 1.466129,
     "end_time": "2022-01-21T20:00:10.335537",
     "exception": false,
     "start_time": "2022-01-21T20:00:08.869408",
     "status": "completed"
    },
    "tags": []
   },
   "outputs": [
    {
     "name": "stdout",
     "output_type": "stream",
     "text": [
      "[nltk_data] Downloading package stopwords to /usr/share/nltk_data...\n",
      "[nltk_data]   Package stopwords is already up-to-date!\n"
     ]
    }
   ],
   "source": [
    "import nltk\n",
    "# Uncomment to download \"stopwords\"\n",
    "nltk.download(\"stopwords\")\n",
    "from nltk.corpus import stopwords\n",
    "\n",
    "def text_preprocessing(s):\n",
    "    s = s.lower()\n",
    "    # Change 't to 'not'\n",
    "    s = re.sub(r\"\\'t\", \" not\", s)\n",
    "    # Remove @name\n",
    "    s = re.sub(r'(@.*?)[\\s]', ' ', s)\n",
    "    # Isolate and remove punctuations except '?'\n",
    "    s = re.sub(r'([\\'\\\"\\.\\(\\)\\!\\?\\\\\\/\\,])', r' \\1 ', s)\n",
    "    s = re.sub(r'[^\\w\\s\\?]', ' ', s)\n",
    "    # Remove some special characters\n",
    "    s = re.sub(r'([\\;\\:\\|•«\\n])', ' ', s)\n",
    "    # Remove stopwords except 'not' and 'can'\n",
    "    s = \" \".join([word for word in s.split()\n",
    "                  if word not in stopwords.words('english')\n",
    "                  or word in ['not', 'can']])\n",
    "    # Remove trailing whitespace\n",
    "    s = re.sub(r'\\s+', ' ', s).strip()\n",
    "    \n",
    "    return s"
   ]
  },
  {
   "cell_type": "markdown",
   "id": "205d22e8",
   "metadata": {
    "papermill": {
     "duration": 0.028826,
     "end_time": "2022-01-21T20:00:10.393992",
     "exception": false,
     "start_time": "2022-01-21T20:00:10.365166",
     "status": "completed"
    },
    "tags": []
   },
   "source": [
    "BERT Tokenizer"
   ]
  },
  {
   "cell_type": "code",
   "execution_count": 7,
   "id": "53c9150d",
   "metadata": {
    "execution": {
     "iopub.execute_input": "2022-01-21T20:00:10.459850Z",
     "iopub.status.busy": "2022-01-21T20:00:10.459181Z",
     "iopub.status.idle": "2022-01-21T20:00:16.899237Z",
     "shell.execute_reply": "2022-01-21T20:00:16.898755Z",
     "shell.execute_reply.started": "2022-01-21T06:29:29.803895Z"
    },
    "papermill": {
     "duration": 6.476141,
     "end_time": "2022-01-21T20:00:16.899363",
     "exception": false,
     "start_time": "2022-01-21T20:00:10.423222",
     "status": "completed"
    },
    "tags": []
   },
   "outputs": [
    {
     "data": {
      "application/vnd.jupyter.widget-view+json": {
       "model_id": "ff32516cfc914776b6d9a7e1136b0b7b",
       "version_major": 2,
       "version_minor": 0
      },
      "text/plain": [
       "Downloading:   0%|          | 0.00/232k [00:00<?, ?B/s]"
      ]
     },
     "metadata": {},
     "output_type": "display_data"
    }
   ],
   "source": [
    "# https://www.kaggle.com/vishalsiram50/fine-tuning-bert-88-accuracy\n",
    "from transformers import BertTokenizer\n",
    "\n",
    "# Load the BERT tokenizer\n",
    "tokenizer = BertTokenizer.from_pretrained('bert-base-uncased', do_lower_case=True)\n",
    "\n",
    "# Create a function to tokenize a set of texts\n",
    "def preprocessing_for_bert(data):\n",
    "    \"\"\"Perform required preprocessing steps for pretrained BERT.\n",
    "    @param    data (np.array): Array of texts to be processed.\n",
    "    @return   input_ids (torch.Tensor): Tensor of token ids to be fed to a model.\n",
    "    @return   attention_masks (torch.Tensor): Tensor of indices specifying which\n",
    "                  tokens should be attended to by the model.\n",
    "    \"\"\"\n",
    "    # Create empty lists to store outputs\n",
    "    input_ids = []\n",
    "    attention_masks = []\n",
    "\n",
    "    # For every sentence...\n",
    "    for sent in data:\n",
    "        # `encode_plus` will:\n",
    "        #    (1) Tokenize the sentence\n",
    "        #    (2) Add the `[CLS]` and `[SEP]` token to the start and end\n",
    "        #    (3) Truncate/Pad sentence to max length\n",
    "        #    (4) Map tokens to their IDs\n",
    "        #    (5) Create attention mask\n",
    "        #    (6) Return a dictionary of outputs\n",
    "        encoded_sent = tokenizer.encode_plus(\n",
    "            text=text_preprocessing(sent),  # Data preprocessing\n",
    "            add_special_tokens=True,        # Add `[CLS]` and `[SEP]`\n",
    "            max_length=MAX_LEN,             # Max length to truncate/pad\n",
    "            pad_to_max_length=True,         # Pad sentence to max length\n",
    "            #return_tensors='pt',           # Return PyTorch tensor\n",
    "            return_attention_mask=True      # Return attention mask\n",
    "            )\n",
    "        \n",
    "        # Add the outputs to the lists\n",
    "        input_ids.append(encoded_sent.get('input_ids'))\n",
    "        attention_masks.append(encoded_sent.get('attention_mask'))\n",
    "\n",
    "    # Convert lists to tensors\n",
    "    input_ids = torch.tensor(input_ids)\n",
    "    attention_masks = torch.tensor(attention_masks)\n",
    "\n",
    "    return input_ids, attention_masks"
   ]
  },
  {
   "cell_type": "code",
   "execution_count": 8,
   "id": "ffd5c88b",
   "metadata": {
    "execution": {
     "iopub.execute_input": "2022-01-21T20:00:16.966654Z",
     "iopub.status.busy": "2022-01-21T20:00:16.965873Z",
     "iopub.status.idle": "2022-01-21T20:00:23.647573Z",
     "shell.execute_reply": "2022-01-21T20:00:23.646740Z",
     "shell.execute_reply.started": "2022-01-21T06:29:35.493679Z"
    },
    "papermill": {
     "duration": 6.718499,
     "end_time": "2022-01-21T20:00:23.647707",
     "exception": false,
     "start_time": "2022-01-21T20:00:16.929208",
     "status": "completed"
    },
    "tags": []
   },
   "outputs": [
    {
     "name": "stdout",
     "output_type": "stream",
     "text": [
      "Max length:  84\n"
     ]
    }
   ],
   "source": [
    "# Concatenate train data and test data\n",
    "all_tweets = np.concatenate([train.text.values, test.text.values])\n",
    "\n",
    "# Encode our concatenated data\n",
    "encoded_tweets = [tokenizer.encode(sent, add_special_tokens=True) for sent in all_tweets]\n",
    "\n",
    "# Find the maximum length\n",
    "max_len = max([len(sent) for sent in encoded_tweets])\n",
    "print('Max length: ', max_len)"
   ]
  },
  {
   "cell_type": "code",
   "execution_count": 9,
   "id": "6999a579",
   "metadata": {
    "execution": {
     "iopub.execute_input": "2022-01-21T20:00:23.715539Z",
     "iopub.status.busy": "2022-01-21T20:00:23.714757Z",
     "iopub.status.idle": "2022-01-21T20:00:23.716748Z",
     "shell.execute_reply": "2022-01-21T20:00:23.717159Z",
     "shell.execute_reply.started": "2022-01-21T06:29:47.170261Z"
    },
    "papermill": {
     "duration": 0.039435,
     "end_time": "2022-01-21T20:00:23.717294",
     "exception": false,
     "start_time": "2022-01-21T20:00:23.677859",
     "status": "completed"
    },
    "tags": []
   },
   "outputs": [],
   "source": [
    "from sklearn.model_selection import train_test_split\n",
    "\n",
    "X = train.text.values\n",
    "y = train.target.values\n",
    "\n",
    "X_train, X_val, y_train, y_val =\\\n",
    "    train_test_split(X, y, test_size=0.1, random_state=42)"
   ]
  },
  {
   "cell_type": "code",
   "execution_count": 10,
   "id": "02e0a5f5",
   "metadata": {
    "execution": {
     "iopub.execute_input": "2022-01-21T20:00:23.779306Z",
     "iopub.status.busy": "2022-01-21T20:00:23.778527Z",
     "iopub.status.idle": "2022-01-21T20:00:23.834236Z",
     "shell.execute_reply": "2022-01-21T20:00:23.833642Z",
     "shell.execute_reply.started": "2022-01-21T06:29:50.208009Z"
    },
    "papermill": {
     "duration": 0.08735,
     "end_time": "2022-01-21T20:00:23.834384",
     "exception": false,
     "start_time": "2022-01-21T20:00:23.747034",
     "status": "completed"
    },
    "tags": []
   },
   "outputs": [
    {
     "name": "stdout",
     "output_type": "stream",
     "text": [
      "There are 1 GPU(s) available.\n",
      "Device name: Tesla P100-PCIE-16GB\n"
     ]
    }
   ],
   "source": [
    "import torch\n",
    "\n",
    "if torch.cuda.is_available():       \n",
    "    device = torch.device(\"cuda\")\n",
    "    print(f'There are {torch.cuda.device_count()} GPU(s) available.')\n",
    "    print('Device name:', torch.cuda.get_device_name(0))\n",
    "\n",
    "else:\n",
    "    print('No GPU available, using the CPU instead.')\n",
    "    device = torch.device(\"cpu\")"
   ]
  },
  {
   "cell_type": "code",
   "execution_count": 11,
   "id": "27241c70",
   "metadata": {
    "execution": {
     "iopub.execute_input": "2022-01-21T20:00:23.902150Z",
     "iopub.status.busy": "2022-01-21T20:00:23.901510Z",
     "iopub.status.idle": "2022-01-21T20:00:43.768387Z",
     "shell.execute_reply": "2022-01-21T20:00:43.768906Z",
     "shell.execute_reply.started": "2022-01-21T06:30:54.704993Z"
    },
    "papermill": {
     "duration": 19.903349,
     "end_time": "2022-01-21T20:00:43.769092",
     "exception": false,
     "start_time": "2022-01-21T20:00:23.865743",
     "status": "completed"
    },
    "tags": []
   },
   "outputs": [
    {
     "name": "stdout",
     "output_type": "stream",
     "text": [
      "Original:  Our Deeds are the Reason of this #earthquake May ALLAH Forgive us all\n",
      "Token IDs:  [101, 15616, 3114, 8372, 2089, 16455, 9641, 2149, 102, 0, 0, 0, 0, 0, 0, 0, 0, 0, 0, 0, 0, 0, 0, 0, 0, 0, 0, 0, 0, 0, 0, 0, 0, 0, 0, 0, 0, 0, 0, 0, 0, 0, 0, 0, 0, 0, 0, 0, 0, 0, 0, 0, 0, 0, 0, 0, 0, 0, 0, 0, 0, 0, 0, 0, 0, 0, 0, 0, 0, 0, 0, 0, 0, 0, 0, 0, 0, 0, 0, 0, 0, 0, 0, 0]\n",
      "Tokenizing data...\n",
      "Done!\n"
     ]
    }
   ],
   "source": [
    "# Specify `MAX_LEN`\n",
    "MAX_LEN = max_len\n",
    "\n",
    "# Print sentence 0 and its encoded token ids\n",
    "X = train.text.values\n",
    "token_ids = list(preprocessing_for_bert([X[0]])[0].squeeze().numpy())\n",
    "print('Original: ', X[0])\n",
    "print('Token IDs: ', token_ids)\n",
    "\n",
    "# Run function `preprocessing_for_bert` on the train set and the validation set\n",
    "print('Tokenizing data...')\n",
    "train_inputs, train_masks = preprocessing_for_bert(X_train)\n",
    "val_inputs, val_masks = preprocessing_for_bert(X_val)\n",
    "print('Done!')"
   ]
  },
  {
   "cell_type": "markdown",
   "id": "f739e96b",
   "metadata": {
    "papermill": {
     "duration": 0.030416,
     "end_time": "2022-01-21T20:00:43.830543",
     "exception": false,
     "start_time": "2022-01-21T20:00:43.800127",
     "status": "completed"
    },
    "tags": []
   },
   "source": [
    "Create PyTorch DataLoader"
   ]
  },
  {
   "cell_type": "code",
   "execution_count": 12,
   "id": "efec3f56",
   "metadata": {
    "execution": {
     "iopub.execute_input": "2022-01-21T20:00:43.896643Z",
     "iopub.status.busy": "2022-01-21T20:00:43.896069Z",
     "iopub.status.idle": "2022-01-21T20:00:43.905741Z",
     "shell.execute_reply": "2022-01-21T20:00:43.905318Z",
     "shell.execute_reply.started": "2022-01-21T06:31:37.945602Z"
    },
    "papermill": {
     "duration": 0.045062,
     "end_time": "2022-01-21T20:00:43.905844",
     "exception": false,
     "start_time": "2022-01-21T20:00:43.860782",
     "status": "completed"
    },
    "tags": []
   },
   "outputs": [],
   "source": [
    "from torch.utils.data import TensorDataset, DataLoader, RandomSampler, SequentialSampler\n",
    "\n",
    "# Convert other data types to torch.Tensor\n",
    "train_labels = torch.tensor(y_train)\n",
    "val_labels = torch.tensor(y_val)\n",
    "\n",
    "# For fine-tuning BERT, the authors recommend a batch size of 16 or 32.\n",
    "batch_size = 32\n",
    "\n",
    "# Create the DataLoader for our training set\n",
    "train_data = TensorDataset(train_inputs, train_masks, train_labels)\n",
    "train_sampler = RandomSampler(train_data)\n",
    "train_dataloader = DataLoader(train_data, sampler=train_sampler, batch_size=batch_size)\n",
    "\n",
    "# Create the DataLoader for our validation set\n",
    "val_data = TensorDataset(val_inputs, val_masks, val_labels)\n",
    "val_sampler = SequentialSampler(val_data)\n",
    "val_dataloader = DataLoader(val_data, sampler=val_sampler, batch_size=batch_size)"
   ]
  },
  {
   "cell_type": "markdown",
   "id": "1ccbd61b",
   "metadata": {
    "papermill": {
     "duration": 0.031877,
     "end_time": "2022-01-21T20:00:43.968002",
     "exception": false,
     "start_time": "2022-01-21T20:00:43.936125",
     "status": "completed"
    },
    "tags": []
   },
   "source": [
    " Train Model"
   ]
  },
  {
   "cell_type": "code",
   "execution_count": 13,
   "id": "43296577",
   "metadata": {
    "execution": {
     "iopub.execute_input": "2022-01-21T20:00:44.038887Z",
     "iopub.status.busy": "2022-01-21T20:00:44.038310Z",
     "iopub.status.idle": "2022-01-21T20:00:44.040839Z",
     "shell.execute_reply": "2022-01-21T20:00:44.041307Z",
     "shell.execute_reply.started": "2022-01-21T06:31:49.008407Z"
    },
    "papermill": {
     "duration": 0.041976,
     "end_time": "2022-01-21T20:00:44.041432",
     "exception": false,
     "start_time": "2022-01-21T20:00:43.999456",
     "status": "completed"
    },
    "tags": []
   },
   "outputs": [
    {
     "name": "stdout",
     "output_type": "stream",
     "text": [
      "CPU times: user 42 µs, sys: 0 ns, total: 42 µs\n",
      "Wall time: 45.3 µs\n"
     ]
    }
   ],
   "source": [
    "%%time\n",
    "import torch\n",
    "import torch.nn as nn\n",
    "from transformers import BertModel\n",
    "\n",
    "# Create the BertClassfier class\n",
    "class BertClassifier(nn.Module):\n",
    "    \"\"\"Bert Model for Classification Tasks.\n",
    "    \"\"\"\n",
    "    def __init__(self, freeze_bert=False):\n",
    "        \"\"\"\n",
    "        @param    bert: a BertModel object\n",
    "        @param    classifier: a torch.nn.Module classifier\n",
    "        @param    freeze_bert (bool): Set `False` to fine-tune the BERT model\n",
    "        \"\"\"\n",
    "        super(BertClassifier, self).__init__()\n",
    "        # Specify hidden size of BERT, hidden size of our classifier, and number of labels\n",
    "        D_in, H, D_out = 768, 50, 2\n",
    "\n",
    "        # Instantiate BERT model\n",
    "        self.bert = BertModel.from_pretrained('bert-base-uncased')\n",
    "\n",
    "        # Instantiate an one-layer feed-forward classifier\n",
    "        self.classifier = nn.Sequential(\n",
    "            nn.Linear(D_in, H),\n",
    "            nn.ReLU(),\n",
    "            #nn.Dropout(0.5),\n",
    "            nn.Linear(H, D_out)\n",
    "        )\n",
    "\n",
    "        # Freeze the BERT model\n",
    "        if freeze_bert:\n",
    "            for param in self.bert.parameters():\n",
    "                param.requires_grad = False\n",
    "        \n",
    "    def forward(self, input_ids, attention_mask):\n",
    "        \"\"\"\n",
    "        Feed input to BERT and the classifier to compute logits.\n",
    "        @param    input_ids (torch.Tensor): an input tensor with shape (batch_size,\n",
    "                      max_length)\n",
    "        @param    attention_mask (torch.Tensor): a tensor that hold attention mask\n",
    "                      information with shape (batch_size, max_length)\n",
    "        @return   logits (torch.Tensor): an output tensor with shape (batch_size,\n",
    "                      num_labels)\n",
    "        \"\"\"\n",
    "        # Feed input to BERT\n",
    "        outputs = self.bert(input_ids=input_ids,\n",
    "                            attention_mask=attention_mask)\n",
    "        \n",
    "        # Extract the last hidden state of the token `[CLS]` for classification task\n",
    "        last_hidden_state_cls = outputs[0][:, 0, :]\n",
    "\n",
    "        # Feed input to classifier to compute logits\n",
    "        logits = self.classifier(last_hidden_state_cls)\n",
    "\n",
    "        return logits"
   ]
  },
  {
   "cell_type": "markdown",
   "id": "92bf091e",
   "metadata": {
    "papermill": {
     "duration": 0.030572,
     "end_time": "2022-01-21T20:00:44.102565",
     "exception": false,
     "start_time": "2022-01-21T20:00:44.071993",
     "status": "completed"
    },
    "tags": []
   },
   "source": [
    "Optimizer & Learning Rate Scheduler"
   ]
  },
  {
   "cell_type": "code",
   "execution_count": 14,
   "id": "3d281096",
   "metadata": {
    "execution": {
     "iopub.execute_input": "2022-01-21T20:00:44.169427Z",
     "iopub.status.busy": "2022-01-21T20:00:44.168688Z",
     "iopub.status.idle": "2022-01-21T20:00:44.170683Z",
     "shell.execute_reply": "2022-01-21T20:00:44.171101Z",
     "shell.execute_reply.started": "2022-01-21T06:32:10.722629Z"
    },
    "papermill": {
     "duration": 0.038142,
     "end_time": "2022-01-21T20:00:44.171228",
     "exception": false,
     "start_time": "2022-01-21T20:00:44.133086",
     "status": "completed"
    },
    "tags": []
   },
   "outputs": [],
   "source": [
    "from transformers import AdamW, get_linear_schedule_with_warmup\n",
    "\n",
    "def initialize_model(epochs=10):\n",
    "    \"\"\"Initialize the Bert Classifier, the optimizer and the learning rate scheduler.\n",
    "    \"\"\"\n",
    "    # Instantiate Bert Classifier\n",
    "    bert_classifier = BertClassifier(freeze_bert=False)\n",
    "\n",
    "    # Tell PyTorch to run the model on GPU\n",
    "    bert_classifier.to(device)\n",
    "\n",
    "    # Create the optimizer\n",
    "    optimizer = AdamW(bert_classifier.parameters(),\n",
    "                      lr=5e-5,    # Default learning rate\n",
    "                      eps=1e-8    # Default epsilon value\n",
    "                      )\n",
    "\n",
    "    # Total number of training steps\n",
    "    total_steps = len(train_dataloader) * epochs\n",
    "\n",
    "    # Set up the learning rate scheduler\n",
    "    scheduler = get_linear_schedule_with_warmup(optimizer,\n",
    "                                                num_warmup_steps=0, # Default value\n",
    "                                                num_training_steps=total_steps)\n",
    "    return bert_classifier, optimizer, scheduler"
   ]
  },
  {
   "cell_type": "code",
   "execution_count": 15,
   "id": "6aafd81d",
   "metadata": {
    "execution": {
     "iopub.execute_input": "2022-01-21T20:00:44.237797Z",
     "iopub.status.busy": "2022-01-21T20:00:44.237130Z",
     "iopub.status.idle": "2022-01-21T20:00:44.239800Z",
     "shell.execute_reply": "2022-01-21T20:00:44.239401Z",
     "shell.execute_reply.started": "2022-01-21T06:32:16.492332Z"
    },
    "papermill": {
     "duration": 0.03752,
     "end_time": "2022-01-21T20:00:44.239901",
     "exception": false,
     "start_time": "2022-01-21T20:00:44.202381",
     "status": "completed"
    },
    "tags": []
   },
   "outputs": [],
   "source": [
    "import random\n",
    "import time\n",
    "\n",
    "# Specify loss function\n",
    "loss_fn = nn.CrossEntropyLoss()\n",
    "\n",
    "def set_seed(seed_value=42):\n",
    "    \"\"\"Set seed for reproducibility.\n",
    "    \"\"\"\n",
    "    random.seed(seed_value)\n",
    "    np.random.seed(seed_value)\n",
    "    torch.manual_seed(seed_value)\n",
    "    torch.cuda.manual_seed_all(seed_value)"
   ]
  },
  {
   "cell_type": "code",
   "execution_count": 16,
   "id": "15e11bd9",
   "metadata": {
    "execution": {
     "iopub.execute_input": "2022-01-21T20:00:44.314021Z",
     "iopub.status.busy": "2022-01-21T20:00:44.313195Z",
     "iopub.status.idle": "2022-01-21T20:00:44.314942Z",
     "shell.execute_reply": "2022-01-21T20:00:44.315710Z",
     "shell.execute_reply.started": "2022-01-21T06:32:25.977415Z"
    },
    "papermill": {
     "duration": 0.044827,
     "end_time": "2022-01-21T20:00:44.315837",
     "exception": false,
     "start_time": "2022-01-21T20:00:44.271010",
     "status": "completed"
    },
    "tags": []
   },
   "outputs": [],
   "source": [
    "def train(model, train_dataloader, val_dataloader=None, epochs=10, evaluation=False):\n",
    "    \"\"\"Train the BertClassifier model.\n",
    "    \"\"\"\n",
    "    # Start training loop\n",
    "    print(\"Start training...\\n\")\n",
    "    for epoch_i in range(epochs):\n",
    "        # =======================================\n",
    "        #               Training\n",
    "        # =======================================\n",
    "        # Print the header of the result table\n",
    "        print(f\"{'Epoch':^7} | {'Batch':^7} | {'Train Loss':^12} | {'Val Loss':^10} | {'Val Acc':^9} | {'Elapsed':^9}\")\n",
    "        print(\"-\"*70)\n",
    "\n",
    "        # Measure the elapsed time of each epoch\n",
    "        t0_epoch, t0_batch = time.time(), time.time()\n",
    "\n",
    "        # Reset tracking variables at the beginning of each epoch\n",
    "        total_loss, batch_loss, batch_counts = 0, 0, 0\n",
    "\n",
    "        # Put the model into the training mode\n",
    "        model.train()\n",
    "\n",
    "        # For each batch of training data...\n",
    "        for step, batch in enumerate(train_dataloader):\n",
    "            batch_counts +=1\n",
    "            # Load batch to GPU\n",
    "            b_input_ids, b_attn_mask, b_labels = tuple(t.to(device) for t in batch)\n",
    "\n",
    "            # Zero out any previously calculated gradients\n",
    "            model.zero_grad()\n",
    "\n",
    "            # Perform a forward pass. This will return logits.\n",
    "            logits = model(b_input_ids, b_attn_mask)\n",
    "\n",
    "            # Compute loss and accumulate the loss values\n",
    "            loss = loss_fn(logits, b_labels)\n",
    "            batch_loss += loss.item()\n",
    "            total_loss += loss.item()\n",
    "\n",
    "            # Perform a backward pass to calculate gradients\n",
    "            loss.backward()\n",
    "\n",
    "            # Clip the norm of the gradients to 1.0 to prevent \"exploding gradients\"\n",
    "            torch.nn.utils.clip_grad_norm_(model.parameters(), 1.0)\n",
    "\n",
    "            # Update parameters and the learning rate\n",
    "            optimizer.step()\n",
    "            scheduler.step()\n",
    "\n",
    "            # Print the loss values and time elapsed for every 20 batches\n",
    "            if (step % 20 == 0 and step != 0) or (step == len(train_dataloader) - 1):\n",
    "                # Calculate time elapsed for 20 batches\n",
    "                time_elapsed = time.time() - t0_batch\n",
    "\n",
    "                # Print training results\n",
    "                print(f\"{epoch_i + 1:^7} | {step:^7} | {batch_loss / batch_counts:^12.6f} | {'-':^10} | {'-':^9} | {time_elapsed:^9.2f}\")\n",
    "\n",
    "                # Reset batch tracking variables\n",
    "                batch_loss, batch_counts = 0, 0\n",
    "                t0_batch = time.time()\n",
    "\n",
    "        # Calculate the average loss over the entire training data\n",
    "        avg_train_loss = total_loss / len(train_dataloader)\n",
    "\n",
    "        print(\"-\"*70)\n",
    "        # =======================================\n",
    "        #               Evaluation\n",
    "        # =======================================\n",
    "        if evaluation == True:\n",
    "            # After the completion of each training epoch, measure the model's performance\n",
    "            # on our validation set.\n",
    "            val_loss, val_accuracy = evaluate(model, val_dataloader)\n",
    "\n",
    "            # Print performance over the entire training data\n",
    "            time_elapsed = time.time() - t0_epoch\n",
    "            \n",
    "            print(f\"{epoch_i + 1:^7} | {'-':^7} | {avg_train_loss:^12.6f} | {val_loss:^10.6f} | {val_accuracy:^9.2f} | {time_elapsed:^9.2f}\")\n",
    "            print(\"-\"*70)\n",
    "        print(\"\\n\")\n",
    "    \n",
    "    print(\"Training complete!\")"
   ]
  },
  {
   "cell_type": "code",
   "execution_count": 17,
   "id": "f9e1677f",
   "metadata": {
    "execution": {
     "iopub.execute_input": "2022-01-21T20:00:44.384209Z",
     "iopub.status.busy": "2022-01-21T20:00:44.383544Z",
     "iopub.status.idle": "2022-01-21T20:00:44.386130Z",
     "shell.execute_reply": "2022-01-21T20:00:44.385670Z",
     "shell.execute_reply.started": "2022-01-21T06:32:37.043818Z"
    },
    "papermill": {
     "duration": 0.039944,
     "end_time": "2022-01-21T20:00:44.386237",
     "exception": false,
     "start_time": "2022-01-21T20:00:44.346293",
     "status": "completed"
    },
    "tags": []
   },
   "outputs": [],
   "source": [
    "def evaluate(model, val_dataloader):\n",
    "    \"\"\"After the completion of each training epoch, measure the model's performance\n",
    "    on our validation set.\n",
    "    \"\"\"\n",
    "    # Put the model into the evaluation mode. The dropout layers are disabled during\n",
    "    # the test time.\n",
    "    model.eval()\n",
    "\n",
    "    # Tracking variables\n",
    "    val_accuracy = []\n",
    "    val_loss = []\n",
    "\n",
    "    # For each batch in our validation set...\n",
    "    for batch in val_dataloader:\n",
    "        # Load batch to GPU\n",
    "        b_input_ids, b_attn_mask, b_labels = tuple(t.to(device) for t in batch)\n",
    "\n",
    "        # Compute logits\n",
    "        with torch.no_grad():\n",
    "            logits = model(b_input_ids, b_attn_mask)\n",
    "\n",
    "        # Compute loss\n",
    "        loss = loss_fn(logits, b_labels)\n",
    "        val_loss.append(loss.item())\n",
    "\n",
    "        # Get the predictions\n",
    "        preds = torch.argmax(logits, dim=1).flatten()\n",
    "\n",
    "        # Calculate the accuracy rate\n",
    "        accuracy = (preds == b_labels).cpu().numpy().mean() * 100\n",
    "        val_accuracy.append(accuracy)\n",
    "\n",
    "    # Compute the average accuracy and loss over the validation set.\n",
    "    val_loss = np.mean(val_loss)\n",
    "    val_accuracy = np.mean(val_accuracy)\n",
    "\n",
    "    return val_loss, val_accuracy"
   ]
  },
  {
   "cell_type": "code",
   "execution_count": 18,
   "id": "a83bee1f",
   "metadata": {
    "execution": {
     "iopub.execute_input": "2022-01-21T20:00:44.455995Z",
     "iopub.status.busy": "2022-01-21T20:00:44.455474Z",
     "iopub.status.idle": "2022-01-21T20:06:22.439045Z",
     "shell.execute_reply": "2022-01-21T20:06:22.439561Z",
     "shell.execute_reply.started": "2022-01-21T06:32:57.596958Z"
    },
    "papermill": {
     "duration": 338.022953,
     "end_time": "2022-01-21T20:06:22.439844",
     "exception": false,
     "start_time": "2022-01-21T20:00:44.416891",
     "status": "completed"
    },
    "tags": []
   },
   "outputs": [
    {
     "data": {
      "application/vnd.jupyter.widget-view+json": {
       "model_id": "077e64be5f564e5186f38beae39e4b1c",
       "version_major": 2,
       "version_minor": 0
      },
      "text/plain": [
       "Downloading:   0%|          | 0.00/433 [00:00<?, ?B/s]"
      ]
     },
     "metadata": {},
     "output_type": "display_data"
    },
    {
     "data": {
      "application/vnd.jupyter.widget-view+json": {
       "model_id": "6adbe204537646a3b8ea30f0488ea4bb",
       "version_major": 2,
       "version_minor": 0
      },
      "text/plain": [
       "Downloading:   0%|          | 0.00/440M [00:00<?, ?B/s]"
      ]
     },
     "metadata": {},
     "output_type": "display_data"
    },
    {
     "name": "stdout",
     "output_type": "stream",
     "text": [
      "Start training...\n",
      "\n",
      " Epoch  |  Batch  |  Train Loss  |  Val Loss  |  Val Acc  |  Elapsed \n",
      "----------------------------------------------------------------------\n",
      "   1    |   20    |   0.630686   |     -      |     -     |   6.85   \n",
      "   1    |   40    |   0.498968   |     -      |     -     |   5.70   \n",
      "   1    |   60    |   0.469458   |     -      |     -     |   5.67   \n",
      "   1    |   80    |   0.447198   |     -      |     -     |   5.71   \n",
      "   1    |   100   |   0.382192   |     -      |     -     |   5.68   \n",
      "   1    |   120   |   0.418440   |     -      |     -     |   5.71   \n",
      "   1    |   140   |   0.403070   |     -      |     -     |   5.73   \n",
      "   1    |   160   |   0.467568   |     -      |     -     |   5.72   \n",
      "   1    |   180   |   0.418097   |     -      |     -     |   5.69   \n",
      "   1    |   200   |   0.406872   |     -      |     -     |   5.72   \n",
      "   1    |   214   |   0.409767   |     -      |     -     |   3.78   \n",
      "----------------------------------------------------------------------\n",
      "   1    |    -    |   0.452179   |  0.442143  |   80.13   |   64.13  \n",
      "----------------------------------------------------------------------\n",
      "\n",
      "\n",
      " Epoch  |  Batch  |  Train Loss  |  Val Loss  |  Val Acc  |  Elapsed \n",
      "----------------------------------------------------------------------\n",
      "   2    |   20    |   0.304676   |     -      |     -     |   6.03   \n",
      "   2    |   40    |   0.361245   |     -      |     -     |   5.68   \n",
      "   2    |   60    |   0.338875   |     -      |     -     |   5.72   \n",
      "   2    |   80    |   0.348138   |     -      |     -     |   5.68   \n",
      "   2    |   100   |   0.304051   |     -      |     -     |   5.71   \n",
      "   2    |   120   |   0.287285   |     -      |     -     |   5.71   \n",
      "   2    |   140   |   0.321142   |     -      |     -     |   5.73   \n",
      "   2    |   160   |   0.359520   |     -      |     -     |   5.70   \n",
      "   2    |   180   |   0.317806   |     -      |     -     |   5.68   \n",
      "   2    |   200   |   0.339490   |     -      |     -     |   5.69   \n",
      "   2    |   214   |   0.261501   |     -      |     -     |   3.75   \n",
      "----------------------------------------------------------------------\n",
      "   2    |    -    |   0.323769   |  0.550797  |   80.49   |   63.26  \n",
      "----------------------------------------------------------------------\n",
      "\n",
      "\n",
      " Epoch  |  Batch  |  Train Loss  |  Val Loss  |  Val Acc  |  Elapsed \n",
      "----------------------------------------------------------------------\n",
      "   3    |   20    |   0.204601   |     -      |     -     |   5.99   \n",
      "   3    |   40    |   0.221704   |     -      |     -     |   5.73   \n",
      "   3    |   60    |   0.219372   |     -      |     -     |   5.70   \n",
      "   3    |   80    |   0.223326   |     -      |     -     |   5.67   \n",
      "   3    |   100   |   0.217913   |     -      |     -     |   5.71   \n",
      "   3    |   120   |   0.220435   |     -      |     -     |   5.68   \n",
      "   3    |   140   |   0.247221   |     -      |     -     |   5.76   \n",
      "   3    |   160   |   0.214055   |     -      |     -     |   5.68   \n",
      "   3    |   180   |   0.238886   |     -      |     -     |   5.71   \n",
      "   3    |   200   |   0.223028   |     -      |     -     |   5.68   \n",
      "   3    |   214   |   0.227817   |     -      |     -     |   3.79   \n",
      "----------------------------------------------------------------------\n",
      "   3    |    -    |   0.223278   |  0.530421  |   81.69   |   63.26  \n",
      "----------------------------------------------------------------------\n",
      "\n",
      "\n",
      " Epoch  |  Batch  |  Train Loss  |  Val Loss  |  Val Acc  |  Elapsed \n",
      "----------------------------------------------------------------------\n",
      "   4    |   20    |   0.147604   |     -      |     -     |   5.98   \n",
      "   4    |   40    |   0.152590   |     -      |     -     |   5.73   \n",
      "   4    |   60    |   0.192327   |     -      |     -     |   5.69   \n",
      "   4    |   80    |   0.159640   |     -      |     -     |   5.70   \n",
      "   4    |   100   |   0.127170   |     -      |     -     |   5.69   \n",
      "   4    |   120   |   0.167519   |     -      |     -     |   5.72   \n",
      "   4    |   140   |   0.120186   |     -      |     -     |   5.70   \n",
      "   4    |   160   |   0.116377   |     -      |     -     |   5.72   \n",
      "   4    |   180   |   0.194328   |     -      |     -     |   5.70   \n",
      "   4    |   200   |   0.160976   |     -      |     -     |   5.67   \n",
      "   4    |   214   |   0.140196   |     -      |     -     |   3.76   \n",
      "----------------------------------------------------------------------\n",
      "   4    |    -    |   0.152952   |  0.648456  |   79.26   |   63.23  \n",
      "----------------------------------------------------------------------\n",
      "\n",
      "\n",
      " Epoch  |  Batch  |  Train Loss  |  Val Loss  |  Val Acc  |  Elapsed \n",
      "----------------------------------------------------------------------\n",
      "   5    |   20    |   0.110543   |     -      |     -     |   5.96   \n",
      "   5    |   40    |   0.091703   |     -      |     -     |   5.73   \n",
      "   5    |   60    |   0.113898   |     -      |     -     |   5.68   \n",
      "   5    |   80    |   0.073979   |     -      |     -     |   5.70   \n",
      "   5    |   100   |   0.086989   |     -      |     -     |   5.67   \n",
      "   5    |   120   |   0.093289   |     -      |     -     |   5.71   \n",
      "   5    |   140   |   0.118041   |     -      |     -     |   5.68   \n",
      "   5    |   160   |   0.100755   |     -      |     -     |   5.74   \n",
      "   5    |   180   |   0.096136   |     -      |     -     |   5.67   \n",
      "   5    |   200   |   0.092864   |     -      |     -     |   5.71   \n",
      "   5    |   214   |   0.091543   |     -      |     -     |   3.75   \n",
      "----------------------------------------------------------------------\n",
      "   5    |    -    |   0.097470   |  0.762761  |   79.81   |   63.18  \n",
      "----------------------------------------------------------------------\n",
      "\n",
      "\n",
      "Training complete!\n"
     ]
    }
   ],
   "source": [
    "import warnings\n",
    "warnings.filterwarnings(\"ignore\")\n",
    "set_seed(42)    # Set seed for reproducibility\n",
    "bert_classifier, optimizer, scheduler = initialize_model(epochs=5)\n",
    "train(bert_classifier, train_dataloader, val_dataloader, epochs=5, evaluation=True)"
   ]
  },
  {
   "cell_type": "code",
   "execution_count": 19,
   "id": "570362f8",
   "metadata": {
    "execution": {
     "iopub.execute_input": "2022-01-21T20:06:22.541949Z",
     "iopub.status.busy": "2022-01-21T20:06:22.541289Z",
     "iopub.status.idle": "2022-01-21T20:06:22.543907Z",
     "shell.execute_reply": "2022-01-21T20:06:22.543511Z",
     "shell.execute_reply.started": "2022-01-21T06:40:31.455075Z"
    },
    "papermill": {
     "duration": 0.056488,
     "end_time": "2022-01-21T20:06:22.544046",
     "exception": false,
     "start_time": "2022-01-21T20:06:22.487558",
     "status": "completed"
    },
    "tags": []
   },
   "outputs": [],
   "source": [
    "import torch.nn.functional as F\n",
    "\n",
    "def bert_predict(model, test_dataloader):\n",
    "    \"\"\"Perform a forward pass on the trained BERT model to predict probabilities\n",
    "    on the test set.\n",
    "    \"\"\"\n",
    "    # Put the model into the evaluation mode. The dropout layers are disabled during\n",
    "    # the test time.\n",
    "    model.eval()\n",
    "\n",
    "    all_logits = []\n",
    "\n",
    "    # For each batch in our test set...\n",
    "    for batch in test_dataloader:\n",
    "        # Load batch to GPU\n",
    "        b_input_ids, b_attn_mask = tuple(t.to(device) for t in batch)[:2]\n",
    "\n",
    "        # Compute logits\n",
    "        with torch.no_grad():\n",
    "            logits = model(b_input_ids, b_attn_mask)\n",
    "        all_logits.append(logits)\n",
    "    \n",
    "    # Concatenate logits from each batch\n",
    "    all_logits = torch.cat(all_logits, dim=0)\n",
    "\n",
    "    # Apply softmax to calculate probabilities\n",
    "    probs = F.softmax(all_logits, dim=1).cpu().numpy()\n",
    "\n",
    "    return probs"
   ]
  },
  {
   "cell_type": "code",
   "execution_count": 20,
   "id": "2487bde9",
   "metadata": {
    "execution": {
     "iopub.execute_input": "2022-01-21T20:06:22.645432Z",
     "iopub.status.busy": "2022-01-21T20:06:22.644692Z",
     "iopub.status.idle": "2022-01-21T20:06:22.646626Z",
     "shell.execute_reply": "2022-01-21T20:06:22.647061Z",
     "shell.execute_reply.started": "2022-01-21T06:40:49.605744Z"
    },
    "papermill": {
     "duration": 0.05635,
     "end_time": "2022-01-21T20:06:22.647185",
     "exception": false,
     "start_time": "2022-01-21T20:06:22.590835",
     "status": "completed"
    },
    "tags": []
   },
   "outputs": [],
   "source": [
    "from sklearn.metrics import accuracy_score, roc_curve, auc\n",
    "import matplotlib.pyplot as plt\n",
    "def evaluate_roc(probs, y_true):\n",
    "    \"\"\"\n",
    "    - Print AUC and accuracy on the test set\n",
    "    - Plot ROC\n",
    "    @params    probs (np.array): an array of predicted probabilities with shape (len(y_true), 2)\n",
    "    @params    y_true (np.array): an array of the true values with shape (len(y_true),)\n",
    "    \"\"\"\n",
    "    preds = probs[:, 1]\n",
    "    fpr, tpr, threshold = roc_curve(y_true, preds)\n",
    "    roc_auc = auc(fpr, tpr)\n",
    "    print(f'AUC: {roc_auc:.4f}')\n",
    "       \n",
    "    # Get accuracy over the test set\n",
    "    y_pred = np.where(preds >= 0.5, 1, 0)\n",
    "    accuracy = accuracy_score(y_true, y_pred)\n",
    "    print(f'Accuracy: {accuracy*100:.2f}%')\n",
    "    \n",
    "    # Plot ROC AUC\n",
    "    plt.title('Receiver Operating Characteristic')\n",
    "    plt.plot(fpr, tpr, 'b', label = 'AUC = %0.2f' % roc_auc)\n",
    "    plt.legend(loc = 'lower right')\n",
    "    plt.plot([0, 1], [0, 1],'r--')\n",
    "    plt.xlim([0, 1])\n",
    "    plt.ylim([0, 1])\n",
    "    plt.ylabel('True Positive Rate')\n",
    "    plt.xlabel('False Positive Rate')\n",
    "    plt.show()"
   ]
  },
  {
   "cell_type": "code",
   "execution_count": 21,
   "id": "2b08ff3e",
   "metadata": {
    "execution": {
     "iopub.execute_input": "2022-01-21T20:06:22.747417Z",
     "iopub.status.busy": "2022-01-21T20:06:22.746657Z",
     "iopub.status.idle": "2022-01-21T20:06:25.107230Z",
     "shell.execute_reply": "2022-01-21T20:06:25.107708Z",
     "shell.execute_reply.started": "2022-01-21T06:41:16.228893Z"
    },
    "papermill": {
     "duration": 2.412134,
     "end_time": "2022-01-21T20:06:25.107860",
     "exception": false,
     "start_time": "2022-01-21T20:06:22.695726",
     "status": "completed"
    },
    "tags": []
   },
   "outputs": [
    {
     "name": "stdout",
     "output_type": "stream",
     "text": [
      "[[0.96972656 0.03027341]\n",
      " [0.98706543 0.01293461]\n",
      " [0.66460425 0.33539578]\n",
      " ...\n",
      " [0.00705937 0.99294066]\n",
      " [0.99321413 0.00678591]\n",
      " [0.9743435  0.0256566 ]]\n",
      "AUC: 0.8585\n",
      "Accuracy: 79.92%\n"
     ]
    },
    {
     "data": {
      "image/png": "[encoded data removed]",
      "text/plain": [
       "<Figure size 432x288 with 1 Axes>"
      ]
     },
     "metadata": {
      "needs_background": "light"
     },
     "output_type": "display_data"
    }
   ],
   "source": [
    "# Compute predicted probabilities on the test set\n",
    "probs = bert_predict(bert_classifier, val_dataloader)\n",
    "print(probs)\n",
    "# Evaluate the Bert classifier\n",
    "evaluate_roc(probs, y_val)"
   ]
  },
  {
   "cell_type": "code",
   "execution_count": 22,
   "id": "069f4a48",
   "metadata": {
    "execution": {
     "iopub.execute_input": "2022-01-21T20:06:25.213750Z",
     "iopub.status.busy": "2022-01-21T20:06:25.213235Z",
     "iopub.status.idle": "2022-01-21T20:10:59.622755Z",
     "shell.execute_reply": "2022-01-21T20:10:59.623373Z",
     "shell.execute_reply.started": "2022-01-21T06:41:52.518578Z"
    },
    "papermill": {
     "duration": 274.467054,
     "end_time": "2022-01-21T20:10:59.623592",
     "exception": false,
     "start_time": "2022-01-21T20:06:25.156538",
     "status": "completed"
    },
    "tags": []
   },
   "outputs": [
    {
     "name": "stdout",
     "output_type": "stream",
     "text": [
      "Start training...\n",
      "\n",
      " Epoch  |  Batch  |  Train Loss  |  Val Loss  |  Val Acc  |  Elapsed \n",
      "----------------------------------------------------------------------\n",
      "   1    |   20    |   0.568642   |     -      |     -     |   6.00   \n",
      "   1    |   40    |   0.489699   |     -      |     -     |   5.78   \n",
      "   1    |   60    |   0.468779   |     -      |     -     |   5.68   \n",
      "   1    |   80    |   0.443554   |     -      |     -     |   5.72   \n",
      "   1    |   100   |   0.500796   |     -      |     -     |   5.68   \n",
      "   1    |   120   |   0.453577   |     -      |     -     |   5.73   \n",
      "   1    |   140   |   0.447424   |     -      |     -     |   5.73   \n",
      "   1    |   160   |   0.451307   |     -      |     -     |   5.74   \n",
      "   1    |   180   |   0.393817   |     -      |     -     |   5.71   \n",
      "   1    |   200   |   0.426303   |     -      |     -     |   5.68   \n",
      "   1    |   220   |   0.407856   |     -      |     -     |   5.71   \n",
      "   1    |   237   |   0.461839   |     -      |     -     |   4.83   \n",
      "----------------------------------------------------------------------\n",
      "\n",
      "\n",
      " Epoch  |  Batch  |  Train Loss  |  Val Loss  |  Val Acc  |  Elapsed \n",
      "----------------------------------------------------------------------\n",
      "   2    |   20    |   0.313142   |     -      |     -     |   6.02   \n",
      "   2    |   40    |   0.327529   |     -      |     -     |   5.71   \n",
      "   2    |   60    |   0.351558   |     -      |     -     |   5.72   \n",
      "   2    |   80    |   0.303320   |     -      |     -     |   5.68   \n",
      "   2    |   100   |   0.356762   |     -      |     -     |   5.71   \n",
      "   2    |   120   |   0.335199   |     -      |     -     |   5.70   \n",
      "   2    |   140   |   0.334583   |     -      |     -     |   5.76   \n",
      "   2    |   160   |   0.294228   |     -      |     -     |   5.68   \n",
      "   2    |   180   |   0.332536   |     -      |     -     |   5.71   \n",
      "   2    |   200   |   0.335961   |     -      |     -     |   5.68   \n",
      "   2    |   220   |   0.316614   |     -      |     -     |   5.73   \n",
      "   2    |   237   |   0.309619   |     -      |     -     |   4.84   \n",
      "----------------------------------------------------------------------\n",
      "\n",
      "\n",
      " Epoch  |  Batch  |  Train Loss  |  Val Loss  |  Val Acc  |  Elapsed \n",
      "----------------------------------------------------------------------\n",
      "   3    |   20    |   0.246063   |     -      |     -     |   6.05   \n",
      "   3    |   40    |   0.232678   |     -      |     -     |   5.68   \n",
      "   3    |   60    |   0.240451   |     -      |     -     |   5.70   \n",
      "   3    |   80    |   0.192505   |     -      |     -     |   5.68   \n",
      "   3    |   100   |   0.263933   |     -      |     -     |   5.71   \n",
      "   3    |   120   |   0.214369   |     -      |     -     |   5.70   \n",
      "   3    |   140   |   0.219244   |     -      |     -     |   5.75   \n",
      "   3    |   160   |   0.204410   |     -      |     -     |   5.68   \n",
      "   3    |   180   |   0.206428   |     -      |     -     |   5.72   \n",
      "   3    |   200   |   0.216489   |     -      |     -     |   5.69   \n",
      "   3    |   220   |   0.230608   |     -      |     -     |   5.72   \n",
      "   3    |   237   |   0.269398   |     -      |     -     |   4.84   \n",
      "----------------------------------------------------------------------\n",
      "\n",
      "\n",
      " Epoch  |  Batch  |  Train Loss  |  Val Loss  |  Val Acc  |  Elapsed \n",
      "----------------------------------------------------------------------\n",
      "   4    |   20    |   0.187253   |     -      |     -     |   6.05   \n",
      "   4    |   40    |   0.150171   |     -      |     -     |   5.69   \n",
      "   4    |   60    |   0.123171   |     -      |     -     |   5.70   \n",
      "   4    |   80    |   0.207157   |     -      |     -     |   5.70   \n",
      "   4    |   100   |   0.194495   |     -      |     -     |   5.71   \n",
      "   4    |   120   |   0.172403   |     -      |     -     |   5.72   \n",
      "   4    |   140   |   0.156055   |     -      |     -     |   5.74   \n",
      "   4    |   160   |   0.129261   |     -      |     -     |   5.72   \n",
      "   4    |   180   |   0.129247   |     -      |     -     |   5.69   \n",
      "   4    |   200   |   0.159465   |     -      |     -     |   5.72   \n",
      "   4    |   220   |   0.180979   |     -      |     -     |   5.69   \n",
      "   4    |   237   |   0.181033   |     -      |     -     |   4.88   \n",
      "----------------------------------------------------------------------\n",
      "\n",
      "\n",
      "Training complete!\n"
     ]
    }
   ],
   "source": [
    "# Concatenate the train set and the validation set\n",
    "full_train_data = torch.utils.data.ConcatDataset([train_data, val_data])\n",
    "full_train_sampler = RandomSampler(full_train_data)\n",
    "full_train_dataloader = DataLoader(full_train_data, sampler=full_train_sampler, batch_size=32)\n",
    "\n",
    "# Train the Bert Classifier on the entire training data\n",
    "set_seed(42)\n",
    "bert_classifier, optimizer, scheduler = initialize_model(epochs=4)\n",
    "train(bert_classifier, full_train_dataloader, epochs=4)"
   ]
  },
  {
   "cell_type": "markdown",
   "id": "16ef4097",
   "metadata": {
    "papermill": {
     "duration": 0.059898,
     "end_time": "2022-01-21T20:10:59.744699",
     "exception": false,
     "start_time": "2022-01-21T20:10:59.684801",
     "status": "completed"
    },
    "tags": []
   },
   "source": [
    "Predictions on Test Set"
   ]
  },
  {
   "cell_type": "code",
   "execution_count": 23,
   "id": "a90c996e",
   "metadata": {
    "execution": {
     "iopub.execute_input": "2022-01-21T20:10:59.870934Z",
     "iopub.status.busy": "2022-01-21T20:10:59.870378Z",
     "iopub.status.idle": "2022-01-21T20:11:08.305006Z",
     "shell.execute_reply": "2022-01-21T20:11:08.304542Z",
     "shell.execute_reply.started": "2022-01-21T06:45:14.061316Z"
    },
    "papermill": {
     "duration": 8.500333,
     "end_time": "2022-01-21T20:11:08.305136",
     "exception": false,
     "start_time": "2022-01-21T20:10:59.804803",
     "status": "completed"
    },
    "tags": []
   },
   "outputs": [
    {
     "name": "stdout",
     "output_type": "stream",
     "text": [
      "Tokenizing data...\n",
      "Done!\n"
     ]
    }
   ],
   "source": [
    "# Run `preprocessing_for_bert` on the test set\n",
    "print('Tokenizing data...')\n",
    "test_inputs, test_masks = preprocessing_for_bert(test.text)\n",
    "\n",
    "# Create the DataLoader for our test set\n",
    "test_dataset = TensorDataset(test_inputs, test_masks)\n",
    "test_sampler = SequentialSampler(test_dataset)\n",
    "test_dataloader = DataLoader(test_dataset, sampler=test_sampler, batch_size=32)\n",
    "print('Done!')"
   ]
  },
  {
   "cell_type": "code",
   "execution_count": 24,
   "id": "207bf776",
   "metadata": {
    "execution": {
     "iopub.execute_input": "2022-01-21T20:11:08.432658Z",
     "iopub.status.busy": "2022-01-21T20:11:08.431852Z",
     "iopub.status.idle": "2022-01-21T20:11:17.719809Z",
     "shell.execute_reply": "2022-01-21T20:11:17.720408Z",
     "shell.execute_reply.started": "2022-01-21T06:45:27.106896Z"
    },
    "papermill": {
     "duration": 9.354631,
     "end_time": "2022-01-21T20:11:17.720597",
     "exception": false,
     "start_time": "2022-01-21T20:11:08.365966",
     "status": "completed"
    },
    "tags": []
   },
   "outputs": [
    {
     "name": "stdout",
     "output_type": "stream",
     "text": [
      "[[0.0193708  0.9806292 ]\n",
      " [0.01356297 0.986437  ]\n",
      " [0.01300307 0.9869969 ]\n",
      " ...\n",
      " [0.01260686 0.98739314]\n",
      " [0.01421044 0.9857896 ]\n",
      " [0.01470511 0.98529494]]\n",
      "Number of tweets predicted non-negative:  1156\n"
     ]
    }
   ],
   "source": [
    "# Compute predicted probabilities on the test set\n",
    "probs = bert_predict(bert_classifier, test_dataloader)\n",
    "print(probs)\n",
    "\n",
    "# Get predictions from the probabilities\n",
    "threshold = 0.9\n",
    "preds = np.where(probs[:, 1] > threshold, 1, 0)\n",
    "\n",
    "# Number of tweets predicted non-negative\n",
    "print(\"Number of tweets predicted non-negative: \", preds.sum())"
   ]
  },
  {
   "cell_type": "code",
   "execution_count": 25,
   "id": "42936094",
   "metadata": {
    "execution": {
     "iopub.execute_input": "2022-01-21T20:11:17.849775Z",
     "iopub.status.busy": "2022-01-21T20:11:17.849269Z",
     "iopub.status.idle": "2022-01-21T20:11:17.857097Z",
     "shell.execute_reply": "2022-01-21T20:11:17.857479Z",
     "shell.execute_reply.started": "2022-01-21T06:46:01.218506Z"
    },
    "papermill": {
     "duration": 0.073719,
     "end_time": "2022-01-21T20:11:17.857604",
     "exception": false,
     "start_time": "2022-01-21T20:11:17.783885",
     "status": "completed"
    },
    "tags": []
   },
   "outputs": [
    {
     "data": {
      "text/plain": [
       "[\"'Islamic State' group claims Saudi mosque suicide blast: The jihadist group claims it sent a suicide bomber to\\x89Û_ http://t.co/H2CTpG4oyZ #dw\",\n",
       " \"Black African refugees in 'Israel' cannot attend Kenye West concert due to curfew for black refugees.. http://t.co/S0usjQYIJe\",\n",
       " '@johncusack text: We Dropped The A-Bomb (1946)https://t.co/boJCX32qcZ \\x89Û_',\n",
       " '#?? #?? #??? #??? MH370: Aircraft debris found on La Reunion is from missing Malaysia Airlines ...  http://t.co/ykLruIMIsD',\n",
       " 'Here we are 70 years after the nuclear obliteration of Hiroshima and Nagasaki and I\\x89Ûªm wondering i\\x89Û_ http://t.co/fvkekft4Rs',\n",
       " 'Burning Buildings.\\n\\nKeep The Flames Lit. ??????',\n",
       " 'RT RTphotographyUK: New #photo Oak in a snowstorm http://t.co/gWOKZELq5Q taken in #winter on the #SouthDowns #Hampshire #photography #art\\x89Û_',\n",
       " 'Flash floods landslides possible as Hanna draws in more monsoon rains - Pagasa http://t.co/TzWmsEQPHW | via News5 #iBalita',\n",
       " \"AFP: #PKK said it carried out suicide bombing against troops in eastern #Turkey as a reprisal for 'bombing of a civilian village'\",\n",
       " '@moneymaker32931 tanker truck overturned carrying hazardous materials.',\n",
       " 'Obama Declares Disaster for Typhoon-Devastated Saipan: Obama signs disaster declaration for Northern Marians a... http://t.co/AslUFEKOXN',\n",
       " 'BBC News - India rail crash: Trains derail in Madhya Pradesh flash flood http://t.co/9UFemKfIiv',\n",
       " '5 injured in bridge collapse at Swiss kosher hotel: The accident occurred on Tuesday at the Metropol Hotel a ... http://t.co/sIGeZlynJ9',\n",
       " './.....hmm Pic of 16yr old PKK suicide bomber who detonated bomb in Turkey Army trench released http://t.co/5v29w19tFX /(',\n",
       " '70 yrs since the atomic bombing of Hiroshima... Terrible mass murder...',\n",
       " 'California wild fires blow my mind every time',\n",
       " \"Families to sue over Legionnaires: More than 40 families affected by the fatal outbreak of Legionnaires' disea... http://t.co/yfsD4xS7lc\",\n",
       " 'Haunting memories drawn by survivors http://t.co/a4H2e5xhiK via CNN',\n",
       " 'A Brief History of False Flag Terrorism | Wake Up World - http://t.co/KTeqJRXzpc via http://t.co/yZxlQeMKPF',\n",
       " 'As Anniversary Nears Atomic Bomb Survivors Speak Out Against Nuclear Power | Common Dreams  http://t.co/n8f2dXVduD']"
      ]
     },
     "execution_count": 25,
     "metadata": {},
     "output_type": "execute_result"
    }
   ],
   "source": [
    "output = test[preds==1]\n",
    "list(output.sample(20).text)"
   ]
  },
  {
   "cell_type": "code",
   "execution_count": 26,
   "id": "404b7cdf",
   "metadata": {
    "execution": {
     "iopub.execute_input": "2022-01-21T20:11:17.986427Z",
     "iopub.status.busy": "2022-01-21T20:11:17.985684Z",
     "iopub.status.idle": "2022-01-21T20:11:17.988687Z",
     "shell.execute_reply": "2022-01-21T20:11:17.989343Z",
     "shell.execute_reply.started": "2022-01-21T06:46:03.887031Z"
    },
    "papermill": {
     "duration": 0.069875,
     "end_time": "2022-01-21T20:11:17.989553",
     "exception": false,
     "start_time": "2022-01-21T20:11:17.919678",
     "status": "completed"
    },
    "tags": []
   },
   "outputs": [
    {
     "data": {
      "text/plain": [
       "array([1, 1, 1, ..., 1, 1, 1])"
      ]
     },
     "execution_count": 26,
     "metadata": {},
     "output_type": "execute_result"
    }
   ],
   "source": [
    "preds"
   ]
  },
  {
   "cell_type": "code",
   "execution_count": 27,
   "id": "149eefde",
   "metadata": {
    "execution": {
     "iopub.execute_input": "2022-01-21T20:11:18.123335Z",
     "iopub.status.busy": "2022-01-21T20:11:18.122686Z",
     "iopub.status.idle": "2022-01-21T20:11:18.125307Z",
     "shell.execute_reply": "2022-01-21T20:11:18.125715Z",
     "shell.execute_reply.started": "2022-01-21T06:46:16.871306Z"
    },
    "papermill": {
     "duration": 0.073724,
     "end_time": "2022-01-21T20:11:18.125841",
     "exception": false,
     "start_time": "2022-01-21T20:11:18.052117",
     "status": "completed"
    },
    "tags": []
   },
   "outputs": [
    {
     "data": {
      "text/html": [
       "<div>\n",
       "<style scoped>\n",
       "    .dataframe tbody tr th:only-of-type {\n",
       "        vertical-align: middle;\n",
       "    }\n",
       "\n",
       "    .dataframe tbody tr th {\n",
       "        vertical-align: top;\n",
       "    }\n",
       "\n",
       "    .dataframe thead th {\n",
       "        text-align: right;\n",
       "    }\n",
       "</style>\n",
       "<table border=\"1\" class=\"dataframe\">\n",
       "  <thead>\n",
       "    <tr style=\"text-align: right;\">\n",
       "      <th></th>\n",
       "      <th>id</th>\n",
       "      <th>target</th>\n",
       "    </tr>\n",
       "  </thead>\n",
       "  <tbody>\n",
       "    <tr>\n",
       "      <th>0</th>\n",
       "      <td>0</td>\n",
       "      <td>1</td>\n",
       "    </tr>\n",
       "    <tr>\n",
       "      <th>1</th>\n",
       "      <td>2</td>\n",
       "      <td>1</td>\n",
       "    </tr>\n",
       "    <tr>\n",
       "      <th>2</th>\n",
       "      <td>3</td>\n",
       "      <td>1</td>\n",
       "    </tr>\n",
       "    <tr>\n",
       "      <th>3</th>\n",
       "      <td>9</td>\n",
       "      <td>1</td>\n",
       "    </tr>\n",
       "    <tr>\n",
       "      <th>4</th>\n",
       "      <td>11</td>\n",
       "      <td>1</td>\n",
       "    </tr>\n",
       "  </tbody>\n",
       "</table>\n",
       "</div>"
      ],
      "text/plain": [
       "   id  target\n",
       "0   0       1\n",
       "1   2       1\n",
       "2   3       1\n",
       "3   9       1\n",
       "4  11       1"
      ]
     },
     "execution_count": 27,
     "metadata": {},
     "output_type": "execute_result"
    }
   ],
   "source": [
    "submission['target'] = preds\n",
    "submission.head()"
   ]
  },
  {
   "cell_type": "code",
   "execution_count": 28,
   "id": "a7708651",
   "metadata": {
    "execution": {
     "iopub.execute_input": "2022-01-21T20:11:18.255217Z",
     "iopub.status.busy": "2022-01-21T20:11:18.254576Z",
     "iopub.status.idle": "2022-01-21T20:11:18.264604Z",
     "shell.execute_reply": "2022-01-21T20:11:18.264169Z",
     "shell.execute_reply.started": "2022-01-21T06:46:19.644688Z"
    },
    "papermill": {
     "duration": 0.076128,
     "end_time": "2022-01-21T20:11:18.264712",
     "exception": false,
     "start_time": "2022-01-21T20:11:18.188584",
     "status": "completed"
    },
    "tags": []
   },
   "outputs": [],
   "source": [
    "submission.to_csv('submission.csv', index=False)"
   ]
  }
 ],
 "metadata": {
  "kernelspec": {
   "display_name": "Python 3",
   "language": "python",
   "name": "python3"
  },
  "language_info": {
   "codemirror_mode": {
    "name": "ipython",
    "version": 3
   },
   "file_extension": ".py",
   "mimetype": "text/x-python",
   "name": "python",
   "nbconvert_exporter": "python",
   "pygments_lexer": "ipython3",
   "version": "3.7.12"
  },
  "papermill": {
   "default_parameters": {},
   "duration": 692.573814,
   "end_time": "2022-01-21T20:11:21.444105",
   "environment_variables": {},
   "exception": null,
   "input_path": "__notebook__.ipynb",
   "output_path": "__notebook__.ipynb",
   "parameters": {},
   "start_time": "2022-01-21T19:59:48.870291",
   "version": "2.3.3"
  },
  "widgets": {
   "application/vnd.jupyter.widget-state+json": {
    "state": {
     "00fe0c68fd7345558315933c3c0ba448": {
      "model_module": "@jupyter-widgets/base",
      "model_module_version": "1.2.0",
      "model_name": "LayoutModel",
      "state": {
       "_model_module": "@jupyter-widgets/base",
       "_model_module_version": "1.2.0",
       "_model_name": "LayoutModel",
       "_view_count": null,
       "_view_module": "@jupyter-widgets/base",
       "_view_module_version": "1.2.0",
       "_view_name": "LayoutView",
       "align_content": null,
       "align_items": null,
       "align_self": null,
       "border": null,
       "bottom": null,
       "display": null,
       "flex": null,
       "flex_flow": null,
       "grid_area": null,
       "grid_auto_columns": null,
       "grid_auto_flow": null,
       "grid_auto_rows": null,
       "grid_column": null,
       "grid_gap": null,
       "grid_row": null,
       "grid_template_areas": null,
       "grid_template_columns": null,
       "grid_template_rows": null,
       "height": null,
       "justify_content": null,
       "justify_items": null,
       "left": null,
       "margin": null,
       "max_height": null,
       "max_width": null,
       "min_height": null,
       "min_width": null,
       "object_fit": null,
       "object_position": null,
       "order": null,
       "overflow": null,
       "overflow_x": null,
       "overflow_y": null,
       "padding": null,
       "right": null,
       "top": null,
       "visibility": null,
       "width": null
      }
     },
     "0473677e53b1453895a21e92d1c2cf34": {
      "model_module": "@jupyter-widgets/controls",
      "model_module_version": "1.5.0",
      "model_name": "HTMLModel",
      "state": {
       "_dom_classes": [],
       "_model_module": "@jupyter-widgets/controls",
       "_model_module_version": "1.5.0",
       "_model_name": "HTMLModel",
       "_view_count": null,
       "_view_module": "@jupyter-widgets/controls",
       "_view_module_version": "1.5.0",
       "_view_name": "HTMLView",
       "description": "",
       "description_tooltip": null,
       "layout": "IPY_MODEL_d91dff7520a2498d8db9aa0fe3e83632",
       "placeholder": "​",
       "style": "IPY_MODEL_49824081aaf14274add88d1bd5b3478f",
       "value": "Downloading: 100%"
      }
     },
     "05a07ace31714ba2b364ff9b44c4b377": {
      "model_module": "@jupyter-widgets/controls",
      "model_module_version": "1.5.0",
      "model_name": "DescriptionStyleModel",
      "state": {
       "_model_module": "@jupyter-widgets/controls",
       "_model_module_version": "1.5.0",
       "_model_name": "DescriptionStyleModel",
       "_view_count": null,
       "_view_module": "@jupyter-widgets/base",
       "_view_module_version": "1.2.0",
       "_view_name": "StyleView",
       "description_width": ""
      }
     },
     "077e64be5f564e5186f38beae39e4b1c": {
      "model_module": "@jupyter-widgets/controls",
      "model_module_version": "1.5.0",
      "model_name": "HBoxModel",
      "state": {
       "_dom_classes": [],
       "_model_module": "@jupyter-widgets/controls",
       "_model_module_version": "1.5.0",
       "_model_name": "HBoxModel",
       "_view_count": null,
       "_view_module": "@jupyter-widgets/controls",
       "_view_module_version": "1.5.0",
       "_view_name": "HBoxView",
       "box_style": "",
       "children": [
        "IPY_MODEL_cb66527b88de49c083b08e87f72bc376",
        "IPY_MODEL_a53b3b3949f04d1e98bbf67fdd1f4216",
        "IPY_MODEL_bc1548efa6454da390bb6605c4aaa968"
       ],
       "layout": "IPY_MODEL_eb09ac4d29074c3fa29d777d491fe599"
      }
     },
     "19b045f9826948bfbaae8a48f8d2103f": {
      "model_module": "@jupyter-widgets/controls",
      "model_module_version": "1.5.0",
      "model_name": "DescriptionStyleModel",
      "state": {
       "_model_module": "@jupyter-widgets/controls",
       "_model_module_version": "1.5.0",
       "_model_name": "DescriptionStyleModel",
       "_view_count": null,
       "_view_module": "@jupyter-widgets/base",
       "_view_module_version": "1.2.0",
       "_view_name": "StyleView",
       "description_width": ""
      }
     },
     "2ed7c60b8cd34a3294ce233c05c4eb55": {
      "model_module": "@jupyter-widgets/base",
      "model_module_version": "1.2.0",
      "model_name": "LayoutModel",
      "state": {
       "_model_module": "@jupyter-widgets/base",
       "_model_module_version": "1.2.0",
       "_model_name": "LayoutModel",
       "_view_count": null,
       "_view_module": "@jupyter-widgets/base",
       "_view_module_version": "1.2.0",
       "_view_name": "LayoutView",
       "align_content": null,
       "align_items": null,
       "align_self": null,
       "border": null,
       "bottom": null,
       "display": null,
       "flex": null,
       "flex_flow": null,
       "grid_area": null,
       "grid_auto_columns": null,
       "grid_auto_flow": null,
       "grid_auto_rows": null,
       "grid_column": null,
       "grid_gap": null,
       "grid_row": null,
       "grid_template_areas": null,
       "grid_template_columns": null,
       "grid_template_rows": null,
       "height": null,
       "justify_content": null,
       "justify_items": null,
       "left": null,
       "margin": null,
       "max_height": null,
       "max_width": null,
       "min_height": null,
       "min_width": null,
       "object_fit": null,
       "object_position": null,
       "order": null,
       "overflow": null,
       "overflow_x": null,
       "overflow_y": null,
       "padding": null,
       "right": null,
       "top": null,
       "visibility": null,
       "width": null
      }
     },
     "3b153fd1b86241988b7eef6c31b81a1a": {
      "model_module": "@jupyter-widgets/base",
      "model_module_version": "1.2.0",
      "model_name": "LayoutModel",
      "state": {
       "_model_module": "@jupyter-widgets/base",
       "_model_module_version": "1.2.0",
       "_model_name": "LayoutModel",
       "_view_count": null,
       "_view_module": "@jupyter-widgets/base",
       "_view_module_version": "1.2.0",
       "_view_name": "LayoutView",
       "align_content": null,
       "align_items": null,
       "align_self": null,
       "border": null,
       "bottom": null,
       "display": null,
       "flex": null,
       "flex_flow": null,
       "grid_area": null,
       "grid_auto_columns": null,
       "grid_auto_flow": null,
       "grid_auto_rows": null,
       "grid_column": null,
       "grid_gap": null,
       "grid_row": null,
       "grid_template_areas": null,
       "grid_template_columns": null,
       "grid_template_rows": null,
       "height": null,
       "justify_content": null,
       "justify_items": null,
       "left": null,
       "margin": null,
       "max_height": null,
       "max_width": null,
       "min_height": null,
       "min_width": null,
       "object_fit": null,
       "object_position": null,
       "order": null,
       "overflow": null,
       "overflow_x": null,
       "overflow_y": null,
       "padding": null,
       "right": null,
       "top": null,
       "visibility": null,
       "width": null
      }
     },
     "4486496fdd314e778ec7a1f479f5378f": {
      "model_module": "@jupyter-widgets/controls",
      "model_module_version": "1.5.0",
      "model_name": "HTMLModel",
      "state": {
       "_dom_classes": [],
       "_model_module": "@jupyter-widgets/controls",
       "_model_module_version": "1.5.0",
       "_model_name": "HTMLModel",
       "_view_count": null,
       "_view_module": "@jupyter-widgets/controls",
       "_view_module_version": "1.5.0",
       "_view_name": "HTMLView",
       "description": "",
       "description_tooltip": null,
       "layout": "IPY_MODEL_00fe0c68fd7345558315933c3c0ba448",
       "placeholder": "​",
       "style": "IPY_MODEL_879eac71b6624f518647a139d2f1a19b",
       "value": " 232k/232k [00:00&lt;00:00, 3.03MB/s]"
      }
     },
     "49824081aaf14274add88d1bd5b3478f": {
      "model_module": "@jupyter-widgets/controls",
      "model_module_version": "1.5.0",
      "model_name": "DescriptionStyleModel",
      "state": {
       "_model_module": "@jupyter-widgets/controls",
       "_model_module_version": "1.5.0",
       "_model_name": "DescriptionStyleModel",
       "_view_count": null,
       "_view_module": "@jupyter-widgets/base",
       "_view_module_version": "1.2.0",
       "_view_name": "StyleView",
       "description_width": ""
      }
     },
     "49b9a69bf3dc4b6fa159ddf89dbd8700": {
      "model_module": "@jupyter-widgets/base",
      "model_module_version": "1.2.0",
      "model_name": "LayoutModel",
      "state": {
       "_model_module": "@jupyter-widgets/base",
       "_model_module_version": "1.2.0",
       "_model_name": "LayoutModel",
       "_view_count": null,
       "_view_module": "@jupyter-widgets/base",
       "_view_module_version": "1.2.0",
       "_view_name": "LayoutView",
       "align_content": null,
       "align_items": null,
       "align_self": null,
       "border": null,
       "bottom": null,
       "display": null,
       "flex": null,
       "flex_flow": null,
       "grid_area": null,
       "grid_auto_columns": null,
       "grid_auto_flow": null,
       "grid_auto_rows": null,
       "grid_column": null,
       "grid_gap": null,
       "grid_row": null,
       "grid_template_areas": null,
       "grid_template_columns": null,
       "grid_template_rows": null,
       "height": null,
       "justify_content": null,
       "justify_items": null,
       "left": null,
       "margin": null,
       "max_height": null,
       "max_width": null,
       "min_height": null,
       "min_width": null,
       "object_fit": null,
       "object_position": null,
       "order": null,
       "overflow": null,
       "overflow_x": null,
       "overflow_y": null,
       "padding": null,
       "right": null,
       "top": null,
       "visibility": null,
       "width": null
      }
     },
     "565fbc0edbb443708bc6e2199f57ed38": {
      "model_module": "@jupyter-widgets/controls",
      "model_module_version": "1.5.0",
      "model_name": "ProgressStyleModel",
      "state": {
       "_model_module": "@jupyter-widgets/controls",
       "_model_module_version": "1.5.0",
       "_model_name": "ProgressStyleModel",
       "_view_count": null,
       "_view_module": "@jupyter-widgets/base",
       "_view_module_version": "1.2.0",
       "_view_name": "StyleView",
       "bar_color": null,
       "description_width": ""
      }
     },
     "595380111cd145b491d3415c9d8ebf85": {
      "model_module": "@jupyter-widgets/base",
      "model_module_version": "1.2.0",
      "model_name": "LayoutModel",
      "state": {
       "_model_module": "@jupyter-widgets/base",
       "_model_module_version": "1.2.0",
       "_model_name": "LayoutModel",
       "_view_count": null,
       "_view_module": "@jupyter-widgets/base",
       "_view_module_version": "1.2.0",
       "_view_name": "LayoutView",
       "align_content": null,
       "align_items": null,
       "align_self": null,
       "border": null,
       "bottom": null,
       "display": null,
       "flex": null,
       "flex_flow": null,
       "grid_area": null,
       "grid_auto_columns": null,
       "grid_auto_flow": null,
       "grid_auto_rows": null,
       "grid_column": null,
       "grid_gap": null,
       "grid_row": null,
       "grid_template_areas": null,
       "grid_template_columns": null,
       "grid_template_rows": null,
       "height": null,
       "justify_content": null,
       "justify_items": null,
       "left": null,
       "margin": null,
       "max_height": null,
       "max_width": null,
       "min_height": null,
       "min_width": null,
       "object_fit": null,
       "object_position": null,
       "order": null,
       "overflow": null,
       "overflow_x": null,
       "overflow_y": null,
       "padding": null,
       "right": null,
       "top": null,
       "visibility": null,
       "width": null
      }
     },
     "5abf27678d8446c58bcc80add463edcb": {
      "model_module": "@jupyter-widgets/controls",
      "model_module_version": "1.5.0",
      "model_name": "FloatProgressModel",
      "state": {
       "_dom_classes": [],
       "_model_module": "@jupyter-widgets/controls",
       "_model_module_version": "1.5.0",
       "_model_name": "FloatProgressModel",
       "_view_count": null,
       "_view_module": "@jupyter-widgets/controls",
       "_view_module_version": "1.5.0",
       "_view_name": "ProgressView",
       "bar_style": "success",
       "description": "",
       "description_tooltip": null,
       "layout": "IPY_MODEL_49b9a69bf3dc4b6fa159ddf89dbd8700",
       "max": 440473133.0,
       "min": 0.0,
       "orientation": "horizontal",
       "style": "IPY_MODEL_f22064d3917447dbb0fc8d0780f2fd32",
       "value": 440473133.0
      }
     },
     "6adbe204537646a3b8ea30f0488ea4bb": {
      "model_module": "@jupyter-widgets/controls",
      "model_module_version": "1.5.0",
      "model_name": "HBoxModel",
      "state": {
       "_dom_classes": [],
       "_model_module": "@jupyter-widgets/controls",
       "_model_module_version": "1.5.0",
       "_model_name": "HBoxModel",
       "_view_count": null,
       "_view_module": "@jupyter-widgets/controls",
       "_view_module_version": "1.5.0",
       "_view_name": "HBoxView",
       "box_style": "",
       "children": [
        "IPY_MODEL_bcf8e34bf383438c967dc48fe98c18d4",
        "IPY_MODEL_5abf27678d8446c58bcc80add463edcb",
        "IPY_MODEL_c8a8598330344a51bfe6b74d64d89be9"
       ],
       "layout": "IPY_MODEL_9075ced385f6462aaa39947866114899"
      }
     },
     "6d24a68ef10b43ec86d7a5f349903445": {
      "model_module": "@jupyter-widgets/controls",
      "model_module_version": "1.5.0",
      "model_name": "DescriptionStyleModel",
      "state": {
       "_model_module": "@jupyter-widgets/controls",
       "_model_module_version": "1.5.0",
       "_model_name": "DescriptionStyleModel",
       "_view_count": null,
       "_view_module": "@jupyter-widgets/base",
       "_view_module_version": "1.2.0",
       "_view_name": "StyleView",
       "description_width": ""
      }
     },
     "7a4e06037f714b33ad6bb84179caee45": {
      "model_module": "@jupyter-widgets/base",
      "model_module_version": "1.2.0",
      "model_name": "LayoutModel",
      "state": {
       "_model_module": "@jupyter-widgets/base",
       "_model_module_version": "1.2.0",
       "_model_name": "LayoutModel",
       "_view_count": null,
       "_view_module": "@jupyter-widgets/base",
       "_view_module_version": "1.2.0",
       "_view_name": "LayoutView",
       "align_content": null,
       "align_items": null,
       "align_self": null,
       "border": null,
       "bottom": null,
       "display": null,
       "flex": null,
       "flex_flow": null,
       "grid_area": null,
       "grid_auto_columns": null,
       "grid_auto_flow": null,
       "grid_auto_rows": null,
       "grid_column": null,
       "grid_gap": null,
       "grid_row": null,
       "grid_template_areas": null,
       "grid_template_columns": null,
       "grid_template_rows": null,
       "height": null,
       "justify_content": null,
       "justify_items": null,
       "left": null,
       "margin": null,
       "max_height": null,
       "max_width": null,
       "min_height": null,
       "min_width": null,
       "object_fit": null,
       "object_position": null,
       "order": null,
       "overflow": null,
       "overflow_x": null,
       "overflow_y": null,
       "padding": null,
       "right": null,
       "top": null,
       "visibility": null,
       "width": null
      }
     },
     "879eac71b6624f518647a139d2f1a19b": {
      "model_module": "@jupyter-widgets/controls",
      "model_module_version": "1.5.0",
      "model_name": "DescriptionStyleModel",
      "state": {
       "_model_module": "@jupyter-widgets/controls",
       "_model_module_version": "1.5.0",
       "_model_name": "DescriptionStyleModel",
       "_view_count": null,
       "_view_module": "@jupyter-widgets/base",
       "_view_module_version": "1.2.0",
       "_view_name": "StyleView",
       "description_width": ""
      }
     },
     "9075ced385f6462aaa39947866114899": {
      "model_module": "@jupyter-widgets/base",
      "model_module_version": "1.2.0",
      "model_name": "LayoutModel",
      "state": {
       "_model_module": "@jupyter-widgets/base",
       "_model_module_version": "1.2.0",
       "_model_name": "LayoutModel",
       "_view_count": null,
       "_view_module": "@jupyter-widgets/base",
       "_view_module_version": "1.2.0",
       "_view_name": "LayoutView",
       "align_content": null,
       "align_items": null,
       "align_self": null,
       "border": null,
       "bottom": null,
       "display": null,
       "flex": null,
       "flex_flow": null,
       "grid_area": null,
       "grid_auto_columns": null,
       "grid_auto_flow": null,
       "grid_auto_rows": null,
       "grid_column": null,
       "grid_gap": null,
       "grid_row": null,
       "grid_template_areas": null,
       "grid_template_columns": null,
       "grid_template_rows": null,
       "height": null,
       "justify_content": null,
       "justify_items": null,
       "left": null,
       "margin": null,
       "max_height": null,
       "max_width": null,
       "min_height": null,
       "min_width": null,
       "object_fit": null,
       "object_position": null,
       "order": null,
       "overflow": null,
       "overflow_x": null,
       "overflow_y": null,
       "padding": null,
       "right": null,
       "top": null,
       "visibility": null,
       "width": null
      }
     },
     "93ca2117dfe64f348d35b2e063e9a8f5": {
      "model_module": "@jupyter-widgets/base",
      "model_module_version": "1.2.0",
      "model_name": "LayoutModel",
      "state": {
       "_model_module": "@jupyter-widgets/base",
       "_model_module_version": "1.2.0",
       "_model_name": "LayoutModel",
       "_view_count": null,
       "_view_module": "@jupyter-widgets/base",
       "_view_module_version": "1.2.0",
       "_view_name": "LayoutView",
       "align_content": null,
       "align_items": null,
       "align_self": null,
       "border": null,
       "bottom": null,
       "display": null,
       "flex": null,
       "flex_flow": null,
       "grid_area": null,
       "grid_auto_columns": null,
       "grid_auto_flow": null,
       "grid_auto_rows": null,
       "grid_column": null,
       "grid_gap": null,
       "grid_row": null,
       "grid_template_areas": null,
       "grid_template_columns": null,
       "grid_template_rows": null,
       "height": null,
       "justify_content": null,
       "justify_items": null,
       "left": null,
       "margin": null,
       "max_height": null,
       "max_width": null,
       "min_height": null,
       "min_width": null,
       "object_fit": null,
       "object_position": null,
       "order": null,
       "overflow": null,
       "overflow_x": null,
       "overflow_y": null,
       "padding": null,
       "right": null,
       "top": null,
       "visibility": null,
       "width": null
      }
     },
     "a53b3b3949f04d1e98bbf67fdd1f4216": {
      "model_module": "@jupyter-widgets/controls",
      "model_module_version": "1.5.0",
      "model_name": "FloatProgressModel",
      "state": {
       "_dom_classes": [],
       "_model_module": "@jupyter-widgets/controls",
       "_model_module_version": "1.5.0",
       "_model_name": "FloatProgressModel",
       "_view_count": null,
       "_view_module": "@jupyter-widgets/controls",
       "_view_module_version": "1.5.0",
       "_view_name": "ProgressView",
       "bar_style": "success",
       "description": "",
       "description_tooltip": null,
       "layout": "IPY_MODEL_c3415da2697e43df8e40a2bff12e3c12",
       "max": 433.0,
       "min": 0.0,
       "orientation": "horizontal",
       "style": "IPY_MODEL_565fbc0edbb443708bc6e2199f57ed38",
       "value": 433.0
      }
     },
     "b19871fc2cf843b7bb2063ba4e48115c": {
      "model_module": "@jupyter-widgets/controls",
      "model_module_version": "1.5.0",
      "model_name": "DescriptionStyleModel",
      "state": {
       "_model_module": "@jupyter-widgets/controls",
       "_model_module_version": "1.5.0",
       "_model_name": "DescriptionStyleModel",
       "_view_count": null,
       "_view_module": "@jupyter-widgets/base",
       "_view_module_version": "1.2.0",
       "_view_name": "StyleView",
       "description_width": ""
      }
     },
     "bc1548efa6454da390bb6605c4aaa968": {
      "model_module": "@jupyter-widgets/controls",
      "model_module_version": "1.5.0",
      "model_name": "HTMLModel",
      "state": {
       "_dom_classes": [],
       "_model_module": "@jupyter-widgets/controls",
       "_model_module_version": "1.5.0",
       "_model_name": "HTMLModel",
       "_view_count": null,
       "_view_module": "@jupyter-widgets/controls",
       "_view_module_version": "1.5.0",
       "_view_name": "HTMLView",
       "description": "",
       "description_tooltip": null,
       "layout": "IPY_MODEL_cf6b32fa9db0496687b6bac3e6323db4",
       "placeholder": "​",
       "style": "IPY_MODEL_19b045f9826948bfbaae8a48f8d2103f",
       "value": " 433/433 [00:00&lt;00:00, 16.2kB/s]"
      }
     },
     "bc34c9642f1d4a379f4a35cb9c8ff03d": {
      "model_module": "@jupyter-widgets/controls",
      "model_module_version": "1.5.0",
      "model_name": "ProgressStyleModel",
      "state": {
       "_model_module": "@jupyter-widgets/controls",
       "_model_module_version": "1.5.0",
       "_model_name": "ProgressStyleModel",
       "_view_count": null,
       "_view_module": "@jupyter-widgets/base",
       "_view_module_version": "1.2.0",
       "_view_name": "StyleView",
       "bar_color": null,
       "description_width": ""
      }
     },
     "bcf8e34bf383438c967dc48fe98c18d4": {
      "model_module": "@jupyter-widgets/controls",
      "model_module_version": "1.5.0",
      "model_name": "HTMLModel",
      "state": {
       "_dom_classes": [],
       "_model_module": "@jupyter-widgets/controls",
       "_model_module_version": "1.5.0",
       "_model_name": "HTMLModel",
       "_view_count": null,
       "_view_module": "@jupyter-widgets/controls",
       "_view_module_version": "1.5.0",
       "_view_name": "HTMLView",
       "description": "",
       "description_tooltip": null,
       "layout": "IPY_MODEL_7a4e06037f714b33ad6bb84179caee45",
       "placeholder": "​",
       "style": "IPY_MODEL_05a07ace31714ba2b364ff9b44c4b377",
       "value": "Downloading: 100%"
      }
     },
     "c3415da2697e43df8e40a2bff12e3c12": {
      "model_module": "@jupyter-widgets/base",
      "model_module_version": "1.2.0",
      "model_name": "LayoutModel",
      "state": {
       "_model_module": "@jupyter-widgets/base",
       "_model_module_version": "1.2.0",
       "_model_name": "LayoutModel",
       "_view_count": null,
       "_view_module": "@jupyter-widgets/base",
       "_view_module_version": "1.2.0",
       "_view_name": "LayoutView",
       "align_content": null,
       "align_items": null,
       "align_self": null,
       "border": null,
       "bottom": null,
       "display": null,
       "flex": null,
       "flex_flow": null,
       "grid_area": null,
       "grid_auto_columns": null,
       "grid_auto_flow": null,
       "grid_auto_rows": null,
       "grid_column": null,
       "grid_gap": null,
       "grid_row": null,
       "grid_template_areas": null,
       "grid_template_columns": null,
       "grid_template_rows": null,
       "height": null,
       "justify_content": null,
       "justify_items": null,
       "left": null,
       "margin": null,
       "max_height": null,
       "max_width": null,
       "min_height": null,
       "min_width": null,
       "object_fit": null,
       "object_position": null,
       "order": null,
       "overflow": null,
       "overflow_x": null,
       "overflow_y": null,
       "padding": null,
       "right": null,
       "top": null,
       "visibility": null,
       "width": null
      }
     },
     "c8a8598330344a51bfe6b74d64d89be9": {
      "model_module": "@jupyter-widgets/controls",
      "model_module_version": "1.5.0",
      "model_name": "HTMLModel",
      "state": {
       "_dom_classes": [],
       "_model_module": "@jupyter-widgets/controls",
       "_model_module_version": "1.5.0",
       "_model_name": "HTMLModel",
       "_view_count": null,
       "_view_module": "@jupyter-widgets/controls",
       "_view_module_version": "1.5.0",
       "_view_name": "HTMLView",
       "description": "",
       "description_tooltip": null,
       "layout": "IPY_MODEL_93ca2117dfe64f348d35b2e063e9a8f5",
       "placeholder": "​",
       "style": "IPY_MODEL_b19871fc2cf843b7bb2063ba4e48115c",
       "value": " 440M/440M [00:13&lt;00:00, 37.8MB/s]"
      }
     },
     "cb66527b88de49c083b08e87f72bc376": {
      "model_module": "@jupyter-widgets/controls",
      "model_module_version": "1.5.0",
      "model_name": "HTMLModel",
      "state": {
       "_dom_classes": [],
       "_model_module": "@jupyter-widgets/controls",
       "_model_module_version": "1.5.0",
       "_model_name": "HTMLModel",
       "_view_count": null,
       "_view_module": "@jupyter-widgets/controls",
       "_view_module_version": "1.5.0",
       "_view_name": "HTMLView",
       "description": "",
       "description_tooltip": null,
       "layout": "IPY_MODEL_3b153fd1b86241988b7eef6c31b81a1a",
       "placeholder": "​",
       "style": "IPY_MODEL_6d24a68ef10b43ec86d7a5f349903445",
       "value": "Downloading: 100%"
      }
     },
     "cf6b32fa9db0496687b6bac3e6323db4": {
      "model_module": "@jupyter-widgets/base",
      "model_module_version": "1.2.0",
      "model_name": "LayoutModel",
      "state": {
       "_model_module": "@jupyter-widgets/base",
       "_model_module_version": "1.2.0",
       "_model_name": "LayoutModel",
       "_view_count": null,
       "_view_module": "@jupyter-widgets/base",
       "_view_module_version": "1.2.0",
       "_view_name": "LayoutView",
       "align_content": null,
       "align_items": null,
       "align_self": null,
       "border": null,
       "bottom": null,
       "display": null,
       "flex": null,
       "flex_flow": null,
       "grid_area": null,
       "grid_auto_columns": null,
       "grid_auto_flow": null,
       "grid_auto_rows": null,
       "grid_column": null,
       "grid_gap": null,
       "grid_row": null,
       "grid_template_areas": null,
       "grid_template_columns": null,
       "grid_template_rows": null,
       "height": null,
       "justify_content": null,
       "justify_items": null,
       "left": null,
       "margin": null,
       "max_height": null,
       "max_width": null,
       "min_height": null,
       "min_width": null,
       "object_fit": null,
       "object_position": null,
       "order": null,
       "overflow": null,
       "overflow_x": null,
       "overflow_y": null,
       "padding": null,
       "right": null,
       "top": null,
       "visibility": null,
       "width": null
      }
     },
     "d472aa563d314b0db7e97aa15f5fdf14": {
      "model_module": "@jupyter-widgets/controls",
      "model_module_version": "1.5.0",
      "model_name": "FloatProgressModel",
      "state": {
       "_dom_classes": [],
       "_model_module": "@jupyter-widgets/controls",
       "_model_module_version": "1.5.0",
       "_model_name": "FloatProgressModel",
       "_view_count": null,
       "_view_module": "@jupyter-widgets/controls",
       "_view_module_version": "1.5.0",
       "_view_name": "ProgressView",
       "bar_style": "success",
       "description": "",
       "description_tooltip": null,
       "layout": "IPY_MODEL_595380111cd145b491d3415c9d8ebf85",
       "max": 231508.0,
       "min": 0.0,
       "orientation": "horizontal",
       "style": "IPY_MODEL_bc34c9642f1d4a379f4a35cb9c8ff03d",
       "value": 231508.0
      }
     },
     "d91dff7520a2498d8db9aa0fe3e83632": {
      "model_module": "@jupyter-widgets/base",
      "model_module_version": "1.2.0",
      "model_name": "LayoutModel",
      "state": {
       "_model_module": "@jupyter-widgets/base",
       "_model_module_version": "1.2.0",
       "_model_name": "LayoutModel",
       "_view_count": null,
       "_view_module": "@jupyter-widgets/base",
       "_view_module_version": "1.2.0",
       "_view_name": "LayoutView",
       "align_content": null,
       "align_items": null,
       "align_self": null,
       "border": null,
       "bottom": null,
       "display": null,
       "flex": null,
       "flex_flow": null,
       "grid_area": null,
       "grid_auto_columns": null,
       "grid_auto_flow": null,
       "grid_auto_rows": null,
       "grid_column": null,
       "grid_gap": null,
       "grid_row": null,
       "grid_template_areas": null,
       "grid_template_columns": null,
       "grid_template_rows": null,
       "height": null,
       "justify_content": null,
       "justify_items": null,
       "left": null,
       "margin": null,
       "max_height": null,
       "max_width": null,
       "min_height": null,
       "min_width": null,
       "object_fit": null,
       "object_position": null,
       "order": null,
       "overflow": null,
       "overflow_x": null,
       "overflow_y": null,
       "padding": null,
       "right": null,
       "top": null,
       "visibility": null,
       "width": null
      }
     },
     "eb09ac4d29074c3fa29d777d491fe599": {
      "model_module": "@jupyter-widgets/base",
      "model_module_version": "1.2.0",
      "model_name": "LayoutModel",
      "state": {
       "_model_module": "@jupyter-widgets/base",
       "_model_module_version": "1.2.0",
       "_model_name": "LayoutModel",
       "_view_count": null,
       "_view_module": "@jupyter-widgets/base",
       "_view_module_version": "1.2.0",
       "_view_name": "LayoutView",
       "align_content": null,
       "align_items": null,
       "align_self": null,
       "border": null,
       "bottom": null,
       "display": null,
       "flex": null,
       "flex_flow": null,
       "grid_area": null,
       "grid_auto_columns": null,
       "grid_auto_flow": null,
       "grid_auto_rows": null,
       "grid_column": null,
       "grid_gap": null,
       "grid_row": null,
       "grid_template_areas": null,
       "grid_template_columns": null,
       "grid_template_rows": null,
       "height": null,
       "justify_content": null,
       "justify_items": null,
       "left": null,
       "margin": null,
       "max_height": null,
       "max_width": null,
       "min_height": null,
       "min_width": null,
       "object_fit": null,
       "object_position": null,
       "order": null,
       "overflow": null,
       "overflow_x": null,
       "overflow_y": null,
       "padding": null,
       "right": null,
       "top": null,
       "visibility": null,
       "width": null
      }
     },
     "f22064d3917447dbb0fc8d0780f2fd32": {
      "model_module": "@jupyter-widgets/controls",
      "model_module_version": "1.5.0",
      "model_name": "ProgressStyleModel",
      "state": {
       "_model_module": "@jupyter-widgets/controls",
       "_model_module_version": "1.5.0",
       "_model_name": "ProgressStyleModel",
       "_view_count": null,
       "_view_module": "@jupyter-widgets/base",
       "_view_module_version": "1.2.0",
       "_view_name": "StyleView",
       "bar_color": null,
       "description_width": ""
      }
     },
     "ff32516cfc914776b6d9a7e1136b0b7b": {
      "model_module": "@jupyter-widgets/controls",
      "model_module_version": "1.5.0",
      "model_name": "HBoxModel",
      "state": {
       "_dom_classes": [],
       "_model_module": "@jupyter-widgets/controls",
       "_model_module_version": "1.5.0",
       "_model_name": "HBoxModel",
       "_view_count": null,
       "_view_module": "@jupyter-widgets/controls",
       "_view_module_version": "1.5.0",
       "_view_name": "HBoxView",
       "box_style": "",
       "children": [
        "IPY_MODEL_0473677e53b1453895a21e92d1c2cf34",
        "IPY_MODEL_d472aa563d314b0db7e97aa15f5fdf14",
        "IPY_MODEL_4486496fdd314e778ec7a1f479f5378f"
       ],
       "layout": "IPY_MODEL_2ed7c60b8cd34a3294ce233c05c4eb55"
      }
     }
    },
    "version_major": 2,
    "version_minor": 0
   }
  }
 },
 "nbformat": 4,
 "nbformat_minor": 5
}
