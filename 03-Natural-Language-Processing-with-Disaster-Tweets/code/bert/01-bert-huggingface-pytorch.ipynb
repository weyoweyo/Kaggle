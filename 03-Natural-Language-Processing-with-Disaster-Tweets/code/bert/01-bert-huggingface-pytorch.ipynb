{
 "cells": [
  {
   "cell_type": "code",
   "execution_count": 1,
   "id": "c14cc968",
   "metadata": {
    "_cell_guid": "b1076dfc-b9ad-4769-8c92-a6c4dae69d19",
    "_uuid": "8f2839f25d086af736a60e9eeb907d3b93b6e0e5",
    "execution": {
     "iopub.execute_input": "2022-01-21T06:48:14.284649Z",
     "iopub.status.busy": "2022-01-21T06:48:14.281701Z",
     "iopub.status.idle": "2022-01-21T06:48:14.306375Z",
     "shell.execute_reply": "2022-01-21T06:48:14.307493Z",
     "shell.execute_reply.started": "2022-01-21T05:34:55.249906Z"
    },
    "papermill": {
     "duration": 0.057976,
     "end_time": "2022-01-21T06:48:14.307791",
     "exception": false,
     "start_time": "2022-01-21T06:48:14.249815",
     "status": "completed"
    },
    "tags": []
   },
   "outputs": [
    {
     "name": "stdout",
     "output_type": "stream",
     "text": [
      "/kaggle/input/nlp-getting-started/sample_submission.csv\n",
      "/kaggle/input/nlp-getting-started/train.csv\n",
      "/kaggle/input/nlp-getting-started/test.csv\n"
     ]
    }
   ],
   "source": [
    "# This Python 3 environment comes with many helpful analytics libraries installed\n",
    "# It is defined by the kaggle/python Docker image: https://github.com/kaggle/docker-python\n",
    "# For example, here's several helpful packages to load\n",
    "\n",
    "import numpy as np # linear algebra\n",
    "import pandas as pd # data processing, CSV file I/O (e.g. pd.read_csv)\n",
    "\n",
    "# Input data files are available in the read-only \"../input/\" directory\n",
    "# For example, running this (by clicking run or pressing Shift+Enter) will list all files under the input directory\n",
    "\n",
    "import os\n",
    "for dirname, _, filenames in os.walk('/kaggle/input'):\n",
    "    for filename in filenames:\n",
    "        print(os.path.join(dirname, filename))\n",
    "\n",
    "# You can write up to 20GB to the current directory (/kaggle/working/) that gets preserved as output when you create a version using \"Save & Run All\" \n",
    "# You can also write temporary files to /kaggle/temp/, but they won't be saved outside of the current session"
   ]
  },
  {
   "cell_type": "markdown",
   "id": "bf1c9b50",
   "metadata": {
    "papermill": {
     "duration": 0.036779,
     "end_time": "2022-01-21T06:48:14.386790",
     "exception": false,
     "start_time": "2022-01-21T06:48:14.350011",
     "status": "completed"
    },
    "tags": []
   },
   "source": [
    "Reference: https://www.kaggle.com/vishalsiram50/fine-tuning-bert-88-accuracy"
   ]
  },
  {
   "cell_type": "code",
   "execution_count": 2,
   "id": "531898eb",
   "metadata": {
    "execution": {
     "iopub.execute_input": "2022-01-21T06:48:14.441514Z",
     "iopub.status.busy": "2022-01-21T06:48:14.440741Z",
     "iopub.status.idle": "2022-01-21T06:48:26.901781Z",
     "shell.execute_reply": "2022-01-21T06:48:26.901289Z",
     "shell.execute_reply.started": "2022-01-21T05:29:06.839922Z"
    },
    "papermill": {
     "duration": 12.490492,
     "end_time": "2022-01-21T06:48:26.901915",
     "exception": false,
     "start_time": "2022-01-21T06:48:14.411423",
     "status": "completed"
    },
    "tags": []
   },
   "outputs": [
    {
     "name": "stdout",
     "output_type": "stream",
     "text": [
      "Collecting transformers==2.8.0\r\n",
      "  Downloading transformers-2.8.0-py3-none-any.whl (563 kB)\r\n",
      "     |████████████████████████████████| 563 kB 913 kB/s            \r\n",
      "\u001b[?25hCollecting tokenizers==0.5.2\r\n",
      "  Downloading tokenizers-0.5.2-cp37-cp37m-manylinux1_x86_64.whl (5.6 MB)\r\n",
      "     |████████████████████████████████| 5.6 MB 16.8 MB/s            \r\n",
      "\u001b[?25hRequirement already satisfied: regex!=2019.12.17 in /opt/conda/lib/python3.7/site-packages (from transformers==2.8.0) (2021.11.10)\r\n",
      "Requirement already satisfied: requests in /opt/conda/lib/python3.7/site-packages (from transformers==2.8.0) (2.26.0)\r\n",
      "Requirement already satisfied: tqdm>=4.27 in /opt/conda/lib/python3.7/site-packages (from transformers==2.8.0) (4.62.3)\r\n",
      "Requirement already satisfied: sentencepiece in /opt/conda/lib/python3.7/site-packages (from transformers==2.8.0) (0.1.96)\r\n",
      "Requirement already satisfied: boto3 in /opt/conda/lib/python3.7/site-packages (from transformers==2.8.0) (1.20.26)\r\n",
      "Requirement already satisfied: sacremoses in /opt/conda/lib/python3.7/site-packages (from transformers==2.8.0) (0.0.46)\r\n",
      "Requirement already satisfied: numpy in /opt/conda/lib/python3.7/site-packages (from transformers==2.8.0) (1.19.5)\r\n",
      "Requirement already satisfied: filelock in /opt/conda/lib/python3.7/site-packages (from transformers==2.8.0) (3.3.2)\r\n",
      "Requirement already satisfied: jmespath<1.0.0,>=0.7.1 in /opt/conda/lib/python3.7/site-packages (from boto3->transformers==2.8.0) (0.10.0)\r\n",
      "Requirement already satisfied: s3transfer<0.6.0,>=0.5.0 in /opt/conda/lib/python3.7/site-packages (from boto3->transformers==2.8.0) (0.5.0)\r\n",
      "Requirement already satisfied: botocore<1.24.0,>=1.23.26 in /opt/conda/lib/python3.7/site-packages (from boto3->transformers==2.8.0) (1.23.26)\r\n",
      "Requirement already satisfied: certifi>=2017.4.17 in /opt/conda/lib/python3.7/site-packages (from requests->transformers==2.8.0) (2021.10.8)\r\n",
      "Requirement already satisfied: charset-normalizer~=2.0.0 in /opt/conda/lib/python3.7/site-packages (from requests->transformers==2.8.0) (2.0.8)\r\n",
      "Requirement already satisfied: idna<4,>=2.5 in /opt/conda/lib/python3.7/site-packages (from requests->transformers==2.8.0) (3.1)\r\n",
      "Requirement already satisfied: urllib3<1.27,>=1.21.1 in /opt/conda/lib/python3.7/site-packages (from requests->transformers==2.8.0) (1.26.7)\r\n",
      "Requirement already satisfied: click in /opt/conda/lib/python3.7/site-packages (from sacremoses->transformers==2.8.0) (8.0.3)\r\n",
      "Requirement already satisfied: six in /opt/conda/lib/python3.7/site-packages (from sacremoses->transformers==2.8.0) (1.16.0)\r\n",
      "Requirement already satisfied: joblib in /opt/conda/lib/python3.7/site-packages (from sacremoses->transformers==2.8.0) (1.1.0)\r\n",
      "Requirement already satisfied: python-dateutil<3.0.0,>=2.1 in /opt/conda/lib/python3.7/site-packages (from botocore<1.24.0,>=1.23.26->boto3->transformers==2.8.0) (2.8.0)\r\n",
      "Requirement already satisfied: importlib-metadata in /opt/conda/lib/python3.7/site-packages (from click->sacremoses->transformers==2.8.0) (4.10.0)\r\n",
      "Requirement already satisfied: zipp>=0.5 in /opt/conda/lib/python3.7/site-packages (from importlib-metadata->click->sacremoses->transformers==2.8.0) (3.6.0)\r\n",
      "Requirement already satisfied: typing-extensions>=3.6.4 in /opt/conda/lib/python3.7/site-packages (from importlib-metadata->click->sacremoses->transformers==2.8.0) (3.10.0.2)\r\n",
      "Installing collected packages: tokenizers, transformers\r\n",
      "  Attempting uninstall: tokenizers\r\n",
      "    Found existing installation: tokenizers 0.10.3\r\n",
      "    Uninstalling tokenizers-0.10.3:\r\n",
      "      Successfully uninstalled tokenizers-0.10.3\r\n",
      "  Attempting uninstall: transformers\r\n",
      "    Found existing installation: transformers 4.12.5\r\n",
      "    Uninstalling transformers-4.12.5:\r\n",
      "      Successfully uninstalled transformers-4.12.5\r\n",
      "\u001b[31mERROR: pip's dependency resolver does not currently take into account all the packages that are installed. This behaviour is the source of the following dependency conflicts.\r\n",
      "allennlp 2.8.0 requires transformers<4.13,>=4.1, but you have transformers 2.8.0 which is incompatible.\u001b[0m\r\n",
      "Successfully installed tokenizers-0.5.2 transformers-2.8.0\r\n",
      "\u001b[33mWARNING: Running pip as the 'root' user can result in broken permissions and conflicting behaviour with the system package manager. It is recommended to use a virtual environment instead: https://pip.pypa.io/warnings/venv\u001b[0m\r\n"
     ]
    }
   ],
   "source": [
    "!pip install transformers==2.8.0"
   ]
  },
  {
   "cell_type": "code",
   "execution_count": 3,
   "id": "6fa0222f",
   "metadata": {
    "execution": {
     "iopub.execute_input": "2022-01-21T06:48:26.972359Z",
     "iopub.status.busy": "2022-01-21T06:48:26.969552Z",
     "iopub.status.idle": "2022-01-21T06:48:27.041779Z",
     "shell.execute_reply": "2022-01-21T06:48:27.041206Z",
     "shell.execute_reply.started": "2022-01-21T06:28:23.098581Z"
    },
    "papermill": {
     "duration": 0.107211,
     "end_time": "2022-01-21T06:48:27.041902",
     "exception": false,
     "start_time": "2022-01-21T06:48:26.934691",
     "status": "completed"
    },
    "tags": []
   },
   "outputs": [],
   "source": [
    "train = pd.read_csv('../input/nlp-getting-started/train.csv')\n",
    "test = pd.read_csv('../input/nlp-getting-started/test.csv')\n",
    "submission = pd.read_csv('../input/nlp-getting-started/sample_submission.csv')"
   ]
  },
  {
   "cell_type": "markdown",
   "id": "0cee21d7",
   "metadata": {
    "papermill": {
     "duration": 0.03519,
     "end_time": "2022-01-21T06:48:27.111690",
     "exception": false,
     "start_time": "2022-01-21T06:48:27.076500",
     "status": "completed"
    },
    "tags": []
   },
   "source": [
    "Data cleaning"
   ]
  },
  {
   "cell_type": "code",
   "execution_count": 4,
   "id": "b715e6e4",
   "metadata": {
    "execution": {
     "iopub.execute_input": "2022-01-21T06:48:27.243942Z",
     "iopub.status.busy": "2022-01-21T06:48:27.241277Z",
     "iopub.status.idle": "2022-01-21T06:48:27.248097Z",
     "shell.execute_reply": "2022-01-21T06:48:27.247283Z",
     "shell.execute_reply.started": "2022-01-21T06:28:25.953461Z"
    },
    "papermill": {
     "duration": 0.071744,
     "end_time": "2022-01-21T06:48:27.248316",
     "exception": false,
     "start_time": "2022-01-21T06:48:27.176572",
     "status": "completed"
    },
    "tags": []
   },
   "outputs": [],
   "source": [
    "# https://www.kaggle.com/swarnabha/pytorch-text-classification-torchtext-lstm\n",
    "def clean_text (text):\n",
    "    text = text.str.lower() # lowercase\n",
    "    text = text.str.replace(r\"\\#\",\"\") # replaces hashtags\n",
    "    text = text.str.replace(r\"http\\S+\",\"URL\")  # remove URL addresses\n",
    "    text = text.str.replace(r\"@\",\"\")\n",
    "    text = text.str.replace(r\"[^A-Za-z0-9()!?\\'\\`\\\"]\", \" \")\n",
    "    text = text.str.replace(\"\\s{2,}\", \" \")\n",
    "    return text"
   ]
  },
  {
   "cell_type": "code",
   "execution_count": 5,
   "id": "39118f31",
   "metadata": {
    "execution": {
     "iopub.execute_input": "2022-01-21T06:48:27.365326Z",
     "iopub.status.busy": "2022-01-21T06:48:27.364496Z",
     "iopub.status.idle": "2022-01-21T06:48:27.368634Z",
     "shell.execute_reply": "2022-01-21T06:48:27.369488Z",
     "shell.execute_reply.started": "2022-01-21T06:28:28.433036Z"
    },
    "papermill": {
     "duration": 0.068741,
     "end_time": "2022-01-21T06:48:27.369703",
     "exception": false,
     "start_time": "2022-01-21T06:48:27.300962",
     "status": "completed"
    },
    "tags": []
   },
   "outputs": [],
   "source": [
    "# https://www.kaggle.com/shahules/basic-eda-cleaning-and-glove\n",
    "\n",
    "import re\n",
    "def remove_URL(text):\n",
    "    url = re.compile(r'https?://\\S+|www\\.\\S+')\n",
    "    return url.sub(r'',text)\n",
    "\n",
    "def remove_html(text):\n",
    "    html=re.compile(r'<.*?>')\n",
    "    return html.sub(r'',text)\n",
    "\n",
    "def remove_emoji(text):\n",
    "    emoji_pattern = re.compile(\"[\"\n",
    "                           u\"\\U0001F600-\\U0001F64F\"  # emoticons\n",
    "                           u\"\\U0001F300-\\U0001F5FF\"  # symbols & pictographs\n",
    "                           u\"\\U0001F680-\\U0001F6FF\"  # transport & map symbols\n",
    "                           u\"\\U0001F1E0-\\U0001F1FF\"  # flags (iOS)\n",
    "                           u\"\\U00002702-\\U000027B0\"\n",
    "                           u\"\\U000024C2-\\U0001F251\"\n",
    "                           \"]+\", flags=re.UNICODE)\n",
    "    return emoji_pattern.sub(r'', text)\n",
    "\n",
    "import string\n",
    "def remove_punct(text):\n",
    "    table=str.maketrans('','',string.punctuation)\n",
    "    return text.translate(table)"
   ]
  },
  {
   "cell_type": "code",
   "execution_count": 6,
   "id": "302dd7e4",
   "metadata": {
    "execution": {
     "iopub.execute_input": "2022-01-21T06:48:27.486887Z",
     "iopub.status.busy": "2022-01-21T06:48:27.485983Z",
     "iopub.status.idle": "2022-01-21T06:48:27.919337Z",
     "shell.execute_reply": "2022-01-21T06:48:27.918812Z",
     "shell.execute_reply.started": "2022-01-21T06:28:31.341367Z"
    },
    "papermill": {
     "duration": 0.495595,
     "end_time": "2022-01-21T06:48:27.919484",
     "exception": false,
     "start_time": "2022-01-21T06:48:27.423889",
     "status": "completed"
    },
    "tags": []
   },
   "outputs": [
    {
     "name": "stderr",
     "output_type": "stream",
     "text": [
      "/opt/conda/lib/python3.7/site-packages/ipykernel_launcher.py:4: FutureWarning: The default value of regex will change from True to False in a future version.\n",
      "  after removing the cwd from sys.path.\n",
      "/opt/conda/lib/python3.7/site-packages/ipykernel_launcher.py:5: FutureWarning: The default value of regex will change from True to False in a future version.\n",
      "  \"\"\"\n",
      "/opt/conda/lib/python3.7/site-packages/ipykernel_launcher.py:7: FutureWarning: The default value of regex will change from True to False in a future version.\n",
      "  import sys\n",
      "/opt/conda/lib/python3.7/site-packages/ipykernel_launcher.py:8: FutureWarning: The default value of regex will change from True to False in a future version.\n",
      "  \n"
     ]
    }
   ],
   "source": [
    "train['text'] = clean_text(train['text'])\n",
    "test['text'] = clean_text(test['text'])\n",
    "\n",
    "train['text']=train['text'].apply(lambda x : remove_URL(x))\n",
    "test['text']=test['text'].apply(lambda x : remove_URL(x))\n",
    "\n",
    "train['text']=train['text'].apply(lambda x : remove_html(x))\n",
    "test['text']=test['text'].apply(lambda x : remove_html(x))\n",
    "\n",
    "train['text']=train['text'].apply(lambda x: remove_emoji(x))\n",
    "test['text']=test['text'].apply(lambda x: remove_emoji(x))\n",
    "\n",
    "train['text']=train['text'].apply(lambda x : remove_punct(x))\n",
    "test['text']=test['text'].apply(lambda x : remove_punct(x))"
   ]
  },
  {
   "cell_type": "code",
   "execution_count": 7,
   "id": "c035601c",
   "metadata": {
    "execution": {
     "iopub.execute_input": "2022-01-21T06:48:27.992370Z",
     "iopub.status.busy": "2022-01-21T06:48:27.991488Z",
     "iopub.status.idle": "2022-01-21T06:48:28.004157Z",
     "shell.execute_reply": "2022-01-21T06:48:28.004612Z",
     "shell.execute_reply.started": "2022-01-21T06:28:44.785870Z"
    },
    "papermill": {
     "duration": 0.051717,
     "end_time": "2022-01-21T06:48:28.004749",
     "exception": false,
     "start_time": "2022-01-21T06:48:27.953032",
     "status": "completed"
    },
    "tags": []
   },
   "outputs": [
    {
     "data": {
      "text/html": [
       "<div>\n",
       "<style scoped>\n",
       "    .dataframe tbody tr th:only-of-type {\n",
       "        vertical-align: middle;\n",
       "    }\n",
       "\n",
       "    .dataframe tbody tr th {\n",
       "        vertical-align: top;\n",
       "    }\n",
       "\n",
       "    .dataframe thead th {\n",
       "        text-align: right;\n",
       "    }\n",
       "</style>\n",
       "<table border=\"1\" class=\"dataframe\">\n",
       "  <thead>\n",
       "    <tr style=\"text-align: right;\">\n",
       "      <th></th>\n",
       "      <th>id</th>\n",
       "      <th>keyword</th>\n",
       "      <th>location</th>\n",
       "      <th>text</th>\n",
       "      <th>target</th>\n",
       "    </tr>\n",
       "  </thead>\n",
       "  <tbody>\n",
       "    <tr>\n",
       "      <th>0</th>\n",
       "      <td>1</td>\n",
       "      <td>NaN</td>\n",
       "      <td>NaN</td>\n",
       "      <td>our deeds are the reason of this earthquake ma...</td>\n",
       "      <td>1</td>\n",
       "    </tr>\n",
       "    <tr>\n",
       "      <th>1</th>\n",
       "      <td>4</td>\n",
       "      <td>NaN</td>\n",
       "      <td>NaN</td>\n",
       "      <td>forest fire near la ronge sask canada</td>\n",
       "      <td>1</td>\n",
       "    </tr>\n",
       "    <tr>\n",
       "      <th>2</th>\n",
       "      <td>5</td>\n",
       "      <td>NaN</td>\n",
       "      <td>NaN</td>\n",
       "      <td>all residents asked to shelter in place are be...</td>\n",
       "      <td>1</td>\n",
       "    </tr>\n",
       "    <tr>\n",
       "      <th>3</th>\n",
       "      <td>6</td>\n",
       "      <td>NaN</td>\n",
       "      <td>NaN</td>\n",
       "      <td>13 000 people receive wildfires evacuation ord...</td>\n",
       "      <td>1</td>\n",
       "    </tr>\n",
       "    <tr>\n",
       "      <th>4</th>\n",
       "      <td>7</td>\n",
       "      <td>NaN</td>\n",
       "      <td>NaN</td>\n",
       "      <td>just got sent this photo from ruby alaska as s...</td>\n",
       "      <td>1</td>\n",
       "    </tr>\n",
       "  </tbody>\n",
       "</table>\n",
       "</div>"
      ],
      "text/plain": [
       "   id keyword location                                               text  \\\n",
       "0   1     NaN      NaN  our deeds are the reason of this earthquake ma...   \n",
       "1   4     NaN      NaN              forest fire near la ronge sask canada   \n",
       "2   5     NaN      NaN  all residents asked to shelter in place are be...   \n",
       "3   6     NaN      NaN  13 000 people receive wildfires evacuation ord...   \n",
       "4   7     NaN      NaN  just got sent this photo from ruby alaska as s...   \n",
       "\n",
       "   target  \n",
       "0       1  \n",
       "1       1  \n",
       "2       1  \n",
       "3       1  \n",
       "4       1  "
      ]
     },
     "execution_count": 7,
     "metadata": {},
     "output_type": "execute_result"
    }
   ],
   "source": [
    "train.head()"
   ]
  },
  {
   "cell_type": "code",
   "execution_count": 8,
   "id": "1117303b",
   "metadata": {
    "execution": {
     "iopub.execute_input": "2022-01-21T06:48:28.080568Z",
     "iopub.status.busy": "2022-01-21T06:48:28.079440Z",
     "iopub.status.idle": "2022-01-21T06:48:28.082585Z",
     "shell.execute_reply": "2022-01-21T06:48:28.082985Z",
     "shell.execute_reply.started": "2022-01-21T06:28:52.271584Z"
    },
    "papermill": {
     "duration": 0.045246,
     "end_time": "2022-01-21T06:48:28.083112",
     "exception": false,
     "start_time": "2022-01-21T06:48:28.037866",
     "status": "completed"
    },
    "tags": []
   },
   "outputs": [
    {
     "data": {
      "text/html": [
       "<div>\n",
       "<style scoped>\n",
       "    .dataframe tbody tr th:only-of-type {\n",
       "        vertical-align: middle;\n",
       "    }\n",
       "\n",
       "    .dataframe tbody tr th {\n",
       "        vertical-align: top;\n",
       "    }\n",
       "\n",
       "    .dataframe thead th {\n",
       "        text-align: right;\n",
       "    }\n",
       "</style>\n",
       "<table border=\"1\" class=\"dataframe\">\n",
       "  <thead>\n",
       "    <tr style=\"text-align: right;\">\n",
       "      <th></th>\n",
       "      <th>id</th>\n",
       "      <th>keyword</th>\n",
       "      <th>location</th>\n",
       "      <th>text</th>\n",
       "    </tr>\n",
       "  </thead>\n",
       "  <tbody>\n",
       "    <tr>\n",
       "      <th>0</th>\n",
       "      <td>0</td>\n",
       "      <td>NaN</td>\n",
       "      <td>NaN</td>\n",
       "      <td>just happened a terrible car crash</td>\n",
       "    </tr>\n",
       "    <tr>\n",
       "      <th>1</th>\n",
       "      <td>2</td>\n",
       "      <td>NaN</td>\n",
       "      <td>NaN</td>\n",
       "      <td>heard about earthquake is different cities sta...</td>\n",
       "    </tr>\n",
       "    <tr>\n",
       "      <th>2</th>\n",
       "      <td>3</td>\n",
       "      <td>NaN</td>\n",
       "      <td>NaN</td>\n",
       "      <td>there is a forest fire at spot pond geese are ...</td>\n",
       "    </tr>\n",
       "    <tr>\n",
       "      <th>3</th>\n",
       "      <td>9</td>\n",
       "      <td>NaN</td>\n",
       "      <td>NaN</td>\n",
       "      <td>apocalypse lighting spokane wildfires</td>\n",
       "    </tr>\n",
       "    <tr>\n",
       "      <th>4</th>\n",
       "      <td>11</td>\n",
       "      <td>NaN</td>\n",
       "      <td>NaN</td>\n",
       "      <td>typhoon soudelor kills 28 in china and taiwan</td>\n",
       "    </tr>\n",
       "  </tbody>\n",
       "</table>\n",
       "</div>"
      ],
      "text/plain": [
       "   id keyword location                                               text\n",
       "0   0     NaN      NaN                 just happened a terrible car crash\n",
       "1   2     NaN      NaN  heard about earthquake is different cities sta...\n",
       "2   3     NaN      NaN  there is a forest fire at spot pond geese are ...\n",
       "3   9     NaN      NaN              apocalypse lighting spokane wildfires\n",
       "4  11     NaN      NaN      typhoon soudelor kills 28 in china and taiwan"
      ]
     },
     "execution_count": 8,
     "metadata": {},
     "output_type": "execute_result"
    }
   ],
   "source": [
    "test.head()"
   ]
  },
  {
   "cell_type": "code",
   "execution_count": 9,
   "id": "f9143c61",
   "metadata": {
    "execution": {
     "iopub.execute_input": "2022-01-21T06:48:28.158020Z",
     "iopub.status.busy": "2022-01-21T06:48:28.157162Z",
     "iopub.status.idle": "2022-01-21T06:48:29.543150Z",
     "shell.execute_reply": "2022-01-21T06:48:29.543763Z",
     "shell.execute_reply.started": "2022-01-21T06:28:55.477213Z"
    },
    "papermill": {
     "duration": 1.427672,
     "end_time": "2022-01-21T06:48:29.543961",
     "exception": false,
     "start_time": "2022-01-21T06:48:28.116289",
     "status": "completed"
    },
    "tags": []
   },
   "outputs": [
    {
     "name": "stdout",
     "output_type": "stream",
     "text": [
      "[nltk_data] Downloading package stopwords to /usr/share/nltk_data...\n",
      "[nltk_data]   Package stopwords is already up-to-date!\n"
     ]
    }
   ],
   "source": [
    "import nltk\n",
    "# Uncomment to download \"stopwords\"\n",
    "nltk.download(\"stopwords\")\n",
    "from nltk.corpus import stopwords\n",
    "\n",
    "def text_preprocessing(s):\n",
    "    s = s.lower()\n",
    "    # Change 't to 'not'\n",
    "    s = re.sub(r\"\\'t\", \" not\", s)\n",
    "    # Remove @name\n",
    "    s = re.sub(r'(@.*?)[\\s]', ' ', s)\n",
    "    # Isolate and remove punctuations except '?'\n",
    "    s = re.sub(r'([\\'\\\"\\.\\(\\)\\!\\?\\\\\\/\\,])', r' \\1 ', s)\n",
    "    s = re.sub(r'[^\\w\\s\\?]', ' ', s)\n",
    "    # Remove some special characters\n",
    "    s = re.sub(r'([\\;\\:\\|•«\\n])', ' ', s)\n",
    "    # Remove stopwords except 'not' and 'can'\n",
    "    s = \" \".join([word for word in s.split()\n",
    "                  if word not in stopwords.words('english')\n",
    "                  or word in ['not', 'can']])\n",
    "    # Remove trailing whitespace\n",
    "    s = re.sub(r'\\s+', ' ', s).strip()\n",
    "    \n",
    "    return s"
   ]
  },
  {
   "cell_type": "markdown",
   "id": "424273f1",
   "metadata": {
    "papermill": {
     "duration": 0.033014,
     "end_time": "2022-01-21T06:48:29.612057",
     "exception": false,
     "start_time": "2022-01-21T06:48:29.579043",
     "status": "completed"
    },
    "tags": []
   },
   "source": [
    "BERT Tokenizer"
   ]
  },
  {
   "cell_type": "code",
   "execution_count": 10,
   "id": "73f92917",
   "metadata": {
    "execution": {
     "iopub.execute_input": "2022-01-21T06:48:29.687024Z",
     "iopub.status.busy": "2022-01-21T06:48:29.686281Z",
     "iopub.status.idle": "2022-01-21T06:48:36.854849Z",
     "shell.execute_reply": "2022-01-21T06:48:36.854308Z",
     "shell.execute_reply.started": "2022-01-21T06:29:29.803895Z"
    },
    "papermill": {
     "duration": 7.209995,
     "end_time": "2022-01-21T06:48:36.854979",
     "exception": false,
     "start_time": "2022-01-21T06:48:29.644984",
     "status": "completed"
    },
    "tags": []
   },
   "outputs": [
    {
     "data": {
      "application/vnd.jupyter.widget-view+json": {
       "model_id": "02fd1bfa04724a28a9e3bd8cebd6c7cf",
       "version_major": 2,
       "version_minor": 0
      },
      "text/plain": [
       "Downloading:   0%|          | 0.00/232k [00:00<?, ?B/s]"
      ]
     },
     "metadata": {},
     "output_type": "display_data"
    }
   ],
   "source": [
    "# https://www.kaggle.com/vishalsiram50/fine-tuning-bert-88-accuracy\n",
    "from transformers import BertTokenizer\n",
    "\n",
    "# Load the BERT tokenizer\n",
    "tokenizer = BertTokenizer.from_pretrained('bert-base-uncased', do_lower_case=True)\n",
    "\n",
    "# Create a function to tokenize a set of texts\n",
    "def preprocessing_for_bert(data):\n",
    "    \"\"\"Perform required preprocessing steps for pretrained BERT.\n",
    "    @param    data (np.array): Array of texts to be processed.\n",
    "    @return   input_ids (torch.Tensor): Tensor of token ids to be fed to a model.\n",
    "    @return   attention_masks (torch.Tensor): Tensor of indices specifying which\n",
    "                  tokens should be attended to by the model.\n",
    "    \"\"\"\n",
    "    # Create empty lists to store outputs\n",
    "    input_ids = []\n",
    "    attention_masks = []\n",
    "\n",
    "    # For every sentence...\n",
    "    for sent in data:\n",
    "        # `encode_plus` will:\n",
    "        #    (1) Tokenize the sentence\n",
    "        #    (2) Add the `[CLS]` and `[SEP]` token to the start and end\n",
    "        #    (3) Truncate/Pad sentence to max length\n",
    "        #    (4) Map tokens to their IDs\n",
    "        #    (5) Create attention mask\n",
    "        #    (6) Return a dictionary of outputs\n",
    "        encoded_sent = tokenizer.encode_plus(\n",
    "            text=text_preprocessing(sent),  # Data preprocessing\n",
    "            add_special_tokens=True,        # Add `[CLS]` and `[SEP]`\n",
    "            max_length=MAX_LEN,             # Max length to truncate/pad\n",
    "            pad_to_max_length=True,         # Pad sentence to max length\n",
    "            #return_tensors='pt',           # Return PyTorch tensor\n",
    "            return_attention_mask=True      # Return attention mask\n",
    "            )\n",
    "        \n",
    "        # Add the outputs to the lists\n",
    "        input_ids.append(encoded_sent.get('input_ids'))\n",
    "        attention_masks.append(encoded_sent.get('attention_mask'))\n",
    "\n",
    "    # Convert lists to tensors\n",
    "    input_ids = torch.tensor(input_ids)\n",
    "    attention_masks = torch.tensor(attention_masks)\n",
    "\n",
    "    return input_ids, attention_masks"
   ]
  },
  {
   "cell_type": "code",
   "execution_count": 11,
   "id": "b4e5077a",
   "metadata": {
    "execution": {
     "iopub.execute_input": "2022-01-21T06:48:36.926352Z",
     "iopub.status.busy": "2022-01-21T06:48:36.925541Z",
     "iopub.status.idle": "2022-01-21T06:48:42.524639Z",
     "shell.execute_reply": "2022-01-21T06:48:42.525372Z",
     "shell.execute_reply.started": "2022-01-21T06:29:35.493679Z"
    },
    "papermill": {
     "duration": 5.636037,
     "end_time": "2022-01-21T06:48:42.525593",
     "exception": false,
     "start_time": "2022-01-21T06:48:36.889556",
     "status": "completed"
    },
    "tags": []
   },
   "outputs": [
    {
     "name": "stdout",
     "output_type": "stream",
     "text": [
      "Max length:  55\n"
     ]
    }
   ],
   "source": [
    "# Concatenate train data and test data\n",
    "all_tweets = np.concatenate([train.text.values, test.text.values])\n",
    "\n",
    "# Encode our concatenated data\n",
    "encoded_tweets = [tokenizer.encode(sent, add_special_tokens=True) for sent in all_tweets]\n",
    "\n",
    "# Find the maximum length\n",
    "max_len = max([len(sent) for sent in encoded_tweets])\n",
    "print('Max length: ', max_len)"
   ]
  },
  {
   "cell_type": "code",
   "execution_count": 12,
   "id": "91daba60",
   "metadata": {
    "execution": {
     "iopub.execute_input": "2022-01-21T06:48:42.603420Z",
     "iopub.status.busy": "2022-01-21T06:48:42.602528Z",
     "iopub.status.idle": "2022-01-21T06:48:42.604980Z",
     "shell.execute_reply": "2022-01-21T06:48:42.604542Z",
     "shell.execute_reply.started": "2022-01-21T06:29:47.170261Z"
    },
    "papermill": {
     "duration": 0.04428,
     "end_time": "2022-01-21T06:48:42.605086",
     "exception": false,
     "start_time": "2022-01-21T06:48:42.560806",
     "status": "completed"
    },
    "tags": []
   },
   "outputs": [],
   "source": [
    "from sklearn.model_selection import train_test_split\n",
    "\n",
    "X = train.text.values\n",
    "y = train.target.values\n",
    "\n",
    "X_train, X_val, y_train, y_val =\\\n",
    "    train_test_split(X, y, test_size=0.1, random_state=42)"
   ]
  },
  {
   "cell_type": "code",
   "execution_count": 13,
   "id": "251de751",
   "metadata": {
    "execution": {
     "iopub.execute_input": "2022-01-21T06:48:42.728611Z",
     "iopub.status.busy": "2022-01-21T06:48:42.724976Z",
     "iopub.status.idle": "2022-01-21T06:48:42.732879Z",
     "shell.execute_reply": "2022-01-21T06:48:42.733930Z",
     "shell.execute_reply.started": "2022-01-21T06:29:50.208009Z"
    },
    "papermill": {
     "duration": 0.095473,
     "end_time": "2022-01-21T06:48:42.734127",
     "exception": false,
     "start_time": "2022-01-21T06:48:42.638654",
     "status": "completed"
    },
    "tags": []
   },
   "outputs": [
    {
     "name": "stdout",
     "output_type": "stream",
     "text": [
      "There are 1 GPU(s) available.\n",
      "Device name: Tesla P100-PCIE-16GB\n"
     ]
    }
   ],
   "source": [
    "import torch\n",
    "\n",
    "if torch.cuda.is_available():       \n",
    "    device = torch.device(\"cuda\")\n",
    "    print(f'There are {torch.cuda.device_count()} GPU(s) available.')\n",
    "    print('Device name:', torch.cuda.get_device_name(0))\n",
    "\n",
    "else:\n",
    "    print('No GPU available, using the CPU instead.')\n",
    "    device = torch.device(\"cpu\")"
   ]
  },
  {
   "cell_type": "code",
   "execution_count": 14,
   "id": "72b354ff",
   "metadata": {
    "execution": {
     "iopub.execute_input": "2022-01-21T06:48:42.810973Z",
     "iopub.status.busy": "2022-01-21T06:48:42.810042Z",
     "iopub.status.idle": "2022-01-21T06:49:00.575892Z",
     "shell.execute_reply": "2022-01-21T06:49:00.576929Z",
     "shell.execute_reply.started": "2022-01-21T06:30:54.704993Z"
    },
    "papermill": {
     "duration": 17.808566,
     "end_time": "2022-01-21T06:49:00.577257",
     "exception": false,
     "start_time": "2022-01-21T06:48:42.768691",
     "status": "completed"
    },
    "tags": []
   },
   "outputs": [
    {
     "name": "stdout",
     "output_type": "stream",
     "text": [
      "Original:  our deeds are the reason of this earthquake may allah forgive us all\n",
      "Token IDs:  [101, 15616, 3114, 8372, 2089, 16455, 9641, 2149, 102, 0, 0, 0, 0, 0, 0, 0, 0, 0, 0, 0, 0, 0, 0, 0, 0, 0, 0, 0, 0, 0, 0, 0, 0, 0, 0, 0, 0, 0, 0, 0, 0, 0, 0, 0, 0, 0, 0, 0, 0, 0, 0, 0, 0, 0, 0]\n",
      "Tokenizing data...\n",
      "Done!\n"
     ]
    }
   ],
   "source": [
    "# Specify `MAX_LEN`\n",
    "MAX_LEN = 55\n",
    "\n",
    "# Print sentence 0 and its encoded token ids\n",
    "X = train.text.values\n",
    "token_ids = list(preprocessing_for_bert([X[0]])[0].squeeze().numpy())\n",
    "print('Original: ', X[0])\n",
    "print('Token IDs: ', token_ids)\n",
    "\n",
    "# Run function `preprocessing_for_bert` on the train set and the validation set\n",
    "print('Tokenizing data...')\n",
    "train_inputs, train_masks = preprocessing_for_bert(X_train)\n",
    "val_inputs, val_masks = preprocessing_for_bert(X_val)\n",
    "print('Done!')"
   ]
  },
  {
   "cell_type": "markdown",
   "id": "f0e44752",
   "metadata": {
    "papermill": {
     "duration": 0.056412,
     "end_time": "2022-01-21T06:49:00.692963",
     "exception": false,
     "start_time": "2022-01-21T06:49:00.636551",
     "status": "completed"
    },
    "tags": []
   },
   "source": [
    "Create PyTorch DataLoader"
   ]
  },
  {
   "cell_type": "code",
   "execution_count": 15,
   "id": "938a17aa",
   "metadata": {
    "execution": {
     "iopub.execute_input": "2022-01-21T06:49:00.782960Z",
     "iopub.status.busy": "2022-01-21T06:49:00.782440Z",
     "iopub.status.idle": "2022-01-21T06:49:00.791845Z",
     "shell.execute_reply": "2022-01-21T06:49:00.791411Z",
     "shell.execute_reply.started": "2022-01-21T06:31:37.945602Z"
    },
    "papermill": {
     "duration": 0.049081,
     "end_time": "2022-01-21T06:49:00.791950",
     "exception": false,
     "start_time": "2022-01-21T06:49:00.742869",
     "status": "completed"
    },
    "tags": []
   },
   "outputs": [],
   "source": [
    "from torch.utils.data import TensorDataset, DataLoader, RandomSampler, SequentialSampler\n",
    "\n",
    "# Convert other data types to torch.Tensor\n",
    "train_labels = torch.tensor(y_train)\n",
    "val_labels = torch.tensor(y_val)\n",
    "\n",
    "# For fine-tuning BERT, the authors recommend a batch size of 16 or 32.\n",
    "batch_size = 32\n",
    "\n",
    "# Create the DataLoader for our training set\n",
    "train_data = TensorDataset(train_inputs, train_masks, train_labels)\n",
    "train_sampler = RandomSampler(train_data)\n",
    "train_dataloader = DataLoader(train_data, sampler=train_sampler, batch_size=batch_size)\n",
    "\n",
    "# Create the DataLoader for our validation set\n",
    "val_data = TensorDataset(val_inputs, val_masks, val_labels)\n",
    "val_sampler = SequentialSampler(val_data)\n",
    "val_dataloader = DataLoader(val_data, sampler=val_sampler, batch_size=batch_size)"
   ]
  },
  {
   "cell_type": "markdown",
   "id": "8bafe957",
   "metadata": {
    "papermill": {
     "duration": 0.033968,
     "end_time": "2022-01-21T06:49:00.860291",
     "exception": false,
     "start_time": "2022-01-21T06:49:00.826323",
     "status": "completed"
    },
    "tags": []
   },
   "source": [
    " Train Model"
   ]
  },
  {
   "cell_type": "code",
   "execution_count": 16,
   "id": "c8811dda",
   "metadata": {
    "execution": {
     "iopub.execute_input": "2022-01-21T06:49:00.936792Z",
     "iopub.status.busy": "2022-01-21T06:49:00.936119Z",
     "iopub.status.idle": "2022-01-21T06:49:00.939106Z",
     "shell.execute_reply": "2022-01-21T06:49:00.939701Z",
     "shell.execute_reply.started": "2022-01-21T06:31:49.008407Z"
    },
    "papermill": {
     "duration": 0.045421,
     "end_time": "2022-01-21T06:49:00.939869",
     "exception": false,
     "start_time": "2022-01-21T06:49:00.894448",
     "status": "completed"
    },
    "tags": []
   },
   "outputs": [
    {
     "name": "stdout",
     "output_type": "stream",
     "text": [
      "CPU times: user 35 µs, sys: 4 µs, total: 39 µs\n",
      "Wall time: 41.5 µs\n"
     ]
    }
   ],
   "source": [
    "%%time\n",
    "import torch\n",
    "import torch.nn as nn\n",
    "from transformers import BertModel\n",
    "\n",
    "# Create the BertClassfier class\n",
    "class BertClassifier(nn.Module):\n",
    "    \"\"\"Bert Model for Classification Tasks.\n",
    "    \"\"\"\n",
    "    def __init__(self, freeze_bert=False):\n",
    "        \"\"\"\n",
    "        @param    bert: a BertModel object\n",
    "        @param    classifier: a torch.nn.Module classifier\n",
    "        @param    freeze_bert (bool): Set `False` to fine-tune the BERT model\n",
    "        \"\"\"\n",
    "        super(BertClassifier, self).__init__()\n",
    "        # Specify hidden size of BERT, hidden size of our classifier, and number of labels\n",
    "        D_in, H, D_out = 768, 50, 2\n",
    "\n",
    "        # Instantiate BERT model\n",
    "        self.bert = BertModel.from_pretrained('bert-base-uncased')\n",
    "\n",
    "        # Instantiate an one-layer feed-forward classifier\n",
    "        self.classifier = nn.Sequential(\n",
    "            nn.Linear(D_in, H),\n",
    "            nn.ReLU(),\n",
    "            #nn.Dropout(0.5),\n",
    "            nn.Linear(H, D_out)\n",
    "        )\n",
    "\n",
    "        # Freeze the BERT model\n",
    "        if freeze_bert:\n",
    "            for param in self.bert.parameters():\n",
    "                param.requires_grad = False\n",
    "        \n",
    "    def forward(self, input_ids, attention_mask):\n",
    "        \"\"\"\n",
    "        Feed input to BERT and the classifier to compute logits.\n",
    "        @param    input_ids (torch.Tensor): an input tensor with shape (batch_size,\n",
    "                      max_length)\n",
    "        @param    attention_mask (torch.Tensor): a tensor that hold attention mask\n",
    "                      information with shape (batch_size, max_length)\n",
    "        @return   logits (torch.Tensor): an output tensor with shape (batch_size,\n",
    "                      num_labels)\n",
    "        \"\"\"\n",
    "        # Feed input to BERT\n",
    "        outputs = self.bert(input_ids=input_ids,\n",
    "                            attention_mask=attention_mask)\n",
    "        \n",
    "        # Extract the last hidden state of the token `[CLS]` for classification task\n",
    "        last_hidden_state_cls = outputs[0][:, 0, :]\n",
    "\n",
    "        # Feed input to classifier to compute logits\n",
    "        logits = self.classifier(last_hidden_state_cls)\n",
    "\n",
    "        return logits"
   ]
  },
  {
   "cell_type": "markdown",
   "id": "3d22e517",
   "metadata": {
    "papermill": {
     "duration": 0.034478,
     "end_time": "2022-01-21T06:49:01.009530",
     "exception": false,
     "start_time": "2022-01-21T06:49:00.975052",
     "status": "completed"
    },
    "tags": []
   },
   "source": [
    "Optimizer & Learning Rate Scheduler"
   ]
  },
  {
   "cell_type": "code",
   "execution_count": 17,
   "id": "a6016e28",
   "metadata": {
    "execution": {
     "iopub.execute_input": "2022-01-21T06:49:01.084945Z",
     "iopub.status.busy": "2022-01-21T06:49:01.084127Z",
     "iopub.status.idle": "2022-01-21T06:49:01.086375Z",
     "shell.execute_reply": "2022-01-21T06:49:01.086813Z",
     "shell.execute_reply.started": "2022-01-21T06:32:10.722629Z"
    },
    "papermill": {
     "duration": 0.042745,
     "end_time": "2022-01-21T06:49:01.086942",
     "exception": false,
     "start_time": "2022-01-21T06:49:01.044197",
     "status": "completed"
    },
    "tags": []
   },
   "outputs": [],
   "source": [
    "from transformers import AdamW, get_linear_schedule_with_warmup\n",
    "\n",
    "def initialize_model(epochs=10):\n",
    "    \"\"\"Initialize the Bert Classifier, the optimizer and the learning rate scheduler.\n",
    "    \"\"\"\n",
    "    # Instantiate Bert Classifier\n",
    "    bert_classifier = BertClassifier(freeze_bert=False)\n",
    "\n",
    "    # Tell PyTorch to run the model on GPU\n",
    "    bert_classifier.to(device)\n",
    "\n",
    "    # Create the optimizer\n",
    "    optimizer = AdamW(bert_classifier.parameters(),\n",
    "                      lr=5e-5,    # Default learning rate\n",
    "                      eps=1e-8    # Default epsilon value\n",
    "                      )\n",
    "\n",
    "    # Total number of training steps\n",
    "    total_steps = len(train_dataloader) * epochs\n",
    "\n",
    "    # Set up the learning rate scheduler\n",
    "    scheduler = get_linear_schedule_with_warmup(optimizer,\n",
    "                                                num_warmup_steps=0, # Default value\n",
    "                                                num_training_steps=total_steps)\n",
    "    return bert_classifier, optimizer, scheduler"
   ]
  },
  {
   "cell_type": "code",
   "execution_count": 18,
   "id": "495454e9",
   "metadata": {
    "execution": {
     "iopub.execute_input": "2022-01-21T06:49:01.159288Z",
     "iopub.status.busy": "2022-01-21T06:49:01.158357Z",
     "iopub.status.idle": "2022-01-21T06:49:01.163397Z",
     "shell.execute_reply": "2022-01-21T06:49:01.163869Z",
     "shell.execute_reply.started": "2022-01-21T06:32:16.492332Z"
    },
    "papermill": {
     "duration": 0.042537,
     "end_time": "2022-01-21T06:49:01.163993",
     "exception": false,
     "start_time": "2022-01-21T06:49:01.121456",
     "status": "completed"
    },
    "tags": []
   },
   "outputs": [],
   "source": [
    "import random\n",
    "import time\n",
    "\n",
    "# Specify loss function\n",
    "loss_fn = nn.CrossEntropyLoss()\n",
    "\n",
    "def set_seed(seed_value=42):\n",
    "    \"\"\"Set seed for reproducibility.\n",
    "    \"\"\"\n",
    "    random.seed(seed_value)\n",
    "    np.random.seed(seed_value)\n",
    "    torch.manual_seed(seed_value)\n",
    "    torch.cuda.manual_seed_all(seed_value)"
   ]
  },
  {
   "cell_type": "code",
   "execution_count": 19,
   "id": "45ab91e3",
   "metadata": {
    "execution": {
     "iopub.execute_input": "2022-01-21T06:49:01.246457Z",
     "iopub.status.busy": "2022-01-21T06:49:01.241478Z",
     "iopub.status.idle": "2022-01-21T06:49:01.248353Z",
     "shell.execute_reply": "2022-01-21T06:49:01.248765Z",
     "shell.execute_reply.started": "2022-01-21T06:32:25.977415Z"
    },
    "papermill": {
     "duration": 0.050225,
     "end_time": "2022-01-21T06:49:01.248889",
     "exception": false,
     "start_time": "2022-01-21T06:49:01.198664",
     "status": "completed"
    },
    "tags": []
   },
   "outputs": [],
   "source": [
    "def train(model, train_dataloader, val_dataloader=None, epochs=10, evaluation=False):\n",
    "    \"\"\"Train the BertClassifier model.\n",
    "    \"\"\"\n",
    "    # Start training loop\n",
    "    print(\"Start training...\\n\")\n",
    "    for epoch_i in range(epochs):\n",
    "        # =======================================\n",
    "        #               Training\n",
    "        # =======================================\n",
    "        # Print the header of the result table\n",
    "        print(f\"{'Epoch':^7} | {'Batch':^7} | {'Train Loss':^12} | {'Val Loss':^10} | {'Val Acc':^9} | {'Elapsed':^9}\")\n",
    "        print(\"-\"*70)\n",
    "\n",
    "        # Measure the elapsed time of each epoch\n",
    "        t0_epoch, t0_batch = time.time(), time.time()\n",
    "\n",
    "        # Reset tracking variables at the beginning of each epoch\n",
    "        total_loss, batch_loss, batch_counts = 0, 0, 0\n",
    "\n",
    "        # Put the model into the training mode\n",
    "        model.train()\n",
    "\n",
    "        # For each batch of training data...\n",
    "        for step, batch in enumerate(train_dataloader):\n",
    "            batch_counts +=1\n",
    "            # Load batch to GPU\n",
    "            b_input_ids, b_attn_mask, b_labels = tuple(t.to(device) for t in batch)\n",
    "\n",
    "            # Zero out any previously calculated gradients\n",
    "            model.zero_grad()\n",
    "\n",
    "            # Perform a forward pass. This will return logits.\n",
    "            logits = model(b_input_ids, b_attn_mask)\n",
    "\n",
    "            # Compute loss and accumulate the loss values\n",
    "            loss = loss_fn(logits, b_labels)\n",
    "            batch_loss += loss.item()\n",
    "            total_loss += loss.item()\n",
    "\n",
    "            # Perform a backward pass to calculate gradients\n",
    "            loss.backward()\n",
    "\n",
    "            # Clip the norm of the gradients to 1.0 to prevent \"exploding gradients\"\n",
    "            torch.nn.utils.clip_grad_norm_(model.parameters(), 1.0)\n",
    "\n",
    "            # Update parameters and the learning rate\n",
    "            optimizer.step()\n",
    "            scheduler.step()\n",
    "\n",
    "            # Print the loss values and time elapsed for every 20 batches\n",
    "            if (step % 20 == 0 and step != 0) or (step == len(train_dataloader) - 1):\n",
    "                # Calculate time elapsed for 20 batches\n",
    "                time_elapsed = time.time() - t0_batch\n",
    "\n",
    "                # Print training results\n",
    "                print(f\"{epoch_i + 1:^7} | {step:^7} | {batch_loss / batch_counts:^12.6f} | {'-':^10} | {'-':^9} | {time_elapsed:^9.2f}\")\n",
    "\n",
    "                # Reset batch tracking variables\n",
    "                batch_loss, batch_counts = 0, 0\n",
    "                t0_batch = time.time()\n",
    "\n",
    "        # Calculate the average loss over the entire training data\n",
    "        avg_train_loss = total_loss / len(train_dataloader)\n",
    "\n",
    "        print(\"-\"*70)\n",
    "        # =======================================\n",
    "        #               Evaluation\n",
    "        # =======================================\n",
    "        if evaluation == True:\n",
    "            # After the completion of each training epoch, measure the model's performance\n",
    "            # on our validation set.\n",
    "            val_loss, val_accuracy = evaluate(model, val_dataloader)\n",
    "\n",
    "            # Print performance over the entire training data\n",
    "            time_elapsed = time.time() - t0_epoch\n",
    "            \n",
    "            print(f\"{epoch_i + 1:^7} | {'-':^7} | {avg_train_loss:^12.6f} | {val_loss:^10.6f} | {val_accuracy:^9.2f} | {time_elapsed:^9.2f}\")\n",
    "            print(\"-\"*70)\n",
    "        print(\"\\n\")\n",
    "    \n",
    "    print(\"Training complete!\")"
   ]
  },
  {
   "cell_type": "code",
   "execution_count": 20,
   "id": "52bb412d",
   "metadata": {
    "execution": {
     "iopub.execute_input": "2022-01-21T06:49:01.321191Z",
     "iopub.status.busy": "2022-01-21T06:49:01.320419Z",
     "iopub.status.idle": "2022-01-21T06:49:01.328065Z",
     "shell.execute_reply": "2022-01-21T06:49:01.327632Z",
     "shell.execute_reply.started": "2022-01-21T06:32:37.043818Z"
    },
    "papermill": {
     "duration": 0.044741,
     "end_time": "2022-01-21T06:49:01.328172",
     "exception": false,
     "start_time": "2022-01-21T06:49:01.283431",
     "status": "completed"
    },
    "tags": []
   },
   "outputs": [],
   "source": [
    "def evaluate(model, val_dataloader):\n",
    "    \"\"\"After the completion of each training epoch, measure the model's performance\n",
    "    on our validation set.\n",
    "    \"\"\"\n",
    "    # Put the model into the evaluation mode. The dropout layers are disabled during\n",
    "    # the test time.\n",
    "    model.eval()\n",
    "\n",
    "    # Tracking variables\n",
    "    val_accuracy = []\n",
    "    val_loss = []\n",
    "\n",
    "    # For each batch in our validation set...\n",
    "    for batch in val_dataloader:\n",
    "        # Load batch to GPU\n",
    "        b_input_ids, b_attn_mask, b_labels = tuple(t.to(device) for t in batch)\n",
    "\n",
    "        # Compute logits\n",
    "        with torch.no_grad():\n",
    "            logits = model(b_input_ids, b_attn_mask)\n",
    "\n",
    "        # Compute loss\n",
    "        loss = loss_fn(logits, b_labels)\n",
    "        val_loss.append(loss.item())\n",
    "\n",
    "        # Get the predictions\n",
    "        preds = torch.argmax(logits, dim=1).flatten()\n",
    "\n",
    "        # Calculate the accuracy rate\n",
    "        accuracy = (preds == b_labels).cpu().numpy().mean() * 100\n",
    "        val_accuracy.append(accuracy)\n",
    "\n",
    "    # Compute the average accuracy and loss over the validation set.\n",
    "    val_loss = np.mean(val_loss)\n",
    "    val_accuracy = np.mean(val_accuracy)\n",
    "\n",
    "    return val_loss, val_accuracy"
   ]
  },
  {
   "cell_type": "code",
   "execution_count": 21,
   "id": "ce8add5e",
   "metadata": {
    "execution": {
     "iopub.execute_input": "2022-01-21T06:49:01.406336Z",
     "iopub.status.busy": "2022-01-21T06:49:01.405743Z",
     "iopub.status.idle": "2022-01-21T06:56:11.965349Z",
     "shell.execute_reply": "2022-01-21T06:56:11.965902Z",
     "shell.execute_reply.started": "2022-01-21T06:32:57.596958Z"
    },
    "papermill": {
     "duration": 430.603091,
     "end_time": "2022-01-21T06:56:11.966112",
     "exception": false,
     "start_time": "2022-01-21T06:49:01.363021",
     "status": "completed"
    },
    "tags": []
   },
   "outputs": [
    {
     "data": {
      "application/vnd.jupyter.widget-view+json": {
       "model_id": "5023ba692382488aa19ceb6990187741",
       "version_major": 2,
       "version_minor": 0
      },
      "text/plain": [
       "Downloading:   0%|          | 0.00/433 [00:00<?, ?B/s]"
      ]
     },
     "metadata": {},
     "output_type": "display_data"
    },
    {
     "data": {
      "application/vnd.jupyter.widget-view+json": {
       "model_id": "4298fc33622f4f68b7d89d8a852f32df",
       "version_major": 2,
       "version_minor": 0
      },
      "text/plain": [
       "Downloading:   0%|          | 0.00/440M [00:00<?, ?B/s]"
      ]
     },
     "metadata": {},
     "output_type": "display_data"
    },
    {
     "name": "stdout",
     "output_type": "stream",
     "text": [
      "Start training...\n",
      "\n",
      " Epoch  |  Batch  |  Train Loss  |  Val Loss  |  Val Acc  |  Elapsed \n",
      "----------------------------------------------------------------------\n",
      "   1    |   20    |   0.608713   |     -      |     -     |   5.00   \n",
      "   1    |   40    |   0.504320   |     -      |     -     |   3.68   \n",
      "   1    |   60    |   0.507384   |     -      |     -     |   3.74   \n",
      "   1    |   80    |   0.475875   |     -      |     -     |   3.68   \n",
      "   1    |   100   |   0.396074   |     -      |     -     |   3.68   \n",
      "   1    |   120   |   0.424428   |     -      |     -     |   3.73   \n",
      "   1    |   140   |   0.408368   |     -      |     -     |   3.68   \n",
      "   1    |   160   |   0.486358   |     -      |     -     |   3.68   \n",
      "   1    |   180   |   0.432493   |     -      |     -     |   3.75   \n",
      "   1    |   200   |   0.420531   |     -      |     -     |   3.72   \n",
      "   1    |   214   |   0.415458   |     -      |     -     |   2.45   \n",
      "----------------------------------------------------------------------\n",
      "   1    |    -    |   0.463795   |  0.461320  |   80.94   |   42.08  \n",
      "----------------------------------------------------------------------\n",
      "\n",
      "\n",
      " Epoch  |  Batch  |  Train Loss  |  Val Loss  |  Val Acc  |  Elapsed \n",
      "----------------------------------------------------------------------\n",
      "   2    |   20    |   0.325240   |     -      |     -     |   3.94   \n",
      "   2    |   40    |   0.357754   |     -      |     -     |   3.69   \n",
      "   2    |   60    |   0.336052   |     -      |     -     |   3.67   \n",
      "   2    |   80    |   0.369113   |     -      |     -     |   3.71   \n",
      "   2    |   100   |   0.340040   |     -      |     -     |   3.68   \n",
      "   2    |   120   |   0.317395   |     -      |     -     |   3.69   \n",
      "   2    |   140   |   0.359136   |     -      |     -     |   3.81   \n",
      "   2    |   160   |   0.386756   |     -      |     -     |   3.69   \n",
      "   2    |   180   |   0.335506   |     -      |     -     |   3.68   \n",
      "   2    |   200   |   0.346356   |     -      |     -     |   3.72   \n",
      "   2    |   214   |   0.309542   |     -      |     -     |   2.45   \n",
      "----------------------------------------------------------------------\n",
      "   2    |    -    |   0.344771   |  0.556884  |   80.00   |   41.00  \n",
      "----------------------------------------------------------------------\n",
      "\n",
      "\n",
      " Epoch  |  Batch  |  Train Loss  |  Val Loss  |  Val Acc  |  Elapsed \n",
      "----------------------------------------------------------------------\n",
      "   3    |   20    |   0.229485   |     -      |     -     |   3.87   \n",
      "   3    |   40    |   0.249089   |     -      |     -     |   3.71   \n",
      "   3    |   60    |   0.229557   |     -      |     -     |   3.68   \n",
      "   3    |   80    |   0.264669   |     -      |     -     |   3.68   \n",
      "   3    |   100   |   0.264684   |     -      |     -     |   3.80   \n",
      "   3    |   120   |   0.256852   |     -      |     -     |   3.67   \n",
      "   3    |   140   |   0.277479   |     -      |     -     |   3.68   \n",
      "   3    |   160   |   0.231190   |     -      |     -     |   3.74   \n",
      "   3    |   180   |   0.274914   |     -      |     -     |   3.69   \n",
      "   3    |   200   |   0.243446   |     -      |     -     |   3.68   \n",
      "   3    |   214   |   0.267629   |     -      |     -     |   2.49   \n",
      "----------------------------------------------------------------------\n",
      "   3    |    -    |   0.253040   |  0.510342  |   80.62   |   40.97  \n",
      "----------------------------------------------------------------------\n",
      "\n",
      "\n",
      " Epoch  |  Batch  |  Train Loss  |  Val Loss  |  Val Acc  |  Elapsed \n",
      "----------------------------------------------------------------------\n",
      "   4    |   20    |   0.155736   |     -      |     -     |   3.86   \n",
      "   4    |   40    |   0.160301   |     -      |     -     |   3.68   \n",
      "   4    |   60    |   0.200854   |     -      |     -     |   3.79   \n",
      "   4    |   80    |   0.161160   |     -      |     -     |   3.67   \n",
      "   4    |   100   |   0.152305   |     -      |     -     |   3.70   \n",
      "   4    |   120   |   0.195999   |     -      |     -     |   3.72   \n",
      "   4    |   140   |   0.129227   |     -      |     -     |   3.68   \n",
      "   4    |   160   |   0.165821   |     -      |     -     |   3.68   \n",
      "   4    |   180   |   0.199848   |     -      |     -     |   3.70   \n",
      "   4    |   200   |   0.207981   |     -      |     -     |   3.68   \n",
      "   4    |   214   |   0.203642   |     -      |     -     |   2.45   \n",
      "----------------------------------------------------------------------\n",
      "   4    |    -    |   0.174843   |  0.627359  |   80.98   |   40.90  \n",
      "----------------------------------------------------------------------\n",
      "\n",
      "\n",
      " Epoch  |  Batch  |  Train Loss  |  Val Loss  |  Val Acc  |  Elapsed \n",
      "----------------------------------------------------------------------\n",
      "   5    |   20    |   0.133990   |     -      |     -     |   3.97   \n",
      "   5    |   40    |   0.119955   |     -      |     -     |   3.67   \n",
      "   5    |   60    |   0.130584   |     -      |     -     |   3.70   \n",
      "   5    |   80    |   0.106817   |     -      |     -     |   3.66   \n",
      "   5    |   100   |   0.105257   |     -      |     -     |   3.67   \n",
      "   5    |   120   |   0.109735   |     -      |     -     |   3.74   \n",
      "   5    |   140   |   0.157300   |     -      |     -     |   3.68   \n",
      "   5    |   160   |   0.113068   |     -      |     -     |   3.67   \n",
      "   5    |   180   |   0.140908   |     -      |     -     |   3.75   \n",
      "   5    |   200   |   0.155689   |     -      |     -     |   3.74   \n",
      "   5    |   214   |   0.135910   |     -      |     -     |   2.44   \n",
      "----------------------------------------------------------------------\n",
      "   5    |    -    |   0.127920   |  0.670010  |   80.78   |   40.97  \n",
      "----------------------------------------------------------------------\n",
      "\n",
      "\n",
      " Epoch  |  Batch  |  Train Loss  |  Val Loss  |  Val Acc  |  Elapsed \n",
      "----------------------------------------------------------------------\n",
      "   6    |   20    |   0.077596   |     -      |     -     |   3.88   \n",
      "   6    |   40    |   0.108292   |     -      |     -     |   3.67   \n",
      "   6    |   60    |   0.098868   |     -      |     -     |   3.66   \n",
      "   6    |   80    |   0.074999   |     -      |     -     |   3.69   \n",
      "   6    |   100   |   0.119932   |     -      |     -     |   3.68   \n",
      "   6    |   120   |   0.083473   |     -      |     -     |   3.67   \n",
      "   6    |   140   |   0.077484   |     -      |     -     |   3.79   \n",
      "   6    |   160   |   0.090189   |     -      |     -     |   3.68   \n",
      "   6    |   180   |   0.107165   |     -      |     -     |   3.66   \n",
      "   6    |   200   |   0.086197   |     -      |     -     |   3.71   \n",
      "   6    |   214   |   0.187509   |     -      |     -     |   2.43   \n",
      "----------------------------------------------------------------------\n",
      "   6    |    -    |   0.098542   |  1.036442  |   79.81   |   40.82  \n",
      "----------------------------------------------------------------------\n",
      "\n",
      "\n",
      " Epoch  |  Batch  |  Train Loss  |  Val Loss  |  Val Acc  |  Elapsed \n",
      "----------------------------------------------------------------------\n",
      "   7    |   20    |   0.063156   |     -      |     -     |   3.83   \n",
      "   7    |   40    |   0.058601   |     -      |     -     |   3.70   \n",
      "   7    |   60    |   0.068233   |     -      |     -     |   3.66   \n",
      "   7    |   80    |   0.068707   |     -      |     -     |   3.66   \n",
      "   7    |   100   |   0.085288   |     -      |     -     |   3.80   \n",
      "   7    |   120   |   0.082888   |     -      |     -     |   3.66   \n",
      "   7    |   140   |   0.066707   |     -      |     -     |   3.66   \n",
      "   7    |   160   |   0.075893   |     -      |     -     |   3.71   \n",
      "   7    |   180   |   0.055578   |     -      |     -     |   3.65   \n",
      "   7    |   200   |   0.084458   |     -      |     -     |   3.67   \n",
      "   7    |   214   |   0.076750   |     -      |     -     |   2.50   \n",
      "----------------------------------------------------------------------\n",
      "   7    |    -    |   0.071292   |  0.945091  |   80.23   |   40.78  \n",
      "----------------------------------------------------------------------\n",
      "\n",
      "\n",
      " Epoch  |  Batch  |  Train Loss  |  Val Loss  |  Val Acc  |  Elapsed \n",
      "----------------------------------------------------------------------\n",
      "   8    |   20    |   0.041688   |     -      |     -     |   3.83   \n",
      "   8    |   40    |   0.054372   |     -      |     -     |   3.65   \n",
      "   8    |   60    |   0.055477   |     -      |     -     |   3.84   \n",
      "   8    |   80    |   0.040351   |     -      |     -     |   3.64   \n",
      "   8    |   100   |   0.090019   |     -      |     -     |   3.66   \n",
      "   8    |   120   |   0.046541   |     -      |     -     |   3.69   \n",
      "   8    |   140   |   0.059323   |     -      |     -     |   3.66   \n",
      "   8    |   160   |   0.067727   |     -      |     -     |   3.65   \n",
      "   8    |   180   |   0.061789   |     -      |     -     |   3.68   \n",
      "   8    |   200   |   0.036263   |     -      |     -     |   3.65   \n",
      "   8    |   214   |   0.065175   |     -      |     -     |   2.42   \n",
      "----------------------------------------------------------------------\n",
      "   8    |    -    |   0.055931   |  1.092874  |   79.32   |   40.65  \n",
      "----------------------------------------------------------------------\n",
      "\n",
      "\n",
      " Epoch  |  Batch  |  Train Loss  |  Val Loss  |  Val Acc  |  Elapsed \n",
      "----------------------------------------------------------------------\n",
      "   9    |   20    |   0.051986   |     -      |     -     |   3.99   \n",
      "   9    |   40    |   0.059901   |     -      |     -     |   3.63   \n",
      "   9    |   60    |   0.029526   |     -      |     -     |   3.65   \n",
      "   9    |   80    |   0.040973   |     -      |     -     |   3.69   \n",
      "   9    |   100   |   0.048664   |     -      |     -     |   3.64   \n",
      "   9    |   120   |   0.025776   |     -      |     -     |   3.63   \n",
      "   9    |   140   |   0.048294   |     -      |     -     |   3.68   \n",
      "   9    |   160   |   0.057927   |     -      |     -     |   3.65   \n",
      "   9    |   180   |   0.038136   |     -      |     -     |   3.64   \n",
      "   9    |   200   |   0.066832   |     -      |     -     |   3.85   \n",
      "   9    |   214   |   0.029227   |     -      |     -     |   2.42   \n",
      "----------------------------------------------------------------------\n",
      "   9    |    -    |   0.045681   |  1.068961  |   79.58   |   40.76  \n",
      "----------------------------------------------------------------------\n",
      "\n",
      "\n",
      " Epoch  |  Batch  |  Train Loss  |  Val Loss  |  Val Acc  |  Elapsed \n",
      "----------------------------------------------------------------------\n",
      "  10    |   20    |   0.032992   |     -      |     -     |   3.81   \n",
      "  10    |   40    |   0.045895   |     -      |     -     |   3.68   \n",
      "  10    |   60    |   0.053730   |     -      |     -     |   3.65   \n",
      "  10    |   80    |   0.032541   |     -      |     -     |   3.65   \n",
      "  10    |   100   |   0.019828   |     -      |     -     |   3.67   \n",
      "  10    |   120   |   0.060849   |     -      |     -     |   3.66   \n",
      "  10    |   140   |   0.048299   |     -      |     -     |   3.65   \n",
      "  10    |   160   |   0.021693   |     -      |     -     |   3.80   \n",
      "  10    |   180   |   0.036199   |     -      |     -     |   3.66   \n",
      "  10    |   200   |   0.035124   |     -      |     -     |   3.64   \n",
      "  10    |   214   |   0.038293   |     -      |     -     |   2.45   \n",
      "----------------------------------------------------------------------\n",
      "  10    |    -    |   0.038661   |  1.110122  |   79.84   |   40.60  \n",
      "----------------------------------------------------------------------\n",
      "\n",
      "\n",
      "Training complete!\n"
     ]
    }
   ],
   "source": [
    "import warnings\n",
    "warnings.filterwarnings(\"ignore\")\n",
    "set_seed(42)    # Set seed for reproducibility\n",
    "bert_classifier, optimizer, scheduler = initialize_model(epochs=10)\n",
    "train(bert_classifier, train_dataloader, val_dataloader, epochs=10, evaluation=True)"
   ]
  },
  {
   "cell_type": "code",
   "execution_count": 22,
   "id": "70b14735",
   "metadata": {
    "execution": {
     "iopub.execute_input": "2022-01-21T06:56:12.106075Z",
     "iopub.status.busy": "2022-01-21T06:56:12.104478Z",
     "iopub.status.idle": "2022-01-21T06:56:12.106733Z",
     "shell.execute_reply": "2022-01-21T06:56:12.107131Z",
     "shell.execute_reply.started": "2022-01-21T06:40:31.455075Z"
    },
    "papermill": {
     "duration": 0.074545,
     "end_time": "2022-01-21T06:56:12.107279",
     "exception": false,
     "start_time": "2022-01-21T06:56:12.032734",
     "status": "completed"
    },
    "tags": []
   },
   "outputs": [],
   "source": [
    "import torch.nn.functional as F\n",
    "\n",
    "def bert_predict(model, test_dataloader):\n",
    "    \"\"\"Perform a forward pass on the trained BERT model to predict probabilities\n",
    "    on the test set.\n",
    "    \"\"\"\n",
    "    # Put the model into the evaluation mode. The dropout layers are disabled during\n",
    "    # the test time.\n",
    "    model.eval()\n",
    "\n",
    "    all_logits = []\n",
    "\n",
    "    # For each batch in our test set...\n",
    "    for batch in test_dataloader:\n",
    "        # Load batch to GPU\n",
    "        b_input_ids, b_attn_mask = tuple(t.to(device) for t in batch)[:2]\n",
    "\n",
    "        # Compute logits\n",
    "        with torch.no_grad():\n",
    "            logits = model(b_input_ids, b_attn_mask)\n",
    "        all_logits.append(logits)\n",
    "    \n",
    "    # Concatenate logits from each batch\n",
    "    all_logits = torch.cat(all_logits, dim=0)\n",
    "\n",
    "    # Apply softmax to calculate probabilities\n",
    "    probs = F.softmax(all_logits, dim=1).cpu().numpy()\n",
    "\n",
    "    return probs"
   ]
  },
  {
   "cell_type": "code",
   "execution_count": 23,
   "id": "d725f8ba",
   "metadata": {
    "execution": {
     "iopub.execute_input": "2022-01-21T06:56:12.245385Z",
     "iopub.status.busy": "2022-01-21T06:56:12.244820Z",
     "iopub.status.idle": "2022-01-21T06:56:12.248477Z",
     "shell.execute_reply": "2022-01-21T06:56:12.248019Z",
     "shell.execute_reply.started": "2022-01-21T06:40:49.605744Z"
    },
    "papermill": {
     "duration": 0.075831,
     "end_time": "2022-01-21T06:56:12.248583",
     "exception": false,
     "start_time": "2022-01-21T06:56:12.172752",
     "status": "completed"
    },
    "tags": []
   },
   "outputs": [],
   "source": [
    "from sklearn.metrics import accuracy_score, roc_curve, auc\n",
    "import matplotlib.pyplot as plt\n",
    "def evaluate_roc(probs, y_true):\n",
    "    \"\"\"\n",
    "    - Print AUC and accuracy on the test set\n",
    "    - Plot ROC\n",
    "    @params    probs (np.array): an array of predicted probabilities with shape (len(y_true), 2)\n",
    "    @params    y_true (np.array): an array of the true values with shape (len(y_true),)\n",
    "    \"\"\"\n",
    "    preds = probs[:, 1]\n",
    "    fpr, tpr, threshold = roc_curve(y_true, preds)\n",
    "    roc_auc = auc(fpr, tpr)\n",
    "    print(f'AUC: {roc_auc:.4f}')\n",
    "       \n",
    "    # Get accuracy over the test set\n",
    "    y_pred = np.where(preds >= 0.5, 1, 0)\n",
    "    accuracy = accuracy_score(y_true, y_pred)\n",
    "    print(f'Accuracy: {accuracy*100:.2f}%')\n",
    "    \n",
    "    # Plot ROC AUC\n",
    "    plt.title('Receiver Operating Characteristic')\n",
    "    plt.plot(fpr, tpr, 'b', label = 'AUC = %0.2f' % roc_auc)\n",
    "    plt.legend(loc = 'lower right')\n",
    "    plt.plot([0, 1], [0, 1],'r--')\n",
    "    plt.xlim([0, 1])\n",
    "    plt.ylim([0, 1])\n",
    "    plt.ylabel('True Positive Rate')\n",
    "    plt.xlabel('False Positive Rate')\n",
    "    plt.show()"
   ]
  },
  {
   "cell_type": "code",
   "execution_count": 24,
   "id": "84e51340",
   "metadata": {
    "execution": {
     "iopub.execute_input": "2022-01-21T06:56:12.391103Z",
     "iopub.status.busy": "2022-01-21T06:56:12.390264Z",
     "iopub.status.idle": "2022-01-21T06:56:13.865582Z",
     "shell.execute_reply": "2022-01-21T06:56:13.865017Z",
     "shell.execute_reply.started": "2022-01-21T06:41:16.228893Z"
    },
    "papermill": {
     "duration": 1.551705,
     "end_time": "2022-01-21T06:56:13.865738",
     "exception": false,
     "start_time": "2022-01-21T06:56:12.314033",
     "status": "completed"
    },
    "tags": []
   },
   "outputs": [
    {
     "name": "stdout",
     "output_type": "stream",
     "text": [
      "[[0.9983461  0.00165392]\n",
      " [0.99876523 0.00123484]\n",
      " [0.9987394  0.00126054]\n",
      " ...\n",
      " [0.00219008 0.99780995]\n",
      " [0.9987739  0.00122613]\n",
      " [0.9987821  0.0012179 ]]\n",
      "AUC: 0.8478\n",
      "Accuracy: 79.92%\n"
     ]
    },
    {
     "data": {
      "image/png": "[encoded data removed]",
      "text/plain": [
       "<Figure size 432x288 with 1 Axes>"
      ]
     },
     "metadata": {
      "needs_background": "light"
     },
     "output_type": "display_data"
    }
   ],
   "source": [
    "# Compute predicted probabilities on the test set\n",
    "probs = bert_predict(bert_classifier, val_dataloader)\n",
    "print(probs)\n",
    "# Evaluate the Bert classifier\n",
    "evaluate_roc(probs, y_val)"
   ]
  },
  {
   "cell_type": "code",
   "execution_count": 25,
   "id": "58451894",
   "metadata": {
    "execution": {
     "iopub.execute_input": "2022-01-21T06:56:14.021035Z",
     "iopub.status.busy": "2022-01-21T06:56:14.020197Z",
     "iopub.status.idle": "2022-01-21T06:59:13.601838Z",
     "shell.execute_reply": "2022-01-21T06:59:13.602249Z",
     "shell.execute_reply.started": "2022-01-21T06:41:52.518578Z"
    },
    "papermill": {
     "duration": 179.65802,
     "end_time": "2022-01-21T06:59:13.602427",
     "exception": false,
     "start_time": "2022-01-21T06:56:13.944407",
     "status": "completed"
    },
    "tags": []
   },
   "outputs": [
    {
     "name": "stdout",
     "output_type": "stream",
     "text": [
      "Start training...\n",
      "\n",
      " Epoch  |  Batch  |  Train Loss  |  Val Loss  |  Val Acc  |  Elapsed \n",
      "----------------------------------------------------------------------\n",
      "   1    |   20    |   0.543963   |     -      |     -     |   3.92   \n",
      "   1    |   40    |   0.467993   |     -      |     -     |   3.67   \n",
      "   1    |   60    |   0.460093   |     -      |     -     |   3.68   \n",
      "   1    |   80    |   0.443224   |     -      |     -     |   3.81   \n",
      "   1    |   100   |   0.489636   |     -      |     -     |   3.72   \n",
      "   1    |   120   |   0.452345   |     -      |     -     |   3.68   \n",
      "   1    |   140   |   0.448032   |     -      |     -     |   3.73   \n",
      "   1    |   160   |   0.464399   |     -      |     -     |   3.68   \n",
      "   1    |   180   |   0.393631   |     -      |     -     |   3.69   \n",
      "   1    |   200   |   0.438147   |     -      |     -     |   3.73   \n",
      "   1    |   220   |   0.412726   |     -      |     -     |   3.67   \n",
      "   1    |   237   |   0.447491   |     -      |     -     |   3.11   \n",
      "----------------------------------------------------------------------\n",
      "\n",
      "\n",
      " Epoch  |  Batch  |  Train Loss  |  Val Loss  |  Val Acc  |  Elapsed \n",
      "----------------------------------------------------------------------\n",
      "   2    |   20    |   0.292791   |     -      |     -     |   3.97   \n",
      "   2    |   40    |   0.310710   |     -      |     -     |   3.72   \n",
      "   2    |   60    |   0.332425   |     -      |     -     |   3.69   \n",
      "   2    |   80    |   0.301420   |     -      |     -     |   3.77   \n",
      "   2    |   100   |   0.331765   |     -      |     -     |   3.69   \n",
      "   2    |   120   |   0.339185   |     -      |     -     |   3.68   \n",
      "   2    |   140   |   0.325253   |     -      |     -     |   3.72   \n",
      "   2    |   160   |   0.294967   |     -      |     -     |   3.69   \n",
      "   2    |   180   |   0.339549   |     -      |     -     |   3.67   \n",
      "   2    |   200   |   0.334999   |     -      |     -     |   3.79   \n",
      "   2    |   220   |   0.312123   |     -      |     -     |   3.71   \n",
      "   2    |   237   |   0.289912   |     -      |     -     |   3.12   \n",
      "----------------------------------------------------------------------\n",
      "\n",
      "\n",
      " Epoch  |  Batch  |  Train Loss  |  Val Loss  |  Val Acc  |  Elapsed \n",
      "----------------------------------------------------------------------\n",
      "   3    |   20    |   0.229792   |     -      |     -     |   3.90   \n",
      "   3    |   40    |   0.227395   |     -      |     -     |   3.69   \n",
      "   3    |   60    |   0.237097   |     -      |     -     |   3.68   \n",
      "   3    |   80    |   0.162722   |     -      |     -     |   3.71   \n",
      "   3    |   100   |   0.262028   |     -      |     -     |   3.67   \n",
      "   3    |   120   |   0.205958   |     -      |     -     |   3.68   \n",
      "   3    |   140   |   0.185439   |     -      |     -     |   3.90   \n",
      "   3    |   160   |   0.184601   |     -      |     -     |   3.68   \n",
      "   3    |   180   |   0.220555   |     -      |     -     |   3.69   \n",
      "   3    |   200   |   0.232852   |     -      |     -     |   3.75   \n",
      "   3    |   220   |   0.188305   |     -      |     -     |   3.70   \n",
      "   3    |   237   |   0.264640   |     -      |     -     |   3.11   \n",
      "----------------------------------------------------------------------\n",
      "\n",
      "\n",
      " Epoch  |  Batch  |  Train Loss  |  Val Loss  |  Val Acc  |  Elapsed \n",
      "----------------------------------------------------------------------\n",
      "   4    |   20    |   0.153133   |     -      |     -     |   3.91   \n",
      "   4    |   40    |   0.142261   |     -      |     -     |   3.66   \n",
      "   4    |   60    |   0.120427   |     -      |     -     |   3.68   \n",
      "   4    |   80    |   0.174051   |     -      |     -     |   3.88   \n",
      "   4    |   100   |   0.161192   |     -      |     -     |   3.68   \n",
      "   4    |   120   |   0.150712   |     -      |     -     |   3.67   \n",
      "   4    |   140   |   0.143288   |     -      |     -     |   3.72   \n",
      "   4    |   160   |   0.133092   |     -      |     -     |   3.67   \n",
      "   4    |   180   |   0.141194   |     -      |     -     |   3.68   \n",
      "   4    |   200   |   0.163854   |     -      |     -     |   3.73   \n",
      "   4    |   220   |   0.134859   |     -      |     -     |   3.68   \n",
      "   4    |   237   |   0.172549   |     -      |     -     |   3.12   \n",
      "----------------------------------------------------------------------\n",
      "\n",
      "\n",
      "Training complete!\n"
     ]
    }
   ],
   "source": [
    "# Concatenate the train set and the validation set\n",
    "full_train_data = torch.utils.data.ConcatDataset([train_data, val_data])\n",
    "full_train_sampler = RandomSampler(full_train_data)\n",
    "full_train_dataloader = DataLoader(full_train_data, sampler=full_train_sampler, batch_size=32)\n",
    "\n",
    "# Train the Bert Classifier on the entire training data\n",
    "set_seed(42)\n",
    "bert_classifier, optimizer, scheduler = initialize_model(epochs=4)\n",
    "train(bert_classifier, full_train_dataloader, epochs=4)"
   ]
  },
  {
   "cell_type": "markdown",
   "id": "7a88a359",
   "metadata": {
    "papermill": {
     "duration": 0.07927,
     "end_time": "2022-01-21T06:59:13.761326",
     "exception": false,
     "start_time": "2022-01-21T06:59:13.682056",
     "status": "completed"
    },
    "tags": []
   },
   "source": [
    "Predictions on Test Set"
   ]
  },
  {
   "cell_type": "code",
   "execution_count": 26,
   "id": "d1c9c792",
   "metadata": {
    "execution": {
     "iopub.execute_input": "2022-01-21T06:59:13.926756Z",
     "iopub.status.busy": "2022-01-21T06:59:13.925884Z",
     "iopub.status.idle": "2022-01-21T06:59:21.677968Z",
     "shell.execute_reply": "2022-01-21T06:59:21.678523Z",
     "shell.execute_reply.started": "2022-01-21T06:45:14.061316Z"
    },
    "papermill": {
     "duration": 7.838324,
     "end_time": "2022-01-21T06:59:21.678688",
     "exception": false,
     "start_time": "2022-01-21T06:59:13.840364",
     "status": "completed"
    },
    "tags": []
   },
   "outputs": [
    {
     "name": "stdout",
     "output_type": "stream",
     "text": [
      "Tokenizing data...\n",
      "Done!\n"
     ]
    }
   ],
   "source": [
    "# Run `preprocessing_for_bert` on the test set\n",
    "print('Tokenizing data...')\n",
    "test_inputs, test_masks = preprocessing_for_bert(test.text)\n",
    "\n",
    "# Create the DataLoader for our test set\n",
    "test_dataset = TensorDataset(test_inputs, test_masks)\n",
    "test_sampler = SequentialSampler(test_dataset)\n",
    "test_dataloader = DataLoader(test_dataset, sampler=test_sampler, batch_size=32)\n",
    "print('Done!')"
   ]
  },
  {
   "cell_type": "code",
   "execution_count": 27,
   "id": "c27607f9",
   "metadata": {
    "execution": {
     "iopub.execute_input": "2022-01-21T06:59:21.851229Z",
     "iopub.status.busy": "2022-01-21T06:59:21.850414Z",
     "iopub.status.idle": "2022-01-21T06:59:27.300692Z",
     "shell.execute_reply": "2022-01-21T06:59:27.301579Z",
     "shell.execute_reply.started": "2022-01-21T06:45:27.106896Z"
    },
    "papermill": {
     "duration": 5.540446,
     "end_time": "2022-01-21T06:59:27.301795",
     "exception": false,
     "start_time": "2022-01-21T06:59:21.761349",
     "status": "completed"
    },
    "tags": []
   },
   "outputs": [
    {
     "name": "stdout",
     "output_type": "stream",
     "text": [
      "[[0.02635198 0.9736481 ]\n",
      " [0.01204721 0.98795277]\n",
      " [0.01166314 0.98833686]\n",
      " ...\n",
      " [0.01155983 0.98844016]\n",
      " [0.01130595 0.988694  ]\n",
      " [0.01675645 0.9832435 ]]\n",
      "Number of tweets predicted non-negative:  1162\n"
     ]
    }
   ],
   "source": [
    "# Compute predicted probabilities on the test set\n",
    "probs = bert_predict(bert_classifier, test_dataloader)\n",
    "print(probs)\n",
    "\n",
    "# Get predictions from the probabilities\n",
    "threshold = 0.9\n",
    "preds = np.where(probs[:, 1] > threshold, 1, 0)\n",
    "\n",
    "# Number of tweets predicted non-negative\n",
    "print(\"Number of tweets predicted non-negative: \", preds.sum())"
   ]
  },
  {
   "cell_type": "code",
   "execution_count": 28,
   "id": "af2e7a5b",
   "metadata": {
    "execution": {
     "iopub.execute_input": "2022-01-21T06:59:27.576175Z",
     "iopub.status.busy": "2022-01-21T06:59:27.575308Z",
     "iopub.status.idle": "2022-01-21T06:59:27.586159Z",
     "shell.execute_reply": "2022-01-21T06:59:27.586792Z",
     "shell.execute_reply.started": "2022-01-21T06:46:01.218506Z"
    },
    "papermill": {
     "duration": 0.151712,
     "end_time": "2022-01-21T06:59:27.587001",
     "exception": false,
     "start_time": "2022-01-21T06:59:27.435289",
     "status": "completed"
    },
    "tags": []
   },
   "outputs": [
    {
     "data": {
      "text/plain": [
       "['traffic collision ambulance enroute florin rd at franklin blvd south sac URL',\n",
       " 'happening now fdny rescue 1 blazing thruand blasting the air horn URL',\n",
       " 'usgs m 1 9 5km s of volcano hawaii time2015 08 06 01 04 01 utc2015 08 05 15 04 01 10 00 at epicenter URL sm',\n",
       " 'we the free hailstorm maxi URL',\n",
       " 'the people who tweet and care about japan fukushima nuclear disaster are not the problem those who ignore are the problem ',\n",
       " 'the same un who stood amp watched the serbs massacre thousands of muslims in yougslavia dont need any lessons off them URL',\n",
       " 'stefsy14 the birthday massacre',\n",
       " 'geoengineering and burning of fossil fuels is making our global weather unstable with temps up to 165 and biggest flood in past 200 years',\n",
       " 'despite past devastation fortunately forgiveness mutual respect and peace emerged remember hiroshima and nagasaki',\n",
       " 'worldvision is responding to floods in india and myanmarflood with more than 300000 affected URL',\n",
       " 'shock report muslims setting wildfires across american west arson jihad URL',\n",
       " 'rly tragedy in mp some live to recount horror when i saw coaches of my train plunging into water i c URL over ',\n",
       " 'sismo m 1 9 5km s of volcano hawaii time2015 08 06 01 04 01 utc2015 08 05 15 04 01 10 00 at epicente URL cs',\n",
       " 'deluged dismay so soon surrendered summer drought descending disturbed sunrisehaiku poetry wimberley atxsmtx URL',\n",
       " 'severe weather bulletin no 6 for typhoon hannaph soudelor tropical cyclone warning issued at 11 00 pm URL',\n",
       " 'toi india udhampur terror attack militants attack police post 2 spos injured suspected militants tonight a URL',\n",
       " 'one of the top rt ed tweets in japan is a screenshot of a young person claiming to not know the 70th anniversary of the hiroshima bomb',\n",
       " 'oh a wmata train derailed kind of disappointed how unsurprised i am ',\n",
       " 'international news nigeria suicide bomb kills at least seven at market  via 233liveonline full story at URL',\n",
       " 'the latest more homes razed by northern california wildfire sfgate URL']"
      ]
     },
     "execution_count": 28,
     "metadata": {},
     "output_type": "execute_result"
    }
   ],
   "source": [
    "output = test[preds==1]\n",
    "list(output.sample(20).text)"
   ]
  },
  {
   "cell_type": "code",
   "execution_count": 29,
   "id": "67140653",
   "metadata": {
    "execution": {
     "iopub.execute_input": "2022-01-21T06:59:27.801162Z",
     "iopub.status.busy": "2022-01-21T06:59:27.800580Z",
     "iopub.status.idle": "2022-01-21T06:59:27.803194Z",
     "shell.execute_reply": "2022-01-21T06:59:27.803638Z",
     "shell.execute_reply.started": "2022-01-21T06:46:03.887031Z"
    },
    "papermill": {
     "duration": 0.088715,
     "end_time": "2022-01-21T06:59:27.803785",
     "exception": false,
     "start_time": "2022-01-21T06:59:27.715070",
     "status": "completed"
    },
    "tags": []
   },
   "outputs": [
    {
     "data": {
      "text/plain": [
       "array([1, 1, 1, ..., 1, 1, 1])"
      ]
     },
     "execution_count": 29,
     "metadata": {},
     "output_type": "execute_result"
    }
   ],
   "source": [
    "preds"
   ]
  },
  {
   "cell_type": "code",
   "execution_count": 30,
   "id": "f3518ba9",
   "metadata": {
    "execution": {
     "iopub.execute_input": "2022-01-21T06:59:27.975127Z",
     "iopub.status.busy": "2022-01-21T06:59:27.974161Z",
     "iopub.status.idle": "2022-01-21T06:59:27.978189Z",
     "shell.execute_reply": "2022-01-21T06:59:27.977784Z",
     "shell.execute_reply.started": "2022-01-21T06:46:16.871306Z"
    },
    "papermill": {
     "duration": 0.09291,
     "end_time": "2022-01-21T06:59:27.978372",
     "exception": false,
     "start_time": "2022-01-21T06:59:27.885462",
     "status": "completed"
    },
    "tags": []
   },
   "outputs": [
    {
     "data": {
      "text/html": [
       "<div>\n",
       "<style scoped>\n",
       "    .dataframe tbody tr th:only-of-type {\n",
       "        vertical-align: middle;\n",
       "    }\n",
       "\n",
       "    .dataframe tbody tr th {\n",
       "        vertical-align: top;\n",
       "    }\n",
       "\n",
       "    .dataframe thead th {\n",
       "        text-align: right;\n",
       "    }\n",
       "</style>\n",
       "<table border=\"1\" class=\"dataframe\">\n",
       "  <thead>\n",
       "    <tr style=\"text-align: right;\">\n",
       "      <th></th>\n",
       "      <th>id</th>\n",
       "      <th>target</th>\n",
       "    </tr>\n",
       "  </thead>\n",
       "  <tbody>\n",
       "    <tr>\n",
       "      <th>0</th>\n",
       "      <td>0</td>\n",
       "      <td>1</td>\n",
       "    </tr>\n",
       "    <tr>\n",
       "      <th>1</th>\n",
       "      <td>2</td>\n",
       "      <td>1</td>\n",
       "    </tr>\n",
       "    <tr>\n",
       "      <th>2</th>\n",
       "      <td>3</td>\n",
       "      <td>1</td>\n",
       "    </tr>\n",
       "    <tr>\n",
       "      <th>3</th>\n",
       "      <td>9</td>\n",
       "      <td>1</td>\n",
       "    </tr>\n",
       "    <tr>\n",
       "      <th>4</th>\n",
       "      <td>11</td>\n",
       "      <td>1</td>\n",
       "    </tr>\n",
       "  </tbody>\n",
       "</table>\n",
       "</div>"
      ],
      "text/plain": [
       "   id  target\n",
       "0   0       1\n",
       "1   2       1\n",
       "2   3       1\n",
       "3   9       1\n",
       "4  11       1"
      ]
     },
     "execution_count": 30,
     "metadata": {},
     "output_type": "execute_result"
    }
   ],
   "source": [
    "submission['target'] = preds\n",
    "submission.head()"
   ]
  },
  {
   "cell_type": "code",
   "execution_count": 31,
   "id": "7536f831",
   "metadata": {
    "execution": {
     "iopub.execute_input": "2022-01-21T06:59:28.145929Z",
     "iopub.status.busy": "2022-01-21T06:59:28.145093Z",
     "iopub.status.idle": "2022-01-21T06:59:28.154905Z",
     "shell.execute_reply": "2022-01-21T06:59:28.155308Z",
     "shell.execute_reply.started": "2022-01-21T06:46:19.644688Z"
    },
    "papermill": {
     "duration": 0.095055,
     "end_time": "2022-01-21T06:59:28.155453",
     "exception": false,
     "start_time": "2022-01-21T06:59:28.060398",
     "status": "completed"
    },
    "tags": []
   },
   "outputs": [],
   "source": [
    "submission.to_csv('submission.csv', index=False)"
   ]
  }
 ],
 "metadata": {
  "kernelspec": {
   "display_name": "Python 3",
   "language": "python",
   "name": "python3"
  },
  "language_info": {
   "codemirror_mode": {
    "name": "ipython",
    "version": 3
   },
   "file_extension": ".py",
   "mimetype": "text/x-python",
   "name": "python",
   "nbconvert_exporter": "python",
   "pygments_lexer": "ipython3",
   "version": "3.7.12"
  },
  "papermill": {
   "default_parameters": {},
   "duration": 685.626241,
   "end_time": "2022-01-21T06:59:31.886800",
   "environment_variables": {},
   "exception": null,
   "input_path": "__notebook__.ipynb",
   "output_path": "__notebook__.ipynb",
   "parameters": {},
   "start_time": "2022-01-21T06:48:06.260559",
   "version": "2.3.3"
  },
  "widgets": {
   "application/vnd.jupyter.widget-state+json": {
    "state": {
     "02fd1bfa04724a28a9e3bd8cebd6c7cf": {
      "model_module": "@jupyter-widgets/controls",
      "model_module_version": "1.5.0",
      "model_name": "HBoxModel",
      "state": {
       "_dom_classes": [],
       "_model_module": "@jupyter-widgets/controls",
       "_model_module_version": "1.5.0",
       "_model_name": "HBoxModel",
       "_view_count": null,
       "_view_module": "@jupyter-widgets/controls",
       "_view_module_version": "1.5.0",
       "_view_name": "HBoxView",
       "box_style": "",
       "children": [
        "IPY_MODEL_d6f33375fb4c42afb343b4c81073cea6",
        "IPY_MODEL_572c73beda924449b642c9fc02bc51c1",
        "IPY_MODEL_dfb4180ee9d44560896ae8b07e065f24"
       ],
       "layout": "IPY_MODEL_c9368fd02df94d1bbfdf5d0013695ed3"
      }
     },
     "04aa8b89cb034e5e933d1df7668e398d": {
      "model_module": "@jupyter-widgets/controls",
      "model_module_version": "1.5.0",
      "model_name": "FloatProgressModel",
      "state": {
       "_dom_classes": [],
       "_model_module": "@jupyter-widgets/controls",
       "_model_module_version": "1.5.0",
       "_model_name": "FloatProgressModel",
       "_view_count": null,
       "_view_module": "@jupyter-widgets/controls",
       "_view_module_version": "1.5.0",
       "_view_name": "ProgressView",
       "bar_style": "success",
       "description": "",
       "description_tooltip": null,
       "layout": "IPY_MODEL_62fa7f52bb7642f2b00d5534b2d9e0e1",
       "max": 433.0,
       "min": 0.0,
       "orientation": "horizontal",
       "style": "IPY_MODEL_4c34ad5a6e1a4b459f67e7eb80bfcce7",
       "value": 433.0
      }
     },
     "137d6b55df3f400991039c2d36f38739": {
      "model_module": "@jupyter-widgets/base",
      "model_module_version": "1.2.0",
      "model_name": "LayoutModel",
      "state": {
       "_model_module": "@jupyter-widgets/base",
       "_model_module_version": "1.2.0",
       "_model_name": "LayoutModel",
       "_view_count": null,
       "_view_module": "@jupyter-widgets/base",
       "_view_module_version": "1.2.0",
       "_view_name": "LayoutView",
       "align_content": null,
       "align_items": null,
       "align_self": null,
       "border": null,
       "bottom": null,
       "display": null,
       "flex": null,
       "flex_flow": null,
       "grid_area": null,
       "grid_auto_columns": null,
       "grid_auto_flow": null,
       "grid_auto_rows": null,
       "grid_column": null,
       "grid_gap": null,
       "grid_row": null,
       "grid_template_areas": null,
       "grid_template_columns": null,
       "grid_template_rows": null,
       "height": null,
       "justify_content": null,
       "justify_items": null,
       "left": null,
       "margin": null,
       "max_height": null,
       "max_width": null,
       "min_height": null,
       "min_width": null,
       "object_fit": null,
       "object_position": null,
       "order": null,
       "overflow": null,
       "overflow_x": null,
       "overflow_y": null,
       "padding": null,
       "right": null,
       "top": null,
       "visibility": null,
       "width": null
      }
     },
     "236bca5671944de08713f451ed5bc61f": {
      "model_module": "@jupyter-widgets/base",
      "model_module_version": "1.2.0",
      "model_name": "LayoutModel",
      "state": {
       "_model_module": "@jupyter-widgets/base",
       "_model_module_version": "1.2.0",
       "_model_name": "LayoutModel",
       "_view_count": null,
       "_view_module": "@jupyter-widgets/base",
       "_view_module_version": "1.2.0",
       "_view_name": "LayoutView",
       "align_content": null,
       "align_items": null,
       "align_self": null,
       "border": null,
       "bottom": null,
       "display": null,
       "flex": null,
       "flex_flow": null,
       "grid_area": null,
       "grid_auto_columns": null,
       "grid_auto_flow": null,
       "grid_auto_rows": null,
       "grid_column": null,
       "grid_gap": null,
       "grid_row": null,
       "grid_template_areas": null,
       "grid_template_columns": null,
       "grid_template_rows": null,
       "height": null,
       "justify_content": null,
       "justify_items": null,
       "left": null,
       "margin": null,
       "max_height": null,
       "max_width": null,
       "min_height": null,
       "min_width": null,
       "object_fit": null,
       "object_position": null,
       "order": null,
       "overflow": null,
       "overflow_x": null,
       "overflow_y": null,
       "padding": null,
       "right": null,
       "top": null,
       "visibility": null,
       "width": null
      }
     },
     "320b2993d3f245048b8763d2e7e17a52": {
      "model_module": "@jupyter-widgets/controls",
      "model_module_version": "1.5.0",
      "model_name": "DescriptionStyleModel",
      "state": {
       "_model_module": "@jupyter-widgets/controls",
       "_model_module_version": "1.5.0",
       "_model_name": "DescriptionStyleModel",
       "_view_count": null,
       "_view_module": "@jupyter-widgets/base",
       "_view_module_version": "1.2.0",
       "_view_name": "StyleView",
       "description_width": ""
      }
     },
     "3d59627a655242cc9f7bbf9f05aeb9d5": {
      "model_module": "@jupyter-widgets/controls",
      "model_module_version": "1.5.0",
      "model_name": "ProgressStyleModel",
      "state": {
       "_model_module": "@jupyter-widgets/controls",
       "_model_module_version": "1.5.0",
       "_model_name": "ProgressStyleModel",
       "_view_count": null,
       "_view_module": "@jupyter-widgets/base",
       "_view_module_version": "1.2.0",
       "_view_name": "StyleView",
       "bar_color": null,
       "description_width": ""
      }
     },
     "4298fc33622f4f68b7d89d8a852f32df": {
      "model_module": "@jupyter-widgets/controls",
      "model_module_version": "1.5.0",
      "model_name": "HBoxModel",
      "state": {
       "_dom_classes": [],
       "_model_module": "@jupyter-widgets/controls",
       "_model_module_version": "1.5.0",
       "_model_name": "HBoxModel",
       "_view_count": null,
       "_view_module": "@jupyter-widgets/controls",
       "_view_module_version": "1.5.0",
       "_view_name": "HBoxView",
       "box_style": "",
       "children": [
        "IPY_MODEL_7caa8ef3ec4b4f1084c9a3f97f1eda22",
        "IPY_MODEL_814b2ae446f2468b99c6c5b2b2155a0e",
        "IPY_MODEL_4686cc71111d420784063cb31001ba6d"
       ],
       "layout": "IPY_MODEL_236bca5671944de08713f451ed5bc61f"
      }
     },
     "4686cc71111d420784063cb31001ba6d": {
      "model_module": "@jupyter-widgets/controls",
      "model_module_version": "1.5.0",
      "model_name": "HTMLModel",
      "state": {
       "_dom_classes": [],
       "_model_module": "@jupyter-widgets/controls",
       "_model_module_version": "1.5.0",
       "_model_name": "HTMLModel",
       "_view_count": null,
       "_view_module": "@jupyter-widgets/controls",
       "_view_module_version": "1.5.0",
       "_view_name": "HTMLView",
       "description": "",
       "description_tooltip": null,
       "layout": "IPY_MODEL_e0dabb865e864fee8b24b3d4c878535a",
       "placeholder": "​",
       "style": "IPY_MODEL_320b2993d3f245048b8763d2e7e17a52",
       "value": " 440M/440M [00:12&lt;00:00, 44.8MB/s]"
      }
     },
     "47d07abfc82648149197d9dfa7587833": {
      "model_module": "@jupyter-widgets/controls",
      "model_module_version": "1.5.0",
      "model_name": "DescriptionStyleModel",
      "state": {
       "_model_module": "@jupyter-widgets/controls",
       "_model_module_version": "1.5.0",
       "_model_name": "DescriptionStyleModel",
       "_view_count": null,
       "_view_module": "@jupyter-widgets/base",
       "_view_module_version": "1.2.0",
       "_view_name": "StyleView",
       "description_width": ""
      }
     },
     "4c34ad5a6e1a4b459f67e7eb80bfcce7": {
      "model_module": "@jupyter-widgets/controls",
      "model_module_version": "1.5.0",
      "model_name": "ProgressStyleModel",
      "state": {
       "_model_module": "@jupyter-widgets/controls",
       "_model_module_version": "1.5.0",
       "_model_name": "ProgressStyleModel",
       "_view_count": null,
       "_view_module": "@jupyter-widgets/base",
       "_view_module_version": "1.2.0",
       "_view_name": "StyleView",
       "bar_color": null,
       "description_width": ""
      }
     },
     "5023ba692382488aa19ceb6990187741": {
      "model_module": "@jupyter-widgets/controls",
      "model_module_version": "1.5.0",
      "model_name": "HBoxModel",
      "state": {
       "_dom_classes": [],
       "_model_module": "@jupyter-widgets/controls",
       "_model_module_version": "1.5.0",
       "_model_name": "HBoxModel",
       "_view_count": null,
       "_view_module": "@jupyter-widgets/controls",
       "_view_module_version": "1.5.0",
       "_view_name": "HBoxView",
       "box_style": "",
       "children": [
        "IPY_MODEL_dae44c67d7bd4140af1151b5e0afc8e9",
        "IPY_MODEL_04aa8b89cb034e5e933d1df7668e398d",
        "IPY_MODEL_60f286cc6c1c4a148136f16d7d5876f9"
       ],
       "layout": "IPY_MODEL_8fae54bdfe0e4b3b997e5ed1c0780ac6"
      }
     },
     "572c73beda924449b642c9fc02bc51c1": {
      "model_module": "@jupyter-widgets/controls",
      "model_module_version": "1.5.0",
      "model_name": "FloatProgressModel",
      "state": {
       "_dom_classes": [],
       "_model_module": "@jupyter-widgets/controls",
       "_model_module_version": "1.5.0",
       "_model_name": "FloatProgressModel",
       "_view_count": null,
       "_view_module": "@jupyter-widgets/controls",
       "_view_module_version": "1.5.0",
       "_view_name": "ProgressView",
       "bar_style": "success",
       "description": "",
       "description_tooltip": null,
       "layout": "IPY_MODEL_c362f569cdc8444f91ae7cbce763a3fe",
       "max": 231508.0,
       "min": 0.0,
       "orientation": "horizontal",
       "style": "IPY_MODEL_ac4341dfcd2b48e3996f5b19c9a109ec",
       "value": 231508.0
      }
     },
     "60f286cc6c1c4a148136f16d7d5876f9": {
      "model_module": "@jupyter-widgets/controls",
      "model_module_version": "1.5.0",
      "model_name": "HTMLModel",
      "state": {
       "_dom_classes": [],
       "_model_module": "@jupyter-widgets/controls",
       "_model_module_version": "1.5.0",
       "_model_name": "HTMLModel",
       "_view_count": null,
       "_view_module": "@jupyter-widgets/controls",
       "_view_module_version": "1.5.0",
       "_view_name": "HTMLView",
       "description": "",
       "description_tooltip": null,
       "layout": "IPY_MODEL_a3f14fb4922c4f59ba0d51b9c8ae781c",
       "placeholder": "​",
       "style": "IPY_MODEL_7e6a7e1db8654f92a949c56125edf949",
       "value": " 433/433 [00:00&lt;00:00, 17.3kB/s]"
      }
     },
     "62fa7f52bb7642f2b00d5534b2d9e0e1": {
      "model_module": "@jupyter-widgets/base",
      "model_module_version": "1.2.0",
      "model_name": "LayoutModel",
      "state": {
       "_model_module": "@jupyter-widgets/base",
       "_model_module_version": "1.2.0",
       "_model_name": "LayoutModel",
       "_view_count": null,
       "_view_module": "@jupyter-widgets/base",
       "_view_module_version": "1.2.0",
       "_view_name": "LayoutView",
       "align_content": null,
       "align_items": null,
       "align_self": null,
       "border": null,
       "bottom": null,
       "display": null,
       "flex": null,
       "flex_flow": null,
       "grid_area": null,
       "grid_auto_columns": null,
       "grid_auto_flow": null,
       "grid_auto_rows": null,
       "grid_column": null,
       "grid_gap": null,
       "grid_row": null,
       "grid_template_areas": null,
       "grid_template_columns": null,
       "grid_template_rows": null,
       "height": null,
       "justify_content": null,
       "justify_items": null,
       "left": null,
       "margin": null,
       "max_height": null,
       "max_width": null,
       "min_height": null,
       "min_width": null,
       "object_fit": null,
       "object_position": null,
       "order": null,
       "overflow": null,
       "overflow_x": null,
       "overflow_y": null,
       "padding": null,
       "right": null,
       "top": null,
       "visibility": null,
       "width": null
      }
     },
     "655fcfd50b9a4538abde59f638199c67": {
      "model_module": "@jupyter-widgets/base",
      "model_module_version": "1.2.0",
      "model_name": "LayoutModel",
      "state": {
       "_model_module": "@jupyter-widgets/base",
       "_model_module_version": "1.2.0",
       "_model_name": "LayoutModel",
       "_view_count": null,
       "_view_module": "@jupyter-widgets/base",
       "_view_module_version": "1.2.0",
       "_view_name": "LayoutView",
       "align_content": null,
       "align_items": null,
       "align_self": null,
       "border": null,
       "bottom": null,
       "display": null,
       "flex": null,
       "flex_flow": null,
       "grid_area": null,
       "grid_auto_columns": null,
       "grid_auto_flow": null,
       "grid_auto_rows": null,
       "grid_column": null,
       "grid_gap": null,
       "grid_row": null,
       "grid_template_areas": null,
       "grid_template_columns": null,
       "grid_template_rows": null,
       "height": null,
       "justify_content": null,
       "justify_items": null,
       "left": null,
       "margin": null,
       "max_height": null,
       "max_width": null,
       "min_height": null,
       "min_width": null,
       "object_fit": null,
       "object_position": null,
       "order": null,
       "overflow": null,
       "overflow_x": null,
       "overflow_y": null,
       "padding": null,
       "right": null,
       "top": null,
       "visibility": null,
       "width": null
      }
     },
     "6a121d502bc041c0bdb5a12cc98f801c": {
      "model_module": "@jupyter-widgets/base",
      "model_module_version": "1.2.0",
      "model_name": "LayoutModel",
      "state": {
       "_model_module": "@jupyter-widgets/base",
       "_model_module_version": "1.2.0",
       "_model_name": "LayoutModel",
       "_view_count": null,
       "_view_module": "@jupyter-widgets/base",
       "_view_module_version": "1.2.0",
       "_view_name": "LayoutView",
       "align_content": null,
       "align_items": null,
       "align_self": null,
       "border": null,
       "bottom": null,
       "display": null,
       "flex": null,
       "flex_flow": null,
       "grid_area": null,
       "grid_auto_columns": null,
       "grid_auto_flow": null,
       "grid_auto_rows": null,
       "grid_column": null,
       "grid_gap": null,
       "grid_row": null,
       "grid_template_areas": null,
       "grid_template_columns": null,
       "grid_template_rows": null,
       "height": null,
       "justify_content": null,
       "justify_items": null,
       "left": null,
       "margin": null,
       "max_height": null,
       "max_width": null,
       "min_height": null,
       "min_width": null,
       "object_fit": null,
       "object_position": null,
       "order": null,
       "overflow": null,
       "overflow_x": null,
       "overflow_y": null,
       "padding": null,
       "right": null,
       "top": null,
       "visibility": null,
       "width": null
      }
     },
     "778a32198adc4de982efeaefde1c17ae": {
      "model_module": "@jupyter-widgets/base",
      "model_module_version": "1.2.0",
      "model_name": "LayoutModel",
      "state": {
       "_model_module": "@jupyter-widgets/base",
       "_model_module_version": "1.2.0",
       "_model_name": "LayoutModel",
       "_view_count": null,
       "_view_module": "@jupyter-widgets/base",
       "_view_module_version": "1.2.0",
       "_view_name": "LayoutView",
       "align_content": null,
       "align_items": null,
       "align_self": null,
       "border": null,
       "bottom": null,
       "display": null,
       "flex": null,
       "flex_flow": null,
       "grid_area": null,
       "grid_auto_columns": null,
       "grid_auto_flow": null,
       "grid_auto_rows": null,
       "grid_column": null,
       "grid_gap": null,
       "grid_row": null,
       "grid_template_areas": null,
       "grid_template_columns": null,
       "grid_template_rows": null,
       "height": null,
       "justify_content": null,
       "justify_items": null,
       "left": null,
       "margin": null,
       "max_height": null,
       "max_width": null,
       "min_height": null,
       "min_width": null,
       "object_fit": null,
       "object_position": null,
       "order": null,
       "overflow": null,
       "overflow_x": null,
       "overflow_y": null,
       "padding": null,
       "right": null,
       "top": null,
       "visibility": null,
       "width": null
      }
     },
     "7caa8ef3ec4b4f1084c9a3f97f1eda22": {
      "model_module": "@jupyter-widgets/controls",
      "model_module_version": "1.5.0",
      "model_name": "HTMLModel",
      "state": {
       "_dom_classes": [],
       "_model_module": "@jupyter-widgets/controls",
       "_model_module_version": "1.5.0",
       "_model_name": "HTMLModel",
       "_view_count": null,
       "_view_module": "@jupyter-widgets/controls",
       "_view_module_version": "1.5.0",
       "_view_name": "HTMLView",
       "description": "",
       "description_tooltip": null,
       "layout": "IPY_MODEL_6a121d502bc041c0bdb5a12cc98f801c",
       "placeholder": "​",
       "style": "IPY_MODEL_8cc4b1e4e7cf462a820b22c9bb65ba8c",
       "value": "Downloading: 100%"
      }
     },
     "7e6a7e1db8654f92a949c56125edf949": {
      "model_module": "@jupyter-widgets/controls",
      "model_module_version": "1.5.0",
      "model_name": "DescriptionStyleModel",
      "state": {
       "_model_module": "@jupyter-widgets/controls",
       "_model_module_version": "1.5.0",
       "_model_name": "DescriptionStyleModel",
       "_view_count": null,
       "_view_module": "@jupyter-widgets/base",
       "_view_module_version": "1.2.0",
       "_view_name": "StyleView",
       "description_width": ""
      }
     },
     "814b2ae446f2468b99c6c5b2b2155a0e": {
      "model_module": "@jupyter-widgets/controls",
      "model_module_version": "1.5.0",
      "model_name": "FloatProgressModel",
      "state": {
       "_dom_classes": [],
       "_model_module": "@jupyter-widgets/controls",
       "_model_module_version": "1.5.0",
       "_model_name": "FloatProgressModel",
       "_view_count": null,
       "_view_module": "@jupyter-widgets/controls",
       "_view_module_version": "1.5.0",
       "_view_name": "ProgressView",
       "bar_style": "success",
       "description": "",
       "description_tooltip": null,
       "layout": "IPY_MODEL_137d6b55df3f400991039c2d36f38739",
       "max": 440473133.0,
       "min": 0.0,
       "orientation": "horizontal",
       "style": "IPY_MODEL_3d59627a655242cc9f7bbf9f05aeb9d5",
       "value": 440473133.0
      }
     },
     "8cc4b1e4e7cf462a820b22c9bb65ba8c": {
      "model_module": "@jupyter-widgets/controls",
      "model_module_version": "1.5.0",
      "model_name": "DescriptionStyleModel",
      "state": {
       "_model_module": "@jupyter-widgets/controls",
       "_model_module_version": "1.5.0",
       "_model_name": "DescriptionStyleModel",
       "_view_count": null,
       "_view_module": "@jupyter-widgets/base",
       "_view_module_version": "1.2.0",
       "_view_name": "StyleView",
       "description_width": ""
      }
     },
     "8fae54bdfe0e4b3b997e5ed1c0780ac6": {
      "model_module": "@jupyter-widgets/base",
      "model_module_version": "1.2.0",
      "model_name": "LayoutModel",
      "state": {
       "_model_module": "@jupyter-widgets/base",
       "_model_module_version": "1.2.0",
       "_model_name": "LayoutModel",
       "_view_count": null,
       "_view_module": "@jupyter-widgets/base",
       "_view_module_version": "1.2.0",
       "_view_name": "LayoutView",
       "align_content": null,
       "align_items": null,
       "align_self": null,
       "border": null,
       "bottom": null,
       "display": null,
       "flex": null,
       "flex_flow": null,
       "grid_area": null,
       "grid_auto_columns": null,
       "grid_auto_flow": null,
       "grid_auto_rows": null,
       "grid_column": null,
       "grid_gap": null,
       "grid_row": null,
       "grid_template_areas": null,
       "grid_template_columns": null,
       "grid_template_rows": null,
       "height": null,
       "justify_content": null,
       "justify_items": null,
       "left": null,
       "margin": null,
       "max_height": null,
       "max_width": null,
       "min_height": null,
       "min_width": null,
       "object_fit": null,
       "object_position": null,
       "order": null,
       "overflow": null,
       "overflow_x": null,
       "overflow_y": null,
       "padding": null,
       "right": null,
       "top": null,
       "visibility": null,
       "width": null
      }
     },
     "a2d4821379e543f295aa4c7a51f21892": {
      "model_module": "@jupyter-widgets/controls",
      "model_module_version": "1.5.0",
      "model_name": "DescriptionStyleModel",
      "state": {
       "_model_module": "@jupyter-widgets/controls",
       "_model_module_version": "1.5.0",
       "_model_name": "DescriptionStyleModel",
       "_view_count": null,
       "_view_module": "@jupyter-widgets/base",
       "_view_module_version": "1.2.0",
       "_view_name": "StyleView",
       "description_width": ""
      }
     },
     "a3f14fb4922c4f59ba0d51b9c8ae781c": {
      "model_module": "@jupyter-widgets/base",
      "model_module_version": "1.2.0",
      "model_name": "LayoutModel",
      "state": {
       "_model_module": "@jupyter-widgets/base",
       "_model_module_version": "1.2.0",
       "_model_name": "LayoutModel",
       "_view_count": null,
       "_view_module": "@jupyter-widgets/base",
       "_view_module_version": "1.2.0",
       "_view_name": "LayoutView",
       "align_content": null,
       "align_items": null,
       "align_self": null,
       "border": null,
       "bottom": null,
       "display": null,
       "flex": null,
       "flex_flow": null,
       "grid_area": null,
       "grid_auto_columns": null,
       "grid_auto_flow": null,
       "grid_auto_rows": null,
       "grid_column": null,
       "grid_gap": null,
       "grid_row": null,
       "grid_template_areas": null,
       "grid_template_columns": null,
       "grid_template_rows": null,
       "height": null,
       "justify_content": null,
       "justify_items": null,
       "left": null,
       "margin": null,
       "max_height": null,
       "max_width": null,
       "min_height": null,
       "min_width": null,
       "object_fit": null,
       "object_position": null,
       "order": null,
       "overflow": null,
       "overflow_x": null,
       "overflow_y": null,
       "padding": null,
       "right": null,
       "top": null,
       "visibility": null,
       "width": null
      }
     },
     "ac4341dfcd2b48e3996f5b19c9a109ec": {
      "model_module": "@jupyter-widgets/controls",
      "model_module_version": "1.5.0",
      "model_name": "ProgressStyleModel",
      "state": {
       "_model_module": "@jupyter-widgets/controls",
       "_model_module_version": "1.5.0",
       "_model_name": "ProgressStyleModel",
       "_view_count": null,
       "_view_module": "@jupyter-widgets/base",
       "_view_module_version": "1.2.0",
       "_view_name": "StyleView",
       "bar_color": null,
       "description_width": ""
      }
     },
     "c1a5e0d7086541bc83a57faa67683b22": {
      "model_module": "@jupyter-widgets/controls",
      "model_module_version": "1.5.0",
      "model_name": "DescriptionStyleModel",
      "state": {
       "_model_module": "@jupyter-widgets/controls",
       "_model_module_version": "1.5.0",
       "_model_name": "DescriptionStyleModel",
       "_view_count": null,
       "_view_module": "@jupyter-widgets/base",
       "_view_module_version": "1.2.0",
       "_view_name": "StyleView",
       "description_width": ""
      }
     },
     "c362f569cdc8444f91ae7cbce763a3fe": {
      "model_module": "@jupyter-widgets/base",
      "model_module_version": "1.2.0",
      "model_name": "LayoutModel",
      "state": {
       "_model_module": "@jupyter-widgets/base",
       "_model_module_version": "1.2.0",
       "_model_name": "LayoutModel",
       "_view_count": null,
       "_view_module": "@jupyter-widgets/base",
       "_view_module_version": "1.2.0",
       "_view_name": "LayoutView",
       "align_content": null,
       "align_items": null,
       "align_self": null,
       "border": null,
       "bottom": null,
       "display": null,
       "flex": null,
       "flex_flow": null,
       "grid_area": null,
       "grid_auto_columns": null,
       "grid_auto_flow": null,
       "grid_auto_rows": null,
       "grid_column": null,
       "grid_gap": null,
       "grid_row": null,
       "grid_template_areas": null,
       "grid_template_columns": null,
       "grid_template_rows": null,
       "height": null,
       "justify_content": null,
       "justify_items": null,
       "left": null,
       "margin": null,
       "max_height": null,
       "max_width": null,
       "min_height": null,
       "min_width": null,
       "object_fit": null,
       "object_position": null,
       "order": null,
       "overflow": null,
       "overflow_x": null,
       "overflow_y": null,
       "padding": null,
       "right": null,
       "top": null,
       "visibility": null,
       "width": null
      }
     },
     "c9368fd02df94d1bbfdf5d0013695ed3": {
      "model_module": "@jupyter-widgets/base",
      "model_module_version": "1.2.0",
      "model_name": "LayoutModel",
      "state": {
       "_model_module": "@jupyter-widgets/base",
       "_model_module_version": "1.2.0",
       "_model_name": "LayoutModel",
       "_view_count": null,
       "_view_module": "@jupyter-widgets/base",
       "_view_module_version": "1.2.0",
       "_view_name": "LayoutView",
       "align_content": null,
       "align_items": null,
       "align_self": null,
       "border": null,
       "bottom": null,
       "display": null,
       "flex": null,
       "flex_flow": null,
       "grid_area": null,
       "grid_auto_columns": null,
       "grid_auto_flow": null,
       "grid_auto_rows": null,
       "grid_column": null,
       "grid_gap": null,
       "grid_row": null,
       "grid_template_areas": null,
       "grid_template_columns": null,
       "grid_template_rows": null,
       "height": null,
       "justify_content": null,
       "justify_items": null,
       "left": null,
       "margin": null,
       "max_height": null,
       "max_width": null,
       "min_height": null,
       "min_width": null,
       "object_fit": null,
       "object_position": null,
       "order": null,
       "overflow": null,
       "overflow_x": null,
       "overflow_y": null,
       "padding": null,
       "right": null,
       "top": null,
       "visibility": null,
       "width": null
      }
     },
     "d6f33375fb4c42afb343b4c81073cea6": {
      "model_module": "@jupyter-widgets/controls",
      "model_module_version": "1.5.0",
      "model_name": "HTMLModel",
      "state": {
       "_dom_classes": [],
       "_model_module": "@jupyter-widgets/controls",
       "_model_module_version": "1.5.0",
       "_model_name": "HTMLModel",
       "_view_count": null,
       "_view_module": "@jupyter-widgets/controls",
       "_view_module_version": "1.5.0",
       "_view_name": "HTMLView",
       "description": "",
       "description_tooltip": null,
       "layout": "IPY_MODEL_daf88bf70e7e4e9e885ce300f9681e56",
       "placeholder": "​",
       "style": "IPY_MODEL_c1a5e0d7086541bc83a57faa67683b22",
       "value": "Downloading: 100%"
      }
     },
     "dae44c67d7bd4140af1151b5e0afc8e9": {
      "model_module": "@jupyter-widgets/controls",
      "model_module_version": "1.5.0",
      "model_name": "HTMLModel",
      "state": {
       "_dom_classes": [],
       "_model_module": "@jupyter-widgets/controls",
       "_model_module_version": "1.5.0",
       "_model_name": "HTMLModel",
       "_view_count": null,
       "_view_module": "@jupyter-widgets/controls",
       "_view_module_version": "1.5.0",
       "_view_name": "HTMLView",
       "description": "",
       "description_tooltip": null,
       "layout": "IPY_MODEL_655fcfd50b9a4538abde59f638199c67",
       "placeholder": "​",
       "style": "IPY_MODEL_a2d4821379e543f295aa4c7a51f21892",
       "value": "Downloading: 100%"
      }
     },
     "daf88bf70e7e4e9e885ce300f9681e56": {
      "model_module": "@jupyter-widgets/base",
      "model_module_version": "1.2.0",
      "model_name": "LayoutModel",
      "state": {
       "_model_module": "@jupyter-widgets/base",
       "_model_module_version": "1.2.0",
       "_model_name": "LayoutModel",
       "_view_count": null,
       "_view_module": "@jupyter-widgets/base",
       "_view_module_version": "1.2.0",
       "_view_name": "LayoutView",
       "align_content": null,
       "align_items": null,
       "align_self": null,
       "border": null,
       "bottom": null,
       "display": null,
       "flex": null,
       "flex_flow": null,
       "grid_area": null,
       "grid_auto_columns": null,
       "grid_auto_flow": null,
       "grid_auto_rows": null,
       "grid_column": null,
       "grid_gap": null,
       "grid_row": null,
       "grid_template_areas": null,
       "grid_template_columns": null,
       "grid_template_rows": null,
       "height": null,
       "justify_content": null,
       "justify_items": null,
       "left": null,
       "margin": null,
       "max_height": null,
       "max_width": null,
       "min_height": null,
       "min_width": null,
       "object_fit": null,
       "object_position": null,
       "order": null,
       "overflow": null,
       "overflow_x": null,
       "overflow_y": null,
       "padding": null,
       "right": null,
       "top": null,
       "visibility": null,
       "width": null
      }
     },
     "dfb4180ee9d44560896ae8b07e065f24": {
      "model_module": "@jupyter-widgets/controls",
      "model_module_version": "1.5.0",
      "model_name": "HTMLModel",
      "state": {
       "_dom_classes": [],
       "_model_module": "@jupyter-widgets/controls",
       "_model_module_version": "1.5.0",
       "_model_name": "HTMLModel",
       "_view_count": null,
       "_view_module": "@jupyter-widgets/controls",
       "_view_module_version": "1.5.0",
       "_view_name": "HTMLView",
       "description": "",
       "description_tooltip": null,
       "layout": "IPY_MODEL_778a32198adc4de982efeaefde1c17ae",
       "placeholder": "​",
       "style": "IPY_MODEL_47d07abfc82648149197d9dfa7587833",
       "value": " 232k/232k [00:00&lt;00:00, 883kB/s]"
      }
     },
     "e0dabb865e864fee8b24b3d4c878535a": {
      "model_module": "@jupyter-widgets/base",
      "model_module_version": "1.2.0",
      "model_name": "LayoutModel",
      "state": {
       "_model_module": "@jupyter-widgets/base",
       "_model_module_version": "1.2.0",
       "_model_name": "LayoutModel",
       "_view_count": null,
       "_view_module": "@jupyter-widgets/base",
       "_view_module_version": "1.2.0",
       "_view_name": "LayoutView",
       "align_content": null,
       "align_items": null,
       "align_self": null,
       "border": null,
       "bottom": null,
       "display": null,
       "flex": null,
       "flex_flow": null,
       "grid_area": null,
       "grid_auto_columns": null,
       "grid_auto_flow": null,
       "grid_auto_rows": null,
       "grid_column": null,
       "grid_gap": null,
       "grid_row": null,
       "grid_template_areas": null,
       "grid_template_columns": null,
       "grid_template_rows": null,
       "height": null,
       "justify_content": null,
       "justify_items": null,
       "left": null,
       "margin": null,
       "max_height": null,
       "max_width": null,
       "min_height": null,
       "min_width": null,
       "object_fit": null,
       "object_position": null,
       "order": null,
       "overflow": null,
       "overflow_x": null,
       "overflow_y": null,
       "padding": null,
       "right": null,
       "top": null,
       "visibility": null,
       "width": null
      }
     }
    },
    "version_major": 2,
    "version_minor": 0
   }
  }
 },
 "nbformat": 4,
 "nbformat_minor": 5
}
