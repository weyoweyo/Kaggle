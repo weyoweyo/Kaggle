{
 "cells": [
  {
   "cell_type": "code",
   "execution_count": 1,
   "id": "35e0c180",
   "metadata": {
    "_cell_guid": "b1076dfc-b9ad-4769-8c92-a6c4dae69d19",
    "_uuid": "8f2839f25d086af736a60e9eeb907d3b93b6e0e5",
    "execution": {
     "iopub.execute_input": "2022-01-22T04:13:43.528167Z",
     "iopub.status.busy": "2022-01-22T04:13:43.526649Z",
     "iopub.status.idle": "2022-01-22T04:13:43.539161Z",
     "shell.execute_reply": "2022-01-22T04:13:43.539654Z",
     "shell.execute_reply.started": "2022-01-22T03:45:21.019120Z"
    },
    "papermill": {
     "duration": 0.058568,
     "end_time": "2022-01-22T04:13:43.539871",
     "exception": false,
     "start_time": "2022-01-22T04:13:43.481303",
     "status": "completed"
    },
    "tags": []
   },
   "outputs": [
    {
     "name": "stdout",
     "output_type": "stream",
     "text": [
      "/kaggle/input/nlp-getting-started/sample_submission.csv\n",
      "/kaggle/input/nlp-getting-started/train.csv\n",
      "/kaggle/input/nlp-getting-started/test.csv\n"
     ]
    }
   ],
   "source": [
    "# This Python 3 environment comes with many helpful analytics libraries installed\n",
    "# It is defined by the kaggle/python Docker image: https://github.com/kaggle/docker-python\n",
    "# For example, here's several helpful packages to load\n",
    "\n",
    "import numpy as np # linear algebra\n",
    "import pandas as pd # data processing, CSV file I/O (e.g. pd.read_csv)\n",
    "\n",
    "# Input data files are available in the read-only \"../input/\" directory\n",
    "# For example, running this (by clicking run or pressing Shift+Enter) will list all files under the input directory\n",
    "\n",
    "import os\n",
    "for dirname, _, filenames in os.walk('/kaggle/input'):\n",
    "    for filename in filenames:\n",
    "        print(os.path.join(dirname, filename))\n",
    "\n",
    "# You can write up to 20GB to the current directory (/kaggle/working/) that gets preserved as output when you create a version using \"Save & Run All\" \n",
    "# You can also write temporary files to /kaggle/temp/, but they won't be saved outside of the current session"
   ]
  },
  {
   "cell_type": "markdown",
   "id": "960da06b",
   "metadata": {
    "papermill": {
     "duration": 0.042117,
     "end_time": "2022-01-22T04:13:43.624937",
     "exception": false,
     "start_time": "2022-01-22T04:13:43.582820",
     "status": "completed"
    },
    "tags": []
   },
   "source": [
    "Reference:\n",
    "\n",
    "Many thanks to Venelin Valkov for the great tutorial ([1], [2], [3]): \n",
    "\n",
    "[1] https://curiousily.com/posts/sentiment-analysis-with-bert-and-hugging-face-using-pytorch-and-python/\n",
    "\n",
    "[2] https://www.youtube.com/watch?v=Osj0Z6rwJB4\n",
    "\n",
    "[3] https://www.youtube.com/watch?v=8N-nM3QW7O0&t=733s\n",
    "\n",
    "https://www.kaggle.com/swarnabha/pytorch-text-classification-torchtext-lstm\n",
    "\n",
    "https://www.kaggle.com/shahules/basic-eda-cleaning-and-glove\n",
    "\n",
    "https://www.kaggle.com/vishalsiram50/fine-tuning-bert-88-accuracy\n",
    "\n",
    "https://www.analyticsvidhya.com/blog/2021/05/all-you-need-to-know-about-bert/#:~:text=%5BCLS%5D%20is%20a%20special%20classification,segment%20embeddings%20for%20each%20token."
   ]
  },
  {
   "cell_type": "code",
   "execution_count": 2,
   "id": "d6619d90",
   "metadata": {
    "execution": {
     "iopub.execute_input": "2022-01-22T04:13:43.711892Z",
     "iopub.status.busy": "2022-01-22T04:13:43.711153Z",
     "iopub.status.idle": "2022-01-22T04:13:51.925251Z",
     "shell.execute_reply": "2022-01-22T04:13:51.924715Z",
     "shell.execute_reply.started": "2022-01-22T03:45:34.310618Z"
    },
    "papermill": {
     "duration": 8.258309,
     "end_time": "2022-01-22T04:13:51.925417",
     "exception": false,
     "start_time": "2022-01-22T04:13:43.667108",
     "status": "completed"
    },
    "tags": []
   },
   "outputs": [
    {
     "name": "stdout",
     "output_type": "stream",
     "text": [
      "Requirement already satisfied: transformers in /opt/conda/lib/python3.7/site-packages (4.12.5)\r\n",
      "Requirement already satisfied: tokenizers<0.11,>=0.10.1 in /opt/conda/lib/python3.7/site-packages (from transformers) (0.10.3)\r\n",
      "Requirement already satisfied: packaging>=20.0 in /opt/conda/lib/python3.7/site-packages (from transformers) (21.0)\r\n",
      "Requirement already satisfied: regex!=2019.12.17 in /opt/conda/lib/python3.7/site-packages (from transformers) (2021.11.10)\r\n",
      "Requirement already satisfied: pyyaml>=5.1 in /opt/conda/lib/python3.7/site-packages (from transformers) (6.0)\r\n",
      "Requirement already satisfied: importlib-metadata in /opt/conda/lib/python3.7/site-packages (from transformers) (4.8.2)\r\n",
      "Requirement already satisfied: sacremoses in /opt/conda/lib/python3.7/site-packages (from transformers) (0.0.46)\r\n",
      "Requirement already satisfied: filelock in /opt/conda/lib/python3.7/site-packages (from transformers) (3.3.2)\r\n",
      "Requirement already satisfied: tqdm>=4.27 in /opt/conda/lib/python3.7/site-packages (from transformers) (4.62.3)\r\n",
      "Requirement already satisfied: huggingface-hub<1.0,>=0.1.0 in /opt/conda/lib/python3.7/site-packages (from transformers) (0.1.2)\r\n",
      "Requirement already satisfied: requests in /opt/conda/lib/python3.7/site-packages (from transformers) (2.25.1)\r\n",
      "Requirement already satisfied: numpy>=1.17 in /opt/conda/lib/python3.7/site-packages (from transformers) (1.19.5)\r\n",
      "Requirement already satisfied: typing-extensions>=3.7.4.3 in /opt/conda/lib/python3.7/site-packages (from huggingface-hub<1.0,>=0.1.0->transformers) (3.10.0.2)\r\n",
      "Requirement already satisfied: pyparsing>=2.0.2 in /opt/conda/lib/python3.7/site-packages (from packaging>=20.0->transformers) (3.0.6)\r\n",
      "Requirement already satisfied: zipp>=0.5 in /opt/conda/lib/python3.7/site-packages (from importlib-metadata->transformers) (3.6.0)\r\n",
      "Requirement already satisfied: certifi>=2017.4.17 in /opt/conda/lib/python3.7/site-packages (from requests->transformers) (2021.10.8)\r\n",
      "Requirement already satisfied: idna<3,>=2.5 in /opt/conda/lib/python3.7/site-packages (from requests->transformers) (2.10)\r\n",
      "Requirement already satisfied: chardet<5,>=3.0.2 in /opt/conda/lib/python3.7/site-packages (from requests->transformers) (4.0.0)\r\n",
      "Requirement already satisfied: urllib3<1.27,>=1.21.1 in /opt/conda/lib/python3.7/site-packages (from requests->transformers) (1.26.7)\r\n",
      "Requirement already satisfied: six in /opt/conda/lib/python3.7/site-packages (from sacremoses->transformers) (1.16.0)\r\n",
      "Requirement already satisfied: click in /opt/conda/lib/python3.7/site-packages (from sacremoses->transformers) (8.0.3)\r\n",
      "Requirement already satisfied: joblib in /opt/conda/lib/python3.7/site-packages (from sacremoses->transformers) (1.1.0)\r\n",
      "\u001b[33mWARNING: Running pip as the 'root' user can result in broken permissions and conflicting behaviour with the system package manager. It is recommended to use a virtual environment instead: https://pip.pypa.io/warnings/venv\u001b[0m\r\n"
     ]
    }
   ],
   "source": [
    "!pip install transformers"
   ]
  },
  {
   "cell_type": "code",
   "execution_count": 3,
   "id": "0765b161",
   "metadata": {
    "execution": {
     "iopub.execute_input": "2022-01-22T04:13:52.030357Z",
     "iopub.status.busy": "2022-01-22T04:13:52.029786Z",
     "iopub.status.idle": "2022-01-22T04:13:52.109983Z",
     "shell.execute_reply": "2022-01-22T04:13:52.109489Z",
     "shell.execute_reply.started": "2022-01-22T03:45:49.662210Z"
    },
    "papermill": {
     "duration": 0.13538,
     "end_time": "2022-01-22T04:13:52.110110",
     "exception": false,
     "start_time": "2022-01-22T04:13:51.974730",
     "status": "completed"
    },
    "tags": []
   },
   "outputs": [],
   "source": [
    "train = pd.read_csv('../input/nlp-getting-started/train.csv')\n",
    "test = pd.read_csv('../input/nlp-getting-started/test.csv')\n",
    "submission = pd.read_csv('../input/nlp-getting-started/sample_submission.csv')"
   ]
  },
  {
   "cell_type": "code",
   "execution_count": 4,
   "id": "05ebff61",
   "metadata": {
    "execution": {
     "iopub.execute_input": "2022-01-22T04:13:52.208192Z",
     "iopub.status.busy": "2022-01-22T04:13:52.207309Z",
     "iopub.status.idle": "2022-01-22T04:13:59.253742Z",
     "shell.execute_reply": "2022-01-22T04:13:59.254164Z",
     "shell.execute_reply.started": "2022-01-22T03:45:55.692245Z"
    },
    "papermill": {
     "duration": 7.096487,
     "end_time": "2022-01-22T04:13:59.254322",
     "exception": false,
     "start_time": "2022-01-22T04:13:52.157835",
     "status": "completed"
    },
    "tags": []
   },
   "outputs": [],
   "source": [
    "import transformers\n",
    "from transformers import BertModel, BertTokenizer, AdamW, get_linear_schedule_with_warmup, BertForSequenceClassification\n",
    "import torch\n",
    "import numpy as np\n",
    "import pandas as pd\n",
    "import seaborn as sns\n",
    "from pylab import rcParams\n",
    "import matplotlib.pyplot as plt\n",
    "from matplotlib import rc\n",
    "from sklearn.model_selection import train_test_split\n",
    "from sklearn.metrics import confusion_matrix, classification_report\n",
    "from collections import defaultdict\n",
    "from textwrap import wrap\n",
    "from torch import nn, optim\n",
    "from torch.utils.data import Dataset, DataLoader\n",
    "%matplotlib inline\n",
    "%config InlineBackend.figure_format='retina'\n"
   ]
  },
  {
   "cell_type": "code",
   "execution_count": 5,
   "id": "d94aac1f",
   "metadata": {
    "execution": {
     "iopub.execute_input": "2022-01-22T04:13:59.344610Z",
     "iopub.status.busy": "2022-01-22T04:13:59.344049Z",
     "iopub.status.idle": "2022-01-22T04:13:59.347806Z",
     "shell.execute_reply": "2022-01-22T04:13:59.347349Z",
     "shell.execute_reply.started": "2022-01-22T03:46:07.786422Z"
    },
    "papermill": {
     "duration": 0.051256,
     "end_time": "2022-01-22T04:13:59.347916",
     "exception": false,
     "start_time": "2022-01-22T04:13:59.296660",
     "status": "completed"
    },
    "tags": []
   },
   "outputs": [],
   "source": [
    "sns.set(style='whitegrid', palette='muted', font_scale=1.2)\n",
    "HAPPY_COLORS_PALETTE = [\"#01BEFE\", \"#FFDD00\", \"#FF7D00\", \"#FF006D\", \"#ADFF02\", \"#8F00FF\"]\n",
    "sns.set_palette(sns.color_palette(HAPPY_COLORS_PALETTE))\n",
    "rcParams['figure.figsize'] = 10, 6\n",
    "RANDOM_SEED = 42\n",
    "np.random.seed(RANDOM_SEED)"
   ]
  },
  {
   "cell_type": "code",
   "execution_count": 6,
   "id": "34cdede1",
   "metadata": {
    "execution": {
     "iopub.execute_input": "2022-01-22T04:13:59.440784Z",
     "iopub.status.busy": "2022-01-22T04:13:59.439660Z",
     "iopub.status.idle": "2022-01-22T04:13:59.709679Z",
     "shell.execute_reply": "2022-01-22T04:13:59.709179Z",
     "shell.execute_reply.started": "2022-01-22T03:46:10.557544Z"
    },
    "papermill": {
     "duration": 0.320434,
     "end_time": "2022-01-22T04:13:59.709807",
     "exception": false,
     "start_time": "2022-01-22T04:13:59.389373",
     "status": "completed"
    },
    "tags": []
   },
   "outputs": [
    {
     "name": "stderr",
     "output_type": "stream",
     "text": [
      "/opt/conda/lib/python3.7/site-packages/seaborn/_decorators.py:43: FutureWarning: Pass the following variable as a keyword arg: x. From version 0.12, the only valid positional argument will be `data`, and passing other arguments without an explicit keyword will result in an error or misinterpretation.\n",
      "  FutureWarning\n"
     ]
    },
    {
     "data": {
      "text/plain": [
       "Text(0.5, 0, 'train target')"
      ]
     },
     "execution_count": 6,
     "metadata": {},
     "output_type": "execute_result"
    },
    {
     "data": {
      "image/png": "[encoded data removed]",
      "text/plain": [
       "<Figure size 720x432 with 1 Axes>"
      ]
     },
     "metadata": {
      "image/png": {
       "height": 381,
       "width": 633
      }
     },
     "output_type": "display_data"
    }
   ],
   "source": [
    "sns.countplot(train.target)\n",
    "plt.xlabel('train target')"
   ]
  },
  {
   "cell_type": "markdown",
   "id": "d3449254",
   "metadata": {
    "papermill": {
     "duration": 0.043025,
     "end_time": "2022-01-22T04:13:59.796364",
     "exception": false,
     "start_time": "2022-01-22T04:13:59.753339",
     "status": "completed"
    },
    "tags": []
   },
   "source": [
    "Bert Tokenizer: \n",
    "* Add special tokens to separate sentences and do classification\n",
    "* Pass sequences of constant length (introduce padding)\n",
    "* Create array of 0s (pad token) and 1s (real token) called attention mask"
   ]
  },
  {
   "cell_type": "code",
   "execution_count": 7,
   "id": "3bd0d8fb",
   "metadata": {
    "execution": {
     "iopub.execute_input": "2022-01-22T04:13:59.887907Z",
     "iopub.status.busy": "2022-01-22T04:13:59.887135Z",
     "iopub.status.idle": "2022-01-22T04:13:59.889714Z",
     "shell.execute_reply": "2022-01-22T04:13:59.889224Z",
     "shell.execute_reply.started": "2022-01-22T03:59:57.946536Z"
    },
    "papermill": {
     "duration": 0.049991,
     "end_time": "2022-01-22T04:13:59.889825",
     "exception": false,
     "start_time": "2022-01-22T04:13:59.839834",
     "status": "completed"
    },
    "tags": []
   },
   "outputs": [],
   "source": [
    "PRE_TRAINED_MODEL_NAME = 'bert-base-uncased'"
   ]
  },
  {
   "cell_type": "code",
   "execution_count": 8,
   "id": "667c6390",
   "metadata": {
    "execution": {
     "iopub.execute_input": "2022-01-22T04:13:59.981280Z",
     "iopub.status.busy": "2022-01-22T04:13:59.980535Z",
     "iopub.status.idle": "2022-01-22T04:14:01.378635Z",
     "shell.execute_reply": "2022-01-22T04:14:01.379026Z",
     "shell.execute_reply.started": "2022-01-22T04:00:01.049211Z"
    },
    "papermill": {
     "duration": 1.446288,
     "end_time": "2022-01-22T04:14:01.379178",
     "exception": false,
     "start_time": "2022-01-22T04:13:59.932890",
     "status": "completed"
    },
    "tags": []
   },
   "outputs": [
    {
     "data": {
      "application/vnd.jupyter.widget-view+json": {
       "model_id": "75965a245ecb498884a0f87d8bc8b361",
       "version_major": 2,
       "version_minor": 0
      },
      "text/plain": [
       "Downloading:   0%|          | 0.00/226k [00:00<?, ?B/s]"
      ]
     },
     "metadata": {},
     "output_type": "display_data"
    },
    {
     "data": {
      "application/vnd.jupyter.widget-view+json": {
       "model_id": "3febbbbc96084bfeb9aa41dc9a560fcc",
       "version_major": 2,
       "version_minor": 0
      },
      "text/plain": [
       "Downloading:   0%|          | 0.00/28.0 [00:00<?, ?B/s]"
      ]
     },
     "metadata": {},
     "output_type": "display_data"
    },
    {
     "data": {
      "application/vnd.jupyter.widget-view+json": {
       "model_id": "fda89f2daf82432199d0f9e705031d2c",
       "version_major": 2,
       "version_minor": 0
      },
      "text/plain": [
       "Downloading:   0%|          | 0.00/455k [00:00<?, ?B/s]"
      ]
     },
     "metadata": {},
     "output_type": "display_data"
    },
    {
     "data": {
      "application/vnd.jupyter.widget-view+json": {
       "model_id": "cf9aafc4ad6849239d34cbf84cecf922",
       "version_major": 2,
       "version_minor": 0
      },
      "text/plain": [
       "Downloading:   0%|          | 0.00/570 [00:00<?, ?B/s]"
      ]
     },
     "metadata": {},
     "output_type": "display_data"
    }
   ],
   "source": [
    "tokenizer = BertTokenizer.from_pretrained(PRE_TRAINED_MODEL_NAME)"
   ]
  },
  {
   "cell_type": "code",
   "execution_count": 9,
   "id": "0e85ed02",
   "metadata": {
    "execution": {
     "iopub.execute_input": "2022-01-22T04:14:01.477615Z",
     "iopub.status.busy": "2022-01-22T04:14:01.477054Z",
     "iopub.status.idle": "2022-01-22T04:14:01.481286Z",
     "shell.execute_reply": "2022-01-22T04:14:01.480713Z",
     "shell.execute_reply.started": "2022-01-22T04:00:17.105544Z"
    },
    "papermill": {
     "duration": 0.05666,
     "end_time": "2022-01-22T04:14:01.481449",
     "exception": false,
     "start_time": "2022-01-22T04:14:01.424789",
     "status": "completed"
    },
    "tags": []
   },
   "outputs": [
    {
     "name": "stdout",
     "output_type": "stream",
     "text": [
      " Sentence: When was I last outside? I am stuck at home for 2 weeks.\n",
      "   Tokens: ['when', 'was', 'i', 'last', 'outside', '?', 'i', 'am', 'stuck', 'at', 'home', 'for', '2', 'weeks', '.']\n",
      "Token IDs: [2043, 2001, 1045, 2197, 2648, 1029, 1045, 2572, 5881, 2012, 2188, 2005, 1016, 3134, 1012]\n"
     ]
    }
   ],
   "source": [
    "sample_txt = 'When was I last outside? I am stuck at home for 2 weeks.'\n",
    "tokens = tokenizer.tokenize(sample_txt)\n",
    "token_ids = tokenizer.convert_tokens_to_ids(tokens)\n",
    "print(f' Sentence: {sample_txt}')\n",
    "print(f'   Tokens: {tokens}')\n",
    "print(f'Token IDs: {token_ids}')"
   ]
  },
  {
   "cell_type": "markdown",
   "id": "f7385fac",
   "metadata": {
    "papermill": {
     "duration": 0.04607,
     "end_time": "2022-01-22T04:14:01.573772",
     "exception": false,
     "start_time": "2022-01-22T04:14:01.527702",
     "status": "completed"
    },
    "tags": []
   },
   "source": [
    "https://curiousily.com/posts/sentiment-analysis-with-bert-and-hugging-face-using-pytorch-and-python/\n",
    "\n",
    "Special Tokens:\n",
    "\n",
    "[SEP] - marker for ending of a sentence\n",
    "\n",
    "[CLS] - we must add this token to the start of each sentence, so BERT knows we’re doing classification\n",
    "\n",
    "[PAD] - There is also a special token for padding\n",
    "\n",
    "BERT understands tokens that were in the training set. Everything else can be encoded using the [UNK] (unknown) token"
   ]
  },
  {
   "attachments": {
    "c30e8f11-f363-4841-8858-bff8efc1d790.PNG": {
     "image/png": "[encoded data removed]"
    }
   },
   "cell_type": "markdown",
   "id": "e69a4196",
   "metadata": {
    "papermill": {
     "duration": 0.044882,
     "end_time": "2022-01-22T04:14:01.664020",
     "exception": false,
     "start_time": "2022-01-22T04:14:01.619138",
     "status": "completed"
    },
    "tags": []
   },
   "source": [
    "![bert-tokens.PNG](attachment:c30e8f11-f363-4841-8858-bff8efc1d790.PNG)"
   ]
  },
  {
   "cell_type": "markdown",
   "id": "a2f711d7",
   "metadata": {
    "papermill": {
     "duration": 0.045364,
     "end_time": "2022-01-22T04:14:01.754517",
     "exception": false,
     "start_time": "2022-01-22T04:14:01.709153",
     "status": "completed"
    },
    "tags": []
   },
   "source": [
    "(https://www.analyticsvidhya.com/blog/2021/05/all-you-need-to-know-about-bert/#:~:text=%5BCLS%5D%20is%20a%20special%20classification,segment%20embeddings%20for%20each%20token)"
   ]
  },
  {
   "cell_type": "code",
   "execution_count": 10,
   "id": "d320fc11",
   "metadata": {
    "execution": {
     "iopub.execute_input": "2022-01-22T04:14:01.850780Z",
     "iopub.status.busy": "2022-01-22T04:14:01.850098Z",
     "iopub.status.idle": "2022-01-22T04:14:01.853061Z",
     "shell.execute_reply": "2022-01-22T04:14:01.853566Z",
     "shell.execute_reply.started": "2022-01-22T04:00:20.442012Z"
    },
    "papermill": {
     "duration": 0.054085,
     "end_time": "2022-01-22T04:14:01.853692",
     "exception": false,
     "start_time": "2022-01-22T04:14:01.799607",
     "status": "completed"
    },
    "tags": []
   },
   "outputs": [
    {
     "name": "stdout",
     "output_type": "stream",
     "text": [
      "[SEP] 102\n",
      "[CLS] 101\n",
      "[PAD] 0\n",
      "[UNK] 100\n"
     ]
    }
   ],
   "source": [
    "print(tokenizer.sep_token, tokenizer.sep_token_id)\n",
    "print(tokenizer.cls_token, tokenizer.cls_token_id)\n",
    "print(tokenizer.pad_token, tokenizer.pad_token_id)\n",
    "print(tokenizer.unk_token, tokenizer.unk_token_id)"
   ]
  },
  {
   "cell_type": "code",
   "execution_count": 11,
   "id": "380c9ff7",
   "metadata": {
    "execution": {
     "iopub.execute_input": "2022-01-22T04:14:01.953889Z",
     "iopub.status.busy": "2022-01-22T04:14:01.946208Z",
     "iopub.status.idle": "2022-01-22T04:14:01.960507Z",
     "shell.execute_reply": "2022-01-22T04:14:01.960077Z",
     "shell.execute_reply.started": "2022-01-22T04:00:27.982345Z"
    },
    "papermill": {
     "duration": 0.061584,
     "end_time": "2022-01-22T04:14:01.960619",
     "exception": false,
     "start_time": "2022-01-22T04:14:01.899035",
     "status": "completed"
    },
    "tags": []
   },
   "outputs": [
    {
     "data": {
      "text/plain": [
       "dict_keys(['input_ids', 'attention_mask'])"
      ]
     },
     "execution_count": 11,
     "metadata": {},
     "output_type": "execute_result"
    }
   ],
   "source": [
    "# All of that work can be done using the encode_plus() method\n",
    "encoding = tokenizer.encode_plus(\n",
    "  text=sample_txt,\n",
    "  max_length=32,           # max length of sentence \n",
    "  add_special_tokens=True, # Add '[CLS]' and '[SEP]'\n",
    "  return_token_type_ids=False,\n",
    "  padding='max_length',\n",
    "  return_attention_mask=True,\n",
    "  return_tensors='pt',  # Return PyTorch tensors\n",
    ")\n",
    "encoding.keys()"
   ]
  },
  {
   "cell_type": "code",
   "execution_count": 12,
   "id": "f5f63b0c",
   "metadata": {
    "execution": {
     "iopub.execute_input": "2022-01-22T04:14:02.063512Z",
     "iopub.status.busy": "2022-01-22T04:14:02.062912Z",
     "iopub.status.idle": "2022-01-22T04:14:02.073587Z",
     "shell.execute_reply": "2022-01-22T04:14:02.074112Z",
     "shell.execute_reply.started": "2022-01-22T04:00:32.408414Z"
    },
    "papermill": {
     "duration": 0.067773,
     "end_time": "2022-01-22T04:14:02.074287",
     "exception": false,
     "start_time": "2022-01-22T04:14:02.006514",
     "status": "completed"
    },
    "tags": []
   },
   "outputs": [
    {
     "name": "stdout",
     "output_type": "stream",
     "text": [
      "32\n"
     ]
    },
    {
     "data": {
      "text/plain": [
       "tensor([ 101, 2043, 2001, 1045, 2197, 2648, 1029, 1045, 2572, 5881, 2012, 2188,\n",
       "        2005, 1016, 3134, 1012,  102,    0,    0,    0,    0,    0,    0,    0,\n",
       "           0,    0,    0,    0,    0,    0,    0,    0])"
      ]
     },
     "execution_count": 12,
     "metadata": {},
     "output_type": "execute_result"
    }
   ],
   "source": [
    "# The token ids are now stored in a Tensor and padded to a length of 32\n",
    "print(len(encoding['input_ids'][0]))\n",
    "encoding['input_ids'][0]"
   ]
  },
  {
   "cell_type": "code",
   "execution_count": 13,
   "id": "cd3b0d6b",
   "metadata": {
    "execution": {
     "iopub.execute_input": "2022-01-22T04:14:02.204483Z",
     "iopub.status.busy": "2022-01-22T04:14:02.203571Z",
     "iopub.status.idle": "2022-01-22T04:14:02.208609Z",
     "shell.execute_reply": "2022-01-22T04:14:02.209129Z",
     "shell.execute_reply.started": "2022-01-22T04:00:48.075698Z"
    },
    "papermill": {
     "duration": 0.060339,
     "end_time": "2022-01-22T04:14:02.209306",
     "exception": false,
     "start_time": "2022-01-22T04:14:02.148967",
     "status": "completed"
    },
    "tags": []
   },
   "outputs": [
    {
     "name": "stdout",
     "output_type": "stream",
     "text": [
      "32\n"
     ]
    },
    {
     "data": {
      "text/plain": [
       "tensor([[1, 1, 1, 1, 1, 1, 1, 1, 1, 1, 1, 1, 1, 1, 1, 1, 1, 0, 0, 0, 0, 0, 0, 0,\n",
       "         0, 0, 0, 0, 0, 0, 0, 0]])"
      ]
     },
     "execution_count": 13,
     "metadata": {},
     "output_type": "execute_result"
    }
   ],
   "source": [
    "# The attention mask has the same length:\n",
    "print(len(encoding['attention_mask'][0]))\n",
    "encoding['attention_mask']"
   ]
  },
  {
   "cell_type": "code",
   "execution_count": 14,
   "id": "14cad093",
   "metadata": {
    "execution": {
     "iopub.execute_input": "2022-01-22T04:14:02.307907Z",
     "iopub.status.busy": "2022-01-22T04:14:02.307076Z",
     "iopub.status.idle": "2022-01-22T04:14:02.310416Z",
     "shell.execute_reply": "2022-01-22T04:14:02.310841Z",
     "shell.execute_reply.started": "2022-01-22T04:00:50.479432Z"
    },
    "papermill": {
     "duration": 0.054193,
     "end_time": "2022-01-22T04:14:02.310973",
     "exception": false,
     "start_time": "2022-01-22T04:14:02.256780",
     "status": "completed"
    },
    "tags": []
   },
   "outputs": [
    {
     "name": "stdout",
     "output_type": "stream",
     "text": [
      "['[CLS]', 'when', 'was', 'i', 'last', 'outside', '?', 'i', 'am', 'stuck', 'at', 'home', 'for', '2', 'weeks', '.', '[SEP]', '[PAD]', '[PAD]', '[PAD]', '[PAD]', '[PAD]', '[PAD]', '[PAD]', '[PAD]', '[PAD]', '[PAD]', '[PAD]', '[PAD]', '[PAD]', '[PAD]', '[PAD]']\n"
     ]
    }
   ],
   "source": [
    "# We can inverse the tokenization to have a look at the special tokens\n",
    "print(tokenizer.convert_ids_to_tokens(encoding['input_ids'][0]))"
   ]
  },
  {
   "cell_type": "code",
   "execution_count": 15,
   "id": "33a3a6a9",
   "metadata": {
    "execution": {
     "iopub.execute_input": "2022-01-22T04:14:02.411484Z",
     "iopub.status.busy": "2022-01-22T04:14:02.410710Z",
     "iopub.status.idle": "2022-01-22T04:14:10.628300Z",
     "shell.execute_reply": "2022-01-22T04:14:10.627836Z",
     "shell.execute_reply.started": "2022-01-22T04:00:52.757216Z"
    },
    "papermill": {
     "duration": 8.270381,
     "end_time": "2022-01-22T04:14:10.628457",
     "exception": false,
     "start_time": "2022-01-22T04:14:02.358076",
     "status": "completed"
    },
    "tags": []
   },
   "outputs": [
    {
     "name": "stderr",
     "output_type": "stream",
     "text": [
      "Truncation was not explicitly activated but `max_length` is provided a specific value, please use `truncation=True` to explicitly truncate examples to max length. Defaulting to 'longest_first' truncation strategy. If you encode pairs of sequences (GLUE-style) with the tokenizer you can select this strategy more precisely by providing a specific strategy to `truncation`.\n"
     ]
    }
   ],
   "source": [
    "# Choosing max Sequence Length for our data set \n",
    "# BERT works with fixed-length sequences. We’ll use a simple strategy to choose the max length.\n",
    "all_tweets = np.concatenate([train.text.values, test.text.values])\n",
    "\n",
    "token_lens = []\n",
    "for txt in all_tweets:\n",
    "  tokens = tokenizer.encode(txt, max_length=512)\n",
    "  token_lens.append(len(tokens))"
   ]
  },
  {
   "cell_type": "code",
   "execution_count": 16,
   "id": "6b937555",
   "metadata": {
    "execution": {
     "iopub.execute_input": "2022-01-22T04:14:10.728821Z",
     "iopub.status.busy": "2022-01-22T04:14:10.728150Z",
     "iopub.status.idle": "2022-01-22T04:14:11.501346Z",
     "shell.execute_reply": "2022-01-22T04:14:11.501958Z",
     "shell.execute_reply.started": "2022-01-22T03:48:37.478875Z"
    },
    "papermill": {
     "duration": 0.82586,
     "end_time": "2022-01-22T04:14:11.502173",
     "exception": false,
     "start_time": "2022-01-22T04:14:10.676313",
     "status": "completed"
    },
    "tags": []
   },
   "outputs": [
    {
     "name": "stderr",
     "output_type": "stream",
     "text": [
      "/opt/conda/lib/python3.7/site-packages/seaborn/distributions.py:2619: FutureWarning: `distplot` is a deprecated function and will be removed in a future version. Please adapt your code to use either `displot` (a figure-level function with similar flexibility) or `histplot` (an axes-level function for histograms).\n",
      "  warnings.warn(msg, FutureWarning)\n"
     ]
    },
    {
     "data": {
      "text/plain": [
       "Text(0.5, 0, 'Token count')"
      ]
     },
     "execution_count": 16,
     "metadata": {},
     "output_type": "execute_result"
    },
    {
     "data": {
      "image/png": "[encoded data removed]",
      "text/plain": [
       "<Figure size 720x432 with 1 Axes>"
      ]
     },
     "metadata": {
      "image/png": {
       "height": 381,
       "width": 629
      }
     },
     "output_type": "display_data"
    }
   ],
   "source": [
    "# plot the distribution\n",
    "sns.distplot(token_lens)\n",
    "plt.xlim([0, 256]);\n",
    "plt.xlabel('Token count')"
   ]
  },
  {
   "cell_type": "code",
   "execution_count": 17,
   "id": "f048d289",
   "metadata": {
    "execution": {
     "iopub.execute_input": "2022-01-22T04:14:11.678324Z",
     "iopub.status.busy": "2022-01-22T04:14:11.677419Z",
     "iopub.status.idle": "2022-01-22T04:14:11.681027Z",
     "shell.execute_reply": "2022-01-22T04:14:11.679083Z",
     "shell.execute_reply.started": "2022-01-22T04:01:10.640701Z"
    },
    "papermill": {
     "duration": 0.09899,
     "end_time": "2022-01-22T04:14:11.681188",
     "exception": false,
     "start_time": "2022-01-22T04:14:11.582198",
     "status": "completed"
    },
    "tags": []
   },
   "outputs": [
    {
     "data": {
      "text/plain": [
       "84"
      ]
     },
     "execution_count": 17,
     "metadata": {},
     "output_type": "execute_result"
    }
   ],
   "source": [
    "MAX_LEN = max(token_lens)\n",
    "MAX_LEN"
   ]
  },
  {
   "cell_type": "markdown",
   "id": "2d091e59",
   "metadata": {
    "papermill": {
     "duration": 0.084738,
     "end_time": "2022-01-22T04:14:11.852609",
     "exception": false,
     "start_time": "2022-01-22T04:14:11.767871",
     "status": "completed"
    },
    "tags": []
   },
   "source": [
    "Create PyTorch dataset"
   ]
  },
  {
   "cell_type": "code",
   "execution_count": 18,
   "id": "986c1e48",
   "metadata": {
    "execution": {
     "iopub.execute_input": "2022-01-22T04:14:12.028057Z",
     "iopub.status.busy": "2022-01-22T04:14:12.027281Z",
     "iopub.status.idle": "2022-01-22T04:14:12.031092Z",
     "shell.execute_reply": "2022-01-22T04:14:12.032043Z",
     "shell.execute_reply.started": "2022-01-22T04:01:12.856471Z"
    },
    "papermill": {
     "duration": 0.097602,
     "end_time": "2022-01-22T04:14:12.032218",
     "exception": false,
     "start_time": "2022-01-22T04:14:11.934616",
     "status": "completed"
    },
    "tags": []
   },
   "outputs": [],
   "source": [
    "class TweetDataset(Dataset):\n",
    "  def __init__(self, text, targets, tokenizer, max_len):\n",
    "    self.text = text\n",
    "    self.targets = targets\n",
    "    self.tokenizer = tokenizer\n",
    "    self.max_len = max_len\n",
    "    \n",
    "  def __len__(self):\n",
    "    return len(self.text)\n",
    "\n",
    "\n",
    "  def __getitem__(self, item):\n",
    "    text = str(self.text[item])\n",
    "    target = self.targets[item]\n",
    "    encoding = self.tokenizer.encode_plus(\n",
    "      text,\n",
    "      add_special_tokens=True,\n",
    "      max_length=self.max_len,\n",
    "      return_token_type_ids=False,\n",
    "      padding='max_length',\n",
    "      truncation=True,\n",
    "      return_attention_mask=True,\n",
    "      return_tensors='pt',\n",
    "    )\n",
    "    \n",
    "    \n",
    "    return {\n",
    "      'text': text,\n",
    "      'input_ids': encoding['input_ids'].flatten(),\n",
    "      'attention_mask': encoding['attention_mask'].flatten(),\n",
    "      'targets': torch.tensor(target, dtype=torch.long)\n",
    "    }"
   ]
  },
  {
   "cell_type": "code",
   "execution_count": 19,
   "id": "5d9d021f",
   "metadata": {
    "execution": {
     "iopub.execute_input": "2022-01-22T04:14:12.207741Z",
     "iopub.status.busy": "2022-01-22T04:14:12.206886Z",
     "iopub.status.idle": "2022-01-22T04:14:12.211831Z",
     "shell.execute_reply": "2022-01-22T04:14:12.212265Z",
     "shell.execute_reply.started": "2022-01-22T04:01:15.028770Z"
    },
    "papermill": {
     "duration": 0.097825,
     "end_time": "2022-01-22T04:14:12.212417",
     "exception": false,
     "start_time": "2022-01-22T04:14:12.114592",
     "status": "completed"
    },
    "tags": []
   },
   "outputs": [
    {
     "data": {
      "text/plain": [
       "((6851, 5), (762, 5), (3263, 4))"
      ]
     },
     "execution_count": 19,
     "metadata": {},
     "output_type": "execute_result"
    }
   ],
   "source": [
    "df_train, df_val = train_test_split(\n",
    "  train,\n",
    "  test_size=0.1,\n",
    "  random_state=RANDOM_SEED\n",
    ")\n",
    "\n",
    "df_test = test\n",
    "df_train.shape, df_val.shape, df_test.shape"
   ]
  },
  {
   "cell_type": "code",
   "execution_count": 20,
   "id": "52b4a4a7",
   "metadata": {
    "execution": {
     "iopub.execute_input": "2022-01-22T04:14:12.321503Z",
     "iopub.status.busy": "2022-01-22T04:14:12.319846Z",
     "iopub.status.idle": "2022-01-22T04:14:12.322090Z",
     "shell.execute_reply": "2022-01-22T04:14:12.322512Z",
     "shell.execute_reply.started": "2022-01-22T04:01:17.677096Z"
    },
    "papermill": {
     "duration": 0.057666,
     "end_time": "2022-01-22T04:14:12.322638",
     "exception": false,
     "start_time": "2022-01-22T04:14:12.264972",
     "status": "completed"
    },
    "tags": []
   },
   "outputs": [],
   "source": [
    "BATCH_SIZE = 16"
   ]
  },
  {
   "cell_type": "code",
   "execution_count": 21,
   "id": "d74db8a2",
   "metadata": {
    "execution": {
     "iopub.execute_input": "2022-01-22T04:14:12.429198Z",
     "iopub.status.busy": "2022-01-22T04:14:12.428695Z",
     "iopub.status.idle": "2022-01-22T04:14:12.432389Z",
     "shell.execute_reply": "2022-01-22T04:14:12.431934Z",
     "shell.execute_reply.started": "2022-01-22T04:01:19.473085Z"
    },
    "papermill": {
     "duration": 0.059399,
     "end_time": "2022-01-22T04:14:12.432528",
     "exception": false,
     "start_time": "2022-01-22T04:14:12.373129",
     "status": "completed"
    },
    "tags": []
   },
   "outputs": [],
   "source": [
    "def create_data_loader_train(df, tokenizer, max_len, batch_size):\n",
    "  dataset = TweetDataset(\n",
    "    text=df.text.to_numpy(),\n",
    "    targets=df.target.to_numpy(),\n",
    "    tokenizer=tokenizer,\n",
    "    max_len=max_len\n",
    "  )\n",
    "\n",
    "  return DataLoader(\n",
    "    dataset,\n",
    "    batch_size=batch_size,\n",
    "    num_workers=2\n",
    "  )"
   ]
  },
  {
   "cell_type": "code",
   "execution_count": 22,
   "id": "78d63594",
   "metadata": {
    "execution": {
     "iopub.execute_input": "2022-01-22T04:14:12.544598Z",
     "iopub.status.busy": "2022-01-22T04:14:12.543753Z",
     "iopub.status.idle": "2022-01-22T04:14:12.545655Z",
     "shell.execute_reply": "2022-01-22T04:14:12.546106Z",
     "shell.execute_reply.started": "2022-01-22T04:01:22.947694Z"
    },
    "papermill": {
     "duration": 0.061043,
     "end_time": "2022-01-22T04:14:12.546232",
     "exception": false,
     "start_time": "2022-01-22T04:14:12.485189",
     "status": "completed"
    },
    "tags": []
   },
   "outputs": [],
   "source": [
    "class TweetDatasetTest(Dataset):\n",
    "  def __init__(self, text, tokenizer, max_len):\n",
    "    self.text = text\n",
    "    self.tokenizer = tokenizer\n",
    "    self.max_len = max_len\n",
    "    \n",
    "  def __len__(self):\n",
    "    return len(self.text)\n",
    "\n",
    "\n",
    "  def __getitem__(self, item):\n",
    "    text = str(self.text[item])\n",
    "    encoding = self.tokenizer.encode_plus(\n",
    "      text,\n",
    "      add_special_tokens=True,\n",
    "      max_length=self.max_len,\n",
    "      return_token_type_ids=False,\n",
    "      padding='max_length',\n",
    "      truncation=True,\n",
    "      return_attention_mask=True,\n",
    "      return_tensors='pt'\n",
    "    )\n",
    "    \n",
    "    \n",
    "    return {\n",
    "      'text': text,\n",
    "      'input_ids': encoding['input_ids'].flatten(),\n",
    "      'attention_mask': encoding['attention_mask'].flatten()\n",
    "    }"
   ]
  },
  {
   "cell_type": "code",
   "execution_count": 23,
   "id": "291087b3",
   "metadata": {
    "execution": {
     "iopub.execute_input": "2022-01-22T04:14:12.664663Z",
     "iopub.status.busy": "2022-01-22T04:14:12.662928Z",
     "iopub.status.idle": "2022-01-22T04:14:12.665272Z",
     "shell.execute_reply": "2022-01-22T04:14:12.665728Z",
     "shell.execute_reply.started": "2022-01-22T04:01:24.535296Z"
    },
    "papermill": {
     "duration": 0.069429,
     "end_time": "2022-01-22T04:14:12.665863",
     "exception": false,
     "start_time": "2022-01-22T04:14:12.596434",
     "status": "completed"
    },
    "tags": []
   },
   "outputs": [],
   "source": [
    "def create_data_loader_test(df, tokenizer, max_len, batch_size):\n",
    "  dataset = TweetDatasetTest(\n",
    "    text=df.text.to_numpy(),\n",
    "    tokenizer=tokenizer,\n",
    "    max_len=max_len\n",
    "  )\n",
    "\n",
    "  return DataLoader(\n",
    "    dataset,\n",
    "    batch_size=batch_size,\n",
    "    num_workers=2\n",
    "  )"
   ]
  },
  {
   "cell_type": "code",
   "execution_count": 24,
   "id": "cbb9ac5d",
   "metadata": {
    "execution": {
     "iopub.execute_input": "2022-01-22T04:14:12.779329Z",
     "iopub.status.busy": "2022-01-22T04:14:12.778456Z",
     "iopub.status.idle": "2022-01-22T04:14:12.781125Z",
     "shell.execute_reply": "2022-01-22T04:14:12.780679Z",
     "shell.execute_reply.started": "2022-01-22T04:01:26.778577Z"
    },
    "papermill": {
     "duration": 0.061889,
     "end_time": "2022-01-22T04:14:12.781235",
     "exception": false,
     "start_time": "2022-01-22T04:14:12.719346",
     "status": "completed"
    },
    "tags": []
   },
   "outputs": [],
   "source": [
    "CUSTOM_MAX_LEN = 60\n",
    "train_data_loader = create_data_loader_train(df_train, tokenizer, CUSTOM_MAX_LEN, BATCH_SIZE)\n",
    "val_data_loader = create_data_loader_train(df_val, tokenizer, CUSTOM_MAX_LEN, BATCH_SIZE)\n",
    "test_data_loader = create_data_loader_test(df_test, tokenizer, CUSTOM_MAX_LEN, BATCH_SIZE)"
   ]
  },
  {
   "cell_type": "code",
   "execution_count": 25,
   "id": "83acd200",
   "metadata": {
    "execution": {
     "iopub.execute_input": "2022-01-22T04:14:12.894205Z",
     "iopub.status.busy": "2022-01-22T04:14:12.893578Z",
     "iopub.status.idle": "2022-01-22T04:14:13.027708Z",
     "shell.execute_reply": "2022-01-22T04:14:13.028438Z",
     "shell.execute_reply.started": "2022-01-22T04:01:30.164015Z"
    },
    "papermill": {
     "duration": 0.194288,
     "end_time": "2022-01-22T04:14:13.028611",
     "exception": false,
     "start_time": "2022-01-22T04:14:12.834323",
     "status": "completed"
    },
    "tags": []
   },
   "outputs": [
    {
     "data": {
      "text/plain": [
       "dict_keys(['text', 'input_ids', 'attention_mask', 'targets'])"
      ]
     },
     "execution_count": 25,
     "metadata": {},
     "output_type": "execute_result"
    }
   ],
   "source": [
    "import warnings\n",
    "warnings.filterwarnings(\"ignore\")\n",
    "data = next(iter(train_data_loader))\n",
    "data.keys()"
   ]
  },
  {
   "cell_type": "code",
   "execution_count": 26,
   "id": "b9101396",
   "metadata": {
    "execution": {
     "iopub.execute_input": "2022-01-22T04:14:13.141102Z",
     "iopub.status.busy": "2022-01-22T04:14:13.140385Z",
     "iopub.status.idle": "2022-01-22T04:14:13.143703Z",
     "shell.execute_reply": "2022-01-22T04:14:13.144223Z",
     "shell.execute_reply.started": "2022-01-22T04:01:32.534222Z"
    },
    "papermill": {
     "duration": 0.061847,
     "end_time": "2022-01-22T04:14:13.144379",
     "exception": false,
     "start_time": "2022-01-22T04:14:13.082532",
     "status": "completed"
    },
    "tags": []
   },
   "outputs": [
    {
     "name": "stdout",
     "output_type": "stream",
     "text": [
      "torch.Size([16, 60])\n",
      "torch.Size([16, 60])\n",
      "torch.Size([16])\n"
     ]
    }
   ],
   "source": [
    "print(data['input_ids'].shape)\n",
    "print(data['attention_mask'].shape)\n",
    "print(data['targets'].shape)"
   ]
  },
  {
   "cell_type": "markdown",
   "id": "bb05ebbe",
   "metadata": {
    "papermill": {
     "duration": 0.05286,
     "end_time": "2022-01-22T04:14:13.249452",
     "exception": false,
     "start_time": "2022-01-22T04:14:13.196592",
     "status": "completed"
    },
    "tags": []
   },
   "source": [
    "Bert Model"
   ]
  },
  {
   "cell_type": "code",
   "execution_count": 27,
   "id": "6a66e63d",
   "metadata": {
    "execution": {
     "iopub.execute_input": "2022-01-22T04:14:13.362126Z",
     "iopub.status.busy": "2022-01-22T04:14:13.361595Z",
     "iopub.status.idle": "2022-01-22T04:14:29.897169Z",
     "shell.execute_reply": "2022-01-22T04:14:29.896508Z",
     "shell.execute_reply.started": "2022-01-22T04:01:35.085196Z"
    },
    "papermill": {
     "duration": 16.594198,
     "end_time": "2022-01-22T04:14:29.897332",
     "exception": false,
     "start_time": "2022-01-22T04:14:13.303134",
     "status": "completed"
    },
    "tags": []
   },
   "outputs": [
    {
     "data": {
      "application/vnd.jupyter.widget-view+json": {
       "model_id": "86fde4e4b713448d9c011be81fdbf73a",
       "version_major": 2,
       "version_minor": 0
      },
      "text/plain": [
       "Downloading:   0%|          | 0.00/420M [00:00<?, ?B/s]"
      ]
     },
     "metadata": {},
     "output_type": "display_data"
    },
    {
     "name": "stderr",
     "output_type": "stream",
     "text": [
      "Some weights of the model checkpoint at bert-base-uncased were not used when initializing BertModel: ['cls.seq_relationship.weight', 'cls.predictions.transform.dense.bias', 'cls.seq_relationship.bias', 'cls.predictions.transform.dense.weight', 'cls.predictions.transform.LayerNorm.bias', 'cls.predictions.bias', 'cls.predictions.decoder.weight', 'cls.predictions.transform.LayerNorm.weight']\n",
      "- This IS expected if you are initializing BertModel from the checkpoint of a model trained on another task or with another architecture (e.g. initializing a BertForSequenceClassification model from a BertForPreTraining model).\n",
      "- This IS NOT expected if you are initializing BertModel from the checkpoint of a model that you expect to be exactly identical (initializing a BertForSequenceClassification model from a BertForSequenceClassification model).\n"
     ]
    }
   ],
   "source": [
    "bert_model = BertModel.from_pretrained(PRE_TRAINED_MODEL_NAME)"
   ]
  },
  {
   "cell_type": "code",
   "execution_count": 28,
   "id": "d01ba895",
   "metadata": {
    "execution": {
     "iopub.execute_input": "2022-01-22T04:14:30.008971Z",
     "iopub.status.busy": "2022-01-22T04:14:30.008344Z",
     "iopub.status.idle": "2022-01-22T04:14:30.200292Z",
     "shell.execute_reply": "2022-01-22T04:14:30.200944Z",
     "shell.execute_reply.started": "2022-01-22T04:02:30.784069Z"
    },
    "papermill": {
     "duration": 0.251741,
     "end_time": "2022-01-22T04:14:30.201151",
     "exception": false,
     "start_time": "2022-01-22T04:14:29.949410",
     "status": "completed"
    },
    "tags": []
   },
   "outputs": [
    {
     "name": "stdout",
     "output_type": "stream",
     "text": [
      "<class 'transformers.modeling_outputs.BaseModelOutputWithPoolingAndCrossAttentions'>\n",
      "odict_keys(['last_hidden_state', 'pooler_output'])\n",
      "768\n"
     ]
    }
   ],
   "source": [
    "# return last state of encoder and pooled output \n",
    "# The last_hidden_state is a sequence of hidden states of the last layer of the model. \n",
    "# Obtaining the pooled_output is done by applying the BertPooler on last_hidden_state\n",
    "\n",
    "# We have the hidden state for each of our 32 tokens (the length of our example sequence).\n",
    "# 768 is the number of hidden units in the feedforward-networks\n",
    "\n",
    "# https://huggingface.co/docs/transformers/model_doc/bert#bertmodel\n",
    "\n",
    "# https://stackoverflow.com/questions/65132144/bertmodel-transformers-outputs-string-instead-of-tensor\n",
    "output = bert_model(\n",
    "  input_ids=encoding['input_ids'],\n",
    "  attention_mask=encoding['attention_mask']\n",
    ")\n",
    "\n",
    "print(type(output))\n",
    "print(output.keys())\n",
    "print(bert_model.config.hidden_size)\n"
   ]
  },
  {
   "cell_type": "code",
   "execution_count": 29,
   "id": "a04cd27f",
   "metadata": {
    "execution": {
     "iopub.execute_input": "2022-01-22T04:14:30.310947Z",
     "iopub.status.busy": "2022-01-22T04:14:30.310199Z",
     "iopub.status.idle": "2022-01-22T04:14:30.313182Z",
     "shell.execute_reply": "2022-01-22T04:14:30.313771Z",
     "shell.execute_reply.started": "2022-01-22T04:02:33.173350Z"
    },
    "papermill": {
     "duration": 0.059258,
     "end_time": "2022-01-22T04:14:30.313938",
     "exception": false,
     "start_time": "2022-01-22T04:14:30.254680",
     "status": "completed"
    },
    "tags": []
   },
   "outputs": [
    {
     "name": "stdout",
     "output_type": "stream",
     "text": [
      "torch.Size([1, 32, 768])\n"
     ]
    }
   ],
   "source": [
    "print(output['last_hidden_state'].shape)"
   ]
  },
  {
   "cell_type": "code",
   "execution_count": 30,
   "id": "66f3ff3d",
   "metadata": {
    "execution": {
     "iopub.execute_input": "2022-01-22T04:14:30.430264Z",
     "iopub.status.busy": "2022-01-22T04:14:30.429689Z",
     "iopub.status.idle": "2022-01-22T04:14:30.432756Z",
     "shell.execute_reply": "2022-01-22T04:14:30.433453Z",
     "shell.execute_reply.started": "2022-01-22T04:02:35.045488Z"
    },
    "papermill": {
     "duration": 0.063701,
     "end_time": "2022-01-22T04:14:30.433686",
     "exception": false,
     "start_time": "2022-01-22T04:14:30.369985",
     "status": "completed"
    },
    "tags": []
   },
   "outputs": [
    {
     "name": "stdout",
     "output_type": "stream",
     "text": [
      "torch.Size([1, 768])\n"
     ]
    }
   ],
   "source": [
    "print(output['pooler_output'].shape)"
   ]
  },
  {
   "cell_type": "markdown",
   "id": "50adf1fe",
   "metadata": {
    "papermill": {
     "duration": 0.055334,
     "end_time": "2022-01-22T04:14:30.547176",
     "exception": false,
     "start_time": "2022-01-22T04:14:30.491842",
     "status": "completed"
    },
    "tags": []
   },
   "source": [
    "Build Sentiment Classifier"
   ]
  },
  {
   "cell_type": "code",
   "execution_count": 31,
   "id": "a01fe78c",
   "metadata": {
    "execution": {
     "iopub.execute_input": "2022-01-22T04:14:30.702315Z",
     "iopub.status.busy": "2022-01-22T04:14:30.701772Z",
     "iopub.status.idle": "2022-01-22T04:14:30.705793Z",
     "shell.execute_reply": "2022-01-22T04:14:30.706406Z",
     "shell.execute_reply.started": "2022-01-22T04:02:37.101581Z"
    },
    "papermill": {
     "duration": 0.104179,
     "end_time": "2022-01-22T04:14:30.706595",
     "exception": false,
     "start_time": "2022-01-22T04:14:30.602416",
     "status": "completed"
    },
    "tags": []
   },
   "outputs": [
    {
     "name": "stdout",
     "output_type": "stream",
     "text": [
      "There are 1 GPU(s) available.\n",
      "Device name: Tesla P100-PCIE-16GB\n"
     ]
    }
   ],
   "source": [
    "import torch\n",
    "import torch.nn as nn\n",
    "\n",
    "if torch.cuda.is_available():       \n",
    "    device = torch.device(\"cuda\")\n",
    "    print(f'There are {torch.cuda.device_count()} GPU(s) available.')\n",
    "    print('Device name:', torch.cuda.get_device_name(0))\n",
    "\n",
    "else:\n",
    "    print('No GPU available, using the CPU instead.')\n",
    "    device = torch.device(\"cpu\")"
   ]
  },
  {
   "cell_type": "code",
   "execution_count": 32,
   "id": "c56accf1",
   "metadata": {
    "execution": {
     "iopub.execute_input": "2022-01-22T04:14:30.814999Z",
     "iopub.status.busy": "2022-01-22T04:14:30.814050Z",
     "iopub.status.idle": "2022-01-22T04:14:30.820820Z",
     "shell.execute_reply": "2022-01-22T04:14:30.821359Z",
     "shell.execute_reply.started": "2022-01-22T04:02:39.354208Z"
    },
    "papermill": {
     "duration": 0.061545,
     "end_time": "2022-01-22T04:14:30.821521",
     "exception": false,
     "start_time": "2022-01-22T04:14:30.759976",
     "status": "completed"
    },
    "tags": []
   },
   "outputs": [],
   "source": [
    "class SentimentClassifier(nn.Module):\n",
    "  def __init__(self, n_classes, p):\n",
    "    super(SentimentClassifier, self).__init__()\n",
    "    self.bert = BertModel.from_pretrained(PRE_TRAINED_MODEL_NAME)\n",
    "    self.drop = nn.Dropout(p)\n",
    "    # torch.nn.Linear(in_features, out_features, bias=True, device=None, dtype=None)\n",
    "    self.out = nn.Linear(self.bert.config.hidden_size, n_classes)\n",
    "    self.softmax = nn.Softmax(dim=1)\n",
    "\n",
    "    \n",
    "  def forward(self, input_ids, attention_mask):\n",
    "    output_dict = self.bert(\n",
    "      input_ids=input_ids,\n",
    "      attention_mask=attention_mask\n",
    "    )\n",
    "    output = self.drop(output_dict['pooler_output'])\n",
    "    output = self.out(output)\n",
    "    return self.softmax(output)"
   ]
  },
  {
   "cell_type": "code",
   "execution_count": 33,
   "id": "10710dd6",
   "metadata": {
    "execution": {
     "iopub.execute_input": "2022-01-22T04:14:30.930729Z",
     "iopub.status.busy": "2022-01-22T04:14:30.929948Z",
     "iopub.status.idle": "2022-01-22T04:14:36.867267Z",
     "shell.execute_reply": "2022-01-22T04:14:36.866795Z",
     "shell.execute_reply.started": "2022-01-22T04:02:41.964236Z"
    },
    "papermill": {
     "duration": 5.993141,
     "end_time": "2022-01-22T04:14:36.867415",
     "exception": false,
     "start_time": "2022-01-22T04:14:30.874274",
     "status": "completed"
    },
    "tags": []
   },
   "outputs": [
    {
     "name": "stderr",
     "output_type": "stream",
     "text": [
      "Some weights of the model checkpoint at bert-base-uncased were not used when initializing BertModel: ['cls.seq_relationship.weight', 'cls.predictions.transform.dense.bias', 'cls.seq_relationship.bias', 'cls.predictions.transform.dense.weight', 'cls.predictions.transform.LayerNorm.bias', 'cls.predictions.bias', 'cls.predictions.decoder.weight', 'cls.predictions.transform.LayerNorm.weight']\n",
      "- This IS expected if you are initializing BertModel from the checkpoint of a model trained on another task or with another architecture (e.g. initializing a BertForSequenceClassification model from a BertForPreTraining model).\n",
      "- This IS NOT expected if you are initializing BertModel from the checkpoint of a model that you expect to be exactly identical (initializing a BertForSequenceClassification model from a BertForSequenceClassification model).\n"
     ]
    }
   ],
   "source": [
    "N_CLASSES = 2\n",
    "P = 0.2\n",
    "model = SentimentClassifier(N_CLASSES, P)\n",
    "model = model.to(device)"
   ]
  },
  {
   "cell_type": "code",
   "execution_count": 34,
   "id": "daf0de8f",
   "metadata": {
    "execution": {
     "iopub.execute_input": "2022-01-22T04:14:36.979130Z",
     "iopub.status.busy": "2022-01-22T04:14:36.978305Z",
     "iopub.status.idle": "2022-01-22T04:14:36.981913Z",
     "shell.execute_reply": "2022-01-22T04:14:36.982539Z",
     "shell.execute_reply.started": "2022-01-22T04:02:47.122002Z"
    },
    "papermill": {
     "duration": 0.061698,
     "end_time": "2022-01-22T04:14:36.982704",
     "exception": false,
     "start_time": "2022-01-22T04:14:36.921006",
     "status": "completed"
    },
    "tags": []
   },
   "outputs": [
    {
     "name": "stdout",
     "output_type": "stream",
     "text": [
      "16\n"
     ]
    }
   ],
   "source": [
    "# data = next(iter(train_data_loader))\n",
    "print(len(data['text']))\n",
    "# data is consisted of 16 tweets "
   ]
  },
  {
   "cell_type": "code",
   "execution_count": 35,
   "id": "7323f554",
   "metadata": {
    "execution": {
     "iopub.execute_input": "2022-01-22T04:14:37.093801Z",
     "iopub.status.busy": "2022-01-22T04:14:37.093181Z",
     "iopub.status.idle": "2022-01-22T04:14:37.096069Z",
     "shell.execute_reply": "2022-01-22T04:14:37.095641Z",
     "shell.execute_reply.started": "2022-01-22T04:02:49.212899Z"
    },
    "papermill": {
     "duration": 0.059312,
     "end_time": "2022-01-22T04:14:37.096172",
     "exception": false,
     "start_time": "2022-01-22T04:14:37.036860",
     "status": "completed"
    },
    "tags": []
   },
   "outputs": [],
   "source": [
    "input_ids = data['input_ids'].to(device)\n",
    "attention_mask = data['attention_mask'].to(device)"
   ]
  },
  {
   "cell_type": "code",
   "execution_count": 36,
   "id": "5243d78a",
   "metadata": {
    "execution": {
     "iopub.execute_input": "2022-01-22T04:14:37.204889Z",
     "iopub.status.busy": "2022-01-22T04:14:37.204129Z",
     "iopub.status.idle": "2022-01-22T04:14:37.209435Z",
     "shell.execute_reply": "2022-01-22T04:14:37.208974Z",
     "shell.execute_reply.started": "2022-01-22T04:02:51.341678Z"
    },
    "papermill": {
     "duration": 0.060579,
     "end_time": "2022-01-22T04:14:37.209544",
     "exception": false,
     "start_time": "2022-01-22T04:14:37.148965",
     "status": "completed"
    },
    "tags": []
   },
   "outputs": [
    {
     "name": "stdout",
     "output_type": "stream",
     "text": [
      "torch.Size([16, 60])\n",
      "torch.Size([16, 60])\n"
     ]
    }
   ],
   "source": [
    "print(input_ids.shape)\n",
    "print(attention_mask.shape)"
   ]
  },
  {
   "cell_type": "code",
   "execution_count": 37,
   "id": "ef987b95",
   "metadata": {
    "execution": {
     "iopub.execute_input": "2022-01-22T04:14:37.321751Z",
     "iopub.status.busy": "2022-01-22T04:14:37.320872Z",
     "iopub.status.idle": "2022-01-22T04:14:38.082202Z",
     "shell.execute_reply": "2022-01-22T04:14:38.082629Z",
     "shell.execute_reply.started": "2022-01-22T04:02:53.155843Z"
    },
    "papermill": {
     "duration": 0.819719,
     "end_time": "2022-01-22T04:14:38.082787",
     "exception": false,
     "start_time": "2022-01-22T04:14:37.263068",
     "status": "completed"
    },
    "tags": []
   },
   "outputs": [
    {
     "data": {
      "text/plain": [
       "tensor([[0.6142, 0.3858],\n",
       "        [0.5808, 0.4192],\n",
       "        [0.5505, 0.4495],\n",
       "        [0.6176, 0.3824],\n",
       "        [0.5790, 0.4210],\n",
       "        [0.5021, 0.4979],\n",
       "        [0.6813, 0.3187],\n",
       "        [0.5435, 0.4565],\n",
       "        [0.6645, 0.3355],\n",
       "        [0.5679, 0.4321],\n",
       "        [0.6024, 0.3976],\n",
       "        [0.5335, 0.4665],\n",
       "        [0.5474, 0.4526],\n",
       "        [0.5923, 0.4077],\n",
       "        [0.6504, 0.3496],\n",
       "        [0.5621, 0.4379]], device='cuda:0', grad_fn=<SoftmaxBackward>)"
      ]
     },
     "execution_count": 37,
     "metadata": {},
     "output_type": "execute_result"
    }
   ],
   "source": [
    "# inject input ids and attention mask into Sentiment Classifier \n",
    "# this returns the probablity for 0 or 1 for each tweet in data \n",
    "model(input_ids, attention_mask)"
   ]
  },
  {
   "cell_type": "markdown",
   "id": "e0684a5e",
   "metadata": {
    "papermill": {
     "duration": 0.053503,
     "end_time": "2022-01-22T04:14:38.189646",
     "exception": false,
     "start_time": "2022-01-22T04:14:38.136143",
     "status": "completed"
    },
    "tags": []
   },
   "source": [
    "Train Model \n",
    "\n",
    "To reproduce the training procedure from the BERT paper, we’ll use the AdamW optimizer provided by Hugging Face. \n",
    "\n",
    "It corrects weight decay, so it’s similar to the original paper. We’ll also use a linear scheduler with no warmup steps"
   ]
  },
  {
   "cell_type": "code",
   "execution_count": 38,
   "id": "69bc9e62",
   "metadata": {
    "execution": {
     "iopub.execute_input": "2022-01-22T04:14:38.301739Z",
     "iopub.status.busy": "2022-01-22T04:14:38.301166Z",
     "iopub.status.idle": "2022-01-22T04:14:38.308707Z",
     "shell.execute_reply": "2022-01-22T04:14:38.308254Z",
     "shell.execute_reply.started": "2022-01-22T04:03:08.676623Z"
    },
    "papermill": {
     "duration": 0.065847,
     "end_time": "2022-01-22T04:14:38.308822",
     "exception": false,
     "start_time": "2022-01-22T04:14:38.242975",
     "status": "completed"
    },
    "tags": []
   },
   "outputs": [],
   "source": [
    "EPOCHS = 10\n",
    "optimizer = AdamW(model.parameters(), lr=2e-5, correct_bias=False)\n",
    "total_steps = len(train_data_loader) * EPOCHS\n",
    "scheduler = get_linear_schedule_with_warmup(\n",
    "  optimizer,\n",
    "  num_warmup_steps=0,\n",
    "  num_training_steps=total_steps\n",
    ")\n",
    "loss_fn = nn.CrossEntropyLoss().to(device)"
   ]
  },
  {
   "cell_type": "markdown",
   "id": "c1789015",
   "metadata": {
    "papermill": {
     "duration": 0.053631,
     "end_time": "2022-01-22T04:14:38.416043",
     "exception": false,
     "start_time": "2022-01-22T04:14:38.362412",
     "status": "completed"
    },
    "tags": []
   },
   "source": [
    "How do we come up with all hyperparameters? The BERT authors have some recommendations for fine-tuning:\n",
    "\n",
    "* Batch size: 16, 32\n",
    "* Learning rate (Adam): 5e-5, 3e-5, 2e-5\n",
    "* Number of epochs: 2, 3, 4"
   ]
  },
  {
   "cell_type": "code",
   "execution_count": 39,
   "id": "dd07868c",
   "metadata": {
    "execution": {
     "iopub.execute_input": "2022-01-22T04:14:38.532964Z",
     "iopub.status.busy": "2022-01-22T04:14:38.532146Z",
     "iopub.status.idle": "2022-01-22T04:14:38.534545Z",
     "shell.execute_reply": "2022-01-22T04:14:38.534080Z",
     "shell.execute_reply.started": "2022-01-22T04:03:13.332108Z"
    },
    "papermill": {
     "duration": 0.064733,
     "end_time": "2022-01-22T04:14:38.534657",
     "exception": false,
     "start_time": "2022-01-22T04:14:38.469924",
     "status": "completed"
    },
    "tags": []
   },
   "outputs": [],
   "source": [
    "def train_epoch(\n",
    "      model,\n",
    "      data_loader,\n",
    "      loss_fn,\n",
    "      optimizer,\n",
    "      device,\n",
    "      scheduler,\n",
    "      n_examples\n",
    "):\n",
    "      model = model.train()\n",
    "      losses = []\n",
    "      correct_predictions = 0\n",
    "        \n",
    "      for data in data_loader:\n",
    "            input_ids = data[\"input_ids\"].to(device)\n",
    "            attention_mask = data[\"attention_mask\"].to(device)\n",
    "            targets = data[\"targets\"].to(device)\n",
    "\n",
    "            # inject inputs ids and attention mask into bert model \n",
    "            outputs = model(\n",
    "              input_ids=input_ids,\n",
    "              attention_mask=attention_mask\n",
    "            )\n",
    "\n",
    "            # return prediction \n",
    "            _, preds = torch.max(outputs, dim=1)\n",
    "\n",
    "            # calculate loss \n",
    "            loss = loss_fn(outputs, targets)\n",
    "\n",
    "            # calculate correct prediction \n",
    "            correct_predictions += torch.sum(preds == targets)\n",
    "            \n",
    "            # append each loss\n",
    "            losses.append(loss.item())\n",
    "            \n",
    "            # back propagation \n",
    "            loss.backward()\n",
    "            nn.utils.clip_grad_norm_(model.parameters(), max_norm=1.0)\n",
    "            \n",
    "            # updata parameters \n",
    "            optimizer.step()\n",
    "            scheduler.step()\n",
    "            optimizer.zero_grad()\n",
    "            \n",
    "      return correct_predictions.double() / n_examples, np.mean(losses)"
   ]
  },
  {
   "cell_type": "markdown",
   "id": "73b9df90",
   "metadata": {
    "papermill": {
     "duration": 0.056294,
     "end_time": "2022-01-22T04:14:38.644649",
     "exception": false,
     "start_time": "2022-01-22T04:14:38.588355",
     "status": "completed"
    },
    "tags": []
   },
   "source": [
    "Training the model should look familiar, except for two things.\n",
    "\n",
    "The scheduler gets called every time a batch is fed to the model. \n",
    "\n",
    "We’re avoiding exploding gradients by clipping the gradients of the model using clipgrad_norm."
   ]
  },
  {
   "cell_type": "code",
   "execution_count": 40,
   "id": "78fe5482",
   "metadata": {
    "execution": {
     "iopub.execute_input": "2022-01-22T04:14:38.759005Z",
     "iopub.status.busy": "2022-01-22T04:14:38.758236Z",
     "iopub.status.idle": "2022-01-22T04:14:38.760701Z",
     "shell.execute_reply": "2022-01-22T04:14:38.760249Z",
     "shell.execute_reply.started": "2022-01-22T04:03:15.937815Z"
    },
    "papermill": {
     "duration": 0.062068,
     "end_time": "2022-01-22T04:14:38.760810",
     "exception": false,
     "start_time": "2022-01-22T04:14:38.698742",
     "status": "completed"
    },
    "tags": []
   },
   "outputs": [],
   "source": [
    "def eval_model(model, data_loader, loss_fn, device, n_examples):\n",
    "  model = model.eval()\n",
    "  losses = []\n",
    "  correct_predictions = 0\n",
    "  with torch.no_grad():\n",
    "    for data in data_loader:\n",
    "      input_ids = data[\"input_ids\"].to(device)\n",
    "      attention_mask = data[\"attention_mask\"].to(device)\n",
    "      targets = data[\"targets\"].to(device)\n",
    "      outputs = model(\n",
    "        input_ids=input_ids,\n",
    "        attention_mask=attention_mask\n",
    "      )\n",
    "        \n",
    "      _, preds = torch.max(outputs, dim=1)\n",
    "      loss = loss_fn(outputs, targets)\n",
    "      correct_predictions += torch.sum(preds == targets)\n",
    "      losses.append(loss.item())\n",
    "        \n",
    "  return correct_predictions.double() / n_examples, np.mean(losses)"
   ]
  },
  {
   "cell_type": "code",
   "execution_count": 41,
   "id": "fc40b3e2",
   "metadata": {
    "execution": {
     "iopub.execute_input": "2022-01-22T04:14:38.875606Z",
     "iopub.status.busy": "2022-01-22T04:14:38.874741Z",
     "iopub.status.idle": "2022-01-22T04:23:37.744367Z",
     "shell.execute_reply": "2022-01-22T04:23:37.745013Z",
     "shell.execute_reply.started": "2022-01-22T04:03:19.058950Z"
    },
    "papermill": {
     "duration": 538.931268,
     "end_time": "2022-01-22T04:23:37.745223",
     "exception": false,
     "start_time": "2022-01-22T04:14:38.813955",
     "status": "completed"
    },
    "tags": []
   },
   "outputs": [
    {
     "name": "stdout",
     "output_type": "stream",
     "text": [
      "Epoch 1/10\n",
      "----------\n",
      "Train loss 0.5337591484571115 accuracy 0.7750693329440957\n",
      "Val   loss 0.5025599915534258 accuracy 0.8044619422572178\n",
      "\n",
      "Epoch 2/10\n",
      "----------\n",
      "Train loss 0.47682685896511123 accuracy 0.8341847905415267\n",
      "Val   loss 0.49454554604987305 accuracy 0.8123359580052494\n",
      "\n",
      "Epoch 3/10\n",
      "----------\n",
      "Train loss 0.45267032229261245 accuracy 0.8587067581374981\n",
      "Val   loss 0.5085837611307701 accuracy 0.8044619422572178\n",
      "\n",
      "Epoch 4/10\n",
      "----------\n",
      "Train loss 0.44321365685729713 accuracy 0.8698000291928185\n",
      "Val   loss 0.516737642387549 accuracy 0.7939632545931758\n",
      "\n",
      "Epoch 5/10\n",
      "----------\n",
      "Train loss 0.44224717143254405 accuracy 0.8703838855641511\n",
      "Val   loss 0.5145002386222283 accuracy 0.800524934383202\n",
      "\n",
      "Epoch 6/10\n",
      "----------\n",
      "Train loss 0.42649369584374774 accuracy 0.8868778280542986\n",
      "Val   loss 0.5075883623212576 accuracy 0.8018372703412073\n",
      "\n",
      "Epoch 7/10\n",
      "----------\n",
      "Train loss 0.420273984367753 accuracy 0.8930083199532914\n",
      "Val   loss 0.4980237806836764 accuracy 0.8149606299212598\n",
      "\n",
      "Epoch 8/10\n",
      "----------\n",
      "Train loss 0.41629498835765955 accuracy 0.8972412786454531\n",
      "Val   loss 0.5053353570401669 accuracy 0.8057742782152231\n",
      "\n",
      "Epoch 9/10\n",
      "----------\n",
      "Train loss 0.4130816364482844 accuracy 0.9007444168734491\n",
      "Val   loss 0.5042863537867864 accuracy 0.8083989501312336\n",
      "\n",
      "Epoch 10/10\n",
      "----------\n",
      "Train loss 0.4133473587480736 accuracy 0.9001605605021165\n",
      "Val   loss 0.5013914729158083 accuracy 0.8097112860892388\n",
      "\n",
      "CPU times: user 8min 38s, sys: 5.79 s, total: 8min 44s\n",
      "Wall time: 8min 58s\n"
     ]
    }
   ],
   "source": [
    "%%time\n",
    "history = defaultdict(list)\n",
    "best_accuracy = 0\n",
    "\n",
    "for epoch in range(EPOCHS):\n",
    "    print(f'Epoch {epoch + 1}/{EPOCHS}')\n",
    "    print('-' * 10)\n",
    "    \n",
    "    train_acc, train_loss = train_epoch(\n",
    "                            model,\n",
    "                            train_data_loader,\n",
    "                            loss_fn,\n",
    "                            optimizer,\n",
    "                            device,\n",
    "                            scheduler,\n",
    "                            len(df_train)\n",
    "                        )\n",
    "    \n",
    "    print(f'Train loss {train_loss} accuracy {train_acc}')\n",
    "    \n",
    "    val_acc, val_loss = eval_model(\n",
    "                            model,\n",
    "                            val_data_loader,\n",
    "                            loss_fn,\n",
    "                            device,\n",
    "                            len(df_val)\n",
    "                        )\n",
    "    \n",
    "    print(f'Val   loss {val_loss} accuracy {val_acc}')\n",
    "    print()\n",
    "    history['train_acc'].append(train_acc)\n",
    "    history['train_loss'].append(train_loss)\n",
    "    history['val_acc'].append(val_acc)\n",
    "    history['val_loss'].append(val_loss)\n",
    "    \n",
    "    if val_acc > best_accuracy:\n",
    "        torch.save(model.state_dict(), 'best_model_state.bin')\n",
    "        best_accuracy = val_acc"
   ]
  },
  {
   "cell_type": "code",
   "execution_count": 42,
   "id": "9f9ecacf",
   "metadata": {
    "execution": {
     "iopub.execute_input": "2022-01-22T04:23:37.900397Z",
     "iopub.status.busy": "2022-01-22T04:23:37.885009Z",
     "iopub.status.idle": "2022-01-22T04:23:38.247961Z",
     "shell.execute_reply": "2022-01-22T04:23:38.248363Z",
     "shell.execute_reply.started": "2022-01-22T04:12:26.698672Z"
    },
    "papermill": {
     "duration": 0.442208,
     "end_time": "2022-01-22T04:23:38.248536",
     "exception": false,
     "start_time": "2022-01-22T04:23:37.806328",
     "status": "completed"
    },
    "tags": []
   },
   "outputs": [
    {
     "data": {
      "text/plain": [
       "(0.0, 1.0)"
      ]
     },
     "execution_count": 42,
     "metadata": {},
     "output_type": "execute_result"
    },
    {
     "data": {
      "image/png": "[encoded data removed]",
      "text/plain": [
       "<Figure size 720x432 with 1 Axes>"
      ]
     },
     "metadata": {
      "image/png": {
       "height": 398,
       "width": 620
      }
     },
     "output_type": "display_data"
    }
   ],
   "source": [
    "plt.plot(history['train_acc'], label='train accuracy')\n",
    "plt.plot(history['val_acc'], label='validation accuracy')\n",
    "plt.title('Training history')\n",
    "plt.ylabel('Accuracy')\n",
    "plt.xlabel('Epoch')\n",
    "plt.legend()\n",
    "plt.ylim([0, 1])"
   ]
  },
  {
   "cell_type": "markdown",
   "id": "29369776",
   "metadata": {
    "papermill": {
     "duration": 0.061283,
     "end_time": "2022-01-22T04:23:38.372724",
     "exception": false,
     "start_time": "2022-01-22T04:23:38.311441",
     "status": "completed"
    },
    "tags": []
   },
   "source": [
    "Predictions"
   ]
  },
  {
   "cell_type": "code",
   "execution_count": 43,
   "id": "88ac1a50",
   "metadata": {
    "execution": {
     "iopub.execute_input": "2022-01-22T04:23:38.499419Z",
     "iopub.status.busy": "2022-01-22T04:23:38.498901Z",
     "iopub.status.idle": "2022-01-22T04:23:38.688583Z",
     "shell.execute_reply": "2022-01-22T04:23:38.687819Z",
     "shell.execute_reply.started": "2022-01-22T04:12:31.187804Z"
    },
    "papermill": {
     "duration": 0.254967,
     "end_time": "2022-01-22T04:23:38.688766",
     "exception": false,
     "start_time": "2022-01-22T04:23:38.433799",
     "status": "completed"
    },
    "tags": []
   },
   "outputs": [
    {
     "name": "stdout",
     "output_type": "stream",
     "text": [
      "['Just happened a terrible car crash', 'Heard about #earthquake is different cities, stay safe everyone.', 'there is a forest fire at spot pond, geese are fleeing across the street, I cannot save them all', 'Apocalypse lighting. #Spokane #wildfires', 'Typhoon Soudelor kills 28 in China and Taiwan', \"We're shaking...It's an earthquake\", \"They'd probably still show more life than Arsenal did yesterday, eh? EH?\", 'Hey! How are you?', 'What a nice hat?', 'Fuck off!', \"No I don't like cold!\", \"NOOOOOOOOO! Don't do that!\", \"No don't tell me that!\", 'What if?!', 'Awesome!', \"Birmingham Wholesale Market is ablaze BBC News - Fire breaks out at Birmingham's Wholesale Market http://t.co/irWqCEZWEU\"]\n"
     ]
    }
   ],
   "source": [
    "test_data = next(iter(test_data_loader))\n",
    "print(test_data['text'])"
   ]
  },
  {
   "cell_type": "code",
   "execution_count": 44,
   "id": "f90e55c7",
   "metadata": {
    "execution": {
     "iopub.execute_input": "2022-01-22T04:23:38.916527Z",
     "iopub.status.busy": "2022-01-22T04:23:38.915733Z",
     "iopub.status.idle": "2022-01-22T04:23:38.926627Z",
     "shell.execute_reply": "2022-01-22T04:23:38.927587Z",
     "shell.execute_reply.started": "2022-01-22T04:12:33.646031Z"
    },
    "papermill": {
     "duration": 0.122453,
     "end_time": "2022-01-22T04:23:38.927772",
     "exception": false,
     "start_time": "2022-01-22T04:23:38.805319",
     "status": "completed"
    },
    "tags": []
   },
   "outputs": [
    {
     "name": "stdout",
     "output_type": "stream",
     "text": [
      "tensor([[  101,  2074,  3047,  1037,  6659,  2482,  5823,   102,     0,     0,\n",
      "             0,     0,     0,     0,     0,     0,     0,     0,     0,     0,\n",
      "             0,     0,     0,     0,     0,     0,     0,     0,     0,     0,\n",
      "             0,     0,     0,     0,     0,     0,     0,     0,     0,     0,\n",
      "             0,     0,     0,     0,     0,     0,     0,     0,     0,     0,\n",
      "             0,     0,     0,     0,     0,     0,     0,     0,     0,     0],\n",
      "        [  101,  2657,  2055,  1001,  8372,  2003,  2367,  3655,  1010,  2994,\n",
      "          3647,  3071,  1012,   102,     0,     0,     0,     0,     0,     0,\n",
      "             0,     0,     0,     0,     0,     0,     0,     0,     0,     0,\n",
      "             0,     0,     0,     0,     0,     0,     0,     0,     0,     0,\n",
      "             0,     0,     0,     0,     0,     0,     0,     0,     0,     0,\n",
      "             0,     0,     0,     0,     0,     0,     0,     0,     0,     0],\n",
      "        [  101,  2045,  2003,  1037,  3224,  2543,  2012,  3962,  8644,  1010,\n",
      "         28519,  2024, 14070,  2408,  1996,  2395,  1010,  1045,  3685,  3828,\n",
      "          2068,  2035,   102,     0,     0,     0,     0,     0,     0,     0,\n",
      "             0,     0,     0,     0,     0,     0,     0,     0,     0,     0,\n",
      "             0,     0,     0,     0,     0,     0,     0,     0,     0,     0,\n",
      "             0,     0,     0,     0,     0,     0,     0,     0,     0,     0],\n",
      "        [  101, 16976,  7497,  1012,  1001, 21878,  1001,  3748, 26332,   102,\n",
      "             0,     0,     0,     0,     0,     0,     0,     0,     0,     0,\n",
      "             0,     0,     0,     0,     0,     0,     0,     0,     0,     0,\n",
      "             0,     0,     0,     0,     0,     0,     0,     0,     0,     0,\n",
      "             0,     0,     0,     0,     0,     0,     0,     0,     0,     0,\n",
      "             0,     0,     0,     0,     0,     0,     0,     0,     0,     0],\n",
      "        [  101, 15393,  2061, 12672, 10626,  8563,  2654,  1999,  2859,  1998,\n",
      "          6629,   102,     0,     0,     0,     0,     0,     0,     0,     0,\n",
      "             0,     0,     0,     0,     0,     0,     0,     0,     0,     0,\n",
      "             0,     0,     0,     0,     0,     0,     0,     0,     0,     0,\n",
      "             0,     0,     0,     0,     0,     0,     0,     0,     0,     0,\n",
      "             0,     0,     0,     0,     0,     0,     0,     0,     0,     0],\n",
      "        [  101,  2057,  1005,  2128,  5513,  1012,  1012,  1012,  2009,  1005,\n",
      "          1055,  2019,  8372,   102,     0,     0,     0,     0,     0,     0,\n",
      "             0,     0,     0,     0,     0,     0,     0,     0,     0,     0,\n",
      "             0,     0,     0,     0,     0,     0,     0,     0,     0,     0,\n",
      "             0,     0,     0,     0,     0,     0,     0,     0,     0,     0,\n",
      "             0,     0,     0,     0,     0,     0,     0,     0,     0,     0],\n",
      "        [  101,  2027,  1005,  1040,  2763,  2145,  2265,  2062,  2166,  2084,\n",
      "          9433,  2106,  7483,  1010, 15501,  1029, 15501,  1029,   102,     0,\n",
      "             0,     0,     0,     0,     0,     0,     0,     0,     0,     0,\n",
      "             0,     0,     0,     0,     0,     0,     0,     0,     0,     0,\n",
      "             0,     0,     0,     0,     0,     0,     0,     0,     0,     0,\n",
      "             0,     0,     0,     0,     0,     0,     0,     0,     0,     0],\n",
      "        [  101,  4931,   999,  2129,  2024,  2017,  1029,   102,     0,     0,\n",
      "             0,     0,     0,     0,     0,     0,     0,     0,     0,     0,\n",
      "             0,     0,     0,     0,     0,     0,     0,     0,     0,     0,\n",
      "             0,     0,     0,     0,     0,     0,     0,     0,     0,     0,\n",
      "             0,     0,     0,     0,     0,     0,     0,     0,     0,     0,\n",
      "             0,     0,     0,     0,     0,     0,     0,     0,     0,     0],\n",
      "        [  101,  2054,  1037,  3835,  6045,  1029,   102,     0,     0,     0,\n",
      "             0,     0,     0,     0,     0,     0,     0,     0,     0,     0,\n",
      "             0,     0,     0,     0,     0,     0,     0,     0,     0,     0,\n",
      "             0,     0,     0,     0,     0,     0,     0,     0,     0,     0,\n",
      "             0,     0,     0,     0,     0,     0,     0,     0,     0,     0,\n",
      "             0,     0,     0,     0,     0,     0,     0,     0,     0,     0],\n",
      "        [  101,  6616,  2125,   999,   102,     0,     0,     0,     0,     0,\n",
      "             0,     0,     0,     0,     0,     0,     0,     0,     0,     0,\n",
      "             0,     0,     0,     0,     0,     0,     0,     0,     0,     0,\n",
      "             0,     0,     0,     0,     0,     0,     0,     0,     0,     0,\n",
      "             0,     0,     0,     0,     0,     0,     0,     0,     0,     0,\n",
      "             0,     0,     0,     0,     0,     0,     0,     0,     0,     0],\n",
      "        [  101,  2053,  1045,  2123,  1005,  1056,  2066,  3147,   999,   102,\n",
      "             0,     0,     0,     0,     0,     0,     0,     0,     0,     0,\n",
      "             0,     0,     0,     0,     0,     0,     0,     0,     0,     0,\n",
      "             0,     0,     0,     0,     0,     0,     0,     0,     0,     0,\n",
      "             0,     0,     0,     0,     0,     0,     0,     0,     0,     0,\n",
      "             0,     0,     0,     0,     0,     0,     0,     0,     0,     0],\n",
      "        [  101,  2053,  9541,  9541,  9541,  9541,   999,  2123,  1005,  1056,\n",
      "          2079,  2008,   999,   102,     0,     0,     0,     0,     0,     0,\n",
      "             0,     0,     0,     0,     0,     0,     0,     0,     0,     0,\n",
      "             0,     0,     0,     0,     0,     0,     0,     0,     0,     0,\n",
      "             0,     0,     0,     0,     0,     0,     0,     0,     0,     0,\n",
      "             0,     0,     0,     0,     0,     0,     0,     0,     0,     0],\n",
      "        [  101,  2053,  2123,  1005,  1056,  2425,  2033,  2008,   999,   102,\n",
      "             0,     0,     0,     0,     0,     0,     0,     0,     0,     0,\n",
      "             0,     0,     0,     0,     0,     0,     0,     0,     0,     0,\n",
      "             0,     0,     0,     0,     0,     0,     0,     0,     0,     0,\n",
      "             0,     0,     0,     0,     0,     0,     0,     0,     0,     0,\n",
      "             0,     0,     0,     0,     0,     0,     0,     0,     0,     0],\n",
      "        [  101,  2054,  2065,  1029,   999,   102,     0,     0,     0,     0,\n",
      "             0,     0,     0,     0,     0,     0,     0,     0,     0,     0,\n",
      "             0,     0,     0,     0,     0,     0,     0,     0,     0,     0,\n",
      "             0,     0,     0,     0,     0,     0,     0,     0,     0,     0,\n",
      "             0,     0,     0,     0,     0,     0,     0,     0,     0,     0,\n",
      "             0,     0,     0,     0,     0,     0,     0,     0,     0,     0],\n",
      "        [  101, 12476,   999,   102,     0,     0,     0,     0,     0,     0,\n",
      "             0,     0,     0,     0,     0,     0,     0,     0,     0,     0,\n",
      "             0,     0,     0,     0,     0,     0,     0,     0,     0,     0,\n",
      "             0,     0,     0,     0,     0,     0,     0,     0,     0,     0,\n",
      "             0,     0,     0,     0,     0,     0,     0,     0,     0,     0,\n",
      "             0,     0,     0,     0,     0,     0,     0,     0,     0,     0],\n",
      "        [  101,  6484, 17264,  3006,  2003, 11113, 24472,  4035,  2739,  1011,\n",
      "          2543,  7807,  2041,  2012,  6484,  1005,  1055, 17264,  3006,  8299,\n",
      "          1024,  1013,  1013,  1056,  1012,  2522,  1013, 20868,  2860,  4160,\n",
      "          3401,  2480,  8545,  2226,   102,     0,     0,     0,     0,     0,\n",
      "             0,     0,     0,     0,     0,     0,     0,     0,     0,     0,\n",
      "             0,     0,     0,     0,     0,     0,     0,     0,     0,     0]])\n"
     ]
    }
   ],
   "source": [
    "print(test_data['input_ids'])"
   ]
  },
  {
   "cell_type": "code",
   "execution_count": 45,
   "id": "cebfd720",
   "metadata": {
    "execution": {
     "iopub.execute_input": "2022-01-22T04:23:39.143047Z",
     "iopub.status.busy": "2022-01-22T04:23:39.142287Z",
     "iopub.status.idle": "2022-01-22T04:23:39.148420Z",
     "shell.execute_reply": "2022-01-22T04:23:39.149581Z",
     "shell.execute_reply.started": "2022-01-22T04:12:37.216663Z"
    },
    "papermill": {
     "duration": 0.119587,
     "end_time": "2022-01-22T04:23:39.149760",
     "exception": false,
     "start_time": "2022-01-22T04:23:39.030173",
     "status": "completed"
    },
    "tags": []
   },
   "outputs": [
    {
     "name": "stdout",
     "output_type": "stream",
     "text": [
      "tensor([[1, 1, 1, 1, 1, 1, 1, 1, 0, 0, 0, 0, 0, 0, 0, 0, 0, 0, 0, 0, 0, 0, 0, 0,\n",
      "         0, 0, 0, 0, 0, 0, 0, 0, 0, 0, 0, 0, 0, 0, 0, 0, 0, 0, 0, 0, 0, 0, 0, 0,\n",
      "         0, 0, 0, 0, 0, 0, 0, 0, 0, 0, 0, 0],\n",
      "        [1, 1, 1, 1, 1, 1, 1, 1, 1, 1, 1, 1, 1, 1, 0, 0, 0, 0, 0, 0, 0, 0, 0, 0,\n",
      "         0, 0, 0, 0, 0, 0, 0, 0, 0, 0, 0, 0, 0, 0, 0, 0, 0, 0, 0, 0, 0, 0, 0, 0,\n",
      "         0, 0, 0, 0, 0, 0, 0, 0, 0, 0, 0, 0],\n",
      "        [1, 1, 1, 1, 1, 1, 1, 1, 1, 1, 1, 1, 1, 1, 1, 1, 1, 1, 1, 1, 1, 1, 1, 0,\n",
      "         0, 0, 0, 0, 0, 0, 0, 0, 0, 0, 0, 0, 0, 0, 0, 0, 0, 0, 0, 0, 0, 0, 0, 0,\n",
      "         0, 0, 0, 0, 0, 0, 0, 0, 0, 0, 0, 0],\n",
      "        [1, 1, 1, 1, 1, 1, 1, 1, 1, 1, 0, 0, 0, 0, 0, 0, 0, 0, 0, 0, 0, 0, 0, 0,\n",
      "         0, 0, 0, 0, 0, 0, 0, 0, 0, 0, 0, 0, 0, 0, 0, 0, 0, 0, 0, 0, 0, 0, 0, 0,\n",
      "         0, 0, 0, 0, 0, 0, 0, 0, 0, 0, 0, 0],\n",
      "        [1, 1, 1, 1, 1, 1, 1, 1, 1, 1, 1, 1, 0, 0, 0, 0, 0, 0, 0, 0, 0, 0, 0, 0,\n",
      "         0, 0, 0, 0, 0, 0, 0, 0, 0, 0, 0, 0, 0, 0, 0, 0, 0, 0, 0, 0, 0, 0, 0, 0,\n",
      "         0, 0, 0, 0, 0, 0, 0, 0, 0, 0, 0, 0],\n",
      "        [1, 1, 1, 1, 1, 1, 1, 1, 1, 1, 1, 1, 1, 1, 0, 0, 0, 0, 0, 0, 0, 0, 0, 0,\n",
      "         0, 0, 0, 0, 0, 0, 0, 0, 0, 0, 0, 0, 0, 0, 0, 0, 0, 0, 0, 0, 0, 0, 0, 0,\n",
      "         0, 0, 0, 0, 0, 0, 0, 0, 0, 0, 0, 0],\n",
      "        [1, 1, 1, 1, 1, 1, 1, 1, 1, 1, 1, 1, 1, 1, 1, 1, 1, 1, 1, 0, 0, 0, 0, 0,\n",
      "         0, 0, 0, 0, 0, 0, 0, 0, 0, 0, 0, 0, 0, 0, 0, 0, 0, 0, 0, 0, 0, 0, 0, 0,\n",
      "         0, 0, 0, 0, 0, 0, 0, 0, 0, 0, 0, 0],\n",
      "        [1, 1, 1, 1, 1, 1, 1, 1, 0, 0, 0, 0, 0, 0, 0, 0, 0, 0, 0, 0, 0, 0, 0, 0,\n",
      "         0, 0, 0, 0, 0, 0, 0, 0, 0, 0, 0, 0, 0, 0, 0, 0, 0, 0, 0, 0, 0, 0, 0, 0,\n",
      "         0, 0, 0, 0, 0, 0, 0, 0, 0, 0, 0, 0],\n",
      "        [1, 1, 1, 1, 1, 1, 1, 0, 0, 0, 0, 0, 0, 0, 0, 0, 0, 0, 0, 0, 0, 0, 0, 0,\n",
      "         0, 0, 0, 0, 0, 0, 0, 0, 0, 0, 0, 0, 0, 0, 0, 0, 0, 0, 0, 0, 0, 0, 0, 0,\n",
      "         0, 0, 0, 0, 0, 0, 0, 0, 0, 0, 0, 0],\n",
      "        [1, 1, 1, 1, 1, 0, 0, 0, 0, 0, 0, 0, 0, 0, 0, 0, 0, 0, 0, 0, 0, 0, 0, 0,\n",
      "         0, 0, 0, 0, 0, 0, 0, 0, 0, 0, 0, 0, 0, 0, 0, 0, 0, 0, 0, 0, 0, 0, 0, 0,\n",
      "         0, 0, 0, 0, 0, 0, 0, 0, 0, 0, 0, 0],\n",
      "        [1, 1, 1, 1, 1, 1, 1, 1, 1, 1, 0, 0, 0, 0, 0, 0, 0, 0, 0, 0, 0, 0, 0, 0,\n",
      "         0, 0, 0, 0, 0, 0, 0, 0, 0, 0, 0, 0, 0, 0, 0, 0, 0, 0, 0, 0, 0, 0, 0, 0,\n",
      "         0, 0, 0, 0, 0, 0, 0, 0, 0, 0, 0, 0],\n",
      "        [1, 1, 1, 1, 1, 1, 1, 1, 1, 1, 1, 1, 1, 1, 0, 0, 0, 0, 0, 0, 0, 0, 0, 0,\n",
      "         0, 0, 0, 0, 0, 0, 0, 0, 0, 0, 0, 0, 0, 0, 0, 0, 0, 0, 0, 0, 0, 0, 0, 0,\n",
      "         0, 0, 0, 0, 0, 0, 0, 0, 0, 0, 0, 0],\n",
      "        [1, 1, 1, 1, 1, 1, 1, 1, 1, 1, 0, 0, 0, 0, 0, 0, 0, 0, 0, 0, 0, 0, 0, 0,\n",
      "         0, 0, 0, 0, 0, 0, 0, 0, 0, 0, 0, 0, 0, 0, 0, 0, 0, 0, 0, 0, 0, 0, 0, 0,\n",
      "         0, 0, 0, 0, 0, 0, 0, 0, 0, 0, 0, 0],\n",
      "        [1, 1, 1, 1, 1, 1, 0, 0, 0, 0, 0, 0, 0, 0, 0, 0, 0, 0, 0, 0, 0, 0, 0, 0,\n",
      "         0, 0, 0, 0, 0, 0, 0, 0, 0, 0, 0, 0, 0, 0, 0, 0, 0, 0, 0, 0, 0, 0, 0, 0,\n",
      "         0, 0, 0, 0, 0, 0, 0, 0, 0, 0, 0, 0],\n",
      "        [1, 1, 1, 1, 0, 0, 0, 0, 0, 0, 0, 0, 0, 0, 0, 0, 0, 0, 0, 0, 0, 0, 0, 0,\n",
      "         0, 0, 0, 0, 0, 0, 0, 0, 0, 0, 0, 0, 0, 0, 0, 0, 0, 0, 0, 0, 0, 0, 0, 0,\n",
      "         0, 0, 0, 0, 0, 0, 0, 0, 0, 0, 0, 0],\n",
      "        [1, 1, 1, 1, 1, 1, 1, 1, 1, 1, 1, 1, 1, 1, 1, 1, 1, 1, 1, 1, 1, 1, 1, 1,\n",
      "         1, 1, 1, 1, 1, 1, 1, 1, 1, 1, 1, 0, 0, 0, 0, 0, 0, 0, 0, 0, 0, 0, 0, 0,\n",
      "         0, 0, 0, 0, 0, 0, 0, 0, 0, 0, 0, 0]])\n"
     ]
    }
   ],
   "source": [
    "print(test_data['attention_mask'])"
   ]
  },
  {
   "cell_type": "code",
   "execution_count": 46,
   "id": "a0f4388d",
   "metadata": {
    "execution": {
     "iopub.execute_input": "2022-01-22T04:23:39.311275Z",
     "iopub.status.busy": "2022-01-22T04:23:39.310448Z",
     "iopub.status.idle": "2022-01-22T04:23:39.313041Z",
     "shell.execute_reply": "2022-01-22T04:23:39.312631Z",
     "shell.execute_reply.started": "2022-01-22T04:12:40.032403Z"
    },
    "papermill": {
     "duration": 0.072469,
     "end_time": "2022-01-22T04:23:39.313153",
     "exception": false,
     "start_time": "2022-01-22T04:23:39.240684",
     "status": "completed"
    },
    "tags": []
   },
   "outputs": [],
   "source": [
    "def get_predictions(model, data_loader):\n",
    "  model = model.eval()\n",
    "  tweets = []\n",
    "  predictions = []\n",
    "  prediction_probs = []\n",
    "  \n",
    "  with torch.no_grad():\n",
    "    for data in data_loader:\n",
    "      texts = data[\"text\"]\n",
    "      input_ids = data[\"input_ids\"].to(device)\n",
    "      attention_mask = data[\"attention_mask\"].to(device)\n",
    "      \n",
    "      outputs = model(\n",
    "        input_ids=input_ids,\n",
    "        attention_mask=attention_mask\n",
    "      )\n",
    "    \n",
    "      _, preds = torch.max(outputs, dim=1)\n",
    "      tweets.extend(texts)\n",
    "      predictions.extend(preds)\n",
    "      prediction_probs.extend(outputs)\n",
    "      \n",
    "  predictions = torch.stack(predictions).cpu()\n",
    "  prediction_probs = torch.stack(prediction_probs).cpu()\n",
    "  \n",
    "  return tweets, predictions, prediction_probs"
   ]
  },
  {
   "cell_type": "code",
   "execution_count": 47,
   "id": "f0a70a19",
   "metadata": {
    "execution": {
     "iopub.execute_input": "2022-01-22T04:23:39.445213Z",
     "iopub.status.busy": "2022-01-22T04:23:39.444711Z",
     "iopub.status.idle": "2022-01-22T04:23:46.247261Z",
     "shell.execute_reply": "2022-01-22T04:23:46.246363Z",
     "shell.execute_reply.started": "2022-01-22T04:12:42.815941Z"
    },
    "papermill": {
     "duration": 6.871037,
     "end_time": "2022-01-22T04:23:46.247424",
     "exception": false,
     "start_time": "2022-01-22T04:23:39.376387",
     "status": "completed"
    },
    "tags": []
   },
   "outputs": [],
   "source": [
    "_, y_pred, _ = get_predictions(model, test_data_loader)"
   ]
  },
  {
   "cell_type": "code",
   "execution_count": 48,
   "id": "25bfa788",
   "metadata": {
    "execution": {
     "iopub.execute_input": "2022-01-22T04:23:46.380666Z",
     "iopub.status.busy": "2022-01-22T04:23:46.378915Z",
     "iopub.status.idle": "2022-01-22T04:23:46.382871Z",
     "shell.execute_reply": "2022-01-22T04:23:46.382242Z",
     "shell.execute_reply.started": "2022-01-22T04:13:16.555336Z"
    },
    "papermill": {
     "duration": 0.072238,
     "end_time": "2022-01-22T04:23:46.383026",
     "exception": false,
     "start_time": "2022-01-22T04:23:46.310788",
     "status": "completed"
    },
    "tags": []
   },
   "outputs": [
    {
     "name": "stdout",
     "output_type": "stream",
     "text": [
      "3263\n"
     ]
    }
   ],
   "source": [
    "print(len(y_pred.tolist()))"
   ]
  },
  {
   "cell_type": "code",
   "execution_count": 49,
   "id": "2caf9cdd",
   "metadata": {
    "execution": {
     "iopub.execute_input": "2022-01-22T04:23:46.519244Z",
     "iopub.status.busy": "2022-01-22T04:23:46.518406Z",
     "iopub.status.idle": "2022-01-22T04:23:46.527798Z",
     "shell.execute_reply": "2022-01-22T04:23:46.527290Z",
     "shell.execute_reply.started": "2022-01-22T04:13:18.602502Z"
    },
    "papermill": {
     "duration": 0.081589,
     "end_time": "2022-01-22T04:23:46.527932",
     "exception": false,
     "start_time": "2022-01-22T04:23:46.446343",
     "status": "completed"
    },
    "tags": []
   },
   "outputs": [
    {
     "data": {
      "text/html": [
       "<div>\n",
       "<style scoped>\n",
       "    .dataframe tbody tr th:only-of-type {\n",
       "        vertical-align: middle;\n",
       "    }\n",
       "\n",
       "    .dataframe tbody tr th {\n",
       "        vertical-align: top;\n",
       "    }\n",
       "\n",
       "    .dataframe thead th {\n",
       "        text-align: right;\n",
       "    }\n",
       "</style>\n",
       "<table border=\"1\" class=\"dataframe\">\n",
       "  <thead>\n",
       "    <tr style=\"text-align: right;\">\n",
       "      <th></th>\n",
       "      <th>id</th>\n",
       "      <th>target</th>\n",
       "    </tr>\n",
       "  </thead>\n",
       "  <tbody>\n",
       "    <tr>\n",
       "      <th>0</th>\n",
       "      <td>0</td>\n",
       "      <td>1</td>\n",
       "    </tr>\n",
       "    <tr>\n",
       "      <th>1</th>\n",
       "      <td>2</td>\n",
       "      <td>1</td>\n",
       "    </tr>\n",
       "    <tr>\n",
       "      <th>2</th>\n",
       "      <td>3</td>\n",
       "      <td>1</td>\n",
       "    </tr>\n",
       "    <tr>\n",
       "      <th>3</th>\n",
       "      <td>9</td>\n",
       "      <td>1</td>\n",
       "    </tr>\n",
       "    <tr>\n",
       "      <th>4</th>\n",
       "      <td>11</td>\n",
       "      <td>1</td>\n",
       "    </tr>\n",
       "  </tbody>\n",
       "</table>\n",
       "</div>"
      ],
      "text/plain": [
       "   id  target\n",
       "0   0       1\n",
       "1   2       1\n",
       "2   3       1\n",
       "3   9       1\n",
       "4  11       1"
      ]
     },
     "execution_count": 49,
     "metadata": {},
     "output_type": "execute_result"
    }
   ],
   "source": [
    "submission['target'] = y_pred.tolist()\n",
    "submission.head()"
   ]
  },
  {
   "cell_type": "code",
   "execution_count": 50,
   "id": "b4be9da0",
   "metadata": {
    "execution": {
     "iopub.execute_input": "2022-01-22T04:23:46.675174Z",
     "iopub.status.busy": "2022-01-22T04:23:46.674253Z",
     "iopub.status.idle": "2022-01-22T04:23:46.686305Z",
     "shell.execute_reply": "2022-01-22T04:23:46.685804Z",
     "shell.execute_reply.started": "2022-01-22T01:21:31.384895Z"
    },
    "papermill": {
     "duration": 0.08959,
     "end_time": "2022-01-22T04:23:46.686514",
     "exception": false,
     "start_time": "2022-01-22T04:23:46.596924",
     "status": "completed"
    },
    "tags": []
   },
   "outputs": [],
   "source": [
    "submission.to_csv('submission.csv', index=False)"
   ]
  }
 ],
 "metadata": {
  "kernelspec": {
   "display_name": "Python 3",
   "language": "python",
   "name": "python3"
  },
  "language_info": {
   "codemirror_mode": {
    "name": "ipython",
    "version": 3
   },
   "file_extension": ".py",
   "mimetype": "text/x-python",
   "name": "python",
   "nbconvert_exporter": "python",
   "pygments_lexer": "ipython3",
   "version": "3.7.12"
  },
  "papermill": {
   "default_parameters": {},
   "duration": 614.684579,
   "end_time": "2022-01-22T04:23:49.698944",
   "environment_variables": {},
   "exception": null,
   "input_path": "__notebook__.ipynb",
   "output_path": "__notebook__.ipynb",
   "parameters": {},
   "start_time": "2022-01-22T04:13:35.014365",
   "version": "2.3.3"
  },
  "widgets": {
   "application/vnd.jupyter.widget-state+json": {
    "state": {
     "0615ec5fd10b4ba3a2cc376712b2ca26": {
      "model_module": "@jupyter-widgets/base",
      "model_module_version": "1.2.0",
      "model_name": "LayoutModel",
      "state": {
       "_model_module": "@jupyter-widgets/base",
       "_model_module_version": "1.2.0",
       "_model_name": "LayoutModel",
       "_view_count": null,
       "_view_module": "@jupyter-widgets/base",
       "_view_module_version": "1.2.0",
       "_view_name": "LayoutView",
       "align_content": null,
       "align_items": null,
       "align_self": null,
       "border": null,
       "bottom": null,
       "display": null,
       "flex": null,
       "flex_flow": null,
       "grid_area": null,
       "grid_auto_columns": null,
       "grid_auto_flow": null,
       "grid_auto_rows": null,
       "grid_column": null,
       "grid_gap": null,
       "grid_row": null,
       "grid_template_areas": null,
       "grid_template_columns": null,
       "grid_template_rows": null,
       "height": null,
       "justify_content": null,
       "justify_items": null,
       "left": null,
       "margin": null,
       "max_height": null,
       "max_width": null,
       "min_height": null,
       "min_width": null,
       "object_fit": null,
       "object_position": null,
       "order": null,
       "overflow": null,
       "overflow_x": null,
       "overflow_y": null,
       "padding": null,
       "right": null,
       "top": null,
       "visibility": null,
       "width": null
      }
     },
     "06630b6355d045f18dee45100a0a18fb": {
      "model_module": "@jupyter-widgets/controls",
      "model_module_version": "1.5.0",
      "model_name": "DescriptionStyleModel",
      "state": {
       "_model_module": "@jupyter-widgets/controls",
       "_model_module_version": "1.5.0",
       "_model_name": "DescriptionStyleModel",
       "_view_count": null,
       "_view_module": "@jupyter-widgets/base",
       "_view_module_version": "1.2.0",
       "_view_name": "StyleView",
       "description_width": ""
      }
     },
     "1379eb30254d41299e24f79b8d66b2c4": {
      "model_module": "@jupyter-widgets/controls",
      "model_module_version": "1.5.0",
      "model_name": "ProgressStyleModel",
      "state": {
       "_model_module": "@jupyter-widgets/controls",
       "_model_module_version": "1.5.0",
       "_model_name": "ProgressStyleModel",
       "_view_count": null,
       "_view_module": "@jupyter-widgets/base",
       "_view_module_version": "1.2.0",
       "_view_name": "StyleView",
       "bar_color": null,
       "description_width": ""
      }
     },
     "1a1a7e3a70284471afae3a6d5a76f712": {
      "model_module": "@jupyter-widgets/base",
      "model_module_version": "1.2.0",
      "model_name": "LayoutModel",
      "state": {
       "_model_module": "@jupyter-widgets/base",
       "_model_module_version": "1.2.0",
       "_model_name": "LayoutModel",
       "_view_count": null,
       "_view_module": "@jupyter-widgets/base",
       "_view_module_version": "1.2.0",
       "_view_name": "LayoutView",
       "align_content": null,
       "align_items": null,
       "align_self": null,
       "border": null,
       "bottom": null,
       "display": null,
       "flex": null,
       "flex_flow": null,
       "grid_area": null,
       "grid_auto_columns": null,
       "grid_auto_flow": null,
       "grid_auto_rows": null,
       "grid_column": null,
       "grid_gap": null,
       "grid_row": null,
       "grid_template_areas": null,
       "grid_template_columns": null,
       "grid_template_rows": null,
       "height": null,
       "justify_content": null,
       "justify_items": null,
       "left": null,
       "margin": null,
       "max_height": null,
       "max_width": null,
       "min_height": null,
       "min_width": null,
       "object_fit": null,
       "object_position": null,
       "order": null,
       "overflow": null,
       "overflow_x": null,
       "overflow_y": null,
       "padding": null,
       "right": null,
       "top": null,
       "visibility": null,
       "width": null
      }
     },
     "1ae414d97aa4423d944689c4806d38ad": {
      "model_module": "@jupyter-widgets/controls",
      "model_module_version": "1.5.0",
      "model_name": "DescriptionStyleModel",
      "state": {
       "_model_module": "@jupyter-widgets/controls",
       "_model_module_version": "1.5.0",
       "_model_name": "DescriptionStyleModel",
       "_view_count": null,
       "_view_module": "@jupyter-widgets/base",
       "_view_module_version": "1.2.0",
       "_view_name": "StyleView",
       "description_width": ""
      }
     },
     "1b0fece966a34cdcadf74edf274a76d6": {
      "model_module": "@jupyter-widgets/controls",
      "model_module_version": "1.5.0",
      "model_name": "DescriptionStyleModel",
      "state": {
       "_model_module": "@jupyter-widgets/controls",
       "_model_module_version": "1.5.0",
       "_model_name": "DescriptionStyleModel",
       "_view_count": null,
       "_view_module": "@jupyter-widgets/base",
       "_view_module_version": "1.2.0",
       "_view_name": "StyleView",
       "description_width": ""
      }
     },
     "3febbbbc96084bfeb9aa41dc9a560fcc": {
      "model_module": "@jupyter-widgets/controls",
      "model_module_version": "1.5.0",
      "model_name": "HBoxModel",
      "state": {
       "_dom_classes": [],
       "_model_module": "@jupyter-widgets/controls",
       "_model_module_version": "1.5.0",
       "_model_name": "HBoxModel",
       "_view_count": null,
       "_view_module": "@jupyter-widgets/controls",
       "_view_module_version": "1.5.0",
       "_view_name": "HBoxView",
       "box_style": "",
       "children": [
        "IPY_MODEL_6f9a25e13d09456a86e7f14df87a7930",
        "IPY_MODEL_e037fab0335f497e9b9ea10aa06340ef",
        "IPY_MODEL_4e8b1dbff4584e509f4827e73820bd47"
       ],
       "layout": "IPY_MODEL_d8a611dc937f4e17a0c159fc6eda10a9"
      }
     },
     "40426a11ad634314bcd4f1bc1d8a5bc9": {
      "model_module": "@jupyter-widgets/controls",
      "model_module_version": "1.5.0",
      "model_name": "ProgressStyleModel",
      "state": {
       "_model_module": "@jupyter-widgets/controls",
       "_model_module_version": "1.5.0",
       "_model_name": "ProgressStyleModel",
       "_view_count": null,
       "_view_module": "@jupyter-widgets/base",
       "_view_module_version": "1.2.0",
       "_view_name": "StyleView",
       "bar_color": null,
       "description_width": ""
      }
     },
     "40bd8d18cf204a9ca1b117b3a25848d4": {
      "model_module": "@jupyter-widgets/base",
      "model_module_version": "1.2.0",
      "model_name": "LayoutModel",
      "state": {
       "_model_module": "@jupyter-widgets/base",
       "_model_module_version": "1.2.0",
       "_model_name": "LayoutModel",
       "_view_count": null,
       "_view_module": "@jupyter-widgets/base",
       "_view_module_version": "1.2.0",
       "_view_name": "LayoutView",
       "align_content": null,
       "align_items": null,
       "align_self": null,
       "border": null,
       "bottom": null,
       "display": null,
       "flex": null,
       "flex_flow": null,
       "grid_area": null,
       "grid_auto_columns": null,
       "grid_auto_flow": null,
       "grid_auto_rows": null,
       "grid_column": null,
       "grid_gap": null,
       "grid_row": null,
       "grid_template_areas": null,
       "grid_template_columns": null,
       "grid_template_rows": null,
       "height": null,
       "justify_content": null,
       "justify_items": null,
       "left": null,
       "margin": null,
       "max_height": null,
       "max_width": null,
       "min_height": null,
       "min_width": null,
       "object_fit": null,
       "object_position": null,
       "order": null,
       "overflow": null,
       "overflow_x": null,
       "overflow_y": null,
       "padding": null,
       "right": null,
       "top": null,
       "visibility": null,
       "width": null
      }
     },
     "474ba7cefa4644e99629f0fe00f4f803": {
      "model_module": "@jupyter-widgets/controls",
      "model_module_version": "1.5.0",
      "model_name": "DescriptionStyleModel",
      "state": {
       "_model_module": "@jupyter-widgets/controls",
       "_model_module_version": "1.5.0",
       "_model_name": "DescriptionStyleModel",
       "_view_count": null,
       "_view_module": "@jupyter-widgets/base",
       "_view_module_version": "1.2.0",
       "_view_name": "StyleView",
       "description_width": ""
      }
     },
     "4e8b1dbff4584e509f4827e73820bd47": {
      "model_module": "@jupyter-widgets/controls",
      "model_module_version": "1.5.0",
      "model_name": "HTMLModel",
      "state": {
       "_dom_classes": [],
       "_model_module": "@jupyter-widgets/controls",
       "_model_module_version": "1.5.0",
       "_model_name": "HTMLModel",
       "_view_count": null,
       "_view_module": "@jupyter-widgets/controls",
       "_view_module_version": "1.5.0",
       "_view_name": "HTMLView",
       "description": "",
       "description_tooltip": null,
       "layout": "IPY_MODEL_f858f3e0949940e89f97746351926d62",
       "placeholder": "​",
       "style": "IPY_MODEL_be487954f9a14ee5bab7018ef34c5355",
       "value": " 28.0/28.0 [00:00&lt;00:00, 1.15kB/s]"
      }
     },
     "556d91ebc6034620b6103f52e2fb277b": {
      "model_module": "@jupyter-widgets/controls",
      "model_module_version": "1.5.0",
      "model_name": "HTMLModel",
      "state": {
       "_dom_classes": [],
       "_model_module": "@jupyter-widgets/controls",
       "_model_module_version": "1.5.0",
       "_model_name": "HTMLModel",
       "_view_count": null,
       "_view_module": "@jupyter-widgets/controls",
       "_view_module_version": "1.5.0",
       "_view_name": "HTMLView",
       "description": "",
       "description_tooltip": null,
       "layout": "IPY_MODEL_985619b6c5f84b688cdae94d09170b24",
       "placeholder": "​",
       "style": "IPY_MODEL_dc5aa14883b04e37a1c176a80bcbfa21",
       "value": " 455k/455k [00:00&lt;00:00, 4.71MB/s]"
      }
     },
     "59108cac8eb5496f92417372673908f9": {
      "model_module": "@jupyter-widgets/controls",
      "model_module_version": "1.5.0",
      "model_name": "DescriptionStyleModel",
      "state": {
       "_model_module": "@jupyter-widgets/controls",
       "_model_module_version": "1.5.0",
       "_model_name": "DescriptionStyleModel",
       "_view_count": null,
       "_view_module": "@jupyter-widgets/base",
       "_view_module_version": "1.2.0",
       "_view_name": "StyleView",
       "description_width": ""
      }
     },
     "6382cdc449a4427d8f04d12e735e23fb": {
      "model_module": "@jupyter-widgets/controls",
      "model_module_version": "1.5.0",
      "model_name": "FloatProgressModel",
      "state": {
       "_dom_classes": [],
       "_model_module": "@jupyter-widgets/controls",
       "_model_module_version": "1.5.0",
       "_model_name": "FloatProgressModel",
       "_view_count": null,
       "_view_module": "@jupyter-widgets/controls",
       "_view_module_version": "1.5.0",
       "_view_name": "ProgressView",
       "bar_style": "success",
       "description": "",
       "description_tooltip": null,
       "layout": "IPY_MODEL_ff8df66e213c46b2be9fe9542715f4d0",
       "max": 570.0,
       "min": 0.0,
       "orientation": "horizontal",
       "style": "IPY_MODEL_a1a48031fa054b71ad22bfa1b7726b3c",
       "value": 570.0
      }
     },
     "65ad37e0d55343f681fc83142ecadea1": {
      "model_module": "@jupyter-widgets/base",
      "model_module_version": "1.2.0",
      "model_name": "LayoutModel",
      "state": {
       "_model_module": "@jupyter-widgets/base",
       "_model_module_version": "1.2.0",
       "_model_name": "LayoutModel",
       "_view_count": null,
       "_view_module": "@jupyter-widgets/base",
       "_view_module_version": "1.2.0",
       "_view_name": "LayoutView",
       "align_content": null,
       "align_items": null,
       "align_self": null,
       "border": null,
       "bottom": null,
       "display": null,
       "flex": null,
       "flex_flow": null,
       "grid_area": null,
       "grid_auto_columns": null,
       "grid_auto_flow": null,
       "grid_auto_rows": null,
       "grid_column": null,
       "grid_gap": null,
       "grid_row": null,
       "grid_template_areas": null,
       "grid_template_columns": null,
       "grid_template_rows": null,
       "height": null,
       "justify_content": null,
       "justify_items": null,
       "left": null,
       "margin": null,
       "max_height": null,
       "max_width": null,
       "min_height": null,
       "min_width": null,
       "object_fit": null,
       "object_position": null,
       "order": null,
       "overflow": null,
       "overflow_x": null,
       "overflow_y": null,
       "padding": null,
       "right": null,
       "top": null,
       "visibility": null,
       "width": null
      }
     },
     "6ad5c9dcbf9246c6b72ed809e0e6056f": {
      "model_module": "@jupyter-widgets/base",
      "model_module_version": "1.2.0",
      "model_name": "LayoutModel",
      "state": {
       "_model_module": "@jupyter-widgets/base",
       "_model_module_version": "1.2.0",
       "_model_name": "LayoutModel",
       "_view_count": null,
       "_view_module": "@jupyter-widgets/base",
       "_view_module_version": "1.2.0",
       "_view_name": "LayoutView",
       "align_content": null,
       "align_items": null,
       "align_self": null,
       "border": null,
       "bottom": null,
       "display": null,
       "flex": null,
       "flex_flow": null,
       "grid_area": null,
       "grid_auto_columns": null,
       "grid_auto_flow": null,
       "grid_auto_rows": null,
       "grid_column": null,
       "grid_gap": null,
       "grid_row": null,
       "grid_template_areas": null,
       "grid_template_columns": null,
       "grid_template_rows": null,
       "height": null,
       "justify_content": null,
       "justify_items": null,
       "left": null,
       "margin": null,
       "max_height": null,
       "max_width": null,
       "min_height": null,
       "min_width": null,
       "object_fit": null,
       "object_position": null,
       "order": null,
       "overflow": null,
       "overflow_x": null,
       "overflow_y": null,
       "padding": null,
       "right": null,
       "top": null,
       "visibility": null,
       "width": null
      }
     },
     "6bee53f295e14ee3a0f450ca039ccf3d": {
      "model_module": "@jupyter-widgets/base",
      "model_module_version": "1.2.0",
      "model_name": "LayoutModel",
      "state": {
       "_model_module": "@jupyter-widgets/base",
       "_model_module_version": "1.2.0",
       "_model_name": "LayoutModel",
       "_view_count": null,
       "_view_module": "@jupyter-widgets/base",
       "_view_module_version": "1.2.0",
       "_view_name": "LayoutView",
       "align_content": null,
       "align_items": null,
       "align_self": null,
       "border": null,
       "bottom": null,
       "display": null,
       "flex": null,
       "flex_flow": null,
       "grid_area": null,
       "grid_auto_columns": null,
       "grid_auto_flow": null,
       "grid_auto_rows": null,
       "grid_column": null,
       "grid_gap": null,
       "grid_row": null,
       "grid_template_areas": null,
       "grid_template_columns": null,
       "grid_template_rows": null,
       "height": null,
       "justify_content": null,
       "justify_items": null,
       "left": null,
       "margin": null,
       "max_height": null,
       "max_width": null,
       "min_height": null,
       "min_width": null,
       "object_fit": null,
       "object_position": null,
       "order": null,
       "overflow": null,
       "overflow_x": null,
       "overflow_y": null,
       "padding": null,
       "right": null,
       "top": null,
       "visibility": null,
       "width": null
      }
     },
     "6d9c3282a8414167a7f79c2c8a4542a5": {
      "model_module": "@jupyter-widgets/controls",
      "model_module_version": "1.5.0",
      "model_name": "FloatProgressModel",
      "state": {
       "_dom_classes": [],
       "_model_module": "@jupyter-widgets/controls",
       "_model_module_version": "1.5.0",
       "_model_name": "FloatProgressModel",
       "_view_count": null,
       "_view_module": "@jupyter-widgets/controls",
       "_view_module_version": "1.5.0",
       "_view_name": "ProgressView",
       "bar_style": "success",
       "description": "",
       "description_tooltip": null,
       "layout": "IPY_MODEL_7f93d0a611724a409c37c6a807194221",
       "max": 231508.0,
       "min": 0.0,
       "orientation": "horizontal",
       "style": "IPY_MODEL_40426a11ad634314bcd4f1bc1d8a5bc9",
       "value": 231508.0
      }
     },
     "6f9a25e13d09456a86e7f14df87a7930": {
      "model_module": "@jupyter-widgets/controls",
      "model_module_version": "1.5.0",
      "model_name": "HTMLModel",
      "state": {
       "_dom_classes": [],
       "_model_module": "@jupyter-widgets/controls",
       "_model_module_version": "1.5.0",
       "_model_name": "HTMLModel",
       "_view_count": null,
       "_view_module": "@jupyter-widgets/controls",
       "_view_module_version": "1.5.0",
       "_view_name": "HTMLView",
       "description": "",
       "description_tooltip": null,
       "layout": "IPY_MODEL_6ad5c9dcbf9246c6b72ed809e0e6056f",
       "placeholder": "​",
       "style": "IPY_MODEL_474ba7cefa4644e99629f0fe00f4f803",
       "value": "Downloading: 100%"
      }
     },
     "75965a245ecb498884a0f87d8bc8b361": {
      "model_module": "@jupyter-widgets/controls",
      "model_module_version": "1.5.0",
      "model_name": "HBoxModel",
      "state": {
       "_dom_classes": [],
       "_model_module": "@jupyter-widgets/controls",
       "_model_module_version": "1.5.0",
       "_model_name": "HBoxModel",
       "_view_count": null,
       "_view_module": "@jupyter-widgets/controls",
       "_view_module_version": "1.5.0",
       "_view_name": "HBoxView",
       "box_style": "",
       "children": [
        "IPY_MODEL_ab8fe3c352724812bfe2c02ecea3e360",
        "IPY_MODEL_6d9c3282a8414167a7f79c2c8a4542a5",
        "IPY_MODEL_9f1c3a50c75242ac977f22c60c39b7cc"
       ],
       "layout": "IPY_MODEL_b61c82ccbb324feab2de87d7e06a31c7"
      }
     },
     "76a0da858b2e4d87acc0ad3a04042c65": {
      "model_module": "@jupyter-widgets/base",
      "model_module_version": "1.2.0",
      "model_name": "LayoutModel",
      "state": {
       "_model_module": "@jupyter-widgets/base",
       "_model_module_version": "1.2.0",
       "_model_name": "LayoutModel",
       "_view_count": null,
       "_view_module": "@jupyter-widgets/base",
       "_view_module_version": "1.2.0",
       "_view_name": "LayoutView",
       "align_content": null,
       "align_items": null,
       "align_self": null,
       "border": null,
       "bottom": null,
       "display": null,
       "flex": null,
       "flex_flow": null,
       "grid_area": null,
       "grid_auto_columns": null,
       "grid_auto_flow": null,
       "grid_auto_rows": null,
       "grid_column": null,
       "grid_gap": null,
       "grid_row": null,
       "grid_template_areas": null,
       "grid_template_columns": null,
       "grid_template_rows": null,
       "height": null,
       "justify_content": null,
       "justify_items": null,
       "left": null,
       "margin": null,
       "max_height": null,
       "max_width": null,
       "min_height": null,
       "min_width": null,
       "object_fit": null,
       "object_position": null,
       "order": null,
       "overflow": null,
       "overflow_x": null,
       "overflow_y": null,
       "padding": null,
       "right": null,
       "top": null,
       "visibility": null,
       "width": null
      }
     },
     "7a47e915bb4a4c6fb3f2e30a4be200bf": {
      "model_module": "@jupyter-widgets/controls",
      "model_module_version": "1.5.0",
      "model_name": "FloatProgressModel",
      "state": {
       "_dom_classes": [],
       "_model_module": "@jupyter-widgets/controls",
       "_model_module_version": "1.5.0",
       "_model_name": "FloatProgressModel",
       "_view_count": null,
       "_view_module": "@jupyter-widgets/controls",
       "_view_module_version": "1.5.0",
       "_view_name": "ProgressView",
       "bar_style": "success",
       "description": "",
       "description_tooltip": null,
       "layout": "IPY_MODEL_6bee53f295e14ee3a0f450ca039ccf3d",
       "max": 466062.0,
       "min": 0.0,
       "orientation": "horizontal",
       "style": "IPY_MODEL_7eb0db42fd9343879fe61a935013c430",
       "value": 466062.0
      }
     },
     "7eb0db42fd9343879fe61a935013c430": {
      "model_module": "@jupyter-widgets/controls",
      "model_module_version": "1.5.0",
      "model_name": "ProgressStyleModel",
      "state": {
       "_model_module": "@jupyter-widgets/controls",
       "_model_module_version": "1.5.0",
       "_model_name": "ProgressStyleModel",
       "_view_count": null,
       "_view_module": "@jupyter-widgets/base",
       "_view_module_version": "1.2.0",
       "_view_name": "StyleView",
       "bar_color": null,
       "description_width": ""
      }
     },
     "7f93d0a611724a409c37c6a807194221": {
      "model_module": "@jupyter-widgets/base",
      "model_module_version": "1.2.0",
      "model_name": "LayoutModel",
      "state": {
       "_model_module": "@jupyter-widgets/base",
       "_model_module_version": "1.2.0",
       "_model_name": "LayoutModel",
       "_view_count": null,
       "_view_module": "@jupyter-widgets/base",
       "_view_module_version": "1.2.0",
       "_view_name": "LayoutView",
       "align_content": null,
       "align_items": null,
       "align_self": null,
       "border": null,
       "bottom": null,
       "display": null,
       "flex": null,
       "flex_flow": null,
       "grid_area": null,
       "grid_auto_columns": null,
       "grid_auto_flow": null,
       "grid_auto_rows": null,
       "grid_column": null,
       "grid_gap": null,
       "grid_row": null,
       "grid_template_areas": null,
       "grid_template_columns": null,
       "grid_template_rows": null,
       "height": null,
       "justify_content": null,
       "justify_items": null,
       "left": null,
       "margin": null,
       "max_height": null,
       "max_width": null,
       "min_height": null,
       "min_width": null,
       "object_fit": null,
       "object_position": null,
       "order": null,
       "overflow": null,
       "overflow_x": null,
       "overflow_y": null,
       "padding": null,
       "right": null,
       "top": null,
       "visibility": null,
       "width": null
      }
     },
     "86fde4e4b713448d9c011be81fdbf73a": {
      "model_module": "@jupyter-widgets/controls",
      "model_module_version": "1.5.0",
      "model_name": "HBoxModel",
      "state": {
       "_dom_classes": [],
       "_model_module": "@jupyter-widgets/controls",
       "_model_module_version": "1.5.0",
       "_model_name": "HBoxModel",
       "_view_count": null,
       "_view_module": "@jupyter-widgets/controls",
       "_view_module_version": "1.5.0",
       "_view_name": "HBoxView",
       "box_style": "",
       "children": [
        "IPY_MODEL_fb4896c866d4493abdd0de1741e604ac",
        "IPY_MODEL_bf013aada3e84bedb0615e076b95dc71",
        "IPY_MODEL_d686a25b98a94aea859ac1602c7586c9"
       ],
       "layout": "IPY_MODEL_1a1a7e3a70284471afae3a6d5a76f712"
      }
     },
     "924c35d3489e434fa89ced454a037af4": {
      "model_module": "@jupyter-widgets/controls",
      "model_module_version": "1.5.0",
      "model_name": "ProgressStyleModel",
      "state": {
       "_model_module": "@jupyter-widgets/controls",
       "_model_module_version": "1.5.0",
       "_model_name": "ProgressStyleModel",
       "_view_count": null,
       "_view_module": "@jupyter-widgets/base",
       "_view_module_version": "1.2.0",
       "_view_name": "StyleView",
       "bar_color": null,
       "description_width": ""
      }
     },
     "985619b6c5f84b688cdae94d09170b24": {
      "model_module": "@jupyter-widgets/base",
      "model_module_version": "1.2.0",
      "model_name": "LayoutModel",
      "state": {
       "_model_module": "@jupyter-widgets/base",
       "_model_module_version": "1.2.0",
       "_model_name": "LayoutModel",
       "_view_count": null,
       "_view_module": "@jupyter-widgets/base",
       "_view_module_version": "1.2.0",
       "_view_name": "LayoutView",
       "align_content": null,
       "align_items": null,
       "align_self": null,
       "border": null,
       "bottom": null,
       "display": null,
       "flex": null,
       "flex_flow": null,
       "grid_area": null,
       "grid_auto_columns": null,
       "grid_auto_flow": null,
       "grid_auto_rows": null,
       "grid_column": null,
       "grid_gap": null,
       "grid_row": null,
       "grid_template_areas": null,
       "grid_template_columns": null,
       "grid_template_rows": null,
       "height": null,
       "justify_content": null,
       "justify_items": null,
       "left": null,
       "margin": null,
       "max_height": null,
       "max_width": null,
       "min_height": null,
       "min_width": null,
       "object_fit": null,
       "object_position": null,
       "order": null,
       "overflow": null,
       "overflow_x": null,
       "overflow_y": null,
       "padding": null,
       "right": null,
       "top": null,
       "visibility": null,
       "width": null
      }
     },
     "9f1c3a50c75242ac977f22c60c39b7cc": {
      "model_module": "@jupyter-widgets/controls",
      "model_module_version": "1.5.0",
      "model_name": "HTMLModel",
      "state": {
       "_dom_classes": [],
       "_model_module": "@jupyter-widgets/controls",
       "_model_module_version": "1.5.0",
       "_model_name": "HTMLModel",
       "_view_count": null,
       "_view_module": "@jupyter-widgets/controls",
       "_view_module_version": "1.5.0",
       "_view_name": "HTMLView",
       "description": "",
       "description_tooltip": null,
       "layout": "IPY_MODEL_cae7355a645a474b84350fad86923edd",
       "placeholder": "​",
       "style": "IPY_MODEL_f42e5c7650b94a739f1b2cc1847b274c",
       "value": " 226k/226k [00:00&lt;00:00, 2.48MB/s]"
      }
     },
     "a1a48031fa054b71ad22bfa1b7726b3c": {
      "model_module": "@jupyter-widgets/controls",
      "model_module_version": "1.5.0",
      "model_name": "ProgressStyleModel",
      "state": {
       "_model_module": "@jupyter-widgets/controls",
       "_model_module_version": "1.5.0",
       "_model_name": "ProgressStyleModel",
       "_view_count": null,
       "_view_module": "@jupyter-widgets/base",
       "_view_module_version": "1.2.0",
       "_view_name": "StyleView",
       "bar_color": null,
       "description_width": ""
      }
     },
     "ab8fe3c352724812bfe2c02ecea3e360": {
      "model_module": "@jupyter-widgets/controls",
      "model_module_version": "1.5.0",
      "model_name": "HTMLModel",
      "state": {
       "_dom_classes": [],
       "_model_module": "@jupyter-widgets/controls",
       "_model_module_version": "1.5.0",
       "_model_name": "HTMLModel",
       "_view_count": null,
       "_view_module": "@jupyter-widgets/controls",
       "_view_module_version": "1.5.0",
       "_view_name": "HTMLView",
       "description": "",
       "description_tooltip": null,
       "layout": "IPY_MODEL_caf008a45aee4b89a2a8d70104b77fc6",
       "placeholder": "​",
       "style": "IPY_MODEL_1ae414d97aa4423d944689c4806d38ad",
       "value": "Downloading: 100%"
      }
     },
     "ada8b087e2a6453ab91cff65471fe3a6": {
      "model_module": "@jupyter-widgets/controls",
      "model_module_version": "1.5.0",
      "model_name": "HTMLModel",
      "state": {
       "_dom_classes": [],
       "_model_module": "@jupyter-widgets/controls",
       "_model_module_version": "1.5.0",
       "_model_name": "HTMLModel",
       "_view_count": null,
       "_view_module": "@jupyter-widgets/controls",
       "_view_module_version": "1.5.0",
       "_view_name": "HTMLView",
       "description": "",
       "description_tooltip": null,
       "layout": "IPY_MODEL_65ad37e0d55343f681fc83142ecadea1",
       "placeholder": "​",
       "style": "IPY_MODEL_1b0fece966a34cdcadf74edf274a76d6",
       "value": " 570/570 [00:00&lt;00:00, 22.7kB/s]"
      }
     },
     "b04f2a1c5e914414ba84e91649b2e7f8": {
      "model_module": "@jupyter-widgets/base",
      "model_module_version": "1.2.0",
      "model_name": "LayoutModel",
      "state": {
       "_model_module": "@jupyter-widgets/base",
       "_model_module_version": "1.2.0",
       "_model_name": "LayoutModel",
       "_view_count": null,
       "_view_module": "@jupyter-widgets/base",
       "_view_module_version": "1.2.0",
       "_view_name": "LayoutView",
       "align_content": null,
       "align_items": null,
       "align_self": null,
       "border": null,
       "bottom": null,
       "display": null,
       "flex": null,
       "flex_flow": null,
       "grid_area": null,
       "grid_auto_columns": null,
       "grid_auto_flow": null,
       "grid_auto_rows": null,
       "grid_column": null,
       "grid_gap": null,
       "grid_row": null,
       "grid_template_areas": null,
       "grid_template_columns": null,
       "grid_template_rows": null,
       "height": null,
       "justify_content": null,
       "justify_items": null,
       "left": null,
       "margin": null,
       "max_height": null,
       "max_width": null,
       "min_height": null,
       "min_width": null,
       "object_fit": null,
       "object_position": null,
       "order": null,
       "overflow": null,
       "overflow_x": null,
       "overflow_y": null,
       "padding": null,
       "right": null,
       "top": null,
       "visibility": null,
       "width": null
      }
     },
     "b4dc3acfa5a741c09352c4267a8ce900": {
      "model_module": "@jupyter-widgets/base",
      "model_module_version": "1.2.0",
      "model_name": "LayoutModel",
      "state": {
       "_model_module": "@jupyter-widgets/base",
       "_model_module_version": "1.2.0",
       "_model_name": "LayoutModel",
       "_view_count": null,
       "_view_module": "@jupyter-widgets/base",
       "_view_module_version": "1.2.0",
       "_view_name": "LayoutView",
       "align_content": null,
       "align_items": null,
       "align_self": null,
       "border": null,
       "bottom": null,
       "display": null,
       "flex": null,
       "flex_flow": null,
       "grid_area": null,
       "grid_auto_columns": null,
       "grid_auto_flow": null,
       "grid_auto_rows": null,
       "grid_column": null,
       "grid_gap": null,
       "grid_row": null,
       "grid_template_areas": null,
       "grid_template_columns": null,
       "grid_template_rows": null,
       "height": null,
       "justify_content": null,
       "justify_items": null,
       "left": null,
       "margin": null,
       "max_height": null,
       "max_width": null,
       "min_height": null,
       "min_width": null,
       "object_fit": null,
       "object_position": null,
       "order": null,
       "overflow": null,
       "overflow_x": null,
       "overflow_y": null,
       "padding": null,
       "right": null,
       "top": null,
       "visibility": null,
       "width": null
      }
     },
     "b61c82ccbb324feab2de87d7e06a31c7": {
      "model_module": "@jupyter-widgets/base",
      "model_module_version": "1.2.0",
      "model_name": "LayoutModel",
      "state": {
       "_model_module": "@jupyter-widgets/base",
       "_model_module_version": "1.2.0",
       "_model_name": "LayoutModel",
       "_view_count": null,
       "_view_module": "@jupyter-widgets/base",
       "_view_module_version": "1.2.0",
       "_view_name": "LayoutView",
       "align_content": null,
       "align_items": null,
       "align_self": null,
       "border": null,
       "bottom": null,
       "display": null,
       "flex": null,
       "flex_flow": null,
       "grid_area": null,
       "grid_auto_columns": null,
       "grid_auto_flow": null,
       "grid_auto_rows": null,
       "grid_column": null,
       "grid_gap": null,
       "grid_row": null,
       "grid_template_areas": null,
       "grid_template_columns": null,
       "grid_template_rows": null,
       "height": null,
       "justify_content": null,
       "justify_items": null,
       "left": null,
       "margin": null,
       "max_height": null,
       "max_width": null,
       "min_height": null,
       "min_width": null,
       "object_fit": null,
       "object_position": null,
       "order": null,
       "overflow": null,
       "overflow_x": null,
       "overflow_y": null,
       "padding": null,
       "right": null,
       "top": null,
       "visibility": null,
       "width": null
      }
     },
     "be487954f9a14ee5bab7018ef34c5355": {
      "model_module": "@jupyter-widgets/controls",
      "model_module_version": "1.5.0",
      "model_name": "DescriptionStyleModel",
      "state": {
       "_model_module": "@jupyter-widgets/controls",
       "_model_module_version": "1.5.0",
       "_model_name": "DescriptionStyleModel",
       "_view_count": null,
       "_view_module": "@jupyter-widgets/base",
       "_view_module_version": "1.2.0",
       "_view_name": "StyleView",
       "description_width": ""
      }
     },
     "bf013aada3e84bedb0615e076b95dc71": {
      "model_module": "@jupyter-widgets/controls",
      "model_module_version": "1.5.0",
      "model_name": "FloatProgressModel",
      "state": {
       "_dom_classes": [],
       "_model_module": "@jupyter-widgets/controls",
       "_model_module_version": "1.5.0",
       "_model_name": "FloatProgressModel",
       "_view_count": null,
       "_view_module": "@jupyter-widgets/controls",
       "_view_module_version": "1.5.0",
       "_view_name": "ProgressView",
       "bar_style": "success",
       "description": "",
       "description_tooltip": null,
       "layout": "IPY_MODEL_b04f2a1c5e914414ba84e91649b2e7f8",
       "max": 440473133.0,
       "min": 0.0,
       "orientation": "horizontal",
       "style": "IPY_MODEL_924c35d3489e434fa89ced454a037af4",
       "value": 440473133.0
      }
     },
     "cae7355a645a474b84350fad86923edd": {
      "model_module": "@jupyter-widgets/base",
      "model_module_version": "1.2.0",
      "model_name": "LayoutModel",
      "state": {
       "_model_module": "@jupyter-widgets/base",
       "_model_module_version": "1.2.0",
       "_model_name": "LayoutModel",
       "_view_count": null,
       "_view_module": "@jupyter-widgets/base",
       "_view_module_version": "1.2.0",
       "_view_name": "LayoutView",
       "align_content": null,
       "align_items": null,
       "align_self": null,
       "border": null,
       "bottom": null,
       "display": null,
       "flex": null,
       "flex_flow": null,
       "grid_area": null,
       "grid_auto_columns": null,
       "grid_auto_flow": null,
       "grid_auto_rows": null,
       "grid_column": null,
       "grid_gap": null,
       "grid_row": null,
       "grid_template_areas": null,
       "grid_template_columns": null,
       "grid_template_rows": null,
       "height": null,
       "justify_content": null,
       "justify_items": null,
       "left": null,
       "margin": null,
       "max_height": null,
       "max_width": null,
       "min_height": null,
       "min_width": null,
       "object_fit": null,
       "object_position": null,
       "order": null,
       "overflow": null,
       "overflow_x": null,
       "overflow_y": null,
       "padding": null,
       "right": null,
       "top": null,
       "visibility": null,
       "width": null
      }
     },
     "caf008a45aee4b89a2a8d70104b77fc6": {
      "model_module": "@jupyter-widgets/base",
      "model_module_version": "1.2.0",
      "model_name": "LayoutModel",
      "state": {
       "_model_module": "@jupyter-widgets/base",
       "_model_module_version": "1.2.0",
       "_model_name": "LayoutModel",
       "_view_count": null,
       "_view_module": "@jupyter-widgets/base",
       "_view_module_version": "1.2.0",
       "_view_name": "LayoutView",
       "align_content": null,
       "align_items": null,
       "align_self": null,
       "border": null,
       "bottom": null,
       "display": null,
       "flex": null,
       "flex_flow": null,
       "grid_area": null,
       "grid_auto_columns": null,
       "grid_auto_flow": null,
       "grid_auto_rows": null,
       "grid_column": null,
       "grid_gap": null,
       "grid_row": null,
       "grid_template_areas": null,
       "grid_template_columns": null,
       "grid_template_rows": null,
       "height": null,
       "justify_content": null,
       "justify_items": null,
       "left": null,
       "margin": null,
       "max_height": null,
       "max_width": null,
       "min_height": null,
       "min_width": null,
       "object_fit": null,
       "object_position": null,
       "order": null,
       "overflow": null,
       "overflow_x": null,
       "overflow_y": null,
       "padding": null,
       "right": null,
       "top": null,
       "visibility": null,
       "width": null
      }
     },
     "cf9aafc4ad6849239d34cbf84cecf922": {
      "model_module": "@jupyter-widgets/controls",
      "model_module_version": "1.5.0",
      "model_name": "HBoxModel",
      "state": {
       "_dom_classes": [],
       "_model_module": "@jupyter-widgets/controls",
       "_model_module_version": "1.5.0",
       "_model_name": "HBoxModel",
       "_view_count": null,
       "_view_module": "@jupyter-widgets/controls",
       "_view_module_version": "1.5.0",
       "_view_name": "HBoxView",
       "box_style": "",
       "children": [
        "IPY_MODEL_edd485dff1f64358a2ee5eac2847968d",
        "IPY_MODEL_6382cdc449a4427d8f04d12e735e23fb",
        "IPY_MODEL_ada8b087e2a6453ab91cff65471fe3a6"
       ],
       "layout": "IPY_MODEL_0615ec5fd10b4ba3a2cc376712b2ca26"
      }
     },
     "d0c155883ad042c3a1cd9b78456a19d9": {
      "model_module": "@jupyter-widgets/controls",
      "model_module_version": "1.5.0",
      "model_name": "DescriptionStyleModel",
      "state": {
       "_model_module": "@jupyter-widgets/controls",
       "_model_module_version": "1.5.0",
       "_model_name": "DescriptionStyleModel",
       "_view_count": null,
       "_view_module": "@jupyter-widgets/base",
       "_view_module_version": "1.2.0",
       "_view_name": "StyleView",
       "description_width": ""
      }
     },
     "d655579dee4a43738fd27a84a928ee83": {
      "model_module": "@jupyter-widgets/base",
      "model_module_version": "1.2.0",
      "model_name": "LayoutModel",
      "state": {
       "_model_module": "@jupyter-widgets/base",
       "_model_module_version": "1.2.0",
       "_model_name": "LayoutModel",
       "_view_count": null,
       "_view_module": "@jupyter-widgets/base",
       "_view_module_version": "1.2.0",
       "_view_name": "LayoutView",
       "align_content": null,
       "align_items": null,
       "align_self": null,
       "border": null,
       "bottom": null,
       "display": null,
       "flex": null,
       "flex_flow": null,
       "grid_area": null,
       "grid_auto_columns": null,
       "grid_auto_flow": null,
       "grid_auto_rows": null,
       "grid_column": null,
       "grid_gap": null,
       "grid_row": null,
       "grid_template_areas": null,
       "grid_template_columns": null,
       "grid_template_rows": null,
       "height": null,
       "justify_content": null,
       "justify_items": null,
       "left": null,
       "margin": null,
       "max_height": null,
       "max_width": null,
       "min_height": null,
       "min_width": null,
       "object_fit": null,
       "object_position": null,
       "order": null,
       "overflow": null,
       "overflow_x": null,
       "overflow_y": null,
       "padding": null,
       "right": null,
       "top": null,
       "visibility": null,
       "width": null
      }
     },
     "d686a25b98a94aea859ac1602c7586c9": {
      "model_module": "@jupyter-widgets/controls",
      "model_module_version": "1.5.0",
      "model_name": "HTMLModel",
      "state": {
       "_dom_classes": [],
       "_model_module": "@jupyter-widgets/controls",
       "_model_module_version": "1.5.0",
       "_model_name": "HTMLModel",
       "_view_count": null,
       "_view_module": "@jupyter-widgets/controls",
       "_view_module_version": "1.5.0",
       "_view_name": "HTMLView",
       "description": "",
       "description_tooltip": null,
       "layout": "IPY_MODEL_f961e85c5e2e4f7db0ebfbef14b4ee6e",
       "placeholder": "​",
       "style": "IPY_MODEL_d0c155883ad042c3a1cd9b78456a19d9",
       "value": " 420M/420M [00:14&lt;00:00, 32.9MB/s]"
      }
     },
     "d8a611dc937f4e17a0c159fc6eda10a9": {
      "model_module": "@jupyter-widgets/base",
      "model_module_version": "1.2.0",
      "model_name": "LayoutModel",
      "state": {
       "_model_module": "@jupyter-widgets/base",
       "_model_module_version": "1.2.0",
       "_model_name": "LayoutModel",
       "_view_count": null,
       "_view_module": "@jupyter-widgets/base",
       "_view_module_version": "1.2.0",
       "_view_name": "LayoutView",
       "align_content": null,
       "align_items": null,
       "align_self": null,
       "border": null,
       "bottom": null,
       "display": null,
       "flex": null,
       "flex_flow": null,
       "grid_area": null,
       "grid_auto_columns": null,
       "grid_auto_flow": null,
       "grid_auto_rows": null,
       "grid_column": null,
       "grid_gap": null,
       "grid_row": null,
       "grid_template_areas": null,
       "grid_template_columns": null,
       "grid_template_rows": null,
       "height": null,
       "justify_content": null,
       "justify_items": null,
       "left": null,
       "margin": null,
       "max_height": null,
       "max_width": null,
       "min_height": null,
       "min_width": null,
       "object_fit": null,
       "object_position": null,
       "order": null,
       "overflow": null,
       "overflow_x": null,
       "overflow_y": null,
       "padding": null,
       "right": null,
       "top": null,
       "visibility": null,
       "width": null
      }
     },
     "d95f14fa98284b2d9626aeef9bda09dc": {
      "model_module": "@jupyter-widgets/base",
      "model_module_version": "1.2.0",
      "model_name": "LayoutModel",
      "state": {
       "_model_module": "@jupyter-widgets/base",
       "_model_module_version": "1.2.0",
       "_model_name": "LayoutModel",
       "_view_count": null,
       "_view_module": "@jupyter-widgets/base",
       "_view_module_version": "1.2.0",
       "_view_name": "LayoutView",
       "align_content": null,
       "align_items": null,
       "align_self": null,
       "border": null,
       "bottom": null,
       "display": null,
       "flex": null,
       "flex_flow": null,
       "grid_area": null,
       "grid_auto_columns": null,
       "grid_auto_flow": null,
       "grid_auto_rows": null,
       "grid_column": null,
       "grid_gap": null,
       "grid_row": null,
       "grid_template_areas": null,
       "grid_template_columns": null,
       "grid_template_rows": null,
       "height": null,
       "justify_content": null,
       "justify_items": null,
       "left": null,
       "margin": null,
       "max_height": null,
       "max_width": null,
       "min_height": null,
       "min_width": null,
       "object_fit": null,
       "object_position": null,
       "order": null,
       "overflow": null,
       "overflow_x": null,
       "overflow_y": null,
       "padding": null,
       "right": null,
       "top": null,
       "visibility": null,
       "width": null
      }
     },
     "da8b49ef74a14332b0316e7d56345b65": {
      "model_module": "@jupyter-widgets/controls",
      "model_module_version": "1.5.0",
      "model_name": "HTMLModel",
      "state": {
       "_dom_classes": [],
       "_model_module": "@jupyter-widgets/controls",
       "_model_module_version": "1.5.0",
       "_model_name": "HTMLModel",
       "_view_count": null,
       "_view_module": "@jupyter-widgets/controls",
       "_view_module_version": "1.5.0",
       "_view_name": "HTMLView",
       "description": "",
       "description_tooltip": null,
       "layout": "IPY_MODEL_d95f14fa98284b2d9626aeef9bda09dc",
       "placeholder": "​",
       "style": "IPY_MODEL_f0e504ed039f493586d57b34fcecd6ab",
       "value": "Downloading: 100%"
      }
     },
     "dc5aa14883b04e37a1c176a80bcbfa21": {
      "model_module": "@jupyter-widgets/controls",
      "model_module_version": "1.5.0",
      "model_name": "DescriptionStyleModel",
      "state": {
       "_model_module": "@jupyter-widgets/controls",
       "_model_module_version": "1.5.0",
       "_model_name": "DescriptionStyleModel",
       "_view_count": null,
       "_view_module": "@jupyter-widgets/base",
       "_view_module_version": "1.2.0",
       "_view_name": "StyleView",
       "description_width": ""
      }
     },
     "e037fab0335f497e9b9ea10aa06340ef": {
      "model_module": "@jupyter-widgets/controls",
      "model_module_version": "1.5.0",
      "model_name": "FloatProgressModel",
      "state": {
       "_dom_classes": [],
       "_model_module": "@jupyter-widgets/controls",
       "_model_module_version": "1.5.0",
       "_model_name": "FloatProgressModel",
       "_view_count": null,
       "_view_module": "@jupyter-widgets/controls",
       "_view_module_version": "1.5.0",
       "_view_name": "ProgressView",
       "bar_style": "success",
       "description": "",
       "description_tooltip": null,
       "layout": "IPY_MODEL_d655579dee4a43738fd27a84a928ee83",
       "max": 28.0,
       "min": 0.0,
       "orientation": "horizontal",
       "style": "IPY_MODEL_1379eb30254d41299e24f79b8d66b2c4",
       "value": 28.0
      }
     },
     "edd485dff1f64358a2ee5eac2847968d": {
      "model_module": "@jupyter-widgets/controls",
      "model_module_version": "1.5.0",
      "model_name": "HTMLModel",
      "state": {
       "_dom_classes": [],
       "_model_module": "@jupyter-widgets/controls",
       "_model_module_version": "1.5.0",
       "_model_name": "HTMLModel",
       "_view_count": null,
       "_view_module": "@jupyter-widgets/controls",
       "_view_module_version": "1.5.0",
       "_view_name": "HTMLView",
       "description": "",
       "description_tooltip": null,
       "layout": "IPY_MODEL_40bd8d18cf204a9ca1b117b3a25848d4",
       "placeholder": "​",
       "style": "IPY_MODEL_06630b6355d045f18dee45100a0a18fb",
       "value": "Downloading: 100%"
      }
     },
     "f0e504ed039f493586d57b34fcecd6ab": {
      "model_module": "@jupyter-widgets/controls",
      "model_module_version": "1.5.0",
      "model_name": "DescriptionStyleModel",
      "state": {
       "_model_module": "@jupyter-widgets/controls",
       "_model_module_version": "1.5.0",
       "_model_name": "DescriptionStyleModel",
       "_view_count": null,
       "_view_module": "@jupyter-widgets/base",
       "_view_module_version": "1.2.0",
       "_view_name": "StyleView",
       "description_width": ""
      }
     },
     "f42e5c7650b94a739f1b2cc1847b274c": {
      "model_module": "@jupyter-widgets/controls",
      "model_module_version": "1.5.0",
      "model_name": "DescriptionStyleModel",
      "state": {
       "_model_module": "@jupyter-widgets/controls",
       "_model_module_version": "1.5.0",
       "_model_name": "DescriptionStyleModel",
       "_view_count": null,
       "_view_module": "@jupyter-widgets/base",
       "_view_module_version": "1.2.0",
       "_view_name": "StyleView",
       "description_width": ""
      }
     },
     "f858f3e0949940e89f97746351926d62": {
      "model_module": "@jupyter-widgets/base",
      "model_module_version": "1.2.0",
      "model_name": "LayoutModel",
      "state": {
       "_model_module": "@jupyter-widgets/base",
       "_model_module_version": "1.2.0",
       "_model_name": "LayoutModel",
       "_view_count": null,
       "_view_module": "@jupyter-widgets/base",
       "_view_module_version": "1.2.0",
       "_view_name": "LayoutView",
       "align_content": null,
       "align_items": null,
       "align_self": null,
       "border": null,
       "bottom": null,
       "display": null,
       "flex": null,
       "flex_flow": null,
       "grid_area": null,
       "grid_auto_columns": null,
       "grid_auto_flow": null,
       "grid_auto_rows": null,
       "grid_column": null,
       "grid_gap": null,
       "grid_row": null,
       "grid_template_areas": null,
       "grid_template_columns": null,
       "grid_template_rows": null,
       "height": null,
       "justify_content": null,
       "justify_items": null,
       "left": null,
       "margin": null,
       "max_height": null,
       "max_width": null,
       "min_height": null,
       "min_width": null,
       "object_fit": null,
       "object_position": null,
       "order": null,
       "overflow": null,
       "overflow_x": null,
       "overflow_y": null,
       "padding": null,
       "right": null,
       "top": null,
       "visibility": null,
       "width": null
      }
     },
     "f961e85c5e2e4f7db0ebfbef14b4ee6e": {
      "model_module": "@jupyter-widgets/base",
      "model_module_version": "1.2.0",
      "model_name": "LayoutModel",
      "state": {
       "_model_module": "@jupyter-widgets/base",
       "_model_module_version": "1.2.0",
       "_model_name": "LayoutModel",
       "_view_count": null,
       "_view_module": "@jupyter-widgets/base",
       "_view_module_version": "1.2.0",
       "_view_name": "LayoutView",
       "align_content": null,
       "align_items": null,
       "align_self": null,
       "border": null,
       "bottom": null,
       "display": null,
       "flex": null,
       "flex_flow": null,
       "grid_area": null,
       "grid_auto_columns": null,
       "grid_auto_flow": null,
       "grid_auto_rows": null,
       "grid_column": null,
       "grid_gap": null,
       "grid_row": null,
       "grid_template_areas": null,
       "grid_template_columns": null,
       "grid_template_rows": null,
       "height": null,
       "justify_content": null,
       "justify_items": null,
       "left": null,
       "margin": null,
       "max_height": null,
       "max_width": null,
       "min_height": null,
       "min_width": null,
       "object_fit": null,
       "object_position": null,
       "order": null,
       "overflow": null,
       "overflow_x": null,
       "overflow_y": null,
       "padding": null,
       "right": null,
       "top": null,
       "visibility": null,
       "width": null
      }
     },
     "fb4896c866d4493abdd0de1741e604ac": {
      "model_module": "@jupyter-widgets/controls",
      "model_module_version": "1.5.0",
      "model_name": "HTMLModel",
      "state": {
       "_dom_classes": [],
       "_model_module": "@jupyter-widgets/controls",
       "_model_module_version": "1.5.0",
       "_model_name": "HTMLModel",
       "_view_count": null,
       "_view_module": "@jupyter-widgets/controls",
       "_view_module_version": "1.5.0",
       "_view_name": "HTMLView",
       "description": "",
       "description_tooltip": null,
       "layout": "IPY_MODEL_b4dc3acfa5a741c09352c4267a8ce900",
       "placeholder": "​",
       "style": "IPY_MODEL_59108cac8eb5496f92417372673908f9",
       "value": "Downloading: 100%"
      }
     },
     "fda89f2daf82432199d0f9e705031d2c": {
      "model_module": "@jupyter-widgets/controls",
      "model_module_version": "1.5.0",
      "model_name": "HBoxModel",
      "state": {
       "_dom_classes": [],
       "_model_module": "@jupyter-widgets/controls",
       "_model_module_version": "1.5.0",
       "_model_name": "HBoxModel",
       "_view_count": null,
       "_view_module": "@jupyter-widgets/controls",
       "_view_module_version": "1.5.0",
       "_view_name": "HBoxView",
       "box_style": "",
       "children": [
        "IPY_MODEL_da8b49ef74a14332b0316e7d56345b65",
        "IPY_MODEL_7a47e915bb4a4c6fb3f2e30a4be200bf",
        "IPY_MODEL_556d91ebc6034620b6103f52e2fb277b"
       ],
       "layout": "IPY_MODEL_76a0da858b2e4d87acc0ad3a04042c65"
      }
     },
     "ff8df66e213c46b2be9fe9542715f4d0": {
      "model_module": "@jupyter-widgets/base",
      "model_module_version": "1.2.0",
      "model_name": "LayoutModel",
      "state": {
       "_model_module": "@jupyter-widgets/base",
       "_model_module_version": "1.2.0",
       "_model_name": "LayoutModel",
       "_view_count": null,
       "_view_module": "@jupyter-widgets/base",
       "_view_module_version": "1.2.0",
       "_view_name": "LayoutView",
       "align_content": null,
       "align_items": null,
       "align_self": null,
       "border": null,
       "bottom": null,
       "display": null,
       "flex": null,
       "flex_flow": null,
       "grid_area": null,
       "grid_auto_columns": null,
       "grid_auto_flow": null,
       "grid_auto_rows": null,
       "grid_column": null,
       "grid_gap": null,
       "grid_row": null,
       "grid_template_areas": null,
       "grid_template_columns": null,
       "grid_template_rows": null,
       "height": null,
       "justify_content": null,
       "justify_items": null,
       "left": null,
       "margin": null,
       "max_height": null,
       "max_width": null,
       "min_height": null,
       "min_width": null,
       "object_fit": null,
       "object_position": null,
       "order": null,
       "overflow": null,
       "overflow_x": null,
       "overflow_y": null,
       "padding": null,
       "right": null,
       "top": null,
       "visibility": null,
       "width": null
      }
     }
    },
    "version_major": 2,
    "version_minor": 0
   }
  }
 },
 "nbformat": 4,
 "nbformat_minor": 5
}
