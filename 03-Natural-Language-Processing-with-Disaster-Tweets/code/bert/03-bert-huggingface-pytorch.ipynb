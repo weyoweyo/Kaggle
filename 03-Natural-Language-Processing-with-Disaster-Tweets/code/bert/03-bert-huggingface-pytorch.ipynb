{
 "cells": [
  {
   "cell_type": "code",
   "execution_count": 1,
   "id": "21b79245",
   "metadata": {
    "_cell_guid": "b1076dfc-b9ad-4769-8c92-a6c4dae69d19",
    "_uuid": "8f2839f25d086af736a60e9eeb907d3b93b6e0e5",
    "execution": {
     "iopub.execute_input": "2022-01-22T02:34:37.311765Z",
     "iopub.status.busy": "2022-01-22T02:34:37.310824Z",
     "iopub.status.idle": "2022-01-22T02:34:37.319584Z",
     "shell.execute_reply": "2022-01-22T02:34:37.320701Z",
     "shell.execute_reply.started": "2022-01-22T00:36:45.292426Z"
    },
    "papermill": {
     "duration": 0.104277,
     "end_time": "2022-01-22T02:34:37.321060",
     "exception": false,
     "start_time": "2022-01-22T02:34:37.216783",
     "status": "completed"
    },
    "tags": []
   },
   "outputs": [
    {
     "name": "stdout",
     "output_type": "stream",
     "text": [
      "/kaggle/input/nlp-getting-started/sample_submission.csv\n",
      "/kaggle/input/nlp-getting-started/train.csv\n",
      "/kaggle/input/nlp-getting-started/test.csv\n"
     ]
    }
   ],
   "source": [
    "# This Python 3 environment comes with many helpful analytics libraries installed\n",
    "# It is defined by the kaggle/python Docker image: https://github.com/kaggle/docker-python\n",
    "# For example, here's several helpful packages to load\n",
    "\n",
    "import numpy as np # linear algebra\n",
    "import pandas as pd # data processing, CSV file I/O (e.g. pd.read_csv)\n",
    "\n",
    "# Input data files are available in the read-only \"../input/\" directory\n",
    "# For example, running this (by clicking run or pressing Shift+Enter) will list all files under the input directory\n",
    "\n",
    "import os\n",
    "for dirname, _, filenames in os.walk('/kaggle/input'):\n",
    "    for filename in filenames:\n",
    "        print(os.path.join(dirname, filename))\n",
    "\n",
    "# You can write up to 20GB to the current directory (/kaggle/working/) that gets preserved as output when you create a version using \"Save & Run All\" \n",
    "# You can also write temporary files to /kaggle/temp/, but they won't be saved outside of the current session"
   ]
  },
  {
   "cell_type": "markdown",
   "id": "d0ff69fd",
   "metadata": {
    "papermill": {
     "duration": 0.064861,
     "end_time": "2022-01-22T02:34:37.441852",
     "exception": false,
     "start_time": "2022-01-22T02:34:37.376991",
     "status": "completed"
    },
    "tags": []
   },
   "source": [
    "Reference:\n",
    "\n",
    "Many thanks to Venelin Valkov for the great tutorial ([1], [2], [3]): \n",
    "\n",
    "[1] https://curiousily.com/posts/sentiment-analysis-with-bert-and-hugging-face-using-pytorch-and-python/\n",
    "\n",
    "[2] https://www.youtube.com/watch?v=Osj0Z6rwJB4\n",
    "\n",
    "[3] https://www.youtube.com/watch?v=8N-nM3QW7O0&t=733s\n",
    "\n",
    "https://www.kaggle.com/swarnabha/pytorch-text-classification-torchtext-lstm\n",
    "\n",
    "https://www.kaggle.com/shahules/basic-eda-cleaning-and-glove\n",
    "\n",
    "https://www.kaggle.com/vishalsiram50/fine-tuning-bert-88-accuracy\n",
    "\n",
    "https://www.analyticsvidhya.com/blog/2021/05/all-you-need-to-know-about-bert/#:~:text=%5BCLS%5D%20is%20a%20special%20classification,segment%20embeddings%20for%20each%20token."
   ]
  },
  {
   "cell_type": "code",
   "execution_count": 2,
   "id": "46405824",
   "metadata": {
    "execution": {
     "iopub.execute_input": "2022-01-22T02:34:37.576845Z",
     "iopub.status.busy": "2022-01-22T02:34:37.576008Z",
     "iopub.status.idle": "2022-01-22T02:34:45.969669Z",
     "shell.execute_reply": "2022-01-22T02:34:45.969130Z",
     "shell.execute_reply.started": "2022-01-22T00:36:50.146717Z"
    },
    "papermill": {
     "duration": 8.444215,
     "end_time": "2022-01-22T02:34:45.969803",
     "exception": false,
     "start_time": "2022-01-22T02:34:37.525588",
     "status": "completed"
    },
    "tags": []
   },
   "outputs": [
    {
     "name": "stdout",
     "output_type": "stream",
     "text": [
      "Requirement already satisfied: transformers in /opt/conda/lib/python3.7/site-packages (4.12.5)\r\n",
      "Requirement already satisfied: filelock in /opt/conda/lib/python3.7/site-packages (from transformers) (3.3.2)\r\n",
      "Requirement already satisfied: numpy>=1.17 in /opt/conda/lib/python3.7/site-packages (from transformers) (1.19.5)\r\n",
      "Requirement already satisfied: huggingface-hub<1.0,>=0.1.0 in /opt/conda/lib/python3.7/site-packages (from transformers) (0.1.2)\r\n",
      "Requirement already satisfied: tqdm>=4.27 in /opt/conda/lib/python3.7/site-packages (from transformers) (4.62.3)\r\n",
      "Requirement already satisfied: requests in /opt/conda/lib/python3.7/site-packages (from transformers) (2.25.1)\r\n",
      "Requirement already satisfied: regex!=2019.12.17 in /opt/conda/lib/python3.7/site-packages (from transformers) (2021.11.10)\r\n",
      "Requirement already satisfied: tokenizers<0.11,>=0.10.1 in /opt/conda/lib/python3.7/site-packages (from transformers) (0.10.3)\r\n",
      "Requirement already satisfied: packaging>=20.0 in /opt/conda/lib/python3.7/site-packages (from transformers) (21.0)\r\n",
      "Requirement already satisfied: pyyaml>=5.1 in /opt/conda/lib/python3.7/site-packages (from transformers) (6.0)\r\n",
      "Requirement already satisfied: importlib-metadata in /opt/conda/lib/python3.7/site-packages (from transformers) (4.8.2)\r\n",
      "Requirement already satisfied: sacremoses in /opt/conda/lib/python3.7/site-packages (from transformers) (0.0.46)\r\n",
      "Requirement already satisfied: typing-extensions>=3.7.4.3 in /opt/conda/lib/python3.7/site-packages (from huggingface-hub<1.0,>=0.1.0->transformers) (3.10.0.2)\r\n",
      "Requirement already satisfied: pyparsing>=2.0.2 in /opt/conda/lib/python3.7/site-packages (from packaging>=20.0->transformers) (3.0.6)\r\n",
      "Requirement already satisfied: zipp>=0.5 in /opt/conda/lib/python3.7/site-packages (from importlib-metadata->transformers) (3.6.0)\r\n",
      "Requirement already satisfied: chardet<5,>=3.0.2 in /opt/conda/lib/python3.7/site-packages (from requests->transformers) (4.0.0)\r\n",
      "Requirement already satisfied: certifi>=2017.4.17 in /opt/conda/lib/python3.7/site-packages (from requests->transformers) (2021.10.8)\r\n",
      "Requirement already satisfied: idna<3,>=2.5 in /opt/conda/lib/python3.7/site-packages (from requests->transformers) (2.10)\r\n",
      "Requirement already satisfied: urllib3<1.27,>=1.21.1 in /opt/conda/lib/python3.7/site-packages (from requests->transformers) (1.26.7)\r\n",
      "Requirement already satisfied: six in /opt/conda/lib/python3.7/site-packages (from sacremoses->transformers) (1.16.0)\r\n",
      "Requirement already satisfied: click in /opt/conda/lib/python3.7/site-packages (from sacremoses->transformers) (8.0.3)\r\n",
      "Requirement already satisfied: joblib in /opt/conda/lib/python3.7/site-packages (from sacremoses->transformers) (1.1.0)\r\n",
      "\u001b[33mWARNING: Running pip as the 'root' user can result in broken permissions and conflicting behaviour with the system package manager. It is recommended to use a virtual environment instead: https://pip.pypa.io/warnings/venv\u001b[0m\r\n"
     ]
    }
   ],
   "source": [
    "!pip install transformers"
   ]
  },
  {
   "cell_type": "code",
   "execution_count": 3,
   "id": "6d46ea0a",
   "metadata": {
    "execution": {
     "iopub.execute_input": "2022-01-22T02:34:46.067504Z",
     "iopub.status.busy": "2022-01-22T02:34:46.066960Z",
     "iopub.status.idle": "2022-01-22T02:34:46.144783Z",
     "shell.execute_reply": "2022-01-22T02:34:46.144268Z",
     "shell.execute_reply.started": "2022-01-22T00:38:21.655398Z"
    },
    "papermill": {
     "duration": 0.128856,
     "end_time": "2022-01-22T02:34:46.144907",
     "exception": false,
     "start_time": "2022-01-22T02:34:46.016051",
     "status": "completed"
    },
    "tags": []
   },
   "outputs": [],
   "source": [
    "train = pd.read_csv('../input/nlp-getting-started/train.csv')\n",
    "test = pd.read_csv('../input/nlp-getting-started/test.csv')\n",
    "submission = pd.read_csv('../input/nlp-getting-started/sample_submission.csv')"
   ]
  },
  {
   "cell_type": "code",
   "execution_count": 4,
   "id": "d520004a",
   "metadata": {
    "execution": {
     "iopub.execute_input": "2022-01-22T02:34:46.244050Z",
     "iopub.status.busy": "2022-01-22T02:34:46.242418Z",
     "iopub.status.idle": "2022-01-22T02:34:46.244623Z",
     "shell.execute_reply": "2022-01-22T02:34:46.245007Z",
     "shell.execute_reply.started": "2022-01-22T00:38:25.899519Z"
    },
    "papermill": {
     "duration": 0.053498,
     "end_time": "2022-01-22T02:34:46.245160",
     "exception": false,
     "start_time": "2022-01-22T02:34:46.191662",
     "status": "completed"
    },
    "tags": []
   },
   "outputs": [],
   "source": [
    "# https://www.kaggle.com/swarnabha/pytorch-text-classification-torchtext-lstm\n",
    "def clean_text (text):\n",
    "    text = text.str.lower() # lowercase\n",
    "    text = text.str.replace(r\"\\#\",\"\") # replaces hashtags\n",
    "    text = text.str.replace(r\"http\\S+\",\"URL\")  # remove URL addresses\n",
    "    text = text.str.replace(r\"@\",\"\")\n",
    "    text = text.str.replace(r\"[^A-Za-z0-9()!?\\'\\`\\\"]\", \" \")\n",
    "    text = text.str.replace(\"\\s{2,}\", \" \")\n",
    "    return text"
   ]
  },
  {
   "cell_type": "code",
   "execution_count": 5,
   "id": "afeb62ec",
   "metadata": {
    "execution": {
     "iopub.execute_input": "2022-01-22T02:34:46.354712Z",
     "iopub.status.busy": "2022-01-22T02:34:46.353841Z",
     "iopub.status.idle": "2022-01-22T02:34:46.356594Z",
     "shell.execute_reply": "2022-01-22T02:34:46.356104Z",
     "shell.execute_reply.started": "2022-01-22T00:38:41.400255Z"
    },
    "papermill": {
     "duration": 0.061847,
     "end_time": "2022-01-22T02:34:46.356707",
     "exception": false,
     "start_time": "2022-01-22T02:34:46.294860",
     "status": "completed"
    },
    "tags": []
   },
   "outputs": [],
   "source": [
    "# https://www.kaggle.com/shahules/basic-eda-cleaning-and-glove\n",
    "\n",
    "import re\n",
    "def remove_URL(text):\n",
    "    url = re.compile(r'https?://\\S+|www\\.\\S+')\n",
    "    return url.sub(r'',text)\n",
    "\n",
    "def remove_html(text):\n",
    "    html=re.compile(r'<.*?>')\n",
    "    return html.sub(r'',text)\n",
    "\n",
    "def remove_emoji(text):\n",
    "    emoji_pattern = re.compile(\"[\"\n",
    "                           u\"\\U0001F600-\\U0001F64F\"  # emoticons\n",
    "                           u\"\\U0001F300-\\U0001F5FF\"  # symbols & pictographs\n",
    "                           u\"\\U0001F680-\\U0001F6FF\"  # transport & map symbols\n",
    "                           u\"\\U0001F1E0-\\U0001F1FF\"  # flags (iOS)\n",
    "                           u\"\\U00002702-\\U000027B0\"\n",
    "                           u\"\\U000024C2-\\U0001F251\"\n",
    "                           \"]+\", flags=re.UNICODE)\n",
    "    return emoji_pattern.sub(r'', text)\n",
    "\n",
    "import string\n",
    "def remove_punct(text):\n",
    "    table=str.maketrans('','',string.punctuation)\n",
    "    return text.translate(table)"
   ]
  },
  {
   "cell_type": "code",
   "execution_count": 6,
   "id": "c44753fa",
   "metadata": {
    "execution": {
     "iopub.execute_input": "2022-01-22T02:34:46.479936Z",
     "iopub.status.busy": "2022-01-22T02:34:46.472683Z",
     "iopub.status.idle": "2022-01-22T02:34:46.807856Z",
     "shell.execute_reply": "2022-01-22T02:34:46.807417Z",
     "shell.execute_reply.started": "2022-01-22T00:38:41.950492Z"
    },
    "papermill": {
     "duration": 0.399314,
     "end_time": "2022-01-22T02:34:46.807980",
     "exception": false,
     "start_time": "2022-01-22T02:34:46.408666",
     "status": "completed"
    },
    "tags": []
   },
   "outputs": [
    {
     "name": "stderr",
     "output_type": "stream",
     "text": [
      "/opt/conda/lib/python3.7/site-packages/ipykernel_launcher.py:4: FutureWarning: The default value of regex will change from True to False in a future version.\n",
      "  after removing the cwd from sys.path.\n",
      "/opt/conda/lib/python3.7/site-packages/ipykernel_launcher.py:5: FutureWarning: The default value of regex will change from True to False in a future version.\n",
      "  \"\"\"\n",
      "/opt/conda/lib/python3.7/site-packages/ipykernel_launcher.py:7: FutureWarning: The default value of regex will change from True to False in a future version.\n",
      "  import sys\n",
      "/opt/conda/lib/python3.7/site-packages/ipykernel_launcher.py:8: FutureWarning: The default value of regex will change from True to False in a future version.\n",
      "  \n"
     ]
    }
   ],
   "source": [
    "train['text'] = clean_text(train['text'])\n",
    "test['text'] = clean_text(test['text'])\n",
    "\n",
    "train['text']=train['text'].apply(lambda x : remove_URL(x))\n",
    "test['text']=test['text'].apply(lambda x : remove_URL(x))\n",
    "\n",
    "train['text']=train['text'].apply(lambda x : remove_html(x))\n",
    "test['text']=test['text'].apply(lambda x : remove_html(x))\n",
    "\n",
    "train['text']=train['text'].apply(lambda x: remove_emoji(x))\n",
    "test['text']=test['text'].apply(lambda x: remove_emoji(x))\n",
    "\n",
    "train['text']=train['text'].apply(lambda x : remove_punct(x))\n",
    "test['text']=test['text'].apply(lambda x : remove_punct(x))"
   ]
  },
  {
   "cell_type": "code",
   "execution_count": 7,
   "id": "8f999e0f",
   "metadata": {
    "execution": {
     "iopub.execute_input": "2022-01-22T02:34:46.907973Z",
     "iopub.status.busy": "2022-01-22T02:34:46.907174Z",
     "iopub.status.idle": "2022-01-22T02:34:46.920428Z",
     "shell.execute_reply": "2022-01-22T02:34:46.919954Z",
     "shell.execute_reply.started": "2022-01-22T00:38:45.303656Z"
    },
    "papermill": {
     "duration": 0.065436,
     "end_time": "2022-01-22T02:34:46.920543",
     "exception": false,
     "start_time": "2022-01-22T02:34:46.855107",
     "status": "completed"
    },
    "tags": []
   },
   "outputs": [
    {
     "data": {
      "text/html": [
       "<div>\n",
       "<style scoped>\n",
       "    .dataframe tbody tr th:only-of-type {\n",
       "        vertical-align: middle;\n",
       "    }\n",
       "\n",
       "    .dataframe tbody tr th {\n",
       "        vertical-align: top;\n",
       "    }\n",
       "\n",
       "    .dataframe thead th {\n",
       "        text-align: right;\n",
       "    }\n",
       "</style>\n",
       "<table border=\"1\" class=\"dataframe\">\n",
       "  <thead>\n",
       "    <tr style=\"text-align: right;\">\n",
       "      <th></th>\n",
       "      <th>id</th>\n",
       "      <th>keyword</th>\n",
       "      <th>location</th>\n",
       "      <th>text</th>\n",
       "      <th>target</th>\n",
       "    </tr>\n",
       "  </thead>\n",
       "  <tbody>\n",
       "    <tr>\n",
       "      <th>0</th>\n",
       "      <td>1</td>\n",
       "      <td>NaN</td>\n",
       "      <td>NaN</td>\n",
       "      <td>our deeds are the reason of this earthquake ma...</td>\n",
       "      <td>1</td>\n",
       "    </tr>\n",
       "    <tr>\n",
       "      <th>1</th>\n",
       "      <td>4</td>\n",
       "      <td>NaN</td>\n",
       "      <td>NaN</td>\n",
       "      <td>forest fire near la ronge sask canada</td>\n",
       "      <td>1</td>\n",
       "    </tr>\n",
       "    <tr>\n",
       "      <th>2</th>\n",
       "      <td>5</td>\n",
       "      <td>NaN</td>\n",
       "      <td>NaN</td>\n",
       "      <td>all residents asked to shelter in place are be...</td>\n",
       "      <td>1</td>\n",
       "    </tr>\n",
       "    <tr>\n",
       "      <th>3</th>\n",
       "      <td>6</td>\n",
       "      <td>NaN</td>\n",
       "      <td>NaN</td>\n",
       "      <td>13 000 people receive wildfires evacuation ord...</td>\n",
       "      <td>1</td>\n",
       "    </tr>\n",
       "    <tr>\n",
       "      <th>4</th>\n",
       "      <td>7</td>\n",
       "      <td>NaN</td>\n",
       "      <td>NaN</td>\n",
       "      <td>just got sent this photo from ruby alaska as s...</td>\n",
       "      <td>1</td>\n",
       "    </tr>\n",
       "  </tbody>\n",
       "</table>\n",
       "</div>"
      ],
      "text/plain": [
       "   id keyword location                                               text  \\\n",
       "0   1     NaN      NaN  our deeds are the reason of this earthquake ma...   \n",
       "1   4     NaN      NaN              forest fire near la ronge sask canada   \n",
       "2   5     NaN      NaN  all residents asked to shelter in place are be...   \n",
       "3   6     NaN      NaN  13 000 people receive wildfires evacuation ord...   \n",
       "4   7     NaN      NaN  just got sent this photo from ruby alaska as s...   \n",
       "\n",
       "   target  \n",
       "0       1  \n",
       "1       1  \n",
       "2       1  \n",
       "3       1  \n",
       "4       1  "
      ]
     },
     "execution_count": 7,
     "metadata": {},
     "output_type": "execute_result"
    }
   ],
   "source": [
    "train.head()"
   ]
  },
  {
   "cell_type": "code",
   "execution_count": 8,
   "id": "fafaf1ec",
   "metadata": {
    "execution": {
     "iopub.execute_input": "2022-01-22T02:34:47.016796Z",
     "iopub.status.busy": "2022-01-22T02:34:47.015948Z",
     "iopub.status.idle": "2022-01-22T02:34:47.023583Z",
     "shell.execute_reply": "2022-01-22T02:34:47.023165Z",
     "shell.execute_reply.started": "2022-01-22T00:38:47.769285Z"
    },
    "papermill": {
     "duration": 0.057212,
     "end_time": "2022-01-22T02:34:47.023683",
     "exception": false,
     "start_time": "2022-01-22T02:34:46.966471",
     "status": "completed"
    },
    "tags": []
   },
   "outputs": [
    {
     "data": {
      "text/html": [
       "<div>\n",
       "<style scoped>\n",
       "    .dataframe tbody tr th:only-of-type {\n",
       "        vertical-align: middle;\n",
       "    }\n",
       "\n",
       "    .dataframe tbody tr th {\n",
       "        vertical-align: top;\n",
       "    }\n",
       "\n",
       "    .dataframe thead th {\n",
       "        text-align: right;\n",
       "    }\n",
       "</style>\n",
       "<table border=\"1\" class=\"dataframe\">\n",
       "  <thead>\n",
       "    <tr style=\"text-align: right;\">\n",
       "      <th></th>\n",
       "      <th>id</th>\n",
       "      <th>keyword</th>\n",
       "      <th>location</th>\n",
       "      <th>text</th>\n",
       "    </tr>\n",
       "  </thead>\n",
       "  <tbody>\n",
       "    <tr>\n",
       "      <th>0</th>\n",
       "      <td>0</td>\n",
       "      <td>NaN</td>\n",
       "      <td>NaN</td>\n",
       "      <td>just happened a terrible car crash</td>\n",
       "    </tr>\n",
       "    <tr>\n",
       "      <th>1</th>\n",
       "      <td>2</td>\n",
       "      <td>NaN</td>\n",
       "      <td>NaN</td>\n",
       "      <td>heard about earthquake is different cities sta...</td>\n",
       "    </tr>\n",
       "    <tr>\n",
       "      <th>2</th>\n",
       "      <td>3</td>\n",
       "      <td>NaN</td>\n",
       "      <td>NaN</td>\n",
       "      <td>there is a forest fire at spot pond geese are ...</td>\n",
       "    </tr>\n",
       "    <tr>\n",
       "      <th>3</th>\n",
       "      <td>9</td>\n",
       "      <td>NaN</td>\n",
       "      <td>NaN</td>\n",
       "      <td>apocalypse lighting spokane wildfires</td>\n",
       "    </tr>\n",
       "    <tr>\n",
       "      <th>4</th>\n",
       "      <td>11</td>\n",
       "      <td>NaN</td>\n",
       "      <td>NaN</td>\n",
       "      <td>typhoon soudelor kills 28 in china and taiwan</td>\n",
       "    </tr>\n",
       "  </tbody>\n",
       "</table>\n",
       "</div>"
      ],
      "text/plain": [
       "   id keyword location                                               text\n",
       "0   0     NaN      NaN                 just happened a terrible car crash\n",
       "1   2     NaN      NaN  heard about earthquake is different cities sta...\n",
       "2   3     NaN      NaN  there is a forest fire at spot pond geese are ...\n",
       "3   9     NaN      NaN              apocalypse lighting spokane wildfires\n",
       "4  11     NaN      NaN      typhoon soudelor kills 28 in china and taiwan"
      ]
     },
     "execution_count": 8,
     "metadata": {},
     "output_type": "execute_result"
    }
   ],
   "source": [
    "test.head()"
   ]
  },
  {
   "cell_type": "code",
   "execution_count": 9,
   "id": "2bca943c",
   "metadata": {
    "execution": {
     "iopub.execute_input": "2022-01-22T02:34:47.131786Z",
     "iopub.status.busy": "2022-01-22T02:34:47.131246Z",
     "iopub.status.idle": "2022-01-22T02:34:48.663713Z",
     "shell.execute_reply": "2022-01-22T02:34:48.663290Z",
     "shell.execute_reply.started": "2022-01-22T00:38:49.690754Z"
    },
    "papermill": {
     "duration": 1.593753,
     "end_time": "2022-01-22T02:34:48.663849",
     "exception": false,
     "start_time": "2022-01-22T02:34:47.070096",
     "status": "completed"
    },
    "tags": []
   },
   "outputs": [
    {
     "name": "stdout",
     "output_type": "stream",
     "text": [
      "[nltk_data] Downloading package stopwords to /usr/share/nltk_data...\n",
      "[nltk_data]   Package stopwords is already up-to-date!\n"
     ]
    }
   ],
   "source": [
    "# https://www.kaggle.com/vishalsiram50/fine-tuning-bert-88-accuracy\n",
    "import nltk\n",
    "nltk.download(\"stopwords\")\n",
    "from nltk.corpus import stopwords\n",
    "\n",
    "def text_preprocessing(s):\n",
    "    s = s.lower()\n",
    "    # Change 't to 'not'\n",
    "    s = re.sub(r\"\\'t\", \" not\", s)\n",
    "    # Remove @name\n",
    "    s = re.sub(r'(@.*?)[\\s]', ' ', s)\n",
    "    # Remove stopwords \n",
    "    s = \" \".join([word for word in s.split()\n",
    "                  if word not in stopwords.words('english')])\n",
    "    # Remove trailing whitespace\n",
    "    s = re.sub(r'\\s+', ' ', s).strip()\n",
    "    \n",
    "    return s"
   ]
  },
  {
   "cell_type": "code",
   "execution_count": 10,
   "id": "d0fd9c0a",
   "metadata": {
    "execution": {
     "iopub.execute_input": "2022-01-22T02:34:48.768256Z",
     "iopub.status.busy": "2022-01-22T02:34:48.767593Z",
     "iopub.status.idle": "2022-01-22T02:34:55.264579Z",
     "shell.execute_reply": "2022-01-22T02:34:55.264984Z",
     "shell.execute_reply.started": "2022-01-22T00:38:53.089663Z"
    },
    "papermill": {
     "duration": 6.554135,
     "end_time": "2022-01-22T02:34:55.265175",
     "exception": false,
     "start_time": "2022-01-22T02:34:48.711040",
     "status": "completed"
    },
    "tags": []
   },
   "outputs": [],
   "source": [
    "import transformers\n",
    "from transformers import BertModel, BertTokenizer, AdamW, get_linear_schedule_with_warmup, BertForSequenceClassification\n",
    "import torch\n",
    "import numpy as np\n",
    "import pandas as pd\n",
    "import seaborn as sns\n",
    "from pylab import rcParams\n",
    "import matplotlib.pyplot as plt\n",
    "from matplotlib import rc\n",
    "from sklearn.model_selection import train_test_split\n",
    "from sklearn.metrics import confusion_matrix, classification_report\n",
    "from collections import defaultdict\n",
    "from textwrap import wrap\n",
    "from torch import nn, optim\n",
    "from torch.utils.data import Dataset, DataLoader\n",
    "%matplotlib inline\n",
    "%config InlineBackend.figure_format='retina'\n"
   ]
  },
  {
   "cell_type": "code",
   "execution_count": 11,
   "id": "ec7a1198",
   "metadata": {
    "execution": {
     "iopub.execute_input": "2022-01-22T02:34:55.367344Z",
     "iopub.status.busy": "2022-01-22T02:34:55.366561Z",
     "iopub.status.idle": "2022-01-22T02:34:55.368960Z",
     "shell.execute_reply": "2022-01-22T02:34:55.368546Z",
     "shell.execute_reply.started": "2022-01-22T00:39:10.436777Z"
    },
    "papermill": {
     "duration": 0.055748,
     "end_time": "2022-01-22T02:34:55.369092",
     "exception": false,
     "start_time": "2022-01-22T02:34:55.313344",
     "status": "completed"
    },
    "tags": []
   },
   "outputs": [],
   "source": [
    "sns.set(style='whitegrid', palette='muted', font_scale=1.2)\n",
    "HAPPY_COLORS_PALETTE = [\"#01BEFE\", \"#FFDD00\", \"#FF7D00\", \"#FF006D\", \"#ADFF02\", \"#8F00FF\"]\n",
    "sns.set_palette(sns.color_palette(HAPPY_COLORS_PALETTE))\n",
    "rcParams['figure.figsize'] = 10, 6\n",
    "RANDOM_SEED = 42\n",
    "np.random.seed(RANDOM_SEED)"
   ]
  },
  {
   "cell_type": "code",
   "execution_count": 12,
   "id": "922f0251",
   "metadata": {
    "execution": {
     "iopub.execute_input": "2022-01-22T02:34:55.468068Z",
     "iopub.status.busy": "2022-01-22T02:34:55.467312Z",
     "iopub.status.idle": "2022-01-22T02:34:55.746511Z",
     "shell.execute_reply": "2022-01-22T02:34:55.746075Z",
     "shell.execute_reply.started": "2022-01-22T00:39:12.293654Z"
    },
    "papermill": {
     "duration": 0.330068,
     "end_time": "2022-01-22T02:34:55.746629",
     "exception": false,
     "start_time": "2022-01-22T02:34:55.416561",
     "status": "completed"
    },
    "tags": []
   },
   "outputs": [
    {
     "name": "stderr",
     "output_type": "stream",
     "text": [
      "/opt/conda/lib/python3.7/site-packages/seaborn/_decorators.py:43: FutureWarning: Pass the following variable as a keyword arg: x. From version 0.12, the only valid positional argument will be `data`, and passing other arguments without an explicit keyword will result in an error or misinterpretation.\n",
      "  FutureWarning\n"
     ]
    },
    {
     "data": {
      "text/plain": [
       "Text(0.5, 0, 'train target')"
      ]
     },
     "execution_count": 12,
     "metadata": {},
     "output_type": "execute_result"
    },
    {
     "data": {
      "image/png": "[encoded data removed]",
      "text/plain": [
       "<Figure size 720x432 with 1 Axes>"
      ]
     },
     "metadata": {
      "image/png": {
       "height": 381,
       "width": 633
      }
     },
     "output_type": "display_data"
    }
   ],
   "source": [
    "sns.countplot(train.target)\n",
    "plt.xlabel('train target')"
   ]
  },
  {
   "cell_type": "markdown",
   "id": "4a40c565",
   "metadata": {
    "papermill": {
     "duration": 0.048769,
     "end_time": "2022-01-22T02:34:55.844842",
     "exception": false,
     "start_time": "2022-01-22T02:34:55.796073",
     "status": "completed"
    },
    "tags": []
   },
   "source": [
    "Bert Tokenizer: \n",
    "* Add special tokens to separate sentences and do classification\n",
    "* Pass sequences of constant length (introduce padding)\n",
    "* Create array of 0s (pad token) and 1s (real token) called attention mask"
   ]
  },
  {
   "cell_type": "code",
   "execution_count": 13,
   "id": "5421a6a8",
   "metadata": {
    "execution": {
     "iopub.execute_input": "2022-01-22T02:34:55.947047Z",
     "iopub.status.busy": "2022-01-22T02:34:55.946309Z",
     "iopub.status.idle": "2022-01-22T02:34:55.949159Z",
     "shell.execute_reply": "2022-01-22T02:34:55.948404Z",
     "shell.execute_reply.started": "2022-01-22T00:39:15.219563Z"
    },
    "papermill": {
     "duration": 0.054917,
     "end_time": "2022-01-22T02:34:55.949304",
     "exception": false,
     "start_time": "2022-01-22T02:34:55.894387",
     "status": "completed"
    },
    "tags": []
   },
   "outputs": [],
   "source": [
    "PRE_TRAINED_MODEL_NAME = 'bert-base-uncased'"
   ]
  },
  {
   "cell_type": "code",
   "execution_count": 14,
   "id": "cf34fb5b",
   "metadata": {
    "execution": {
     "iopub.execute_input": "2022-01-22T02:34:56.054236Z",
     "iopub.status.busy": "2022-01-22T02:34:56.051898Z",
     "iopub.status.idle": "2022-01-22T02:34:57.476399Z",
     "shell.execute_reply": "2022-01-22T02:34:57.475917Z",
     "shell.execute_reply.started": "2022-01-22T00:39:20.066961Z"
    },
    "papermill": {
     "duration": 1.475689,
     "end_time": "2022-01-22T02:34:57.476532",
     "exception": false,
     "start_time": "2022-01-22T02:34:56.000843",
     "status": "completed"
    },
    "tags": []
   },
   "outputs": [
    {
     "data": {
      "application/vnd.jupyter.widget-view+json": {
       "model_id": "86bb278f2166466c8d569e56d16fd250",
       "version_major": 2,
       "version_minor": 0
      },
      "text/plain": [
       "Downloading:   0%|          | 0.00/226k [00:00<?, ?B/s]"
      ]
     },
     "metadata": {},
     "output_type": "display_data"
    },
    {
     "data": {
      "application/vnd.jupyter.widget-view+json": {
       "model_id": "bd767fc10bfa4b96b48946ed1a9b2807",
       "version_major": 2,
       "version_minor": 0
      },
      "text/plain": [
       "Downloading:   0%|          | 0.00/28.0 [00:00<?, ?B/s]"
      ]
     },
     "metadata": {},
     "output_type": "display_data"
    },
    {
     "data": {
      "application/vnd.jupyter.widget-view+json": {
       "model_id": "44d6de843080428c8e784006c3668084",
       "version_major": 2,
       "version_minor": 0
      },
      "text/plain": [
       "Downloading:   0%|          | 0.00/455k [00:00<?, ?B/s]"
      ]
     },
     "metadata": {},
     "output_type": "display_data"
    },
    {
     "data": {
      "application/vnd.jupyter.widget-view+json": {
       "model_id": "ca202e668ec545c584fe3c5e28481165",
       "version_major": 2,
       "version_minor": 0
      },
      "text/plain": [
       "Downloading:   0%|          | 0.00/570 [00:00<?, ?B/s]"
      ]
     },
     "metadata": {},
     "output_type": "display_data"
    }
   ],
   "source": [
    "tokenizer = BertTokenizer.from_pretrained(PRE_TRAINED_MODEL_NAME)"
   ]
  },
  {
   "cell_type": "code",
   "execution_count": 15,
   "id": "743b80ed",
   "metadata": {
    "execution": {
     "iopub.execute_input": "2022-01-22T02:34:57.587395Z",
     "iopub.status.busy": "2022-01-22T02:34:57.586516Z",
     "iopub.status.idle": "2022-01-22T02:34:57.590670Z",
     "shell.execute_reply": "2022-01-22T02:34:57.590109Z",
     "shell.execute_reply.started": "2022-01-22T00:39:30.275342Z"
    },
    "papermill": {
     "duration": 0.062915,
     "end_time": "2022-01-22T02:34:57.590820",
     "exception": false,
     "start_time": "2022-01-22T02:34:57.527905",
     "status": "completed"
    },
    "tags": []
   },
   "outputs": [
    {
     "name": "stdout",
     "output_type": "stream",
     "text": [
      " Sentence: When was I last outside? I am stuck at home for 2 weeks.\n",
      "   Tokens: ['when', 'was', 'i', 'last', 'outside', '?', 'i', 'am', 'stuck', 'at', 'home', 'for', '2', 'weeks', '.']\n",
      "Token IDs: [2043, 2001, 1045, 2197, 2648, 1029, 1045, 2572, 5881, 2012, 2188, 2005, 1016, 3134, 1012]\n"
     ]
    }
   ],
   "source": [
    "sample_txt = 'When was I last outside? I am stuck at home for 2 weeks.'\n",
    "tokens = tokenizer.tokenize(sample_txt)\n",
    "token_ids = tokenizer.convert_tokens_to_ids(tokens)\n",
    "print(f' Sentence: {sample_txt}')\n",
    "print(f'   Tokens: {tokens}')\n",
    "print(f'Token IDs: {token_ids}')"
   ]
  },
  {
   "cell_type": "markdown",
   "id": "b6c75c66",
   "metadata": {
    "papermill": {
     "duration": 0.05075,
     "end_time": "2022-01-22T02:34:57.693652",
     "exception": false,
     "start_time": "2022-01-22T02:34:57.642902",
     "status": "completed"
    },
    "tags": []
   },
   "source": [
    "https://curiousily.com/posts/sentiment-analysis-with-bert-and-hugging-face-using-pytorch-and-python/\n",
    "\n",
    "Special Tokens:\n",
    "\n",
    "[SEP] - marker for ending of a sentence\n",
    "\n",
    "[CLS] - we must add this token to the start of each sentence, so BERT knows we’re doing classification\n",
    "\n",
    "[PAD] - There is also a special token for padding\n",
    "\n",
    "BERT understands tokens that were in the training set. Everything else can be encoded using the [UNK] (unknown) token"
   ]
  },
  {
   "attachments": {
    "c30e8f11-f363-4841-8858-bff8efc1d790.PNG": {
     "image/png": "[encoded data removed]"
    }
   },
   "cell_type": "markdown",
   "id": "d6ca4078",
   "metadata": {
    "papermill": {
     "duration": 0.051079,
     "end_time": "2022-01-22T02:34:57.796355",
     "exception": false,
     "start_time": "2022-01-22T02:34:57.745276",
     "status": "completed"
    },
    "tags": []
   },
   "source": [
    "![bert-tokens.PNG](attachment:c30e8f11-f363-4841-8858-bff8efc1d790.PNG)"
   ]
  },
  {
   "cell_type": "markdown",
   "id": "0f245f80",
   "metadata": {
    "papermill": {
     "duration": 0.051238,
     "end_time": "2022-01-22T02:34:57.898389",
     "exception": false,
     "start_time": "2022-01-22T02:34:57.847151",
     "status": "completed"
    },
    "tags": []
   },
   "source": [
    "(https://www.analyticsvidhya.com/blog/2021/05/all-you-need-to-know-about-bert/#:~:text=%5BCLS%5D%20is%20a%20special%20classification,segment%20embeddings%20for%20each%20token)"
   ]
  },
  {
   "cell_type": "code",
   "execution_count": 16,
   "id": "af822956",
   "metadata": {
    "execution": {
     "iopub.execute_input": "2022-01-22T02:34:58.006658Z",
     "iopub.status.busy": "2022-01-22T02:34:58.005341Z",
     "iopub.status.idle": "2022-01-22T02:34:58.009609Z",
     "shell.execute_reply": "2022-01-22T02:34:58.010195Z",
     "shell.execute_reply.started": "2022-01-22T00:39:35.348121Z"
    },
    "papermill": {
     "duration": 0.061261,
     "end_time": "2022-01-22T02:34:58.010358",
     "exception": false,
     "start_time": "2022-01-22T02:34:57.949097",
     "status": "completed"
    },
    "tags": []
   },
   "outputs": [
    {
     "name": "stdout",
     "output_type": "stream",
     "text": [
      "[SEP] 102\n",
      "[CLS] 101\n",
      "[PAD] 0\n",
      "[UNK] 100\n"
     ]
    }
   ],
   "source": [
    "print(tokenizer.sep_token, tokenizer.sep_token_id)\n",
    "print(tokenizer.cls_token, tokenizer.cls_token_id)\n",
    "print(tokenizer.pad_token, tokenizer.pad_token_id)\n",
    "print(tokenizer.unk_token, tokenizer.unk_token_id)"
   ]
  },
  {
   "cell_type": "code",
   "execution_count": 17,
   "id": "64ca81d5",
   "metadata": {
    "execution": {
     "iopub.execute_input": "2022-01-22T02:34:58.119598Z",
     "iopub.status.busy": "2022-01-22T02:34:58.118960Z",
     "iopub.status.idle": "2022-01-22T02:34:58.134046Z",
     "shell.execute_reply": "2022-01-22T02:34:58.134495Z",
     "shell.execute_reply.started": "2022-01-22T00:39:37.049526Z"
    },
    "papermill": {
     "duration": 0.07197,
     "end_time": "2022-01-22T02:34:58.134613",
     "exception": false,
     "start_time": "2022-01-22T02:34:58.062643",
     "status": "completed"
    },
    "tags": []
   },
   "outputs": [
    {
     "data": {
      "text/plain": [
       "dict_keys(['input_ids', 'attention_mask'])"
      ]
     },
     "execution_count": 17,
     "metadata": {},
     "output_type": "execute_result"
    }
   ],
   "source": [
    "# All of that work can be done using the encode_plus() method\n",
    "encoding = tokenizer.encode_plus(\n",
    "  text=text_preprocessing(sample_txt),\n",
    "  max_length=32,           # max length of sentence \n",
    "  add_special_tokens=True, # Add '[CLS]' and '[SEP]'\n",
    "  return_token_type_ids=False,\n",
    "  padding='max_length',\n",
    "  return_attention_mask=True,\n",
    "  return_tensors='pt',  # Return PyTorch tensors\n",
    ")\n",
    "encoding.keys()"
   ]
  },
  {
   "cell_type": "code",
   "execution_count": 18,
   "id": "53231b8c",
   "metadata": {
    "execution": {
     "iopub.execute_input": "2022-01-22T02:34:58.248757Z",
     "iopub.status.busy": "2022-01-22T02:34:58.248187Z",
     "iopub.status.idle": "2022-01-22T02:34:58.260971Z",
     "shell.execute_reply": "2022-01-22T02:34:58.260389Z",
     "shell.execute_reply.started": "2022-01-22T00:39:38.991347Z"
    },
    "papermill": {
     "duration": 0.074954,
     "end_time": "2022-01-22T02:34:58.261123",
     "exception": false,
     "start_time": "2022-01-22T02:34:58.186169",
     "status": "completed"
    },
    "tags": []
   },
   "outputs": [
    {
     "name": "stdout",
     "output_type": "stream",
     "text": [
      "32\n"
     ]
    },
    {
     "data": {
      "text/plain": [
       "tensor([ 101, 2197, 2648, 1029, 5881, 2188, 1016, 3134, 1012,  102,    0,    0,\n",
       "           0,    0,    0,    0,    0,    0,    0,    0,    0,    0,    0,    0,\n",
       "           0,    0,    0,    0,    0,    0,    0,    0])"
      ]
     },
     "execution_count": 18,
     "metadata": {},
     "output_type": "execute_result"
    }
   ],
   "source": [
    "# The token ids are now stored in a Tensor and padded to a length of 32\n",
    "print(len(encoding['input_ids'][0]))\n",
    "encoding['input_ids'][0]"
   ]
  },
  {
   "cell_type": "code",
   "execution_count": 19,
   "id": "c53c77b6",
   "metadata": {
    "execution": {
     "iopub.execute_input": "2022-01-22T02:34:58.370407Z",
     "iopub.status.busy": "2022-01-22T02:34:58.369507Z",
     "iopub.status.idle": "2022-01-22T02:34:58.374823Z",
     "shell.execute_reply": "2022-01-22T02:34:58.375363Z",
     "shell.execute_reply.started": "2022-01-22T00:39:40.743149Z"
    },
    "papermill": {
     "duration": 0.062143,
     "end_time": "2022-01-22T02:34:58.375523",
     "exception": false,
     "start_time": "2022-01-22T02:34:58.313380",
     "status": "completed"
    },
    "tags": []
   },
   "outputs": [
    {
     "name": "stdout",
     "output_type": "stream",
     "text": [
      "32\n"
     ]
    },
    {
     "data": {
      "text/plain": [
       "tensor([[1, 1, 1, 1, 1, 1, 1, 1, 1, 1, 0, 0, 0, 0, 0, 0, 0, 0, 0, 0, 0, 0, 0, 0,\n",
       "         0, 0, 0, 0, 0, 0, 0, 0]])"
      ]
     },
     "execution_count": 19,
     "metadata": {},
     "output_type": "execute_result"
    }
   ],
   "source": [
    "# The attention mask has the same length:\n",
    "print(len(encoding['attention_mask'][0]))\n",
    "encoding['attention_mask']"
   ]
  },
  {
   "cell_type": "code",
   "execution_count": 20,
   "id": "cc488a63",
   "metadata": {
    "execution": {
     "iopub.execute_input": "2022-01-22T02:34:58.486162Z",
     "iopub.status.busy": "2022-01-22T02:34:58.485325Z",
     "iopub.status.idle": "2022-01-22T02:34:58.488985Z",
     "shell.execute_reply": "2022-01-22T02:34:58.488564Z",
     "shell.execute_reply.started": "2022-01-22T00:39:42.461343Z"
    },
    "papermill": {
     "duration": 0.059988,
     "end_time": "2022-01-22T02:34:58.489153",
     "exception": false,
     "start_time": "2022-01-22T02:34:58.429165",
     "status": "completed"
    },
    "tags": []
   },
   "outputs": [
    {
     "name": "stdout",
     "output_type": "stream",
     "text": [
      "['[CLS]', 'last', 'outside', '?', 'stuck', 'home', '2', 'weeks', '.', '[SEP]', '[PAD]', '[PAD]', '[PAD]', '[PAD]', '[PAD]', '[PAD]', '[PAD]', '[PAD]', '[PAD]', '[PAD]', '[PAD]', '[PAD]', '[PAD]', '[PAD]', '[PAD]', '[PAD]', '[PAD]', '[PAD]', '[PAD]', '[PAD]', '[PAD]', '[PAD]']\n"
     ]
    }
   ],
   "source": [
    "# We can inverse the tokenization to have a look at the special tokens\n",
    "print(tokenizer.convert_ids_to_tokens(encoding['input_ids'][0]))"
   ]
  },
  {
   "cell_type": "code",
   "execution_count": 21,
   "id": "810b2dad",
   "metadata": {
    "execution": {
     "iopub.execute_input": "2022-01-22T02:34:58.600996Z",
     "iopub.status.busy": "2022-01-22T02:34:58.600254Z",
     "iopub.status.idle": "2022-01-22T02:35:05.417259Z",
     "shell.execute_reply": "2022-01-22T02:35:05.416764Z",
     "shell.execute_reply.started": "2022-01-22T00:39:43.907447Z"
    },
    "papermill": {
     "duration": 6.875384,
     "end_time": "2022-01-22T02:35:05.417397",
     "exception": false,
     "start_time": "2022-01-22T02:34:58.542013",
     "status": "completed"
    },
    "tags": []
   },
   "outputs": [
    {
     "name": "stderr",
     "output_type": "stream",
     "text": [
      "Truncation was not explicitly activated but `max_length` is provided a specific value, please use `truncation=True` to explicitly truncate examples to max length. Defaulting to 'longest_first' truncation strategy. If you encode pairs of sequences (GLUE-style) with the tokenizer you can select this strategy more precisely by providing a specific strategy to `truncation`.\n"
     ]
    }
   ],
   "source": [
    "# Choosing max Sequence Length for our data set \n",
    "# BERT works with fixed-length sequences. We’ll use a simple strategy to choose the max length.\n",
    "all_tweets = np.concatenate([train.text.values, test.text.values])\n",
    "\n",
    "token_lens = []\n",
    "for txt in all_tweets:\n",
    "  tokens = tokenizer.encode(txt, max_length=512)\n",
    "  token_lens.append(len(tokens))"
   ]
  },
  {
   "cell_type": "code",
   "execution_count": 22,
   "id": "0cec7df7",
   "metadata": {
    "execution": {
     "iopub.execute_input": "2022-01-22T02:35:05.536783Z",
     "iopub.status.busy": "2022-01-22T02:35:05.536217Z",
     "iopub.status.idle": "2022-01-22T02:35:06.104125Z",
     "shell.execute_reply": "2022-01-22T02:35:06.104557Z",
     "shell.execute_reply.started": "2022-01-22T00:39:56.981753Z"
    },
    "papermill": {
     "duration": 0.631332,
     "end_time": "2022-01-22T02:35:06.104703",
     "exception": false,
     "start_time": "2022-01-22T02:35:05.473371",
     "status": "completed"
    },
    "tags": []
   },
   "outputs": [
    {
     "name": "stderr",
     "output_type": "stream",
     "text": [
      "/opt/conda/lib/python3.7/site-packages/seaborn/distributions.py:2619: FutureWarning: `distplot` is a deprecated function and will be removed in a future version. Please adapt your code to use either `displot` (a figure-level function with similar flexibility) or `histplot` (an axes-level function for histograms).\n",
      "  warnings.warn(msg, FutureWarning)\n"
     ]
    },
    {
     "data": {
      "text/plain": [
       "Text(0.5, 0, 'Token count')"
      ]
     },
     "execution_count": 22,
     "metadata": {},
     "output_type": "execute_result"
    },
    {
     "data": {
      "image/png": "[encoded data removed]",
      "text/plain": [
       "<Figure size 720x432 with 1 Axes>"
      ]
     },
     "metadata": {
      "image/png": {
       "height": 381,
       "width": 629
      }
     },
     "output_type": "display_data"
    }
   ],
   "source": [
    "# plot the distribution\n",
    "sns.distplot(token_lens)\n",
    "plt.xlim([0, 256]);\n",
    "plt.xlabel('Token count')"
   ]
  },
  {
   "cell_type": "code",
   "execution_count": 23,
   "id": "2392b8bc",
   "metadata": {
    "execution": {
     "iopub.execute_input": "2022-01-22T02:35:06.224580Z",
     "iopub.status.busy": "2022-01-22T02:35:06.223941Z",
     "iopub.status.idle": "2022-01-22T02:35:06.226524Z",
     "shell.execute_reply": "2022-01-22T02:35:06.226928Z",
     "shell.execute_reply.started": "2022-01-22T00:40:00.493982Z"
    },
    "papermill": {
     "duration": 0.066805,
     "end_time": "2022-01-22T02:35:06.227080",
     "exception": false,
     "start_time": "2022-01-22T02:35:06.160275",
     "status": "completed"
    },
    "tags": []
   },
   "outputs": [
    {
     "data": {
      "text/plain": [
       "55"
      ]
     },
     "execution_count": 23,
     "metadata": {},
     "output_type": "execute_result"
    }
   ],
   "source": [
    "MAX_LEN = max(token_lens)\n",
    "MAX_LEN"
   ]
  },
  {
   "cell_type": "markdown",
   "id": "90d561d8",
   "metadata": {
    "papermill": {
     "duration": 0.054686,
     "end_time": "2022-01-22T02:35:06.336242",
     "exception": false,
     "start_time": "2022-01-22T02:35:06.281556",
     "status": "completed"
    },
    "tags": []
   },
   "source": [
    "Create PyTorch dataset"
   ]
  },
  {
   "cell_type": "code",
   "execution_count": 24,
   "id": "2c808c5f",
   "metadata": {
    "execution": {
     "iopub.execute_input": "2022-01-22T02:35:06.459543Z",
     "iopub.status.busy": "2022-01-22T02:35:06.458768Z",
     "iopub.status.idle": "2022-01-22T02:35:06.461267Z",
     "shell.execute_reply": "2022-01-22T02:35:06.460833Z",
     "shell.execute_reply.started": "2022-01-22T00:40:02.234455Z"
    },
    "papermill": {
     "duration": 0.070152,
     "end_time": "2022-01-22T02:35:06.461381",
     "exception": false,
     "start_time": "2022-01-22T02:35:06.391229",
     "status": "completed"
    },
    "tags": []
   },
   "outputs": [],
   "source": [
    "class TweetDataset(Dataset):\n",
    "  def __init__(self, text, targets, tokenizer, max_len):\n",
    "    self.text = text\n",
    "    self.targets = targets\n",
    "    self.tokenizer = tokenizer\n",
    "    self.max_len = max_len\n",
    "    \n",
    "  def __len__(self):\n",
    "    return len(self.text)\n",
    "\n",
    "\n",
    "  def __getitem__(self, item):\n",
    "    text = str(self.text[item])\n",
    "    target = self.targets[item]\n",
    "    encoding = self.tokenizer.encode_plus(\n",
    "      text=text_preprocessing(text),\n",
    "      add_special_tokens=True,\n",
    "      max_length=self.max_len,\n",
    "      return_token_type_ids=False,\n",
    "      padding='max_length',\n",
    "      return_attention_mask=True,\n",
    "      return_tensors='pt',\n",
    "    )\n",
    "    \n",
    "    \n",
    "    return {\n",
    "      'text': text,\n",
    "      'input_ids': encoding['input_ids'].flatten(),\n",
    "      'attention_mask': encoding['attention_mask'].flatten(),\n",
    "      'targets': torch.tensor(target, dtype=torch.long)\n",
    "    }"
   ]
  },
  {
   "cell_type": "code",
   "execution_count": 25,
   "id": "5c26ac2f",
   "metadata": {
    "execution": {
     "iopub.execute_input": "2022-01-22T02:35:06.580997Z",
     "iopub.status.busy": "2022-01-22T02:35:06.580328Z",
     "iopub.status.idle": "2022-01-22T02:35:06.582860Z",
     "shell.execute_reply": "2022-01-22T02:35:06.583391Z",
     "shell.execute_reply.started": "2022-01-22T00:40:22.931992Z"
    },
    "papermill": {
     "duration": 0.066769,
     "end_time": "2022-01-22T02:35:06.583518",
     "exception": false,
     "start_time": "2022-01-22T02:35:06.516749",
     "status": "completed"
    },
    "tags": []
   },
   "outputs": [
    {
     "data": {
      "text/plain": [
       "((6851, 5), (762, 5), (3263, 4))"
      ]
     },
     "execution_count": 25,
     "metadata": {},
     "output_type": "execute_result"
    }
   ],
   "source": [
    "df_train, df_val = train_test_split(\n",
    "  train,\n",
    "  test_size=0.1,\n",
    "  random_state=RANDOM_SEED\n",
    ")\n",
    "\n",
    "df_test = test\n",
    "df_train.shape, df_val.shape, df_test.shape"
   ]
  },
  {
   "cell_type": "code",
   "execution_count": 26,
   "id": "1175f4d1",
   "metadata": {
    "execution": {
     "iopub.execute_input": "2022-01-22T02:35:06.699058Z",
     "iopub.status.busy": "2022-01-22T02:35:06.698251Z",
     "iopub.status.idle": "2022-01-22T02:35:06.700711Z",
     "shell.execute_reply": "2022-01-22T02:35:06.700291Z",
     "shell.execute_reply.started": "2022-01-22T00:40:25.977818Z"
    },
    "papermill": {
     "duration": 0.061654,
     "end_time": "2022-01-22T02:35:06.700819",
     "exception": false,
     "start_time": "2022-01-22T02:35:06.639165",
     "status": "completed"
    },
    "tags": []
   },
   "outputs": [],
   "source": [
    "BATCH_SIZE = 16"
   ]
  },
  {
   "cell_type": "code",
   "execution_count": 27,
   "id": "4ed01c12",
   "metadata": {
    "execution": {
     "iopub.execute_input": "2022-01-22T02:35:06.816170Z",
     "iopub.status.busy": "2022-01-22T02:35:06.815383Z",
     "iopub.status.idle": "2022-01-22T02:35:06.817331Z",
     "shell.execute_reply": "2022-01-22T02:35:06.817698Z",
     "shell.execute_reply.started": "2022-01-22T00:41:06.295258Z"
    },
    "papermill": {
     "duration": 0.061979,
     "end_time": "2022-01-22T02:35:06.817835",
     "exception": false,
     "start_time": "2022-01-22T02:35:06.755856",
     "status": "completed"
    },
    "tags": []
   },
   "outputs": [],
   "source": [
    "def create_data_loader_train(df, tokenizer, max_len, batch_size):\n",
    "  dataset = TweetDataset(\n",
    "    text=df.text.to_numpy(),\n",
    "    targets=df.target.to_numpy(),\n",
    "    tokenizer=tokenizer,\n",
    "    max_len=max_len\n",
    "  )\n",
    "\n",
    "  return DataLoader(\n",
    "    dataset,\n",
    "    batch_size=batch_size,\n",
    "    num_workers=2\n",
    "  )"
   ]
  },
  {
   "cell_type": "code",
   "execution_count": 28,
   "id": "9b1a5589",
   "metadata": {
    "execution": {
     "iopub.execute_input": "2022-01-22T02:35:06.935058Z",
     "iopub.status.busy": "2022-01-22T02:35:06.934399Z",
     "iopub.status.idle": "2022-01-22T02:35:06.936543Z",
     "shell.execute_reply": "2022-01-22T02:35:06.936905Z",
     "shell.execute_reply.started": "2022-01-22T00:40:10.33242Z"
    },
    "papermill": {
     "duration": 0.063628,
     "end_time": "2022-01-22T02:35:06.937047",
     "exception": false,
     "start_time": "2022-01-22T02:35:06.873419",
     "status": "completed"
    },
    "tags": []
   },
   "outputs": [],
   "source": [
    "class TweetDatasetTest(Dataset):\n",
    "  def __init__(self, text, tokenizer, max_len):\n",
    "    self.text = text\n",
    "    self.tokenizer = tokenizer\n",
    "    self.max_len = max_len\n",
    "    \n",
    "  def __len__(self):\n",
    "    return len(self.text)\n",
    "\n",
    "\n",
    "  def __getitem__(self, item):\n",
    "    text = str(self.text[item])\n",
    "    encoding = self.tokenizer.encode_plus(\n",
    "      text=text_preprocessing(text),\n",
    "      add_special_tokens=True,\n",
    "      max_length=self.max_len,\n",
    "      return_token_type_ids=False,\n",
    "      padding='max_length',\n",
    "      return_attention_mask=True,\n",
    "      return_tensors='pt'\n",
    "    )\n",
    "    \n",
    "    \n",
    "    return {\n",
    "      'text': text,\n",
    "      'input_ids': encoding['input_ids'].flatten(),\n",
    "      'attention_mask': encoding['attention_mask'].flatten()\n",
    "    }"
   ]
  },
  {
   "cell_type": "code",
   "execution_count": 29,
   "id": "2a78672c",
   "metadata": {
    "execution": {
     "iopub.execute_input": "2022-01-22T02:35:07.063226Z",
     "iopub.status.busy": "2022-01-22T02:35:07.062296Z",
     "iopub.status.idle": "2022-01-22T02:35:07.064315Z",
     "shell.execute_reply": "2022-01-22T02:35:07.064828Z",
     "shell.execute_reply.started": "2022-01-22T00:41:09.099696Z"
    },
    "papermill": {
     "duration": 0.070491,
     "end_time": "2022-01-22T02:35:07.064974",
     "exception": false,
     "start_time": "2022-01-22T02:35:06.994483",
     "status": "completed"
    },
    "tags": []
   },
   "outputs": [],
   "source": [
    "def create_data_loader_test(df, tokenizer, max_len, batch_size):\n",
    "  dataset = TweetDatasetTest(\n",
    "    text=df.text.to_numpy(),\n",
    "    tokenizer=tokenizer,\n",
    "    max_len=max_len\n",
    "  )\n",
    "\n",
    "  return DataLoader(\n",
    "    dataset,\n",
    "    batch_size=batch_size,\n",
    "    num_workers=2\n",
    "  )"
   ]
  },
  {
   "cell_type": "code",
   "execution_count": 30,
   "id": "db01ca67",
   "metadata": {
    "execution": {
     "iopub.execute_input": "2022-01-22T02:35:07.203131Z",
     "iopub.status.busy": "2022-01-22T02:35:07.202264Z",
     "iopub.status.idle": "2022-01-22T02:35:07.204493Z",
     "shell.execute_reply": "2022-01-22T02:35:07.204911Z",
     "shell.execute_reply.started": "2022-01-22T00:41:10.503647Z"
    },
    "papermill": {
     "duration": 0.069238,
     "end_time": "2022-01-22T02:35:07.205065",
     "exception": false,
     "start_time": "2022-01-22T02:35:07.135827",
     "status": "completed"
    },
    "tags": []
   },
   "outputs": [],
   "source": [
    "train_data_loader = create_data_loader_train(df_train, tokenizer, MAX_LEN, BATCH_SIZE)\n",
    "val_data_loader = create_data_loader_train(df_val, tokenizer, MAX_LEN, BATCH_SIZE)\n",
    "test_data_loader = create_data_loader_test(df_test, tokenizer, MAX_LEN, BATCH_SIZE)"
   ]
  },
  {
   "cell_type": "code",
   "execution_count": 31,
   "id": "959364a9",
   "metadata": {
    "execution": {
     "iopub.execute_input": "2022-01-22T02:35:07.335150Z",
     "iopub.status.busy": "2022-01-22T02:35:07.334539Z",
     "iopub.status.idle": "2022-01-22T02:35:07.554046Z",
     "shell.execute_reply": "2022-01-22T02:35:07.553566Z",
     "shell.execute_reply.started": "2022-01-22T00:41:12.790392Z"
    },
    "papermill": {
     "duration": 0.286238,
     "end_time": "2022-01-22T02:35:07.554178",
     "exception": false,
     "start_time": "2022-01-22T02:35:07.267940",
     "status": "completed"
    },
    "tags": []
   },
   "outputs": [
    {
     "data": {
      "text/plain": [
       "dict_keys(['text', 'input_ids', 'attention_mask', 'targets'])"
      ]
     },
     "execution_count": 31,
     "metadata": {},
     "output_type": "execute_result"
    }
   ],
   "source": [
    "import warnings\n",
    "warnings.filterwarnings(\"ignore\")\n",
    "data = next(iter(train_data_loader))\n",
    "data.keys()"
   ]
  },
  {
   "cell_type": "code",
   "execution_count": 32,
   "id": "8f64810f",
   "metadata": {
    "execution": {
     "iopub.execute_input": "2022-01-22T02:35:07.670571Z",
     "iopub.status.busy": "2022-01-22T02:35:07.669682Z",
     "iopub.status.idle": "2022-01-22T02:35:07.673956Z",
     "shell.execute_reply": "2022-01-22T02:35:07.674534Z",
     "shell.execute_reply.started": "2022-01-22T00:41:14.977906Z"
    },
    "papermill": {
     "duration": 0.06441,
     "end_time": "2022-01-22T02:35:07.674696",
     "exception": false,
     "start_time": "2022-01-22T02:35:07.610286",
     "status": "completed"
    },
    "tags": []
   },
   "outputs": [
    {
     "name": "stdout",
     "output_type": "stream",
     "text": [
      "torch.Size([16, 55])\n",
      "torch.Size([16, 55])\n",
      "torch.Size([16])\n"
     ]
    }
   ],
   "source": [
    "print(data['input_ids'].shape)\n",
    "print(data['attention_mask'].shape)\n",
    "print(data['targets'].shape)"
   ]
  },
  {
   "cell_type": "markdown",
   "id": "5ad8f1b0",
   "metadata": {
    "papermill": {
     "duration": 0.055273,
     "end_time": "2022-01-22T02:35:07.785747",
     "exception": false,
     "start_time": "2022-01-22T02:35:07.730474",
     "status": "completed"
    },
    "tags": []
   },
   "source": [
    "Bert Model"
   ]
  },
  {
   "cell_type": "code",
   "execution_count": 33,
   "id": "132a5c71",
   "metadata": {
    "execution": {
     "iopub.execute_input": "2022-01-22T02:35:07.903637Z",
     "iopub.status.busy": "2022-01-22T02:35:07.903135Z",
     "iopub.status.idle": "2022-01-22T02:35:24.403414Z",
     "shell.execute_reply": "2022-01-22T02:35:24.402672Z",
     "shell.execute_reply.started": "2022-01-22T00:41:17.34694Z"
    },
    "papermill": {
     "duration": 16.562815,
     "end_time": "2022-01-22T02:35:24.403601",
     "exception": false,
     "start_time": "2022-01-22T02:35:07.840786",
     "status": "completed"
    },
    "tags": []
   },
   "outputs": [
    {
     "data": {
      "application/vnd.jupyter.widget-view+json": {
       "model_id": "ea97f53fff8d461d9a07977982684589",
       "version_major": 2,
       "version_minor": 0
      },
      "text/plain": [
       "Downloading:   0%|          | 0.00/420M [00:00<?, ?B/s]"
      ]
     },
     "metadata": {},
     "output_type": "display_data"
    },
    {
     "name": "stderr",
     "output_type": "stream",
     "text": [
      "Some weights of the model checkpoint at bert-base-uncased were not used when initializing BertModel: ['cls.predictions.decoder.weight', 'cls.predictions.transform.LayerNorm.bias', 'cls.predictions.transform.dense.weight', 'cls.seq_relationship.weight', 'cls.predictions.bias', 'cls.seq_relationship.bias', 'cls.predictions.transform.LayerNorm.weight', 'cls.predictions.transform.dense.bias']\n",
      "- This IS expected if you are initializing BertModel from the checkpoint of a model trained on another task or with another architecture (e.g. initializing a BertForSequenceClassification model from a BertForPreTraining model).\n",
      "- This IS NOT expected if you are initializing BertModel from the checkpoint of a model that you expect to be exactly identical (initializing a BertForSequenceClassification model from a BertForSequenceClassification model).\n"
     ]
    }
   ],
   "source": [
    "bert_model = BertModel.from_pretrained(PRE_TRAINED_MODEL_NAME)"
   ]
  },
  {
   "cell_type": "code",
   "execution_count": 34,
   "id": "2bad71f3",
   "metadata": {
    "execution": {
     "iopub.execute_input": "2022-01-22T02:35:24.527999Z",
     "iopub.status.busy": "2022-01-22T02:35:24.527458Z",
     "iopub.status.idle": "2022-01-22T02:35:24.773865Z",
     "shell.execute_reply": "2022-01-22T02:35:24.774420Z",
     "shell.execute_reply.started": "2022-01-22T00:48:15.95605Z"
    },
    "papermill": {
     "duration": 0.311807,
     "end_time": "2022-01-22T02:35:24.774616",
     "exception": false,
     "start_time": "2022-01-22T02:35:24.462809",
     "status": "completed"
    },
    "tags": []
   },
   "outputs": [
    {
     "name": "stdout",
     "output_type": "stream",
     "text": [
      "<class 'transformers.modeling_outputs.BaseModelOutputWithPoolingAndCrossAttentions'>\n",
      "odict_keys(['last_hidden_state', 'pooler_output'])\n",
      "768\n"
     ]
    }
   ],
   "source": [
    "# return last state of encoder and pooled output \n",
    "# The last_hidden_state is a sequence of hidden states of the last layer of the model. \n",
    "# Obtaining the pooled_output is done by applying the BertPooler on last_hidden_state\n",
    "\n",
    "# We have the hidden state for each of our 32 tokens (the length of our example sequence).\n",
    "# 768 is the number of hidden units in the feedforward-networks\n",
    "\n",
    "# https://huggingface.co/docs/transformers/model_doc/bert#bertmodel\n",
    "\n",
    "# https://stackoverflow.com/questions/65132144/bertmodel-transformers-outputs-string-instead-of-tensor\n",
    "output = bert_model(\n",
    "  input_ids=encoding['input_ids'],\n",
    "  attention_mask=encoding['attention_mask']\n",
    ")\n",
    "\n",
    "print(type(output))\n",
    "print(output.keys())\n",
    "print(bert_model.config.hidden_size)\n"
   ]
  },
  {
   "cell_type": "code",
   "execution_count": 35,
   "id": "ae9ada08",
   "metadata": {
    "execution": {
     "iopub.execute_input": "2022-01-22T02:35:24.894044Z",
     "iopub.status.busy": "2022-01-22T02:35:24.893501Z",
     "iopub.status.idle": "2022-01-22T02:35:24.897060Z",
     "shell.execute_reply": "2022-01-22T02:35:24.897456Z",
     "shell.execute_reply.started": "2022-01-22T00:49:20.075266Z"
    },
    "papermill": {
     "duration": 0.065223,
     "end_time": "2022-01-22T02:35:24.897586",
     "exception": false,
     "start_time": "2022-01-22T02:35:24.832363",
     "status": "completed"
    },
    "tags": []
   },
   "outputs": [
    {
     "name": "stdout",
     "output_type": "stream",
     "text": [
      "torch.Size([1, 32, 768])\n"
     ]
    }
   ],
   "source": [
    "print(output['last_hidden_state'].shape)"
   ]
  },
  {
   "cell_type": "code",
   "execution_count": 36,
   "id": "7975aa94",
   "metadata": {
    "execution": {
     "iopub.execute_input": "2022-01-22T02:35:25.020681Z",
     "iopub.status.busy": "2022-01-22T02:35:25.019671Z",
     "iopub.status.idle": "2022-01-22T02:35:25.022811Z",
     "shell.execute_reply": "2022-01-22T02:35:25.023299Z",
     "shell.execute_reply.started": "2022-01-22T00:49:29.46395Z"
    },
    "papermill": {
     "duration": 0.066599,
     "end_time": "2022-01-22T02:35:25.023437",
     "exception": false,
     "start_time": "2022-01-22T02:35:24.956838",
     "status": "completed"
    },
    "tags": []
   },
   "outputs": [
    {
     "name": "stdout",
     "output_type": "stream",
     "text": [
      "torch.Size([1, 768])\n"
     ]
    }
   ],
   "source": [
    "print(output['pooler_output'].shape)"
   ]
  },
  {
   "cell_type": "markdown",
   "id": "cfbb866a",
   "metadata": {
    "papermill": {
     "duration": 0.065611,
     "end_time": "2022-01-22T02:35:25.156668",
     "exception": false,
     "start_time": "2022-01-22T02:35:25.091057",
     "status": "completed"
    },
    "tags": []
   },
   "source": [
    "Build Sentiment Classifier"
   ]
  },
  {
   "cell_type": "code",
   "execution_count": 37,
   "id": "ad90b62c",
   "metadata": {
    "execution": {
     "iopub.execute_input": "2022-01-22T02:35:25.324454Z",
     "iopub.status.busy": "2022-01-22T02:35:25.320807Z",
     "iopub.status.idle": "2022-01-22T02:35:25.329011Z",
     "shell.execute_reply": "2022-01-22T02:35:25.328494Z",
     "shell.execute_reply.started": "2022-01-22T00:41:33.391369Z"
    },
    "papermill": {
     "duration": 0.115697,
     "end_time": "2022-01-22T02:35:25.329151",
     "exception": false,
     "start_time": "2022-01-22T02:35:25.213454",
     "status": "completed"
    },
    "tags": []
   },
   "outputs": [
    {
     "name": "stdout",
     "output_type": "stream",
     "text": [
      "There are 1 GPU(s) available.\n",
      "Device name: Tesla P100-PCIE-16GB\n"
     ]
    }
   ],
   "source": [
    "import torch\n",
    "import torch.nn as nn\n",
    "\n",
    "if torch.cuda.is_available():       \n",
    "    device = torch.device(\"cuda\")\n",
    "    print(f'There are {torch.cuda.device_count()} GPU(s) available.')\n",
    "    print('Device name:', torch.cuda.get_device_name(0))\n",
    "\n",
    "else:\n",
    "    print('No GPU available, using the CPU instead.')\n",
    "    device = torch.device(\"cpu\")"
   ]
  },
  {
   "cell_type": "code",
   "execution_count": 38,
   "id": "db256add",
   "metadata": {
    "execution": {
     "iopub.execute_input": "2022-01-22T02:35:25.450984Z",
     "iopub.status.busy": "2022-01-22T02:35:25.450374Z",
     "iopub.status.idle": "2022-01-22T02:35:25.453059Z",
     "shell.execute_reply": "2022-01-22T02:35:25.452615Z",
     "shell.execute_reply.started": "2022-01-22T00:50:35.186414Z"
    },
    "papermill": {
     "duration": 0.066581,
     "end_time": "2022-01-22T02:35:25.453166",
     "exception": false,
     "start_time": "2022-01-22T02:35:25.386585",
     "status": "completed"
    },
    "tags": []
   },
   "outputs": [],
   "source": [
    "class SentimentClassifier(nn.Module):\n",
    "  def __init__(self, n_classes, p):\n",
    "    super(SentimentClassifier, self).__init__()\n",
    "    self.bert = BertModel.from_pretrained(PRE_TRAINED_MODEL_NAME)\n",
    "    self.drop = nn.Dropout(p)\n",
    "    # torch.nn.Linear(in_features, out_features, bias=True, device=None, dtype=None)\n",
    "    self.out = nn.Linear(self.bert.config.hidden_size, n_classes)\n",
    "    self.softmax = nn.Softmax(dim=1)\n",
    "\n",
    "    \n",
    "  def forward(self, input_ids, attention_mask):\n",
    "    output_dict = self.bert(\n",
    "      input_ids=input_ids,\n",
    "      attention_mask=attention_mask\n",
    "    )\n",
    "    output = self.drop(output_dict['pooler_output'])\n",
    "    output = self.out(output)\n",
    "    return self.softmax(output)"
   ]
  },
  {
   "cell_type": "code",
   "execution_count": 39,
   "id": "545e6ca6",
   "metadata": {
    "execution": {
     "iopub.execute_input": "2022-01-22T02:35:25.574920Z",
     "iopub.status.busy": "2022-01-22T02:35:25.572831Z",
     "iopub.status.idle": "2022-01-22T02:35:31.670202Z",
     "shell.execute_reply": "2022-01-22T02:35:31.669696Z",
     "shell.execute_reply.started": "2022-01-22T00:50:37.60122Z"
    },
    "papermill": {
     "duration": 6.158803,
     "end_time": "2022-01-22T02:35:31.670343",
     "exception": false,
     "start_time": "2022-01-22T02:35:25.511540",
     "status": "completed"
    },
    "tags": []
   },
   "outputs": [
    {
     "name": "stderr",
     "output_type": "stream",
     "text": [
      "Some weights of the model checkpoint at bert-base-uncased were not used when initializing BertModel: ['cls.predictions.decoder.weight', 'cls.predictions.transform.LayerNorm.bias', 'cls.predictions.transform.dense.weight', 'cls.seq_relationship.weight', 'cls.predictions.bias', 'cls.seq_relationship.bias', 'cls.predictions.transform.LayerNorm.weight', 'cls.predictions.transform.dense.bias']\n",
      "- This IS expected if you are initializing BertModel from the checkpoint of a model trained on another task or with another architecture (e.g. initializing a BertForSequenceClassification model from a BertForPreTraining model).\n",
      "- This IS NOT expected if you are initializing BertModel from the checkpoint of a model that you expect to be exactly identical (initializing a BertForSequenceClassification model from a BertForSequenceClassification model).\n"
     ]
    }
   ],
   "source": [
    "N_CLASSES = 2\n",
    "P = 0\n",
    "model = SentimentClassifier(N_CLASSES, P)\n",
    "model = model.to(device)"
   ]
  },
  {
   "cell_type": "code",
   "execution_count": 40,
   "id": "77e9933e",
   "metadata": {
    "execution": {
     "iopub.execute_input": "2022-01-22T02:35:31.795331Z",
     "iopub.status.busy": "2022-01-22T02:35:31.794676Z",
     "iopub.status.idle": "2022-01-22T02:35:31.797380Z",
     "shell.execute_reply": "2022-01-22T02:35:31.797792Z",
     "shell.execute_reply.started": "2022-01-22T00:54:02.726215Z"
    },
    "papermill": {
     "duration": 0.067179,
     "end_time": "2022-01-22T02:35:31.797916",
     "exception": false,
     "start_time": "2022-01-22T02:35:31.730737",
     "status": "completed"
    },
    "tags": []
   },
   "outputs": [
    {
     "name": "stdout",
     "output_type": "stream",
     "text": [
      "16\n"
     ]
    }
   ],
   "source": [
    "# data = next(iter(train_data_loader))\n",
    "print(len(data['text']))\n",
    "# data is consisted of 16 tweets "
   ]
  },
  {
   "cell_type": "code",
   "execution_count": 41,
   "id": "8bfc011a",
   "metadata": {
    "execution": {
     "iopub.execute_input": "2022-01-22T02:35:31.922383Z",
     "iopub.status.busy": "2022-01-22T02:35:31.921721Z",
     "iopub.status.idle": "2022-01-22T02:35:31.924339Z",
     "shell.execute_reply": "2022-01-22T02:35:31.923873Z",
     "shell.execute_reply.started": "2022-01-22T00:50:41.365198Z"
    },
    "papermill": {
     "duration": 0.065584,
     "end_time": "2022-01-22T02:35:31.924447",
     "exception": false,
     "start_time": "2022-01-22T02:35:31.858863",
     "status": "completed"
    },
    "tags": []
   },
   "outputs": [],
   "source": [
    "input_ids = data['input_ids'].to(device)\n",
    "attention_mask = data['attention_mask'].to(device)"
   ]
  },
  {
   "cell_type": "code",
   "execution_count": 42,
   "id": "c07e272a",
   "metadata": {
    "execution": {
     "iopub.execute_input": "2022-01-22T02:35:32.046543Z",
     "iopub.status.busy": "2022-01-22T02:35:32.045909Z",
     "iopub.status.idle": "2022-01-22T02:35:32.050004Z",
     "shell.execute_reply": "2022-01-22T02:35:32.049350Z",
     "shell.execute_reply.started": "2022-01-22T00:50:43.408881Z"
    },
    "papermill": {
     "duration": 0.066693,
     "end_time": "2022-01-22T02:35:32.050156",
     "exception": false,
     "start_time": "2022-01-22T02:35:31.983463",
     "status": "completed"
    },
    "tags": []
   },
   "outputs": [
    {
     "name": "stdout",
     "output_type": "stream",
     "text": [
      "torch.Size([16, 55])\n",
      "torch.Size([16, 55])\n"
     ]
    }
   ],
   "source": [
    "print(input_ids.shape)\n",
    "print(attention_mask.shape)"
   ]
  },
  {
   "cell_type": "code",
   "execution_count": 43,
   "id": "dd52ec6b",
   "metadata": {
    "execution": {
     "iopub.execute_input": "2022-01-22T02:35:32.172742Z",
     "iopub.status.busy": "2022-01-22T02:35:32.171901Z",
     "iopub.status.idle": "2022-01-22T02:35:32.977817Z",
     "shell.execute_reply": "2022-01-22T02:35:32.978259Z",
     "shell.execute_reply.started": "2022-01-22T00:50:45.850539Z"
    },
    "papermill": {
     "duration": 0.868882,
     "end_time": "2022-01-22T02:35:32.978410",
     "exception": false,
     "start_time": "2022-01-22T02:35:32.109528",
     "status": "completed"
    },
    "tags": []
   },
   "outputs": [
    {
     "data": {
      "text/plain": [
       "tensor([[0.4104, 0.5896],\n",
       "        [0.3442, 0.6558],\n",
       "        [0.5663, 0.4337],\n",
       "        [0.4692, 0.5308],\n",
       "        [0.3642, 0.6358],\n",
       "        [0.3899, 0.6101],\n",
       "        [0.4432, 0.5568],\n",
       "        [0.4156, 0.5844],\n",
       "        [0.5578, 0.4422],\n",
       "        [0.3290, 0.6710],\n",
       "        [0.4475, 0.5525],\n",
       "        [0.5061, 0.4939],\n",
       "        [0.4225, 0.5775],\n",
       "        [0.3737, 0.6263],\n",
       "        [0.3322, 0.6678],\n",
       "        [0.4168, 0.5832]], device='cuda:0', grad_fn=<SoftmaxBackward>)"
      ]
     },
     "execution_count": 43,
     "metadata": {},
     "output_type": "execute_result"
    }
   ],
   "source": [
    "# inject input ids and attention mask into Sentiment Classifier \n",
    "# this returns the probablity for 0 or 1 for each tweet in data \n",
    "model(input_ids, attention_mask)"
   ]
  },
  {
   "cell_type": "markdown",
   "id": "c8f5252c",
   "metadata": {
    "papermill": {
     "duration": 0.06141,
     "end_time": "2022-01-22T02:35:33.098915",
     "exception": false,
     "start_time": "2022-01-22T02:35:33.037505",
     "status": "completed"
    },
    "tags": []
   },
   "source": [
    "Train Model \n",
    "\n",
    "To reproduce the training procedure from the BERT paper, we’ll use the AdamW optimizer provided by Hugging Face. \n",
    "\n",
    "It corrects weight decay, so it’s similar to the original paper. We’ll also use a linear scheduler with no warmup steps"
   ]
  },
  {
   "cell_type": "code",
   "execution_count": 44,
   "id": "b25b1091",
   "metadata": {
    "execution": {
     "iopub.execute_input": "2022-01-22T02:35:33.222649Z",
     "iopub.status.busy": "2022-01-22T02:35:33.222053Z",
     "iopub.status.idle": "2022-01-22T02:35:33.230749Z",
     "shell.execute_reply": "2022-01-22T02:35:33.230258Z",
     "shell.execute_reply.started": "2022-01-22T00:57:22.306005Z"
    },
    "papermill": {
     "duration": 0.073404,
     "end_time": "2022-01-22T02:35:33.230868",
     "exception": false,
     "start_time": "2022-01-22T02:35:33.157464",
     "status": "completed"
    },
    "tags": []
   },
   "outputs": [],
   "source": [
    "EPOCHS = 15\n",
    "optimizer = AdamW(model.parameters(), lr=2e-5, correct_bias=False)\n",
    "total_steps = len(train_data_loader) * EPOCHS\n",
    "scheduler = get_linear_schedule_with_warmup(\n",
    "  optimizer,\n",
    "  num_warmup_steps=0,\n",
    "  num_training_steps=total_steps\n",
    ")\n",
    "loss_fn = nn.CrossEntropyLoss().to(device)"
   ]
  },
  {
   "cell_type": "markdown",
   "id": "338a71e5",
   "metadata": {
    "papermill": {
     "duration": 0.067074,
     "end_time": "2022-01-22T02:35:33.364708",
     "exception": false,
     "start_time": "2022-01-22T02:35:33.297634",
     "status": "completed"
    },
    "tags": []
   },
   "source": [
    "How do we come up with all hyperparameters? The BERT authors have some recommendations for fine-tuning:\n",
    "\n",
    "* Batch size: 16, 32\n",
    "* Learning rate (Adam): 5e-5, 3e-5, 2e-5\n",
    "* Number of epochs: 2, 3, 4"
   ]
  },
  {
   "cell_type": "code",
   "execution_count": 45,
   "id": "969fd500",
   "metadata": {
    "execution": {
     "iopub.execute_input": "2022-01-22T02:35:33.507735Z",
     "iopub.status.busy": "2022-01-22T02:35:33.506870Z",
     "iopub.status.idle": "2022-01-22T02:35:33.508835Z",
     "shell.execute_reply": "2022-01-22T02:35:33.509319Z",
     "shell.execute_reply.started": "2022-01-22T01:02:50.945929Z"
    },
    "papermill": {
     "duration": 0.07794,
     "end_time": "2022-01-22T02:35:33.509457",
     "exception": false,
     "start_time": "2022-01-22T02:35:33.431517",
     "status": "completed"
    },
    "tags": []
   },
   "outputs": [],
   "source": [
    "def train_epoch(\n",
    "      model,\n",
    "      data_loader,\n",
    "      loss_fn,\n",
    "      optimizer,\n",
    "      device,\n",
    "      scheduler,\n",
    "      n_examples\n",
    "):\n",
    "      model = model.train()\n",
    "      losses = []\n",
    "      correct_predictions = 0\n",
    "        \n",
    "      for data in data_loader:\n",
    "            input_ids = data[\"input_ids\"].to(device)\n",
    "            attention_mask = data[\"attention_mask\"].to(device)\n",
    "            targets = data[\"targets\"].to(device)\n",
    "\n",
    "            # inject inputs ids and attention mask into bert model \n",
    "            outputs = model(\n",
    "              input_ids=input_ids,\n",
    "              attention_mask=attention_mask\n",
    "            )\n",
    "\n",
    "            # return prediction \n",
    "            _, preds = torch.max(outputs, dim=1)\n",
    "\n",
    "            # calculate loss \n",
    "            loss = loss_fn(outputs, targets)\n",
    "\n",
    "            # calculate correct prediction \n",
    "            correct_predictions += torch.sum(preds == targets)\n",
    "            \n",
    "            # append each loss\n",
    "            losses.append(loss.item())\n",
    "            \n",
    "            # back propagation \n",
    "            loss.backward()\n",
    "            nn.utils.clip_grad_norm_(model.parameters(), max_norm=1.0)\n",
    "            \n",
    "            # updata parameters \n",
    "            optimizer.step()\n",
    "            scheduler.step()\n",
    "            optimizer.zero_grad()\n",
    "            \n",
    "      return correct_predictions.double() / n_examples, np.mean(losses)"
   ]
  },
  {
   "cell_type": "markdown",
   "id": "99e3dbc7",
   "metadata": {
    "papermill": {
     "duration": 0.06264,
     "end_time": "2022-01-22T02:35:33.634507",
     "exception": false,
     "start_time": "2022-01-22T02:35:33.571867",
     "status": "completed"
    },
    "tags": []
   },
   "source": [
    "Training the model should look familiar, except for two things.\n",
    "\n",
    "The scheduler gets called every time a batch is fed to the model. \n",
    "\n",
    "We’re avoiding exploding gradients by clipping the gradients of the model using clipgrad_norm."
   ]
  },
  {
   "cell_type": "code",
   "execution_count": 46,
   "id": "48a6ea96",
   "metadata": {
    "execution": {
     "iopub.execute_input": "2022-01-22T02:35:33.763956Z",
     "iopub.status.busy": "2022-01-22T02:35:33.763168Z",
     "iopub.status.idle": "2022-01-22T02:35:33.765711Z",
     "shell.execute_reply": "2022-01-22T02:35:33.765291Z",
     "shell.execute_reply.started": "2022-01-22T01:03:48.711168Z"
    },
    "papermill": {
     "duration": 0.0717,
     "end_time": "2022-01-22T02:35:33.765823",
     "exception": false,
     "start_time": "2022-01-22T02:35:33.694123",
     "status": "completed"
    },
    "tags": []
   },
   "outputs": [],
   "source": [
    "def eval_model(model, data_loader, loss_fn, device, n_examples):\n",
    "  model = model.eval()\n",
    "  losses = []\n",
    "  correct_predictions = 0\n",
    "  with torch.no_grad():\n",
    "    for data in data_loader:\n",
    "      input_ids = data[\"input_ids\"].to(device)\n",
    "      attention_mask = data[\"attention_mask\"].to(device)\n",
    "      targets = data[\"targets\"].to(device)\n",
    "      outputs = model(\n",
    "        input_ids=input_ids,\n",
    "        attention_mask=attention_mask\n",
    "      )\n",
    "        \n",
    "      _, preds = torch.max(outputs, dim=1)\n",
    "      loss = loss_fn(outputs, targets)\n",
    "      correct_predictions += torch.sum(preds == targets)\n",
    "      losses.append(loss.item())\n",
    "        \n",
    "  return correct_predictions.double() / n_examples, np.mean(losses)"
   ]
  },
  {
   "cell_type": "code",
   "execution_count": 47,
   "id": "23c39500",
   "metadata": {
    "execution": {
     "iopub.execute_input": "2022-01-22T02:35:33.899252Z",
     "iopub.status.busy": "2022-01-22T02:35:33.898447Z",
     "iopub.status.idle": "2022-01-22T02:48:43.658847Z",
     "shell.execute_reply": "2022-01-22T02:48:43.658221Z",
     "shell.execute_reply.started": "2022-01-22T01:06:29.8812Z"
    },
    "papermill": {
     "duration": 789.829467,
     "end_time": "2022-01-22T02:48:43.659076",
     "exception": false,
     "start_time": "2022-01-22T02:35:33.829609",
     "status": "completed"
    },
    "tags": []
   },
   "outputs": [
    {
     "name": "stdout",
     "output_type": "stream",
     "text": [
      "Epoch 1/15\n",
      "----------\n",
      "Train loss 0.5359520230676744 accuracy 0.7765289738724274\n",
      "Val   loss 0.5250041683514913 accuracy 0.7874015748031495\n",
      "\n",
      "Epoch 2/15\n",
      "----------\n",
      "Train loss 0.5004392817859605 accuracy 0.8125821048022186\n",
      "Val   loss 0.5227463158468405 accuracy 0.7900262467191601\n",
      "\n",
      "Epoch 3/15\n",
      "----------\n",
      "Train loss 0.48800866455187053 accuracy 0.8249890526930375\n",
      "Val   loss 0.5465632242461046 accuracy 0.7664041994750657\n",
      "\n",
      "Epoch 4/15\n",
      "----------\n",
      "Train loss 0.476935361162488 accuracy 0.8357903955626915\n",
      "Val   loss 0.5445150081068277 accuracy 0.7677165354330708\n",
      "\n",
      "Epoch 5/15\n",
      "----------\n",
      "Train loss 0.46993693466230985 accuracy 0.8420668515545175\n",
      "Val   loss 0.5105434320867062 accuracy 0.7992125984251969\n",
      "\n",
      "Epoch 6/15\n",
      "----------\n",
      "Train loss 0.45127027372380235 accuracy 0.8606042913443293\n",
      "Val   loss 0.511231079697609 accuracy 0.800524934383202\n",
      "\n",
      "Epoch 7/15\n",
      "----------\n",
      "Train loss 0.44378553466363385 accuracy 0.8692161728214859\n",
      "Val   loss 0.5048303982863823 accuracy 0.8057742782152231\n",
      "\n",
      "Epoch 8/15\n",
      "----------\n",
      "Train loss 0.43659133052492477 accuracy 0.876514377463144\n",
      "Val   loss 0.5060898475348949 accuracy 0.8057742782152231\n",
      "\n",
      "Epoch 9/15\n",
      "----------\n",
      "Train loss 0.4340044767845483 accuracy 0.8794336593198072\n",
      "Val   loss 0.5104787293821573 accuracy 0.8018372703412073\n",
      "\n",
      "Epoch 10/15\n",
      "----------\n",
      "Train loss 0.4286413779764464 accuracy 0.8846883666618012\n",
      "Val   loss 0.5095403927067915 accuracy 0.8018372703412073\n",
      "\n",
      "Epoch 11/15\n",
      "----------\n",
      "Train loss 0.4285520886902487 accuracy 0.8851262589403006\n",
      "Val   loss 0.5078272341440121 accuracy 0.8031496062992126\n",
      "\n",
      "Epoch 12/15\n",
      "----------\n",
      "Train loss 0.4265871308483444 accuracy 0.8868778280542986\n",
      "Val   loss 0.5070897495994965 accuracy 0.8044619422572178\n",
      "\n",
      "Epoch 13/15\n",
      "----------\n",
      "Train loss 0.4245079003430747 accuracy 0.8887753612611297\n",
      "Val   loss 0.5028489449371895 accuracy 0.8083989501312336\n",
      "\n",
      "Epoch 14/15\n",
      "----------\n",
      "Train loss 0.4228947109136826 accuracy 0.8903809662822945\n",
      "Val   loss 0.5095701950291792 accuracy 0.7992125984251969\n",
      "\n",
      "Epoch 15/15\n",
      "----------\n",
      "Train loss 0.4222640161747699 accuracy 0.8912567508392935\n",
      "Val   loss 0.5083183459937572 accuracy 0.8018372703412073\n",
      "\n",
      "CPU times: user 12min 1s, sys: 9.73 s, total: 12min 11s\n",
      "Wall time: 13min 9s\n"
     ]
    }
   ],
   "source": [
    "%%time\n",
    "history = defaultdict(list)\n",
    "best_accuracy = 0\n",
    "\n",
    "for epoch in range(EPOCHS):\n",
    "    print(f'Epoch {epoch + 1}/{EPOCHS}')\n",
    "    print('-' * 10)\n",
    "    \n",
    "    train_acc, train_loss = train_epoch(\n",
    "                            model,\n",
    "                            train_data_loader,\n",
    "                            loss_fn,\n",
    "                            optimizer,\n",
    "                            device,\n",
    "                            scheduler,\n",
    "                            len(df_train)\n",
    "                        )\n",
    "    \n",
    "    print(f'Train loss {train_loss} accuracy {train_acc}')\n",
    "    \n",
    "    val_acc, val_loss = eval_model(\n",
    "                            model,\n",
    "                            val_data_loader,\n",
    "                            loss_fn,\n",
    "                            device,\n",
    "                            len(df_val)\n",
    "                        )\n",
    "    \n",
    "    print(f'Val   loss {val_loss} accuracy {val_acc}')\n",
    "    print()\n",
    "    history['train_acc'].append(train_acc)\n",
    "    history['train_loss'].append(train_loss)\n",
    "    history['val_acc'].append(val_acc)\n",
    "    history['val_loss'].append(val_loss)\n",
    "    \n",
    "    if val_acc > best_accuracy:\n",
    "        torch.save(model.state_dict(), 'best_model_state.bin')\n",
    "        best_accuracy = val_acc"
   ]
  },
  {
   "cell_type": "code",
   "execution_count": 48,
   "id": "f2c3adf9",
   "metadata": {
    "execution": {
     "iopub.execute_input": "2022-01-22T02:48:43.815947Z",
     "iopub.status.busy": "2022-01-22T02:48:43.814925Z",
     "iopub.status.idle": "2022-01-22T02:48:44.202373Z",
     "shell.execute_reply": "2022-01-22T02:48:44.201673Z"
    },
    "papermill": {
     "duration": 0.47369,
     "end_time": "2022-01-22T02:48:44.202507",
     "exception": false,
     "start_time": "2022-01-22T02:48:43.728817",
     "status": "completed"
    },
    "tags": []
   },
   "outputs": [
    {
     "data": {
      "text/plain": [
       "(0.0, 1.0)"
      ]
     },
     "execution_count": 48,
     "metadata": {},
     "output_type": "execute_result"
    },
    {
     "data": {
      "image/png": "[encoded data removed]",
      "text/plain": [
       "<Figure size 720x432 with 1 Axes>"
      ]
     },
     "metadata": {
      "image/png": {
       "height": 398,
       "width": 620
      }
     },
     "output_type": "display_data"
    }
   ],
   "source": [
    "plt.plot(history['train_acc'], label='train accuracy')\n",
    "plt.plot(history['val_acc'], label='validation accuracy')\n",
    "plt.title('Training history')\n",
    "plt.ylabel('Accuracy')\n",
    "plt.xlabel('Epoch')\n",
    "plt.legend()\n",
    "plt.ylim([0, 1])"
   ]
  },
  {
   "cell_type": "markdown",
   "id": "fc00d892",
   "metadata": {
    "papermill": {
     "duration": 0.073411,
     "end_time": "2022-01-22T02:48:44.351144",
     "exception": false,
     "start_time": "2022-01-22T02:48:44.277733",
     "status": "completed"
    },
    "tags": []
   },
   "source": [
    "Predictions"
   ]
  },
  {
   "cell_type": "code",
   "execution_count": 49,
   "id": "3c4af129",
   "metadata": {
    "execution": {
     "iopub.execute_input": "2022-01-22T02:48:44.497511Z",
     "iopub.status.busy": "2022-01-22T02:48:44.495982Z",
     "iopub.status.idle": "2022-01-22T02:48:44.709657Z",
     "shell.execute_reply": "2022-01-22T02:48:44.708994Z",
     "shell.execute_reply.started": "2022-01-22T01:17:32.00827Z"
    },
    "papermill": {
     "duration": 0.28713,
     "end_time": "2022-01-22T02:48:44.709783",
     "exception": false,
     "start_time": "2022-01-22T02:48:44.422653",
     "status": "completed"
    },
    "tags": []
   },
   "outputs": [
    {
     "name": "stdout",
     "output_type": "stream",
     "text": [
      "['just happened a terrible car crash', 'heard about earthquake is different cities stay safe everyone ', 'there is a forest fire at spot pond geese are fleeing across the street i cannot save them all', 'apocalypse lighting spokane wildfires', 'typhoon soudelor kills 28 in china and taiwan', 'were shaking its an earthquake', 'theyd probably still show more life than arsenal did yesterday eh eh', 'hey how are you', 'what a nice hat', 'fuck off', 'no i dont like cold', 'nooooooooo dont do that', 'no dont tell me that', 'what if', 'awesome', 'birmingham wholesale market is ablaze bbc news fire breaks out at birminghams wholesale market URL']\n"
     ]
    }
   ],
   "source": [
    "test_data = next(iter(test_data_loader))\n",
    "print(test_data['text'])"
   ]
  },
  {
   "cell_type": "code",
   "execution_count": 50,
   "id": "57ec671b",
   "metadata": {
    "execution": {
     "iopub.execute_input": "2022-01-22T02:48:44.859375Z",
     "iopub.status.busy": "2022-01-22T02:48:44.858643Z",
     "iopub.status.idle": "2022-01-22T02:48:44.867685Z",
     "shell.execute_reply": "2022-01-22T02:48:44.868190Z",
     "shell.execute_reply.started": "2022-01-22T01:17:54.588189Z"
    },
    "papermill": {
     "duration": 0.086008,
     "end_time": "2022-01-22T02:48:44.868324",
     "exception": false,
     "start_time": "2022-01-22T02:48:44.782316",
     "status": "completed"
    },
    "tags": []
   },
   "outputs": [
    {
     "name": "stdout",
     "output_type": "stream",
     "text": [
      "tensor([[  101,  3047,  6659,  2482,  5823,   102,     0,     0,     0,     0,\n",
      "             0,     0,     0,     0,     0,     0,     0,     0,     0,     0,\n",
      "             0,     0,     0,     0,     0,     0,     0,     0,     0,     0,\n",
      "             0,     0,     0,     0,     0,     0,     0,     0,     0,     0,\n",
      "             0,     0,     0,     0,     0,     0,     0,     0,     0,     0,\n",
      "             0,     0,     0,     0,     0],\n",
      "        [  101,  2657,  8372,  2367,  3655,  2994,  3647,  3071,   102,     0,\n",
      "             0,     0,     0,     0,     0,     0,     0,     0,     0,     0,\n",
      "             0,     0,     0,     0,     0,     0,     0,     0,     0,     0,\n",
      "             0,     0,     0,     0,     0,     0,     0,     0,     0,     0,\n",
      "             0,     0,     0,     0,     0,     0,     0,     0,     0,     0,\n",
      "             0,     0,     0,     0,     0],\n",
      "        [  101,  3224,  2543,  3962,  8644, 28519, 14070,  2408,  2395,  3685,\n",
      "          3828,   102,     0,     0,     0,     0,     0,     0,     0,     0,\n",
      "             0,     0,     0,     0,     0,     0,     0,     0,     0,     0,\n",
      "             0,     0,     0,     0,     0,     0,     0,     0,     0,     0,\n",
      "             0,     0,     0,     0,     0,     0,     0,     0,     0,     0,\n",
      "             0,     0,     0,     0,     0],\n",
      "        [  101, 16976,  7497, 21878,  3748, 26332,   102,     0,     0,     0,\n",
      "             0,     0,     0,     0,     0,     0,     0,     0,     0,     0,\n",
      "             0,     0,     0,     0,     0,     0,     0,     0,     0,     0,\n",
      "             0,     0,     0,     0,     0,     0,     0,     0,     0,     0,\n",
      "             0,     0,     0,     0,     0,     0,     0,     0,     0,     0,\n",
      "             0,     0,     0,     0,     0],\n",
      "        [  101, 15393,  2061, 12672, 10626,  8563,  2654,  2859,  6629,   102,\n",
      "             0,     0,     0,     0,     0,     0,     0,     0,     0,     0,\n",
      "             0,     0,     0,     0,     0,     0,     0,     0,     0,     0,\n",
      "             0,     0,     0,     0,     0,     0,     0,     0,     0,     0,\n",
      "             0,     0,     0,     0,     0,     0,     0,     0,     0,     0,\n",
      "             0,     0,     0,     0,     0],\n",
      "        [  101,  5513,  8372,   102,     0,     0,     0,     0,     0,     0,\n",
      "             0,     0,     0,     0,     0,     0,     0,     0,     0,     0,\n",
      "             0,     0,     0,     0,     0,     0,     0,     0,     0,     0,\n",
      "             0,     0,     0,     0,     0,     0,     0,     0,     0,     0,\n",
      "             0,     0,     0,     0,     0,     0,     0,     0,     0,     0,\n",
      "             0,     0,     0,     0,     0],\n",
      "        [  101,  2027,  2094,  2763,  2145,  2265,  2166,  9433,  7483, 15501,\n",
      "         15501,   102,     0,     0,     0,     0,     0,     0,     0,     0,\n",
      "             0,     0,     0,     0,     0,     0,     0,     0,     0,     0,\n",
      "             0,     0,     0,     0,     0,     0,     0,     0,     0,     0,\n",
      "             0,     0,     0,     0,     0,     0,     0,     0,     0,     0,\n",
      "             0,     0,     0,     0,     0],\n",
      "        [  101,  4931,   102,     0,     0,     0,     0,     0,     0,     0,\n",
      "             0,     0,     0,     0,     0,     0,     0,     0,     0,     0,\n",
      "             0,     0,     0,     0,     0,     0,     0,     0,     0,     0,\n",
      "             0,     0,     0,     0,     0,     0,     0,     0,     0,     0,\n",
      "             0,     0,     0,     0,     0,     0,     0,     0,     0,     0,\n",
      "             0,     0,     0,     0,     0],\n",
      "        [  101,  3835,  6045,   102,     0,     0,     0,     0,     0,     0,\n",
      "             0,     0,     0,     0,     0,     0,     0,     0,     0,     0,\n",
      "             0,     0,     0,     0,     0,     0,     0,     0,     0,     0,\n",
      "             0,     0,     0,     0,     0,     0,     0,     0,     0,     0,\n",
      "             0,     0,     0,     0,     0,     0,     0,     0,     0,     0,\n",
      "             0,     0,     0,     0,     0],\n",
      "        [  101,  6616,   102,     0,     0,     0,     0,     0,     0,     0,\n",
      "             0,     0,     0,     0,     0,     0,     0,     0,     0,     0,\n",
      "             0,     0,     0,     0,     0,     0,     0,     0,     0,     0,\n",
      "             0,     0,     0,     0,     0,     0,     0,     0,     0,     0,\n",
      "             0,     0,     0,     0,     0,     0,     0,     0,     0,     0,\n",
      "             0,     0,     0,     0,     0],\n",
      "        [  101,  2123,  2102,  2066,  3147,   102,     0,     0,     0,     0,\n",
      "             0,     0,     0,     0,     0,     0,     0,     0,     0,     0,\n",
      "             0,     0,     0,     0,     0,     0,     0,     0,     0,     0,\n",
      "             0,     0,     0,     0,     0,     0,     0,     0,     0,     0,\n",
      "             0,     0,     0,     0,     0,     0,     0,     0,     0,     0,\n",
      "             0,     0,     0,     0,     0],\n",
      "        [  101,  2053,  9541,  9541,  9541,  9541,  2123,  2102,   102,     0,\n",
      "             0,     0,     0,     0,     0,     0,     0,     0,     0,     0,\n",
      "             0,     0,     0,     0,     0,     0,     0,     0,     0,     0,\n",
      "             0,     0,     0,     0,     0,     0,     0,     0,     0,     0,\n",
      "             0,     0,     0,     0,     0,     0,     0,     0,     0,     0,\n",
      "             0,     0,     0,     0,     0],\n",
      "        [  101,  2123,  2102,  2425,   102,     0,     0,     0,     0,     0,\n",
      "             0,     0,     0,     0,     0,     0,     0,     0,     0,     0,\n",
      "             0,     0,     0,     0,     0,     0,     0,     0,     0,     0,\n",
      "             0,     0,     0,     0,     0,     0,     0,     0,     0,     0,\n",
      "             0,     0,     0,     0,     0,     0,     0,     0,     0,     0,\n",
      "             0,     0,     0,     0,     0],\n",
      "        [  101,   102,     0,     0,     0,     0,     0,     0,     0,     0,\n",
      "             0,     0,     0,     0,     0,     0,     0,     0,     0,     0,\n",
      "             0,     0,     0,     0,     0,     0,     0,     0,     0,     0,\n",
      "             0,     0,     0,     0,     0,     0,     0,     0,     0,     0,\n",
      "             0,     0,     0,     0,     0,     0,     0,     0,     0,     0,\n",
      "             0,     0,     0,     0,     0],\n",
      "        [  101, 12476,   102,     0,     0,     0,     0,     0,     0,     0,\n",
      "             0,     0,     0,     0,     0,     0,     0,     0,     0,     0,\n",
      "             0,     0,     0,     0,     0,     0,     0,     0,     0,     0,\n",
      "             0,     0,     0,     0,     0,     0,     0,     0,     0,     0,\n",
      "             0,     0,     0,     0,     0,     0,     0,     0,     0,     0,\n",
      "             0,     0,     0,     0,     0],\n",
      "        [  101,  6484, 17264,  3006, 11113, 24472,  4035,  2739,  2543,  7807,\n",
      "          6484,  2015, 17264,  3006, 24471,  2140,   102,     0,     0,     0,\n",
      "             0,     0,     0,     0,     0,     0,     0,     0,     0,     0,\n",
      "             0,     0,     0,     0,     0,     0,     0,     0,     0,     0,\n",
      "             0,     0,     0,     0,     0,     0,     0,     0,     0,     0,\n",
      "             0,     0,     0,     0,     0]])\n"
     ]
    }
   ],
   "source": [
    "print(test_data['input_ids'])"
   ]
  },
  {
   "cell_type": "code",
   "execution_count": 51,
   "id": "0688bd1c",
   "metadata": {
    "execution": {
     "iopub.execute_input": "2022-01-22T02:48:45.013561Z",
     "iopub.status.busy": "2022-01-22T02:48:45.012810Z",
     "iopub.status.idle": "2022-01-22T02:48:45.022375Z",
     "shell.execute_reply": "2022-01-22T02:48:45.021921Z",
     "shell.execute_reply.started": "2022-01-22T01:18:12.175603Z"
    },
    "papermill": {
     "duration": 0.082922,
     "end_time": "2022-01-22T02:48:45.022481",
     "exception": false,
     "start_time": "2022-01-22T02:48:44.939559",
     "status": "completed"
    },
    "tags": []
   },
   "outputs": [
    {
     "name": "stdout",
     "output_type": "stream",
     "text": [
      "tensor([[1, 1, 1, 1, 1, 1, 0, 0, 0, 0, 0, 0, 0, 0, 0, 0, 0, 0, 0, 0, 0, 0, 0, 0,\n",
      "         0, 0, 0, 0, 0, 0, 0, 0, 0, 0, 0, 0, 0, 0, 0, 0, 0, 0, 0, 0, 0, 0, 0, 0,\n",
      "         0, 0, 0, 0, 0, 0, 0],\n",
      "        [1, 1, 1, 1, 1, 1, 1, 1, 1, 0, 0, 0, 0, 0, 0, 0, 0, 0, 0, 0, 0, 0, 0, 0,\n",
      "         0, 0, 0, 0, 0, 0, 0, 0, 0, 0, 0, 0, 0, 0, 0, 0, 0, 0, 0, 0, 0, 0, 0, 0,\n",
      "         0, 0, 0, 0, 0, 0, 0],\n",
      "        [1, 1, 1, 1, 1, 1, 1, 1, 1, 1, 1, 1, 0, 0, 0, 0, 0, 0, 0, 0, 0, 0, 0, 0,\n",
      "         0, 0, 0, 0, 0, 0, 0, 0, 0, 0, 0, 0, 0, 0, 0, 0, 0, 0, 0, 0, 0, 0, 0, 0,\n",
      "         0, 0, 0, 0, 0, 0, 0],\n",
      "        [1, 1, 1, 1, 1, 1, 1, 0, 0, 0, 0, 0, 0, 0, 0, 0, 0, 0, 0, 0, 0, 0, 0, 0,\n",
      "         0, 0, 0, 0, 0, 0, 0, 0, 0, 0, 0, 0, 0, 0, 0, 0, 0, 0, 0, 0, 0, 0, 0, 0,\n",
      "         0, 0, 0, 0, 0, 0, 0],\n",
      "        [1, 1, 1, 1, 1, 1, 1, 1, 1, 1, 0, 0, 0, 0, 0, 0, 0, 0, 0, 0, 0, 0, 0, 0,\n",
      "         0, 0, 0, 0, 0, 0, 0, 0, 0, 0, 0, 0, 0, 0, 0, 0, 0, 0, 0, 0, 0, 0, 0, 0,\n",
      "         0, 0, 0, 0, 0, 0, 0],\n",
      "        [1, 1, 1, 1, 0, 0, 0, 0, 0, 0, 0, 0, 0, 0, 0, 0, 0, 0, 0, 0, 0, 0, 0, 0,\n",
      "         0, 0, 0, 0, 0, 0, 0, 0, 0, 0, 0, 0, 0, 0, 0, 0, 0, 0, 0, 0, 0, 0, 0, 0,\n",
      "         0, 0, 0, 0, 0, 0, 0],\n",
      "        [1, 1, 1, 1, 1, 1, 1, 1, 1, 1, 1, 1, 0, 0, 0, 0, 0, 0, 0, 0, 0, 0, 0, 0,\n",
      "         0, 0, 0, 0, 0, 0, 0, 0, 0, 0, 0, 0, 0, 0, 0, 0, 0, 0, 0, 0, 0, 0, 0, 0,\n",
      "         0, 0, 0, 0, 0, 0, 0],\n",
      "        [1, 1, 1, 0, 0, 0, 0, 0, 0, 0, 0, 0, 0, 0, 0, 0, 0, 0, 0, 0, 0, 0, 0, 0,\n",
      "         0, 0, 0, 0, 0, 0, 0, 0, 0, 0, 0, 0, 0, 0, 0, 0, 0, 0, 0, 0, 0, 0, 0, 0,\n",
      "         0, 0, 0, 0, 0, 0, 0],\n",
      "        [1, 1, 1, 1, 0, 0, 0, 0, 0, 0, 0, 0, 0, 0, 0, 0, 0, 0, 0, 0, 0, 0, 0, 0,\n",
      "         0, 0, 0, 0, 0, 0, 0, 0, 0, 0, 0, 0, 0, 0, 0, 0, 0, 0, 0, 0, 0, 0, 0, 0,\n",
      "         0, 0, 0, 0, 0, 0, 0],\n",
      "        [1, 1, 1, 0, 0, 0, 0, 0, 0, 0, 0, 0, 0, 0, 0, 0, 0, 0, 0, 0, 0, 0, 0, 0,\n",
      "         0, 0, 0, 0, 0, 0, 0, 0, 0, 0, 0, 0, 0, 0, 0, 0, 0, 0, 0, 0, 0, 0, 0, 0,\n",
      "         0, 0, 0, 0, 0, 0, 0],\n",
      "        [1, 1, 1, 1, 1, 1, 0, 0, 0, 0, 0, 0, 0, 0, 0, 0, 0, 0, 0, 0, 0, 0, 0, 0,\n",
      "         0, 0, 0, 0, 0, 0, 0, 0, 0, 0, 0, 0, 0, 0, 0, 0, 0, 0, 0, 0, 0, 0, 0, 0,\n",
      "         0, 0, 0, 0, 0, 0, 0],\n",
      "        [1, 1, 1, 1, 1, 1, 1, 1, 1, 0, 0, 0, 0, 0, 0, 0, 0, 0, 0, 0, 0, 0, 0, 0,\n",
      "         0, 0, 0, 0, 0, 0, 0, 0, 0, 0, 0, 0, 0, 0, 0, 0, 0, 0, 0, 0, 0, 0, 0, 0,\n",
      "         0, 0, 0, 0, 0, 0, 0],\n",
      "        [1, 1, 1, 1, 1, 0, 0, 0, 0, 0, 0, 0, 0, 0, 0, 0, 0, 0, 0, 0, 0, 0, 0, 0,\n",
      "         0, 0, 0, 0, 0, 0, 0, 0, 0, 0, 0, 0, 0, 0, 0, 0, 0, 0, 0, 0, 0, 0, 0, 0,\n",
      "         0, 0, 0, 0, 0, 0, 0],\n",
      "        [1, 1, 0, 0, 0, 0, 0, 0, 0, 0, 0, 0, 0, 0, 0, 0, 0, 0, 0, 0, 0, 0, 0, 0,\n",
      "         0, 0, 0, 0, 0, 0, 0, 0, 0, 0, 0, 0, 0, 0, 0, 0, 0, 0, 0, 0, 0, 0, 0, 0,\n",
      "         0, 0, 0, 0, 0, 0, 0],\n",
      "        [1, 1, 1, 0, 0, 0, 0, 0, 0, 0, 0, 0, 0, 0, 0, 0, 0, 0, 0, 0, 0, 0, 0, 0,\n",
      "         0, 0, 0, 0, 0, 0, 0, 0, 0, 0, 0, 0, 0, 0, 0, 0, 0, 0, 0, 0, 0, 0, 0, 0,\n",
      "         0, 0, 0, 0, 0, 0, 0],\n",
      "        [1, 1, 1, 1, 1, 1, 1, 1, 1, 1, 1, 1, 1, 1, 1, 1, 1, 0, 0, 0, 0, 0, 0, 0,\n",
      "         0, 0, 0, 0, 0, 0, 0, 0, 0, 0, 0, 0, 0, 0, 0, 0, 0, 0, 0, 0, 0, 0, 0, 0,\n",
      "         0, 0, 0, 0, 0, 0, 0]])\n"
     ]
    }
   ],
   "source": [
    "print(test_data['attention_mask'])"
   ]
  },
  {
   "cell_type": "code",
   "execution_count": 52,
   "id": "f24cb22b",
   "metadata": {
    "execution": {
     "iopub.execute_input": "2022-01-22T02:48:45.174542Z",
     "iopub.status.busy": "2022-01-22T02:48:45.173794Z",
     "iopub.status.idle": "2022-01-22T02:48:45.176174Z",
     "shell.execute_reply": "2022-01-22T02:48:45.175766Z",
     "shell.execute_reply.started": "2022-01-22T01:18:30.821264Z"
    },
    "papermill": {
     "duration": 0.080138,
     "end_time": "2022-01-22T02:48:45.176279",
     "exception": false,
     "start_time": "2022-01-22T02:48:45.096141",
     "status": "completed"
    },
    "tags": []
   },
   "outputs": [],
   "source": [
    "def get_predictions(model, data_loader):\n",
    "  model = model.eval()\n",
    "  tweets = []\n",
    "  predictions = []\n",
    "  prediction_probs = []\n",
    "  \n",
    "  with torch.no_grad():\n",
    "    for data in data_loader:\n",
    "      texts = data[\"text\"]\n",
    "      input_ids = data[\"input_ids\"].to(device)\n",
    "      attention_mask = data[\"attention_mask\"].to(device)\n",
    "      \n",
    "      outputs = model(\n",
    "        input_ids=input_ids,\n",
    "        attention_mask=attention_mask\n",
    "      )\n",
    "    \n",
    "      _, preds = torch.max(outputs, dim=1)\n",
    "      tweets.extend(texts)\n",
    "      predictions.extend(preds)\n",
    "      prediction_probs.extend(outputs)\n",
    "      \n",
    "  predictions = torch.stack(predictions).cpu()\n",
    "  prediction_probs = torch.stack(prediction_probs).cpu()\n",
    "  \n",
    "  return tweets, predictions, prediction_probs"
   ]
  },
  {
   "cell_type": "code",
   "execution_count": 53,
   "id": "8721fa23",
   "metadata": {
    "execution": {
     "iopub.execute_input": "2022-01-22T02:48:45.323772Z",
     "iopub.status.busy": "2022-01-22T02:48:45.322965Z",
     "iopub.status.idle": "2022-01-22T02:48:54.606482Z",
     "shell.execute_reply": "2022-01-22T02:48:54.606900Z",
     "shell.execute_reply.started": "2022-01-22T01:19:22.237956Z"
    },
    "papermill": {
     "duration": 9.359864,
     "end_time": "2022-01-22T02:48:54.607090",
     "exception": false,
     "start_time": "2022-01-22T02:48:45.247226",
     "status": "completed"
    },
    "tags": []
   },
   "outputs": [],
   "source": [
    "_, y_pred, _ = get_predictions(model, test_data_loader)"
   ]
  },
  {
   "cell_type": "code",
   "execution_count": 54,
   "id": "bb0fc610",
   "metadata": {
    "execution": {
     "iopub.execute_input": "2022-01-22T02:48:54.755584Z",
     "iopub.status.busy": "2022-01-22T02:48:54.754973Z",
     "iopub.status.idle": "2022-01-22T02:48:54.757990Z",
     "shell.execute_reply": "2022-01-22T02:48:54.758586Z",
     "shell.execute_reply.started": "2022-01-22T01:20:55.505819Z"
    },
    "papermill": {
     "duration": 0.079073,
     "end_time": "2022-01-22T02:48:54.758759",
     "exception": false,
     "start_time": "2022-01-22T02:48:54.679686",
     "status": "completed"
    },
    "tags": []
   },
   "outputs": [
    {
     "name": "stdout",
     "output_type": "stream",
     "text": [
      "3263\n"
     ]
    }
   ],
   "source": [
    "print(len(y_pred.tolist()))"
   ]
  },
  {
   "cell_type": "code",
   "execution_count": 55,
   "id": "63f93e6a",
   "metadata": {
    "execution": {
     "iopub.execute_input": "2022-01-22T02:48:54.913145Z",
     "iopub.status.busy": "2022-01-22T02:48:54.912599Z",
     "iopub.status.idle": "2022-01-22T02:48:54.917011Z",
     "shell.execute_reply": "2022-01-22T02:48:54.916599Z",
     "shell.execute_reply.started": "2022-01-22T01:21:21.069422Z"
    },
    "papermill": {
     "duration": 0.086368,
     "end_time": "2022-01-22T02:48:54.917153",
     "exception": false,
     "start_time": "2022-01-22T02:48:54.830785",
     "status": "completed"
    },
    "tags": []
   },
   "outputs": [
    {
     "data": {
      "text/html": [
       "<div>\n",
       "<style scoped>\n",
       "    .dataframe tbody tr th:only-of-type {\n",
       "        vertical-align: middle;\n",
       "    }\n",
       "\n",
       "    .dataframe tbody tr th {\n",
       "        vertical-align: top;\n",
       "    }\n",
       "\n",
       "    .dataframe thead th {\n",
       "        text-align: right;\n",
       "    }\n",
       "</style>\n",
       "<table border=\"1\" class=\"dataframe\">\n",
       "  <thead>\n",
       "    <tr style=\"text-align: right;\">\n",
       "      <th></th>\n",
       "      <th>id</th>\n",
       "      <th>target</th>\n",
       "    </tr>\n",
       "  </thead>\n",
       "  <tbody>\n",
       "    <tr>\n",
       "      <th>0</th>\n",
       "      <td>0</td>\n",
       "      <td>1</td>\n",
       "    </tr>\n",
       "    <tr>\n",
       "      <th>1</th>\n",
       "      <td>2</td>\n",
       "      <td>1</td>\n",
       "    </tr>\n",
       "    <tr>\n",
       "      <th>2</th>\n",
       "      <td>3</td>\n",
       "      <td>1</td>\n",
       "    </tr>\n",
       "    <tr>\n",
       "      <th>3</th>\n",
       "      <td>9</td>\n",
       "      <td>1</td>\n",
       "    </tr>\n",
       "    <tr>\n",
       "      <th>4</th>\n",
       "      <td>11</td>\n",
       "      <td>1</td>\n",
       "    </tr>\n",
       "  </tbody>\n",
       "</table>\n",
       "</div>"
      ],
      "text/plain": [
       "   id  target\n",
       "0   0       1\n",
       "1   2       1\n",
       "2   3       1\n",
       "3   9       1\n",
       "4  11       1"
      ]
     },
     "execution_count": 55,
     "metadata": {},
     "output_type": "execute_result"
    }
   ],
   "source": [
    "submission['target'] = y_pred.tolist()\n",
    "submission.head()"
   ]
  },
  {
   "cell_type": "code",
   "execution_count": 56,
   "id": "86ddef7b",
   "metadata": {
    "execution": {
     "iopub.execute_input": "2022-01-22T02:48:55.067812Z",
     "iopub.status.busy": "2022-01-22T02:48:55.066976Z",
     "iopub.status.idle": "2022-01-22T02:48:55.078087Z",
     "shell.execute_reply": "2022-01-22T02:48:55.077632Z",
     "shell.execute_reply.started": "2022-01-22T01:21:31.384895Z"
    },
    "papermill": {
     "duration": 0.088504,
     "end_time": "2022-01-22T02:48:55.078212",
     "exception": false,
     "start_time": "2022-01-22T02:48:54.989708",
     "status": "completed"
    },
    "tags": []
   },
   "outputs": [],
   "source": [
    "submission.to_csv('submission.csv', index=False)"
   ]
  }
 ],
 "metadata": {
  "kernelspec": {
   "display_name": "Python 3",
   "language": "python",
   "name": "python3"
  },
  "language_info": {
   "codemirror_mode": {
    "name": "ipython",
    "version": 3
   },
   "file_extension": ".py",
   "mimetype": "text/x-python",
   "name": "python",
   "nbconvert_exporter": "python",
   "pygments_lexer": "ipython3",
   "version": "3.7.12"
  },
  "papermill": {
   "default_parameters": {},
   "duration": 869.760064,
   "end_time": "2022-01-22T02:48:58.831266",
   "environment_variables": {},
   "exception": null,
   "input_path": "__notebook__.ipynb",
   "output_path": "__notebook__.ipynb",
   "parameters": {},
   "start_time": "2022-01-22T02:34:29.071202",
   "version": "2.3.3"
  },
  "widgets": {
   "application/vnd.jupyter.widget-state+json": {
    "state": {
     "01d5e1b3dde4408585272b74694468f8": {
      "model_module": "@jupyter-widgets/controls",
      "model_module_version": "1.5.0",
      "model_name": "HTMLModel",
      "state": {
       "_dom_classes": [],
       "_model_module": "@jupyter-widgets/controls",
       "_model_module_version": "1.5.0",
       "_model_name": "HTMLModel",
       "_view_count": null,
       "_view_module": "@jupyter-widgets/controls",
       "_view_module_version": "1.5.0",
       "_view_name": "HTMLView",
       "description": "",
       "description_tooltip": null,
       "layout": "IPY_MODEL_65c77f7c7e0b47009abac650cdc4910d",
       "placeholder": "​",
       "style": "IPY_MODEL_7f220ce1a4e34886b820eea4c8ba7f10",
       "value": " 455k/455k [00:00&lt;00:00, 2.34MB/s]"
      }
     },
     "024384cb231b45e58455e4fab4ba3e6b": {
      "model_module": "@jupyter-widgets/controls",
      "model_module_version": "1.5.0",
      "model_name": "ProgressStyleModel",
      "state": {
       "_model_module": "@jupyter-widgets/controls",
       "_model_module_version": "1.5.0",
       "_model_name": "ProgressStyleModel",
       "_view_count": null,
       "_view_module": "@jupyter-widgets/base",
       "_view_module_version": "1.2.0",
       "_view_name": "StyleView",
       "bar_color": null,
       "description_width": ""
      }
     },
     "1b260899c0c5471582271617a8f56c7d": {
      "model_module": "@jupyter-widgets/base",
      "model_module_version": "1.2.0",
      "model_name": "LayoutModel",
      "state": {
       "_model_module": "@jupyter-widgets/base",
       "_model_module_version": "1.2.0",
       "_model_name": "LayoutModel",
       "_view_count": null,
       "_view_module": "@jupyter-widgets/base",
       "_view_module_version": "1.2.0",
       "_view_name": "LayoutView",
       "align_content": null,
       "align_items": null,
       "align_self": null,
       "border": null,
       "bottom": null,
       "display": null,
       "flex": null,
       "flex_flow": null,
       "grid_area": null,
       "grid_auto_columns": null,
       "grid_auto_flow": null,
       "grid_auto_rows": null,
       "grid_column": null,
       "grid_gap": null,
       "grid_row": null,
       "grid_template_areas": null,
       "grid_template_columns": null,
       "grid_template_rows": null,
       "height": null,
       "justify_content": null,
       "justify_items": null,
       "left": null,
       "margin": null,
       "max_height": null,
       "max_width": null,
       "min_height": null,
       "min_width": null,
       "object_fit": null,
       "object_position": null,
       "order": null,
       "overflow": null,
       "overflow_x": null,
       "overflow_y": null,
       "padding": null,
       "right": null,
       "top": null,
       "visibility": null,
       "width": null
      }
     },
     "1e5fb9dcec8444f295f0780091931a59": {
      "model_module": "@jupyter-widgets/base",
      "model_module_version": "1.2.0",
      "model_name": "LayoutModel",
      "state": {
       "_model_module": "@jupyter-widgets/base",
       "_model_module_version": "1.2.0",
       "_model_name": "LayoutModel",
       "_view_count": null,
       "_view_module": "@jupyter-widgets/base",
       "_view_module_version": "1.2.0",
       "_view_name": "LayoutView",
       "align_content": null,
       "align_items": null,
       "align_self": null,
       "border": null,
       "bottom": null,
       "display": null,
       "flex": null,
       "flex_flow": null,
       "grid_area": null,
       "grid_auto_columns": null,
       "grid_auto_flow": null,
       "grid_auto_rows": null,
       "grid_column": null,
       "grid_gap": null,
       "grid_row": null,
       "grid_template_areas": null,
       "grid_template_columns": null,
       "grid_template_rows": null,
       "height": null,
       "justify_content": null,
       "justify_items": null,
       "left": null,
       "margin": null,
       "max_height": null,
       "max_width": null,
       "min_height": null,
       "min_width": null,
       "object_fit": null,
       "object_position": null,
       "order": null,
       "overflow": null,
       "overflow_x": null,
       "overflow_y": null,
       "padding": null,
       "right": null,
       "top": null,
       "visibility": null,
       "width": null
      }
     },
     "33630cfe9d994e05b7d8eb0f11a0e4c8": {
      "model_module": "@jupyter-widgets/controls",
      "model_module_version": "1.5.0",
      "model_name": "HTMLModel",
      "state": {
       "_dom_classes": [],
       "_model_module": "@jupyter-widgets/controls",
       "_model_module_version": "1.5.0",
       "_model_name": "HTMLModel",
       "_view_count": null,
       "_view_module": "@jupyter-widgets/controls",
       "_view_module_version": "1.5.0",
       "_view_name": "HTMLView",
       "description": "",
       "description_tooltip": null,
       "layout": "IPY_MODEL_838daf35048e4ab697d4fdce0a72c59c",
       "placeholder": "​",
       "style": "IPY_MODEL_a9b3a7d8c1874e8e9e4546ccec0a2713",
       "value": " 420M/420M [00:14&lt;00:00, 29.3MB/s]"
      }
     },
     "3490deeb4fba473597ccd7c4accce01b": {
      "model_module": "@jupyter-widgets/controls",
      "model_module_version": "1.5.0",
      "model_name": "DescriptionStyleModel",
      "state": {
       "_model_module": "@jupyter-widgets/controls",
       "_model_module_version": "1.5.0",
       "_model_name": "DescriptionStyleModel",
       "_view_count": null,
       "_view_module": "@jupyter-widgets/base",
       "_view_module_version": "1.2.0",
       "_view_name": "StyleView",
       "description_width": ""
      }
     },
     "40f045e513a242129fb54e26ba497683": {
      "model_module": "@jupyter-widgets/base",
      "model_module_version": "1.2.0",
      "model_name": "LayoutModel",
      "state": {
       "_model_module": "@jupyter-widgets/base",
       "_model_module_version": "1.2.0",
       "_model_name": "LayoutModel",
       "_view_count": null,
       "_view_module": "@jupyter-widgets/base",
       "_view_module_version": "1.2.0",
       "_view_name": "LayoutView",
       "align_content": null,
       "align_items": null,
       "align_self": null,
       "border": null,
       "bottom": null,
       "display": null,
       "flex": null,
       "flex_flow": null,
       "grid_area": null,
       "grid_auto_columns": null,
       "grid_auto_flow": null,
       "grid_auto_rows": null,
       "grid_column": null,
       "grid_gap": null,
       "grid_row": null,
       "grid_template_areas": null,
       "grid_template_columns": null,
       "grid_template_rows": null,
       "height": null,
       "justify_content": null,
       "justify_items": null,
       "left": null,
       "margin": null,
       "max_height": null,
       "max_width": null,
       "min_height": null,
       "min_width": null,
       "object_fit": null,
       "object_position": null,
       "order": null,
       "overflow": null,
       "overflow_x": null,
       "overflow_y": null,
       "padding": null,
       "right": null,
       "top": null,
       "visibility": null,
       "width": null
      }
     },
     "437733a1b02a47edabae70c95008955d": {
      "model_module": "@jupyter-widgets/base",
      "model_module_version": "1.2.0",
      "model_name": "LayoutModel",
      "state": {
       "_model_module": "@jupyter-widgets/base",
       "_model_module_version": "1.2.0",
       "_model_name": "LayoutModel",
       "_view_count": null,
       "_view_module": "@jupyter-widgets/base",
       "_view_module_version": "1.2.0",
       "_view_name": "LayoutView",
       "align_content": null,
       "align_items": null,
       "align_self": null,
       "border": null,
       "bottom": null,
       "display": null,
       "flex": null,
       "flex_flow": null,
       "grid_area": null,
       "grid_auto_columns": null,
       "grid_auto_flow": null,
       "grid_auto_rows": null,
       "grid_column": null,
       "grid_gap": null,
       "grid_row": null,
       "grid_template_areas": null,
       "grid_template_columns": null,
       "grid_template_rows": null,
       "height": null,
       "justify_content": null,
       "justify_items": null,
       "left": null,
       "margin": null,
       "max_height": null,
       "max_width": null,
       "min_height": null,
       "min_width": null,
       "object_fit": null,
       "object_position": null,
       "order": null,
       "overflow": null,
       "overflow_x": null,
       "overflow_y": null,
       "padding": null,
       "right": null,
       "top": null,
       "visibility": null,
       "width": null
      }
     },
     "43885b2255544aa691962d13a4820524": {
      "model_module": "@jupyter-widgets/base",
      "model_module_version": "1.2.0",
      "model_name": "LayoutModel",
      "state": {
       "_model_module": "@jupyter-widgets/base",
       "_model_module_version": "1.2.0",
       "_model_name": "LayoutModel",
       "_view_count": null,
       "_view_module": "@jupyter-widgets/base",
       "_view_module_version": "1.2.0",
       "_view_name": "LayoutView",
       "align_content": null,
       "align_items": null,
       "align_self": null,
       "border": null,
       "bottom": null,
       "display": null,
       "flex": null,
       "flex_flow": null,
       "grid_area": null,
       "grid_auto_columns": null,
       "grid_auto_flow": null,
       "grid_auto_rows": null,
       "grid_column": null,
       "grid_gap": null,
       "grid_row": null,
       "grid_template_areas": null,
       "grid_template_columns": null,
       "grid_template_rows": null,
       "height": null,
       "justify_content": null,
       "justify_items": null,
       "left": null,
       "margin": null,
       "max_height": null,
       "max_width": null,
       "min_height": null,
       "min_width": null,
       "object_fit": null,
       "object_position": null,
       "order": null,
       "overflow": null,
       "overflow_x": null,
       "overflow_y": null,
       "padding": null,
       "right": null,
       "top": null,
       "visibility": null,
       "width": null
      }
     },
     "44d6de843080428c8e784006c3668084": {
      "model_module": "@jupyter-widgets/controls",
      "model_module_version": "1.5.0",
      "model_name": "HBoxModel",
      "state": {
       "_dom_classes": [],
       "_model_module": "@jupyter-widgets/controls",
       "_model_module_version": "1.5.0",
       "_model_name": "HBoxModel",
       "_view_count": null,
       "_view_module": "@jupyter-widgets/controls",
       "_view_module_version": "1.5.0",
       "_view_name": "HBoxView",
       "box_style": "",
       "children": [
        "IPY_MODEL_8404cfa211b5488689f744446e6dfed3",
        "IPY_MODEL_6c36c4d31b114460b662452add6326dc",
        "IPY_MODEL_01d5e1b3dde4408585272b74694468f8"
       ],
       "layout": "IPY_MODEL_cfa7c6dfaf224c9e9b15c2348b174e63"
      }
     },
     "45e6ab76e9084a37a64d7a4f3985abbd": {
      "model_module": "@jupyter-widgets/controls",
      "model_module_version": "1.5.0",
      "model_name": "DescriptionStyleModel",
      "state": {
       "_model_module": "@jupyter-widgets/controls",
       "_model_module_version": "1.5.0",
       "_model_name": "DescriptionStyleModel",
       "_view_count": null,
       "_view_module": "@jupyter-widgets/base",
       "_view_module_version": "1.2.0",
       "_view_name": "StyleView",
       "description_width": ""
      }
     },
     "4e7a5b7eba904e59881d552161a4c1b4": {
      "model_module": "@jupyter-widgets/controls",
      "model_module_version": "1.5.0",
      "model_name": "HTMLModel",
      "state": {
       "_dom_classes": [],
       "_model_module": "@jupyter-widgets/controls",
       "_model_module_version": "1.5.0",
       "_model_name": "HTMLModel",
       "_view_count": null,
       "_view_module": "@jupyter-widgets/controls",
       "_view_module_version": "1.5.0",
       "_view_name": "HTMLView",
       "description": "",
       "description_tooltip": null,
       "layout": "IPY_MODEL_1b260899c0c5471582271617a8f56c7d",
       "placeholder": "​",
       "style": "IPY_MODEL_acc85a6ab35e417aa65aa68ef9c5b896",
       "value": "Downloading: 100%"
      }
     },
     "5386f6ab8a7044abace093d65854f299": {
      "model_module": "@jupyter-widgets/controls",
      "model_module_version": "1.5.0",
      "model_name": "FloatProgressModel",
      "state": {
       "_dom_classes": [],
       "_model_module": "@jupyter-widgets/controls",
       "_model_module_version": "1.5.0",
       "_model_name": "FloatProgressModel",
       "_view_count": null,
       "_view_module": "@jupyter-widgets/controls",
       "_view_module_version": "1.5.0",
       "_view_name": "ProgressView",
       "bar_style": "success",
       "description": "",
       "description_tooltip": null,
       "layout": "IPY_MODEL_40f045e513a242129fb54e26ba497683",
       "max": 440473133.0,
       "min": 0.0,
       "orientation": "horizontal",
       "style": "IPY_MODEL_be4d0eeea8c6458f9ba330434d34ff13",
       "value": 440473133.0
      }
     },
     "549b895c68324fc589a92b5494f97bf6": {
      "model_module": "@jupyter-widgets/base",
      "model_module_version": "1.2.0",
      "model_name": "LayoutModel",
      "state": {
       "_model_module": "@jupyter-widgets/base",
       "_model_module_version": "1.2.0",
       "_model_name": "LayoutModel",
       "_view_count": null,
       "_view_module": "@jupyter-widgets/base",
       "_view_module_version": "1.2.0",
       "_view_name": "LayoutView",
       "align_content": null,
       "align_items": null,
       "align_self": null,
       "border": null,
       "bottom": null,
       "display": null,
       "flex": null,
       "flex_flow": null,
       "grid_area": null,
       "grid_auto_columns": null,
       "grid_auto_flow": null,
       "grid_auto_rows": null,
       "grid_column": null,
       "grid_gap": null,
       "grid_row": null,
       "grid_template_areas": null,
       "grid_template_columns": null,
       "grid_template_rows": null,
       "height": null,
       "justify_content": null,
       "justify_items": null,
       "left": null,
       "margin": null,
       "max_height": null,
       "max_width": null,
       "min_height": null,
       "min_width": null,
       "object_fit": null,
       "object_position": null,
       "order": null,
       "overflow": null,
       "overflow_x": null,
       "overflow_y": null,
       "padding": null,
       "right": null,
       "top": null,
       "visibility": null,
       "width": null
      }
     },
     "61cc68ce67cd4257982b14ff88ffd4b8": {
      "model_module": "@jupyter-widgets/base",
      "model_module_version": "1.2.0",
      "model_name": "LayoutModel",
      "state": {
       "_model_module": "@jupyter-widgets/base",
       "_model_module_version": "1.2.0",
       "_model_name": "LayoutModel",
       "_view_count": null,
       "_view_module": "@jupyter-widgets/base",
       "_view_module_version": "1.2.0",
       "_view_name": "LayoutView",
       "align_content": null,
       "align_items": null,
       "align_self": null,
       "border": null,
       "bottom": null,
       "display": null,
       "flex": null,
       "flex_flow": null,
       "grid_area": null,
       "grid_auto_columns": null,
       "grid_auto_flow": null,
       "grid_auto_rows": null,
       "grid_column": null,
       "grid_gap": null,
       "grid_row": null,
       "grid_template_areas": null,
       "grid_template_columns": null,
       "grid_template_rows": null,
       "height": null,
       "justify_content": null,
       "justify_items": null,
       "left": null,
       "margin": null,
       "max_height": null,
       "max_width": null,
       "min_height": null,
       "min_width": null,
       "object_fit": null,
       "object_position": null,
       "order": null,
       "overflow": null,
       "overflow_x": null,
       "overflow_y": null,
       "padding": null,
       "right": null,
       "top": null,
       "visibility": null,
       "width": null
      }
     },
     "65c77f7c7e0b47009abac650cdc4910d": {
      "model_module": "@jupyter-widgets/base",
      "model_module_version": "1.2.0",
      "model_name": "LayoutModel",
      "state": {
       "_model_module": "@jupyter-widgets/base",
       "_model_module_version": "1.2.0",
       "_model_name": "LayoutModel",
       "_view_count": null,
       "_view_module": "@jupyter-widgets/base",
       "_view_module_version": "1.2.0",
       "_view_name": "LayoutView",
       "align_content": null,
       "align_items": null,
       "align_self": null,
       "border": null,
       "bottom": null,
       "display": null,
       "flex": null,
       "flex_flow": null,
       "grid_area": null,
       "grid_auto_columns": null,
       "grid_auto_flow": null,
       "grid_auto_rows": null,
       "grid_column": null,
       "grid_gap": null,
       "grid_row": null,
       "grid_template_areas": null,
       "grid_template_columns": null,
       "grid_template_rows": null,
       "height": null,
       "justify_content": null,
       "justify_items": null,
       "left": null,
       "margin": null,
       "max_height": null,
       "max_width": null,
       "min_height": null,
       "min_width": null,
       "object_fit": null,
       "object_position": null,
       "order": null,
       "overflow": null,
       "overflow_x": null,
       "overflow_y": null,
       "padding": null,
       "right": null,
       "top": null,
       "visibility": null,
       "width": null
      }
     },
     "6798666330034d42ab0bfe5f363a2211": {
      "model_module": "@jupyter-widgets/controls",
      "model_module_version": "1.5.0",
      "model_name": "DescriptionStyleModel",
      "state": {
       "_model_module": "@jupyter-widgets/controls",
       "_model_module_version": "1.5.0",
       "_model_name": "DescriptionStyleModel",
       "_view_count": null,
       "_view_module": "@jupyter-widgets/base",
       "_view_module_version": "1.2.0",
       "_view_name": "StyleView",
       "description_width": ""
      }
     },
     "6c36c4d31b114460b662452add6326dc": {
      "model_module": "@jupyter-widgets/controls",
      "model_module_version": "1.5.0",
      "model_name": "FloatProgressModel",
      "state": {
       "_dom_classes": [],
       "_model_module": "@jupyter-widgets/controls",
       "_model_module_version": "1.5.0",
       "_model_name": "FloatProgressModel",
       "_view_count": null,
       "_view_module": "@jupyter-widgets/controls",
       "_view_module_version": "1.5.0",
       "_view_name": "ProgressView",
       "bar_style": "success",
       "description": "",
       "description_tooltip": null,
       "layout": "IPY_MODEL_b8564a2819ea4749be7e02e64c650e61",
       "max": 466062.0,
       "min": 0.0,
       "orientation": "horizontal",
       "style": "IPY_MODEL_024384cb231b45e58455e4fab4ba3e6b",
       "value": 466062.0
      }
     },
     "6ec2b3dc6d934f02b7a89cfdf9a843c0": {
      "model_module": "@jupyter-widgets/controls",
      "model_module_version": "1.5.0",
      "model_name": "HTMLModel",
      "state": {
       "_dom_classes": [],
       "_model_module": "@jupyter-widgets/controls",
       "_model_module_version": "1.5.0",
       "_model_name": "HTMLModel",
       "_view_count": null,
       "_view_module": "@jupyter-widgets/controls",
       "_view_module_version": "1.5.0",
       "_view_name": "HTMLView",
       "description": "",
       "description_tooltip": null,
       "layout": "IPY_MODEL_43885b2255544aa691962d13a4820524",
       "placeholder": "​",
       "style": "IPY_MODEL_3490deeb4fba473597ccd7c4accce01b",
       "value": " 226k/226k [00:00&lt;00:00, 2.44MB/s]"
      }
     },
     "7206d1d174904d508ac764c8b78357db": {
      "model_module": "@jupyter-widgets/controls",
      "model_module_version": "1.5.0",
      "model_name": "HTMLModel",
      "state": {
       "_dom_classes": [],
       "_model_module": "@jupyter-widgets/controls",
       "_model_module_version": "1.5.0",
       "_model_name": "HTMLModel",
       "_view_count": null,
       "_view_module": "@jupyter-widgets/controls",
       "_view_module_version": "1.5.0",
       "_view_name": "HTMLView",
       "description": "",
       "description_tooltip": null,
       "layout": "IPY_MODEL_549b895c68324fc589a92b5494f97bf6",
       "placeholder": "​",
       "style": "IPY_MODEL_6798666330034d42ab0bfe5f363a2211",
       "value": "Downloading: 100%"
      }
     },
     "7f220ce1a4e34886b820eea4c8ba7f10": {
      "model_module": "@jupyter-widgets/controls",
      "model_module_version": "1.5.0",
      "model_name": "DescriptionStyleModel",
      "state": {
       "_model_module": "@jupyter-widgets/controls",
       "_model_module_version": "1.5.0",
       "_model_name": "DescriptionStyleModel",
       "_view_count": null,
       "_view_module": "@jupyter-widgets/base",
       "_view_module_version": "1.2.0",
       "_view_name": "StyleView",
       "description_width": ""
      }
     },
     "80da84e3340e4f41a25106d0d884cced": {
      "model_module": "@jupyter-widgets/controls",
      "model_module_version": "1.5.0",
      "model_name": "HTMLModel",
      "state": {
       "_dom_classes": [],
       "_model_module": "@jupyter-widgets/controls",
       "_model_module_version": "1.5.0",
       "_model_name": "HTMLModel",
       "_view_count": null,
       "_view_module": "@jupyter-widgets/controls",
       "_view_module_version": "1.5.0",
       "_view_name": "HTMLView",
       "description": "",
       "description_tooltip": null,
       "layout": "IPY_MODEL_bce31be5f7a4405da8f64c3a51e13bdc",
       "placeholder": "​",
       "style": "IPY_MODEL_45e6ab76e9084a37a64d7a4f3985abbd",
       "value": "Downloading: 100%"
      }
     },
     "838daf35048e4ab697d4fdce0a72c59c": {
      "model_module": "@jupyter-widgets/base",
      "model_module_version": "1.2.0",
      "model_name": "LayoutModel",
      "state": {
       "_model_module": "@jupyter-widgets/base",
       "_model_module_version": "1.2.0",
       "_model_name": "LayoutModel",
       "_view_count": null,
       "_view_module": "@jupyter-widgets/base",
       "_view_module_version": "1.2.0",
       "_view_name": "LayoutView",
       "align_content": null,
       "align_items": null,
       "align_self": null,
       "border": null,
       "bottom": null,
       "display": null,
       "flex": null,
       "flex_flow": null,
       "grid_area": null,
       "grid_auto_columns": null,
       "grid_auto_flow": null,
       "grid_auto_rows": null,
       "grid_column": null,
       "grid_gap": null,
       "grid_row": null,
       "grid_template_areas": null,
       "grid_template_columns": null,
       "grid_template_rows": null,
       "height": null,
       "justify_content": null,
       "justify_items": null,
       "left": null,
       "margin": null,
       "max_height": null,
       "max_width": null,
       "min_height": null,
       "min_width": null,
       "object_fit": null,
       "object_position": null,
       "order": null,
       "overflow": null,
       "overflow_x": null,
       "overflow_y": null,
       "padding": null,
       "right": null,
       "top": null,
       "visibility": null,
       "width": null
      }
     },
     "8404cfa211b5488689f744446e6dfed3": {
      "model_module": "@jupyter-widgets/controls",
      "model_module_version": "1.5.0",
      "model_name": "HTMLModel",
      "state": {
       "_dom_classes": [],
       "_model_module": "@jupyter-widgets/controls",
       "_model_module_version": "1.5.0",
       "_model_name": "HTMLModel",
       "_view_count": null,
       "_view_module": "@jupyter-widgets/controls",
       "_view_module_version": "1.5.0",
       "_view_name": "HTMLView",
       "description": "",
       "description_tooltip": null,
       "layout": "IPY_MODEL_c4cd277424f94d6e8e49643ab83708e5",
       "placeholder": "​",
       "style": "IPY_MODEL_acea111572d34104a1c540dd410d851a",
       "value": "Downloading: 100%"
      }
     },
     "86bb278f2166466c8d569e56d16fd250": {
      "model_module": "@jupyter-widgets/controls",
      "model_module_version": "1.5.0",
      "model_name": "HBoxModel",
      "state": {
       "_dom_classes": [],
       "_model_module": "@jupyter-widgets/controls",
       "_model_module_version": "1.5.0",
       "_model_name": "HBoxModel",
       "_view_count": null,
       "_view_module": "@jupyter-widgets/controls",
       "_view_module_version": "1.5.0",
       "_view_name": "HBoxView",
       "box_style": "",
       "children": [
        "IPY_MODEL_fc2a029fa11747088db9348373972b58",
        "IPY_MODEL_be024629513349a68d0323afeebabfb8",
        "IPY_MODEL_6ec2b3dc6d934f02b7a89cfdf9a843c0"
       ],
       "layout": "IPY_MODEL_61cc68ce67cd4257982b14ff88ffd4b8"
      }
     },
     "94b6911e562c4284b53d40031ea57ae9": {
      "model_module": "@jupyter-widgets/controls",
      "model_module_version": "1.5.0",
      "model_name": "ProgressStyleModel",
      "state": {
       "_model_module": "@jupyter-widgets/controls",
       "_model_module_version": "1.5.0",
       "_model_name": "ProgressStyleModel",
       "_view_count": null,
       "_view_module": "@jupyter-widgets/base",
       "_view_module_version": "1.2.0",
       "_view_name": "StyleView",
       "bar_color": null,
       "description_width": ""
      }
     },
     "a184f0c4e7014283befc59f2b136a997": {
      "model_module": "@jupyter-widgets/base",
      "model_module_version": "1.2.0",
      "model_name": "LayoutModel",
      "state": {
       "_model_module": "@jupyter-widgets/base",
       "_model_module_version": "1.2.0",
       "_model_name": "LayoutModel",
       "_view_count": null,
       "_view_module": "@jupyter-widgets/base",
       "_view_module_version": "1.2.0",
       "_view_name": "LayoutView",
       "align_content": null,
       "align_items": null,
       "align_self": null,
       "border": null,
       "bottom": null,
       "display": null,
       "flex": null,
       "flex_flow": null,
       "grid_area": null,
       "grid_auto_columns": null,
       "grid_auto_flow": null,
       "grid_auto_rows": null,
       "grid_column": null,
       "grid_gap": null,
       "grid_row": null,
       "grid_template_areas": null,
       "grid_template_columns": null,
       "grid_template_rows": null,
       "height": null,
       "justify_content": null,
       "justify_items": null,
       "left": null,
       "margin": null,
       "max_height": null,
       "max_width": null,
       "min_height": null,
       "min_width": null,
       "object_fit": null,
       "object_position": null,
       "order": null,
       "overflow": null,
       "overflow_x": null,
       "overflow_y": null,
       "padding": null,
       "right": null,
       "top": null,
       "visibility": null,
       "width": null
      }
     },
     "a9b3a7d8c1874e8e9e4546ccec0a2713": {
      "model_module": "@jupyter-widgets/controls",
      "model_module_version": "1.5.0",
      "model_name": "DescriptionStyleModel",
      "state": {
       "_model_module": "@jupyter-widgets/controls",
       "_model_module_version": "1.5.0",
       "_model_name": "DescriptionStyleModel",
       "_view_count": null,
       "_view_module": "@jupyter-widgets/base",
       "_view_module_version": "1.2.0",
       "_view_name": "StyleView",
       "description_width": ""
      }
     },
     "a9d946f2198943208fc085f063c591ad": {
      "model_module": "@jupyter-widgets/base",
      "model_module_version": "1.2.0",
      "model_name": "LayoutModel",
      "state": {
       "_model_module": "@jupyter-widgets/base",
       "_model_module_version": "1.2.0",
       "_model_name": "LayoutModel",
       "_view_count": null,
       "_view_module": "@jupyter-widgets/base",
       "_view_module_version": "1.2.0",
       "_view_name": "LayoutView",
       "align_content": null,
       "align_items": null,
       "align_self": null,
       "border": null,
       "bottom": null,
       "display": null,
       "flex": null,
       "flex_flow": null,
       "grid_area": null,
       "grid_auto_columns": null,
       "grid_auto_flow": null,
       "grid_auto_rows": null,
       "grid_column": null,
       "grid_gap": null,
       "grid_row": null,
       "grid_template_areas": null,
       "grid_template_columns": null,
       "grid_template_rows": null,
       "height": null,
       "justify_content": null,
       "justify_items": null,
       "left": null,
       "margin": null,
       "max_height": null,
       "max_width": null,
       "min_height": null,
       "min_width": null,
       "object_fit": null,
       "object_position": null,
       "order": null,
       "overflow": null,
       "overflow_x": null,
       "overflow_y": null,
       "padding": null,
       "right": null,
       "top": null,
       "visibility": null,
       "width": null
      }
     },
     "aa739eae606b411d96d3a1dfe41ce7a0": {
      "model_module": "@jupyter-widgets/controls",
      "model_module_version": "1.5.0",
      "model_name": "DescriptionStyleModel",
      "state": {
       "_model_module": "@jupyter-widgets/controls",
       "_model_module_version": "1.5.0",
       "_model_name": "DescriptionStyleModel",
       "_view_count": null,
       "_view_module": "@jupyter-widgets/base",
       "_view_module_version": "1.2.0",
       "_view_name": "StyleView",
       "description_width": ""
      }
     },
     "acc85a6ab35e417aa65aa68ef9c5b896": {
      "model_module": "@jupyter-widgets/controls",
      "model_module_version": "1.5.0",
      "model_name": "DescriptionStyleModel",
      "state": {
       "_model_module": "@jupyter-widgets/controls",
       "_model_module_version": "1.5.0",
       "_model_name": "DescriptionStyleModel",
       "_view_count": null,
       "_view_module": "@jupyter-widgets/base",
       "_view_module_version": "1.2.0",
       "_view_name": "StyleView",
       "description_width": ""
      }
     },
     "acea111572d34104a1c540dd410d851a": {
      "model_module": "@jupyter-widgets/controls",
      "model_module_version": "1.5.0",
      "model_name": "DescriptionStyleModel",
      "state": {
       "_model_module": "@jupyter-widgets/controls",
       "_model_module_version": "1.5.0",
       "_model_name": "DescriptionStyleModel",
       "_view_count": null,
       "_view_module": "@jupyter-widgets/base",
       "_view_module_version": "1.2.0",
       "_view_name": "StyleView",
       "description_width": ""
      }
     },
     "b09384cf642049aca2748690025dbfd0": {
      "model_module": "@jupyter-widgets/base",
      "model_module_version": "1.2.0",
      "model_name": "LayoutModel",
      "state": {
       "_model_module": "@jupyter-widgets/base",
       "_model_module_version": "1.2.0",
       "_model_name": "LayoutModel",
       "_view_count": null,
       "_view_module": "@jupyter-widgets/base",
       "_view_module_version": "1.2.0",
       "_view_name": "LayoutView",
       "align_content": null,
       "align_items": null,
       "align_self": null,
       "border": null,
       "bottom": null,
       "display": null,
       "flex": null,
       "flex_flow": null,
       "grid_area": null,
       "grid_auto_columns": null,
       "grid_auto_flow": null,
       "grid_auto_rows": null,
       "grid_column": null,
       "grid_gap": null,
       "grid_row": null,
       "grid_template_areas": null,
       "grid_template_columns": null,
       "grid_template_rows": null,
       "height": null,
       "justify_content": null,
       "justify_items": null,
       "left": null,
       "margin": null,
       "max_height": null,
       "max_width": null,
       "min_height": null,
       "min_width": null,
       "object_fit": null,
       "object_position": null,
       "order": null,
       "overflow": null,
       "overflow_x": null,
       "overflow_y": null,
       "padding": null,
       "right": null,
       "top": null,
       "visibility": null,
       "width": null
      }
     },
     "b8564a2819ea4749be7e02e64c650e61": {
      "model_module": "@jupyter-widgets/base",
      "model_module_version": "1.2.0",
      "model_name": "LayoutModel",
      "state": {
       "_model_module": "@jupyter-widgets/base",
       "_model_module_version": "1.2.0",
       "_model_name": "LayoutModel",
       "_view_count": null,
       "_view_module": "@jupyter-widgets/base",
       "_view_module_version": "1.2.0",
       "_view_name": "LayoutView",
       "align_content": null,
       "align_items": null,
       "align_self": null,
       "border": null,
       "bottom": null,
       "display": null,
       "flex": null,
       "flex_flow": null,
       "grid_area": null,
       "grid_auto_columns": null,
       "grid_auto_flow": null,
       "grid_auto_rows": null,
       "grid_column": null,
       "grid_gap": null,
       "grid_row": null,
       "grid_template_areas": null,
       "grid_template_columns": null,
       "grid_template_rows": null,
       "height": null,
       "justify_content": null,
       "justify_items": null,
       "left": null,
       "margin": null,
       "max_height": null,
       "max_width": null,
       "min_height": null,
       "min_width": null,
       "object_fit": null,
       "object_position": null,
       "order": null,
       "overflow": null,
       "overflow_x": null,
       "overflow_y": null,
       "padding": null,
       "right": null,
       "top": null,
       "visibility": null,
       "width": null
      }
     },
     "bce31be5f7a4405da8f64c3a51e13bdc": {
      "model_module": "@jupyter-widgets/base",
      "model_module_version": "1.2.0",
      "model_name": "LayoutModel",
      "state": {
       "_model_module": "@jupyter-widgets/base",
       "_model_module_version": "1.2.0",
       "_model_name": "LayoutModel",
       "_view_count": null,
       "_view_module": "@jupyter-widgets/base",
       "_view_module_version": "1.2.0",
       "_view_name": "LayoutView",
       "align_content": null,
       "align_items": null,
       "align_self": null,
       "border": null,
       "bottom": null,
       "display": null,
       "flex": null,
       "flex_flow": null,
       "grid_area": null,
       "grid_auto_columns": null,
       "grid_auto_flow": null,
       "grid_auto_rows": null,
       "grid_column": null,
       "grid_gap": null,
       "grid_row": null,
       "grid_template_areas": null,
       "grid_template_columns": null,
       "grid_template_rows": null,
       "height": null,
       "justify_content": null,
       "justify_items": null,
       "left": null,
       "margin": null,
       "max_height": null,
       "max_width": null,
       "min_height": null,
       "min_width": null,
       "object_fit": null,
       "object_position": null,
       "order": null,
       "overflow": null,
       "overflow_x": null,
       "overflow_y": null,
       "padding": null,
       "right": null,
       "top": null,
       "visibility": null,
       "width": null
      }
     },
     "bd767fc10bfa4b96b48946ed1a9b2807": {
      "model_module": "@jupyter-widgets/controls",
      "model_module_version": "1.5.0",
      "model_name": "HBoxModel",
      "state": {
       "_dom_classes": [],
       "_model_module": "@jupyter-widgets/controls",
       "_model_module_version": "1.5.0",
       "_model_name": "HBoxModel",
       "_view_count": null,
       "_view_module": "@jupyter-widgets/controls",
       "_view_module_version": "1.5.0",
       "_view_name": "HBoxView",
       "box_style": "",
       "children": [
        "IPY_MODEL_80da84e3340e4f41a25106d0d884cced",
        "IPY_MODEL_eabeedb5de0842109a775963bc33843c",
        "IPY_MODEL_e8353c1436204cd29d08df9286d2088a"
       ],
       "layout": "IPY_MODEL_bf7c202d79ef468a9c8cff69c62b28a8"
      }
     },
     "be024629513349a68d0323afeebabfb8": {
      "model_module": "@jupyter-widgets/controls",
      "model_module_version": "1.5.0",
      "model_name": "FloatProgressModel",
      "state": {
       "_dom_classes": [],
       "_model_module": "@jupyter-widgets/controls",
       "_model_module_version": "1.5.0",
       "_model_name": "FloatProgressModel",
       "_view_count": null,
       "_view_module": "@jupyter-widgets/controls",
       "_view_module_version": "1.5.0",
       "_view_name": "ProgressView",
       "bar_style": "success",
       "description": "",
       "description_tooltip": null,
       "layout": "IPY_MODEL_1e5fb9dcec8444f295f0780091931a59",
       "max": 231508.0,
       "min": 0.0,
       "orientation": "horizontal",
       "style": "IPY_MODEL_d8b5a283752542c8831483445f300a10",
       "value": 231508.0
      }
     },
     "be4d0eeea8c6458f9ba330434d34ff13": {
      "model_module": "@jupyter-widgets/controls",
      "model_module_version": "1.5.0",
      "model_name": "ProgressStyleModel",
      "state": {
       "_model_module": "@jupyter-widgets/controls",
       "_model_module_version": "1.5.0",
       "_model_name": "ProgressStyleModel",
       "_view_count": null,
       "_view_module": "@jupyter-widgets/base",
       "_view_module_version": "1.2.0",
       "_view_name": "StyleView",
       "bar_color": null,
       "description_width": ""
      }
     },
     "bf28529907824952b4c01ecb0e008223": {
      "model_module": "@jupyter-widgets/controls",
      "model_module_version": "1.5.0",
      "model_name": "ProgressStyleModel",
      "state": {
       "_model_module": "@jupyter-widgets/controls",
       "_model_module_version": "1.5.0",
       "_model_name": "ProgressStyleModel",
       "_view_count": null,
       "_view_module": "@jupyter-widgets/base",
       "_view_module_version": "1.2.0",
       "_view_name": "StyleView",
       "bar_color": null,
       "description_width": ""
      }
     },
     "bf7c202d79ef468a9c8cff69c62b28a8": {
      "model_module": "@jupyter-widgets/base",
      "model_module_version": "1.2.0",
      "model_name": "LayoutModel",
      "state": {
       "_model_module": "@jupyter-widgets/base",
       "_model_module_version": "1.2.0",
       "_model_name": "LayoutModel",
       "_view_count": null,
       "_view_module": "@jupyter-widgets/base",
       "_view_module_version": "1.2.0",
       "_view_name": "LayoutView",
       "align_content": null,
       "align_items": null,
       "align_self": null,
       "border": null,
       "bottom": null,
       "display": null,
       "flex": null,
       "flex_flow": null,
       "grid_area": null,
       "grid_auto_columns": null,
       "grid_auto_flow": null,
       "grid_auto_rows": null,
       "grid_column": null,
       "grid_gap": null,
       "grid_row": null,
       "grid_template_areas": null,
       "grid_template_columns": null,
       "grid_template_rows": null,
       "height": null,
       "justify_content": null,
       "justify_items": null,
       "left": null,
       "margin": null,
       "max_height": null,
       "max_width": null,
       "min_height": null,
       "min_width": null,
       "object_fit": null,
       "object_position": null,
       "order": null,
       "overflow": null,
       "overflow_x": null,
       "overflow_y": null,
       "padding": null,
       "right": null,
       "top": null,
       "visibility": null,
       "width": null
      }
     },
     "c4cd277424f94d6e8e49643ab83708e5": {
      "model_module": "@jupyter-widgets/base",
      "model_module_version": "1.2.0",
      "model_name": "LayoutModel",
      "state": {
       "_model_module": "@jupyter-widgets/base",
       "_model_module_version": "1.2.0",
       "_model_name": "LayoutModel",
       "_view_count": null,
       "_view_module": "@jupyter-widgets/base",
       "_view_module_version": "1.2.0",
       "_view_name": "LayoutView",
       "align_content": null,
       "align_items": null,
       "align_self": null,
       "border": null,
       "bottom": null,
       "display": null,
       "flex": null,
       "flex_flow": null,
       "grid_area": null,
       "grid_auto_columns": null,
       "grid_auto_flow": null,
       "grid_auto_rows": null,
       "grid_column": null,
       "grid_gap": null,
       "grid_row": null,
       "grid_template_areas": null,
       "grid_template_columns": null,
       "grid_template_rows": null,
       "height": null,
       "justify_content": null,
       "justify_items": null,
       "left": null,
       "margin": null,
       "max_height": null,
       "max_width": null,
       "min_height": null,
       "min_width": null,
       "object_fit": null,
       "object_position": null,
       "order": null,
       "overflow": null,
       "overflow_x": null,
       "overflow_y": null,
       "padding": null,
       "right": null,
       "top": null,
       "visibility": null,
       "width": null
      }
     },
     "c668777832824b61b929c275caa39bb7": {
      "model_module": "@jupyter-widgets/controls",
      "model_module_version": "1.5.0",
      "model_name": "FloatProgressModel",
      "state": {
       "_dom_classes": [],
       "_model_module": "@jupyter-widgets/controls",
       "_model_module_version": "1.5.0",
       "_model_name": "FloatProgressModel",
       "_view_count": null,
       "_view_module": "@jupyter-widgets/controls",
       "_view_module_version": "1.5.0",
       "_view_name": "ProgressView",
       "bar_style": "success",
       "description": "",
       "description_tooltip": null,
       "layout": "IPY_MODEL_e84020de61994aca946a5c5f3f84a1c1",
       "max": 570.0,
       "min": 0.0,
       "orientation": "horizontal",
       "style": "IPY_MODEL_94b6911e562c4284b53d40031ea57ae9",
       "value": 570.0
      }
     },
     "c999241edb5844ce99c5d672ceb878ce": {
      "model_module": "@jupyter-widgets/controls",
      "model_module_version": "1.5.0",
      "model_name": "HTMLModel",
      "state": {
       "_dom_classes": [],
       "_model_module": "@jupyter-widgets/controls",
       "_model_module_version": "1.5.0",
       "_model_name": "HTMLModel",
       "_view_count": null,
       "_view_module": "@jupyter-widgets/controls",
       "_view_module_version": "1.5.0",
       "_view_name": "HTMLView",
       "description": "",
       "description_tooltip": null,
       "layout": "IPY_MODEL_b09384cf642049aca2748690025dbfd0",
       "placeholder": "​",
       "style": "IPY_MODEL_fad24e4c1b974100851e34064c350cb9",
       "value": " 570/570 [00:00&lt;00:00, 22.9kB/s]"
      }
     },
     "ca202e668ec545c584fe3c5e28481165": {
      "model_module": "@jupyter-widgets/controls",
      "model_module_version": "1.5.0",
      "model_name": "HBoxModel",
      "state": {
       "_dom_classes": [],
       "_model_module": "@jupyter-widgets/controls",
       "_model_module_version": "1.5.0",
       "_model_name": "HBoxModel",
       "_view_count": null,
       "_view_module": "@jupyter-widgets/controls",
       "_view_module_version": "1.5.0",
       "_view_name": "HBoxView",
       "box_style": "",
       "children": [
        "IPY_MODEL_7206d1d174904d508ac764c8b78357db",
        "IPY_MODEL_c668777832824b61b929c275caa39bb7",
        "IPY_MODEL_c999241edb5844ce99c5d672ceb878ce"
       ],
       "layout": "IPY_MODEL_a9d946f2198943208fc085f063c591ad"
      }
     },
     "cfa7c6dfaf224c9e9b15c2348b174e63": {
      "model_module": "@jupyter-widgets/base",
      "model_module_version": "1.2.0",
      "model_name": "LayoutModel",
      "state": {
       "_model_module": "@jupyter-widgets/base",
       "_model_module_version": "1.2.0",
       "_model_name": "LayoutModel",
       "_view_count": null,
       "_view_module": "@jupyter-widgets/base",
       "_view_module_version": "1.2.0",
       "_view_name": "LayoutView",
       "align_content": null,
       "align_items": null,
       "align_self": null,
       "border": null,
       "bottom": null,
       "display": null,
       "flex": null,
       "flex_flow": null,
       "grid_area": null,
       "grid_auto_columns": null,
       "grid_auto_flow": null,
       "grid_auto_rows": null,
       "grid_column": null,
       "grid_gap": null,
       "grid_row": null,
       "grid_template_areas": null,
       "grid_template_columns": null,
       "grid_template_rows": null,
       "height": null,
       "justify_content": null,
       "justify_items": null,
       "left": null,
       "margin": null,
       "max_height": null,
       "max_width": null,
       "min_height": null,
       "min_width": null,
       "object_fit": null,
       "object_position": null,
       "order": null,
       "overflow": null,
       "overflow_x": null,
       "overflow_y": null,
       "padding": null,
       "right": null,
       "top": null,
       "visibility": null,
       "width": null
      }
     },
     "d8b5a283752542c8831483445f300a10": {
      "model_module": "@jupyter-widgets/controls",
      "model_module_version": "1.5.0",
      "model_name": "ProgressStyleModel",
      "state": {
       "_model_module": "@jupyter-widgets/controls",
       "_model_module_version": "1.5.0",
       "_model_name": "ProgressStyleModel",
       "_view_count": null,
       "_view_module": "@jupyter-widgets/base",
       "_view_module_version": "1.2.0",
       "_view_name": "StyleView",
       "bar_color": null,
       "description_width": ""
      }
     },
     "e340f85e41454e3e86b740140f2fae61": {
      "model_module": "@jupyter-widgets/base",
      "model_module_version": "1.2.0",
      "model_name": "LayoutModel",
      "state": {
       "_model_module": "@jupyter-widgets/base",
       "_model_module_version": "1.2.0",
       "_model_name": "LayoutModel",
       "_view_count": null,
       "_view_module": "@jupyter-widgets/base",
       "_view_module_version": "1.2.0",
       "_view_name": "LayoutView",
       "align_content": null,
       "align_items": null,
       "align_self": null,
       "border": null,
       "bottom": null,
       "display": null,
       "flex": null,
       "flex_flow": null,
       "grid_area": null,
       "grid_auto_columns": null,
       "grid_auto_flow": null,
       "grid_auto_rows": null,
       "grid_column": null,
       "grid_gap": null,
       "grid_row": null,
       "grid_template_areas": null,
       "grid_template_columns": null,
       "grid_template_rows": null,
       "height": null,
       "justify_content": null,
       "justify_items": null,
       "left": null,
       "margin": null,
       "max_height": null,
       "max_width": null,
       "min_height": null,
       "min_width": null,
       "object_fit": null,
       "object_position": null,
       "order": null,
       "overflow": null,
       "overflow_x": null,
       "overflow_y": null,
       "padding": null,
       "right": null,
       "top": null,
       "visibility": null,
       "width": null
      }
     },
     "e8353c1436204cd29d08df9286d2088a": {
      "model_module": "@jupyter-widgets/controls",
      "model_module_version": "1.5.0",
      "model_name": "HTMLModel",
      "state": {
       "_dom_classes": [],
       "_model_module": "@jupyter-widgets/controls",
       "_model_module_version": "1.5.0",
       "_model_name": "HTMLModel",
       "_view_count": null,
       "_view_module": "@jupyter-widgets/controls",
       "_view_module_version": "1.5.0",
       "_view_name": "HTMLView",
       "description": "",
       "description_tooltip": null,
       "layout": "IPY_MODEL_437733a1b02a47edabae70c95008955d",
       "placeholder": "​",
       "style": "IPY_MODEL_edf8339b555d49ad9b0460fe8e421ac2",
       "value": " 28.0/28.0 [00:00&lt;00:00, 1.10kB/s]"
      }
     },
     "e84020de61994aca946a5c5f3f84a1c1": {
      "model_module": "@jupyter-widgets/base",
      "model_module_version": "1.2.0",
      "model_name": "LayoutModel",
      "state": {
       "_model_module": "@jupyter-widgets/base",
       "_model_module_version": "1.2.0",
       "_model_name": "LayoutModel",
       "_view_count": null,
       "_view_module": "@jupyter-widgets/base",
       "_view_module_version": "1.2.0",
       "_view_name": "LayoutView",
       "align_content": null,
       "align_items": null,
       "align_self": null,
       "border": null,
       "bottom": null,
       "display": null,
       "flex": null,
       "flex_flow": null,
       "grid_area": null,
       "grid_auto_columns": null,
       "grid_auto_flow": null,
       "grid_auto_rows": null,
       "grid_column": null,
       "grid_gap": null,
       "grid_row": null,
       "grid_template_areas": null,
       "grid_template_columns": null,
       "grid_template_rows": null,
       "height": null,
       "justify_content": null,
       "justify_items": null,
       "left": null,
       "margin": null,
       "max_height": null,
       "max_width": null,
       "min_height": null,
       "min_width": null,
       "object_fit": null,
       "object_position": null,
       "order": null,
       "overflow": null,
       "overflow_x": null,
       "overflow_y": null,
       "padding": null,
       "right": null,
       "top": null,
       "visibility": null,
       "width": null
      }
     },
     "ea97f53fff8d461d9a07977982684589": {
      "model_module": "@jupyter-widgets/controls",
      "model_module_version": "1.5.0",
      "model_name": "HBoxModel",
      "state": {
       "_dom_classes": [],
       "_model_module": "@jupyter-widgets/controls",
       "_model_module_version": "1.5.0",
       "_model_name": "HBoxModel",
       "_view_count": null,
       "_view_module": "@jupyter-widgets/controls",
       "_view_module_version": "1.5.0",
       "_view_name": "HBoxView",
       "box_style": "",
       "children": [
        "IPY_MODEL_4e7a5b7eba904e59881d552161a4c1b4",
        "IPY_MODEL_5386f6ab8a7044abace093d65854f299",
        "IPY_MODEL_33630cfe9d994e05b7d8eb0f11a0e4c8"
       ],
       "layout": "IPY_MODEL_e340f85e41454e3e86b740140f2fae61"
      }
     },
     "eabeedb5de0842109a775963bc33843c": {
      "model_module": "@jupyter-widgets/controls",
      "model_module_version": "1.5.0",
      "model_name": "FloatProgressModel",
      "state": {
       "_dom_classes": [],
       "_model_module": "@jupyter-widgets/controls",
       "_model_module_version": "1.5.0",
       "_model_name": "FloatProgressModel",
       "_view_count": null,
       "_view_module": "@jupyter-widgets/controls",
       "_view_module_version": "1.5.0",
       "_view_name": "ProgressView",
       "bar_style": "success",
       "description": "",
       "description_tooltip": null,
       "layout": "IPY_MODEL_a184f0c4e7014283befc59f2b136a997",
       "max": 28.0,
       "min": 0.0,
       "orientation": "horizontal",
       "style": "IPY_MODEL_bf28529907824952b4c01ecb0e008223",
       "value": 28.0
      }
     },
     "edf8339b555d49ad9b0460fe8e421ac2": {
      "model_module": "@jupyter-widgets/controls",
      "model_module_version": "1.5.0",
      "model_name": "DescriptionStyleModel",
      "state": {
       "_model_module": "@jupyter-widgets/controls",
       "_model_module_version": "1.5.0",
       "_model_name": "DescriptionStyleModel",
       "_view_count": null,
       "_view_module": "@jupyter-widgets/base",
       "_view_module_version": "1.2.0",
       "_view_name": "StyleView",
       "description_width": ""
      }
     },
     "f31ea5264169426c894083dbcd766ee9": {
      "model_module": "@jupyter-widgets/base",
      "model_module_version": "1.2.0",
      "model_name": "LayoutModel",
      "state": {
       "_model_module": "@jupyter-widgets/base",
       "_model_module_version": "1.2.0",
       "_model_name": "LayoutModel",
       "_view_count": null,
       "_view_module": "@jupyter-widgets/base",
       "_view_module_version": "1.2.0",
       "_view_name": "LayoutView",
       "align_content": null,
       "align_items": null,
       "align_self": null,
       "border": null,
       "bottom": null,
       "display": null,
       "flex": null,
       "flex_flow": null,
       "grid_area": null,
       "grid_auto_columns": null,
       "grid_auto_flow": null,
       "grid_auto_rows": null,
       "grid_column": null,
       "grid_gap": null,
       "grid_row": null,
       "grid_template_areas": null,
       "grid_template_columns": null,
       "grid_template_rows": null,
       "height": null,
       "justify_content": null,
       "justify_items": null,
       "left": null,
       "margin": null,
       "max_height": null,
       "max_width": null,
       "min_height": null,
       "min_width": null,
       "object_fit": null,
       "object_position": null,
       "order": null,
       "overflow": null,
       "overflow_x": null,
       "overflow_y": null,
       "padding": null,
       "right": null,
       "top": null,
       "visibility": null,
       "width": null
      }
     },
     "fad24e4c1b974100851e34064c350cb9": {
      "model_module": "@jupyter-widgets/controls",
      "model_module_version": "1.5.0",
      "model_name": "DescriptionStyleModel",
      "state": {
       "_model_module": "@jupyter-widgets/controls",
       "_model_module_version": "1.5.0",
       "_model_name": "DescriptionStyleModel",
       "_view_count": null,
       "_view_module": "@jupyter-widgets/base",
       "_view_module_version": "1.2.0",
       "_view_name": "StyleView",
       "description_width": ""
      }
     },
     "fc2a029fa11747088db9348373972b58": {
      "model_module": "@jupyter-widgets/controls",
      "model_module_version": "1.5.0",
      "model_name": "HTMLModel",
      "state": {
       "_dom_classes": [],
       "_model_module": "@jupyter-widgets/controls",
       "_model_module_version": "1.5.0",
       "_model_name": "HTMLModel",
       "_view_count": null,
       "_view_module": "@jupyter-widgets/controls",
       "_view_module_version": "1.5.0",
       "_view_name": "HTMLView",
       "description": "",
       "description_tooltip": null,
       "layout": "IPY_MODEL_f31ea5264169426c894083dbcd766ee9",
       "placeholder": "​",
       "style": "IPY_MODEL_aa739eae606b411d96d3a1dfe41ce7a0",
       "value": "Downloading: 100%"
      }
     }
    },
    "version_major": 2,
    "version_minor": 0
   }
  }
 },
 "nbformat": 4,
 "nbformat_minor": 5
}
